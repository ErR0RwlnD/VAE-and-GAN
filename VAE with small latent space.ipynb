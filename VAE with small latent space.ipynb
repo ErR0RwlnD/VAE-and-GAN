{
 "cells": [
  {
   "cell_type": "code",
   "execution_count": 1,
   "metadata": {
    "collapsed": true
   },
   "outputs": [],
   "source": [
    "import matplotlib.pyplot as plt\n",
    "import numpy as np\n",
    "import torch\n",
    "from torch import nn\n",
    "from torch import optim\n",
    "from torch.optim.lr_scheduler import ReduceLROnPlateau\n",
    "from torchvision import datasets, transforms\n",
    "from tqdm import tqdm\n",
    "\n",
    "from src.VAE import LinearVAE"
   ]
  },
  {
   "cell_type": "code",
   "execution_count": 59,
   "outputs": [],
   "source": [
    "encoder1 = nn.Sequential(nn.Linear(28 * 28, 256),\n",
    "                         nn.ReLU(),\n",
    "                         nn.Linear(256, 128),\n",
    "                         nn.ReLU())\n",
    "decoder1 = nn.Sequential(nn.Linear(64, 128),\n",
    "                         nn.ReLU(),\n",
    "                         nn.Linear(128, 256),\n",
    "                         nn.ReLU(),\n",
    "                         nn.Linear(256, 28 * 28),\n",
    "                         nn.Sigmoid())\n",
    "encoderDeep = nn.Sequential(nn.Linear(28 * 28, 256),\n",
    "                            nn.ReLU(),\n",
    "                            nn.Linear(256, 128),\n",
    "                            nn.ReLU(),\n",
    "                            nn.Linear(128, 64),\n",
    "                            nn.ReLU())\n",
    "decoderDeep = nn.Sequential(nn.Linear(16, 64),\n",
    "                            nn.ReLU(),\n",
    "                            nn.Linear(64, 128),\n",
    "                            nn.ReLU(),\n",
    "                            nn.Linear(128, 256),\n",
    "                            nn.ReLU(),\n",
    "                            nn.Linear(256, 28 * 28),\n",
    "                            nn.Sigmoid())\n",
    "encoderShallow = nn.Sequential(nn.Linear(28 * 28, 128),\n",
    "                         nn.ReLU())\n",
    "decoderShallow = nn.Sequential(nn.Linear(2, 128),\n",
    "                         nn.ReLU(),\n",
    "                         nn.Linear(128, 28 * 28),\n",
    "                         nn.Sigmoid())\n",
    "vae = LinearVAE(encoder1, decoder1, 128, 64)"
   ],
   "metadata": {
    "collapsed": false
   }
  },
  {
   "cell_type": "code",
   "execution_count": 60,
   "outputs": [],
   "source": [
    "def KLD(mu: torch.Tensor, log_var: torch.Tensor):\n",
    "    return -0.5 * torch.mean(1 + log_var - mu.pow(2) - log_var.exp())\n",
    "\n",
    "\n",
    "def BCE(recon: torch.Tensor, X: torch.Tensor):\n",
    "    return nn.functional.binary_cross_entropy(recon, X, reduction='mean')\n",
    "\n",
    "\n",
    "def L1Loss(recon: torch.Tensor, X: torch.Tensor):\n",
    "    return nn.functional.l1_loss(recon, X, reduction='mean')\n",
    "\n",
    "\n",
    "def L2Loss(recon: torch.Tensor, X: torch.Tensor):\n",
    "    return nn.functional.mse_loss(recon, X, reduction='mean')"
   ],
   "metadata": {
    "collapsed": false
   }
  },
  {
   "cell_type": "code",
   "execution_count": 61,
   "outputs": [],
   "source": [
    "transform = transforms.Compose([\n",
    "    transforms.ToTensor()\n",
    "])\n",
    "dataset1 = datasets.MNIST('../data', train=True, download=True,\n",
    "                          transform=transform)\n",
    "dataset2 = datasets.MNIST('../data', train=False,\n",
    "                          transform=transform)\n",
    "train_loader = torch.utils.data.DataLoader(dataset1, batch_size=1024, shuffle=True)\n",
    "test_loader = torch.utils.data.DataLoader(dataset2, batch_size=10000)"
   ],
   "metadata": {
    "collapsed": false
   }
  },
  {
   "cell_type": "markdown",
   "source": [
    "## KLD and BCE"
   ],
   "metadata": {
    "collapsed": false
   }
  },
  {
   "cell_type": "code",
   "execution_count": 62,
   "outputs": [],
   "source": [
    "model = vae.to('cuda')\n",
    "optimizer = optim.Adadelta(model.parameters(), lr=1e1)\n",
    "scheduler = ReduceLROnPlateau(optimizer, factor=0.1, patience=5, verbose=False, threshold=1e-3)"
   ],
   "metadata": {
    "collapsed": false
   }
  },
  {
   "cell_type": "code",
   "execution_count": 63,
   "outputs": [],
   "source": [
    "def train(model, train_loader, optimizer, epoch):\n",
    "    model.train()\n",
    "    allLoss = []\n",
    "    allReconLoss = []\n",
    "    with tqdm(train_loader, unit='batch') as tEpoch:\n",
    "        for data, _ in tEpoch:\n",
    "            data = data.to('cuda').view(-1, 28 * 28)\n",
    "            optimizer.zero_grad()\n",
    "            output, mu, log_var = model(data)\n",
    "            reconLoss = BCE(output, data)\n",
    "            loss = KLD(mu, log_var) + reconLoss\n",
    "            loss.backward()\n",
    "            optimizer.step()\n",
    "            allLoss.append(loss.item())\n",
    "            allReconLoss.append(reconLoss.item())\n",
    "            tEpoch.set_postfix_str(' Epoch: {} \\tTotal Loss: {:.6f}\\tReconstruction Loss: {:.6f}\\t lr: {:.8f}'.format(\n",
    "                epoch, loss.item(), reconLoss.item(), optimizer.param_groups[0]['lr']))\n",
    "    return allLoss, allReconLoss"
   ],
   "metadata": {
    "collapsed": false
   }
  },
  {
   "cell_type": "code",
   "execution_count": 53,
   "outputs": [
    {
     "name": "stderr",
     "output_type": "stream",
     "text": [
      "  0%|          | 0/59 [00:00<?, ?batch/s]\n"
     ]
    },
    {
     "ename": "RuntimeError",
     "evalue": "mat1 and mat2 shapes cannot be multiplied (1024x784 and 64x128)",
     "output_type": "error",
     "traceback": [
      "\u001B[1;31m---------------------------------------------------------------------------\u001B[0m",
      "\u001B[1;31mRuntimeError\u001B[0m                              Traceback (most recent call last)",
      "Cell \u001B[1;32mIn [53], line 2\u001B[0m\n\u001B[0;32m      1\u001B[0m \u001B[38;5;28;01mfor\u001B[39;00m epoch \u001B[38;5;129;01min\u001B[39;00m \u001B[38;5;28mrange\u001B[39m(\u001B[38;5;241m1\u001B[39m, \u001B[38;5;241m201\u001B[39m):\n\u001B[1;32m----> 2\u001B[0m     _, loss \u001B[38;5;241m=\u001B[39m \u001B[43mtrain\u001B[49m\u001B[43m(\u001B[49m\u001B[43mmodel\u001B[49m\u001B[43m,\u001B[49m\u001B[43m \u001B[49m\u001B[43mtrain_loader\u001B[49m\u001B[43m,\u001B[49m\u001B[43m \u001B[49m\u001B[43moptimizer\u001B[49m\u001B[43m,\u001B[49m\u001B[43m \u001B[49m\u001B[43mepoch\u001B[49m\u001B[43m)\u001B[49m\n\u001B[0;32m      3\u001B[0m     scheduler\u001B[38;5;241m.\u001B[39mstep(np\u001B[38;5;241m.\u001B[39mmean(loss))\n",
      "Cell \u001B[1;32mIn [52], line 9\u001B[0m, in \u001B[0;36mtrain\u001B[1;34m(model, train_loader, optimizer, epoch)\u001B[0m\n\u001B[0;32m      7\u001B[0m data \u001B[38;5;241m=\u001B[39m data\u001B[38;5;241m.\u001B[39mto(\u001B[38;5;124m'\u001B[39m\u001B[38;5;124mcuda\u001B[39m\u001B[38;5;124m'\u001B[39m)\u001B[38;5;241m.\u001B[39mview(\u001B[38;5;241m-\u001B[39m\u001B[38;5;241m1\u001B[39m, \u001B[38;5;241m28\u001B[39m \u001B[38;5;241m*\u001B[39m \u001B[38;5;241m28\u001B[39m)\n\u001B[0;32m      8\u001B[0m optimizer\u001B[38;5;241m.\u001B[39mzero_grad()\n\u001B[1;32m----> 9\u001B[0m output, mu, log_var \u001B[38;5;241m=\u001B[39m \u001B[43mmodel\u001B[49m\u001B[43m(\u001B[49m\u001B[43mdata\u001B[49m\u001B[43m)\u001B[49m\n\u001B[0;32m     10\u001B[0m reconLoss \u001B[38;5;241m=\u001B[39m BCE(output, data)\n\u001B[0;32m     11\u001B[0m loss \u001B[38;5;241m=\u001B[39m KLD(mu, log_var) \u001B[38;5;241m+\u001B[39m reconLoss\n",
      "File \u001B[1;32mC:\\Python310\\lib\\site-packages\\torch\\nn\\modules\\module.py:1130\u001B[0m, in \u001B[0;36mModule._call_impl\u001B[1;34m(self, *input, **kwargs)\u001B[0m\n\u001B[0;32m   1126\u001B[0m \u001B[38;5;66;03m# If we don't have any hooks, we want to skip the rest of the logic in\u001B[39;00m\n\u001B[0;32m   1127\u001B[0m \u001B[38;5;66;03m# this function, and just call forward.\u001B[39;00m\n\u001B[0;32m   1128\u001B[0m \u001B[38;5;28;01mif\u001B[39;00m \u001B[38;5;129;01mnot\u001B[39;00m (\u001B[38;5;28mself\u001B[39m\u001B[38;5;241m.\u001B[39m_backward_hooks \u001B[38;5;129;01mor\u001B[39;00m \u001B[38;5;28mself\u001B[39m\u001B[38;5;241m.\u001B[39m_forward_hooks \u001B[38;5;129;01mor\u001B[39;00m \u001B[38;5;28mself\u001B[39m\u001B[38;5;241m.\u001B[39m_forward_pre_hooks \u001B[38;5;129;01mor\u001B[39;00m _global_backward_hooks\n\u001B[0;32m   1129\u001B[0m         \u001B[38;5;129;01mor\u001B[39;00m _global_forward_hooks \u001B[38;5;129;01mor\u001B[39;00m _global_forward_pre_hooks):\n\u001B[1;32m-> 1130\u001B[0m     \u001B[38;5;28;01mreturn\u001B[39;00m forward_call(\u001B[38;5;241m*\u001B[39m\u001B[38;5;28minput\u001B[39m, \u001B[38;5;241m*\u001B[39m\u001B[38;5;241m*\u001B[39mkwargs)\n\u001B[0;32m   1131\u001B[0m \u001B[38;5;66;03m# Do not call functions when jit is used\u001B[39;00m\n\u001B[0;32m   1132\u001B[0m full_backward_hooks, non_full_backward_hooks \u001B[38;5;241m=\u001B[39m [], []\n",
      "File \u001B[1;32mF:\\Study\\CAP6610 ML\\project1\\src\\VAE.py:44\u001B[0m, in \u001B[0;36mLinearVAE.forward\u001B[1;34m(self, X)\u001B[0m\n\u001B[0;32m     43\u001B[0m \u001B[38;5;28;01mdef\u001B[39;00m \u001B[38;5;21mforward\u001B[39m(\u001B[38;5;28mself\u001B[39m, X):\n\u001B[1;32m---> 44\u001B[0m     mu, log_var \u001B[38;5;241m=\u001B[39m \u001B[38;5;28;43mself\u001B[39;49m\u001B[38;5;241;43m.\u001B[39;49m\u001B[43mencode\u001B[49m\u001B[43m(\u001B[49m\u001B[43mX\u001B[49m\u001B[43m)\u001B[49m\n\u001B[0;32m     45\u001B[0m     Z \u001B[38;5;241m=\u001B[39m \u001B[38;5;28mself\u001B[39m\u001B[38;5;241m.\u001B[39mreparameterize(mu, log_var)\n\u001B[0;32m     46\u001B[0m     \u001B[38;5;28;01mreturn\u001B[39;00m \u001B[38;5;28mself\u001B[39m\u001B[38;5;241m.\u001B[39mdecode(Z), mu, log_var\n",
      "File \u001B[1;32mF:\\Study\\CAP6610 ML\\project1\\src\\VAE.py:32\u001B[0m, in \u001B[0;36mLinearVAE.encode\u001B[1;34m(self, X)\u001B[0m\n\u001B[0;32m     31\u001B[0m \u001B[38;5;28;01mdef\u001B[39;00m \u001B[38;5;21mencode\u001B[39m(\u001B[38;5;28mself\u001B[39m, X):\n\u001B[1;32m---> 32\u001B[0m     code \u001B[38;5;241m=\u001B[39m \u001B[38;5;28;43mself\u001B[39;49m\u001B[38;5;241;43m.\u001B[39;49m\u001B[43mencoder\u001B[49m\u001B[43m(\u001B[49m\u001B[43mX\u001B[49m\u001B[43m)\u001B[49m\n\u001B[0;32m     33\u001B[0m     \u001B[38;5;28;01mreturn\u001B[39;00m \u001B[38;5;28mself\u001B[39m\u001B[38;5;241m.\u001B[39mmu_coder(code), \u001B[38;5;28mself\u001B[39m\u001B[38;5;241m.\u001B[39mvar_coder(code)\n",
      "File \u001B[1;32mC:\\Python310\\lib\\site-packages\\torch\\nn\\modules\\module.py:1130\u001B[0m, in \u001B[0;36mModule._call_impl\u001B[1;34m(self, *input, **kwargs)\u001B[0m\n\u001B[0;32m   1126\u001B[0m \u001B[38;5;66;03m# If we don't have any hooks, we want to skip the rest of the logic in\u001B[39;00m\n\u001B[0;32m   1127\u001B[0m \u001B[38;5;66;03m# this function, and just call forward.\u001B[39;00m\n\u001B[0;32m   1128\u001B[0m \u001B[38;5;28;01mif\u001B[39;00m \u001B[38;5;129;01mnot\u001B[39;00m (\u001B[38;5;28mself\u001B[39m\u001B[38;5;241m.\u001B[39m_backward_hooks \u001B[38;5;129;01mor\u001B[39;00m \u001B[38;5;28mself\u001B[39m\u001B[38;5;241m.\u001B[39m_forward_hooks \u001B[38;5;129;01mor\u001B[39;00m \u001B[38;5;28mself\u001B[39m\u001B[38;5;241m.\u001B[39m_forward_pre_hooks \u001B[38;5;129;01mor\u001B[39;00m _global_backward_hooks\n\u001B[0;32m   1129\u001B[0m         \u001B[38;5;129;01mor\u001B[39;00m _global_forward_hooks \u001B[38;5;129;01mor\u001B[39;00m _global_forward_pre_hooks):\n\u001B[1;32m-> 1130\u001B[0m     \u001B[38;5;28;01mreturn\u001B[39;00m forward_call(\u001B[38;5;241m*\u001B[39m\u001B[38;5;28minput\u001B[39m, \u001B[38;5;241m*\u001B[39m\u001B[38;5;241m*\u001B[39mkwargs)\n\u001B[0;32m   1131\u001B[0m \u001B[38;5;66;03m# Do not call functions when jit is used\u001B[39;00m\n\u001B[0;32m   1132\u001B[0m full_backward_hooks, non_full_backward_hooks \u001B[38;5;241m=\u001B[39m [], []\n",
      "File \u001B[1;32mC:\\Python310\\lib\\site-packages\\torch\\nn\\modules\\container.py:139\u001B[0m, in \u001B[0;36mSequential.forward\u001B[1;34m(self, input)\u001B[0m\n\u001B[0;32m    137\u001B[0m \u001B[38;5;28;01mdef\u001B[39;00m \u001B[38;5;21mforward\u001B[39m(\u001B[38;5;28mself\u001B[39m, \u001B[38;5;28minput\u001B[39m):\n\u001B[0;32m    138\u001B[0m     \u001B[38;5;28;01mfor\u001B[39;00m module \u001B[38;5;129;01min\u001B[39;00m \u001B[38;5;28mself\u001B[39m:\n\u001B[1;32m--> 139\u001B[0m         \u001B[38;5;28minput\u001B[39m \u001B[38;5;241m=\u001B[39m \u001B[43mmodule\u001B[49m\u001B[43m(\u001B[49m\u001B[38;5;28;43minput\u001B[39;49m\u001B[43m)\u001B[49m\n\u001B[0;32m    140\u001B[0m     \u001B[38;5;28;01mreturn\u001B[39;00m \u001B[38;5;28minput\u001B[39m\n",
      "File \u001B[1;32mC:\\Python310\\lib\\site-packages\\torch\\nn\\modules\\module.py:1130\u001B[0m, in \u001B[0;36mModule._call_impl\u001B[1;34m(self, *input, **kwargs)\u001B[0m\n\u001B[0;32m   1126\u001B[0m \u001B[38;5;66;03m# If we don't have any hooks, we want to skip the rest of the logic in\u001B[39;00m\n\u001B[0;32m   1127\u001B[0m \u001B[38;5;66;03m# this function, and just call forward.\u001B[39;00m\n\u001B[0;32m   1128\u001B[0m \u001B[38;5;28;01mif\u001B[39;00m \u001B[38;5;129;01mnot\u001B[39;00m (\u001B[38;5;28mself\u001B[39m\u001B[38;5;241m.\u001B[39m_backward_hooks \u001B[38;5;129;01mor\u001B[39;00m \u001B[38;5;28mself\u001B[39m\u001B[38;5;241m.\u001B[39m_forward_hooks \u001B[38;5;129;01mor\u001B[39;00m \u001B[38;5;28mself\u001B[39m\u001B[38;5;241m.\u001B[39m_forward_pre_hooks \u001B[38;5;129;01mor\u001B[39;00m _global_backward_hooks\n\u001B[0;32m   1129\u001B[0m         \u001B[38;5;129;01mor\u001B[39;00m _global_forward_hooks \u001B[38;5;129;01mor\u001B[39;00m _global_forward_pre_hooks):\n\u001B[1;32m-> 1130\u001B[0m     \u001B[38;5;28;01mreturn\u001B[39;00m forward_call(\u001B[38;5;241m*\u001B[39m\u001B[38;5;28minput\u001B[39m, \u001B[38;5;241m*\u001B[39m\u001B[38;5;241m*\u001B[39mkwargs)\n\u001B[0;32m   1131\u001B[0m \u001B[38;5;66;03m# Do not call functions when jit is used\u001B[39;00m\n\u001B[0;32m   1132\u001B[0m full_backward_hooks, non_full_backward_hooks \u001B[38;5;241m=\u001B[39m [], []\n",
      "File \u001B[1;32mC:\\Python310\\lib\\site-packages\\torch\\nn\\modules\\linear.py:114\u001B[0m, in \u001B[0;36mLinear.forward\u001B[1;34m(self, input)\u001B[0m\n\u001B[0;32m    113\u001B[0m \u001B[38;5;28;01mdef\u001B[39;00m \u001B[38;5;21mforward\u001B[39m(\u001B[38;5;28mself\u001B[39m, \u001B[38;5;28minput\u001B[39m: Tensor) \u001B[38;5;241m-\u001B[39m\u001B[38;5;241m>\u001B[39m Tensor:\n\u001B[1;32m--> 114\u001B[0m     \u001B[38;5;28;01mreturn\u001B[39;00m \u001B[43mF\u001B[49m\u001B[38;5;241;43m.\u001B[39;49m\u001B[43mlinear\u001B[49m\u001B[43m(\u001B[49m\u001B[38;5;28;43minput\u001B[39;49m\u001B[43m,\u001B[49m\u001B[43m \u001B[49m\u001B[38;5;28;43mself\u001B[39;49m\u001B[38;5;241;43m.\u001B[39;49m\u001B[43mweight\u001B[49m\u001B[43m,\u001B[49m\u001B[43m \u001B[49m\u001B[38;5;28;43mself\u001B[39;49m\u001B[38;5;241;43m.\u001B[39;49m\u001B[43mbias\u001B[49m\u001B[43m)\u001B[49m\n",
      "\u001B[1;31mRuntimeError\u001B[0m: mat1 and mat2 shapes cannot be multiplied (1024x784 and 64x128)"
     ]
    }
   ],
   "source": [
    "for epoch in range(1, 201):\n",
    "    _, loss = train(model, train_loader, optimizer, epoch)\n",
    "    scheduler.step(np.mean(loss))"
   ],
   "metadata": {
    "collapsed": false
   }
  },
  {
   "cell_type": "code",
   "execution_count": 29,
   "outputs": [
    {
     "data": {
      "text/plain": "<matplotlib.image.AxesImage at 0x27826302560>"
     },
     "execution_count": 29,
     "metadata": {},
     "output_type": "execute_result"
    },
    {
     "data": {
      "text/plain": "<Figure size 640x480 with 1 Axes>",
      "image/png": "[encoded data removed]"
     },
     "metadata": {},
     "output_type": "display_data"
    }
   ],
   "source": [
    "z = torch.normal(0, 1, size=(1, 2)).cuda()\n",
    "plt.imshow(model.sample(z).cpu().detach().view(28, 28), cmap='Greys')"
   ],
   "metadata": {
    "collapsed": false
   }
  },
  {
   "cell_type": "code",
   "execution_count": 30,
   "outputs": [],
   "source": [
    "img0 = next(iter(train_loader))[0][0]"
   ],
   "metadata": {
    "collapsed": false
   }
  },
  {
   "cell_type": "code",
   "execution_count": 31,
   "outputs": [
    {
     "data": {
      "text/plain": "<matplotlib.image.AxesImage at 0x27826652a40>"
     },
     "execution_count": 31,
     "metadata": {},
     "output_type": "execute_result"
    },
    {
     "data": {
      "text/plain": "<Figure size 640x480 with 1 Axes>",
      "image/png": "[encoded data removed]"
     },
     "metadata": {},
     "output_type": "display_data"
    }
   ],
   "source": [
    "plt.imshow(img0[0], cmap='Greys')"
   ],
   "metadata": {
    "collapsed": false
   }
  },
  {
   "cell_type": "code",
   "execution_count": 32,
   "outputs": [
    {
     "data": {
      "text/plain": "<matplotlib.image.AxesImage at 0x278266c3fd0>"
     },
     "execution_count": 32,
     "metadata": {},
     "output_type": "execute_result"
    },
    {
     "data": {
      "text/plain": "<Figure size 640x480 with 1 Axes>",
      "image/png": "[encoded data removed]"
     },
     "metadata": {},
     "output_type": "display_data"
    }
   ],
   "source": [
    "output, _, _ = model(img0.view(-1, 28 * 28).cuda())\n",
    "plt.imshow(output.cpu().detach().view(28, 28), cmap='Greys')"
   ],
   "metadata": {
    "collapsed": false
   }
  },
  {
   "cell_type": "markdown",
   "source": [
    "## Only BCE"
   ],
   "metadata": {
    "collapsed": false
   }
  },
  {
   "cell_type": "code",
   "execution_count": 6,
   "outputs": [],
   "source": [
    "model =  LinearVAE(encoder1, decoder1, 128, 64).cuda()\n",
    "optimizer = optim.Adadelta(model.parameters(), lr=1e1)\n",
    "scheduler = ReduceLROnPlateau(optimizer, factor=0.1, patience=5, verbose=False, threshold=1e-3)"
   ],
   "metadata": {
    "collapsed": false
   }
  },
  {
   "cell_type": "code",
   "execution_count": 7,
   "outputs": [],
   "source": [
    "def train(model, train_loader, optimizer, epoch):\n",
    "    model.train()\n",
    "    allLoss = []\n",
    "    allReconLoss = []\n",
    "    with tqdm(train_loader, unit='batch') as tEpoch:\n",
    "        for data, _ in tEpoch:\n",
    "            data = data.to('cuda').view(-1, 28 * 28)\n",
    "            optimizer.zero_grad()\n",
    "            output, mu, log_var = model(data)\n",
    "            reconLoss = BCE(output, data)\n",
    "            loss = reconLoss\n",
    "            loss.backward()\n",
    "            optimizer.step()\n",
    "            allLoss.append(loss.item())\n",
    "            allReconLoss.append(reconLoss.item())\n",
    "            tEpoch.set_postfix_str(' Epoch: {} \\tTotal Loss: {:.6f}\\tReconstruction Loss: {:.6f}\\t lr: {:.8f}'.format(\n",
    "                epoch, loss.item(), reconLoss.item(), optimizer.param_groups[0]['lr']))\n",
    "    return allLoss, allReconLoss"
   ],
   "metadata": {
    "collapsed": false
   }
  },
  {
   "cell_type": "code",
   "execution_count": 8,
   "outputs": [
    {
     "name": "stderr",
     "output_type": "stream",
     "text": [
      "100%|██████████| 59/59 [00:06<00:00,  8.50batch/s,  Epoch: 1 \tTotal Loss: 0.260581\tReconstruction Loss: 0.260581\t lr: 10.00000000]\n",
      "100%|██████████| 59/59 [00:04<00:00, 12.49batch/s,  Epoch: 2 \tTotal Loss: 0.254256\tReconstruction Loss: 0.254256\t lr: 10.00000000]\n",
      "100%|██████████| 59/59 [00:04<00:00, 12.65batch/s,  Epoch: 3 \tTotal Loss: 0.243204\tReconstruction Loss: 0.243204\t lr: 10.00000000]\n",
      "100%|██████████| 59/59 [00:04<00:00, 13.24batch/s,  Epoch: 4 \tTotal Loss: 0.241491\tReconstruction Loss: 0.241491\t lr: 10.00000000]\n",
      "100%|██████████| 59/59 [00:04<00:00, 13.23batch/s,  Epoch: 5 \tTotal Loss: 0.239022\tReconstruction Loss: 0.239022\t lr: 10.00000000]\n",
      "100%|██████████| 59/59 [00:04<00:00, 13.16batch/s,  Epoch: 6 \tTotal Loss: 0.236977\tReconstruction Loss: 0.236977\t lr: 10.00000000]\n",
      "100%|██████████| 59/59 [00:04<00:00, 12.03batch/s,  Epoch: 7 \tTotal Loss: 0.223521\tReconstruction Loss: 0.223521\t lr: 10.00000000]\n",
      "100%|██████████| 59/59 [00:04<00:00, 12.34batch/s,  Epoch: 8 \tTotal Loss: 0.219140\tReconstruction Loss: 0.219140\t lr: 10.00000000]\n",
      "100%|██████████| 59/59 [00:04<00:00, 11.91batch/s,  Epoch: 9 \tTotal Loss: 0.208993\tReconstruction Loss: 0.208993\t lr: 10.00000000]\n",
      "100%|██████████| 59/59 [00:05<00:00, 11.68batch/s,  Epoch: 10 \tTotal Loss: 0.205371\tReconstruction Loss: 0.205371\t lr: 10.00000000]\n",
      "100%|██████████| 59/59 [00:04<00:00, 12.21batch/s,  Epoch: 11 \tTotal Loss: 0.197709\tReconstruction Loss: 0.197709\t lr: 10.00000000]\n",
      "100%|██████████| 59/59 [00:04<00:00, 12.57batch/s,  Epoch: 12 \tTotal Loss: 0.203123\tReconstruction Loss: 0.203123\t lr: 10.00000000]\n",
      "100%|██████████| 59/59 [00:04<00:00, 12.06batch/s,  Epoch: 13 \tTotal Loss: 0.189693\tReconstruction Loss: 0.189693\t lr: 10.00000000]\n",
      "100%|██████████| 59/59 [00:05<00:00, 11.52batch/s,  Epoch: 14 \tTotal Loss: 0.176232\tReconstruction Loss: 0.176232\t lr: 10.00000000]\n",
      "100%|██████████| 59/59 [00:04<00:00, 12.58batch/s,  Epoch: 15 \tTotal Loss: 0.171020\tReconstruction Loss: 0.171020\t lr: 10.00000000]\n",
      "100%|██████████| 59/59 [00:04<00:00, 12.46batch/s,  Epoch: 16 \tTotal Loss: 0.171462\tReconstruction Loss: 0.171462\t lr: 10.00000000]\n",
      "100%|██████████| 59/59 [00:04<00:00, 12.42batch/s,  Epoch: 17 \tTotal Loss: 0.165099\tReconstruction Loss: 0.165099\t lr: 10.00000000]\n",
      "100%|██████████| 59/59 [00:04<00:00, 13.35batch/s,  Epoch: 18 \tTotal Loss: 0.162388\tReconstruction Loss: 0.162388\t lr: 10.00000000]\n",
      "100%|██████████| 59/59 [00:04<00:00, 13.15batch/s,  Epoch: 19 \tTotal Loss: 0.159498\tReconstruction Loss: 0.159498\t lr: 10.00000000]\n",
      "100%|██████████| 59/59 [00:04<00:00, 12.40batch/s,  Epoch: 20 \tTotal Loss: 0.156085\tReconstruction Loss: 0.156085\t lr: 10.00000000]\n",
      "100%|██████████| 59/59 [00:04<00:00, 12.78batch/s,  Epoch: 21 \tTotal Loss: 0.156526\tReconstruction Loss: 0.156526\t lr: 10.00000000]\n",
      "100%|██████████| 59/59 [00:04<00:00, 12.93batch/s,  Epoch: 22 \tTotal Loss: 0.154618\tReconstruction Loss: 0.154618\t lr: 10.00000000]\n",
      "100%|██████████| 59/59 [00:04<00:00, 12.57batch/s,  Epoch: 23 \tTotal Loss: 0.155075\tReconstruction Loss: 0.155075\t lr: 10.00000000]\n",
      "100%|██████████| 59/59 [00:04<00:00, 12.73batch/s,  Epoch: 24 \tTotal Loss: 0.152094\tReconstruction Loss: 0.152094\t lr: 10.00000000]\n",
      "100%|██████████| 59/59 [00:04<00:00, 12.97batch/s,  Epoch: 25 \tTotal Loss: 0.147783\tReconstruction Loss: 0.147783\t lr: 10.00000000]\n",
      "100%|██████████| 59/59 [00:04<00:00, 13.09batch/s,  Epoch: 26 \tTotal Loss: 0.144873\tReconstruction Loss: 0.144873\t lr: 10.00000000]\n",
      "100%|██████████| 59/59 [00:04<00:00, 13.31batch/s,  Epoch: 27 \tTotal Loss: 0.145312\tReconstruction Loss: 0.145312\t lr: 10.00000000]\n",
      "100%|██████████| 59/59 [00:04<00:00, 12.85batch/s,  Epoch: 28 \tTotal Loss: 0.136104\tReconstruction Loss: 0.136104\t lr: 10.00000000]\n",
      "100%|██████████| 59/59 [00:04<00:00, 13.19batch/s,  Epoch: 29 \tTotal Loss: 0.137973\tReconstruction Loss: 0.137973\t lr: 10.00000000]\n",
      "100%|██████████| 59/59 [00:04<00:00, 12.51batch/s,  Epoch: 30 \tTotal Loss: 0.140039\tReconstruction Loss: 0.140039\t lr: 10.00000000]\n",
      "100%|██████████| 59/59 [00:04<00:00, 12.70batch/s,  Epoch: 31 \tTotal Loss: 0.137193\tReconstruction Loss: 0.137193\t lr: 10.00000000]\n",
      "100%|██████████| 59/59 [00:04<00:00, 12.82batch/s,  Epoch: 32 \tTotal Loss: 0.136666\tReconstruction Loss: 0.136666\t lr: 10.00000000]\n",
      "100%|██████████| 59/59 [00:04<00:00, 12.65batch/s,  Epoch: 33 \tTotal Loss: 0.127768\tReconstruction Loss: 0.127768\t lr: 10.00000000]\n",
      "100%|██████████| 59/59 [00:04<00:00, 12.90batch/s,  Epoch: 34 \tTotal Loss: 0.133838\tReconstruction Loss: 0.133838\t lr: 10.00000000]\n",
      "100%|██████████| 59/59 [00:04<00:00, 12.27batch/s,  Epoch: 35 \tTotal Loss: 0.132699\tReconstruction Loss: 0.132699\t lr: 10.00000000]\n",
      "100%|██████████| 59/59 [00:04<00:00, 13.41batch/s,  Epoch: 36 \tTotal Loss: 0.128578\tReconstruction Loss: 0.128578\t lr: 10.00000000]\n",
      "100%|██████████| 59/59 [00:04<00:00, 13.67batch/s,  Epoch: 37 \tTotal Loss: 0.129968\tReconstruction Loss: 0.129968\t lr: 10.00000000]\n",
      "100%|██████████| 59/59 [00:04<00:00, 13.66batch/s,  Epoch: 38 \tTotal Loss: 0.123703\tReconstruction Loss: 0.123703\t lr: 10.00000000]\n",
      "100%|██████████| 59/59 [00:04<00:00, 13.26batch/s,  Epoch: 39 \tTotal Loss: 0.124285\tReconstruction Loss: 0.124285\t lr: 10.00000000]\n",
      "100%|██████████| 59/59 [00:04<00:00, 13.27batch/s,  Epoch: 40 \tTotal Loss: 0.124718\tReconstruction Loss: 0.124718\t lr: 10.00000000]\n",
      "100%|██████████| 59/59 [00:04<00:00, 13.55batch/s,  Epoch: 41 \tTotal Loss: 0.120387\tReconstruction Loss: 0.120387\t lr: 10.00000000]\n",
      "100%|██████████| 59/59 [00:04<00:00, 13.43batch/s,  Epoch: 42 \tTotal Loss: 0.129444\tReconstruction Loss: 0.129444\t lr: 10.00000000]\n",
      "100%|██████████| 59/59 [00:04<00:00, 12.28batch/s,  Epoch: 43 \tTotal Loss: 0.123730\tReconstruction Loss: 0.123730\t lr: 10.00000000]\n",
      "100%|██████████| 59/59 [00:04<00:00, 12.44batch/s,  Epoch: 44 \tTotal Loss: 0.123507\tReconstruction Loss: 0.123507\t lr: 10.00000000]\n",
      "100%|██████████| 59/59 [00:04<00:00, 12.90batch/s,  Epoch: 45 \tTotal Loss: 0.113002\tReconstruction Loss: 0.113002\t lr: 10.00000000]\n",
      "100%|██████████| 59/59 [00:04<00:00, 12.96batch/s,  Epoch: 46 \tTotal Loss: 0.112520\tReconstruction Loss: 0.112520\t lr: 10.00000000]\n",
      "100%|██████████| 59/59 [00:04<00:00, 11.93batch/s,  Epoch: 47 \tTotal Loss: 0.113179\tReconstruction Loss: 0.113179\t lr: 10.00000000]\n",
      "100%|██████████| 59/59 [00:04<00:00, 13.16batch/s,  Epoch: 48 \tTotal Loss: 0.114292\tReconstruction Loss: 0.114292\t lr: 10.00000000]\n",
      "100%|██████████| 59/59 [00:04<00:00, 12.21batch/s,  Epoch: 49 \tTotal Loss: 0.113171\tReconstruction Loss: 0.113171\t lr: 10.00000000]\n",
      "100%|██████████| 59/59 [00:04<00:00, 12.84batch/s,  Epoch: 50 \tTotal Loss: 0.111222\tReconstruction Loss: 0.111222\t lr: 10.00000000]\n",
      "100%|██████████| 59/59 [00:04<00:00, 13.42batch/s,  Epoch: 51 \tTotal Loss: 0.112858\tReconstruction Loss: 0.112858\t lr: 10.00000000]\n",
      "100%|██████████| 59/59 [00:04<00:00, 13.73batch/s,  Epoch: 52 \tTotal Loss: 0.116641\tReconstruction Loss: 0.116641\t lr: 10.00000000]\n",
      "100%|██████████| 59/59 [00:04<00:00, 13.15batch/s,  Epoch: 53 \tTotal Loss: 0.111375\tReconstruction Loss: 0.111375\t lr: 10.00000000]\n",
      "100%|██████████| 59/59 [00:04<00:00, 13.47batch/s,  Epoch: 54 \tTotal Loss: 0.115263\tReconstruction Loss: 0.115263\t lr: 10.00000000]\n",
      "100%|██████████| 59/59 [00:04<00:00, 13.65batch/s,  Epoch: 55 \tTotal Loss: 0.116727\tReconstruction Loss: 0.116727\t lr: 10.00000000]\n",
      "100%|██████████| 59/59 [00:04<00:00, 13.45batch/s,  Epoch: 56 \tTotal Loss: 0.111644\tReconstruction Loss: 0.111644\t lr: 10.00000000]\n",
      "100%|██████████| 59/59 [00:04<00:00, 13.34batch/s,  Epoch: 57 \tTotal Loss: 0.110353\tReconstruction Loss: 0.110353\t lr: 10.00000000]\n",
      "100%|██████████| 59/59 [00:04<00:00, 13.49batch/s,  Epoch: 58 \tTotal Loss: 0.109710\tReconstruction Loss: 0.109710\t lr: 10.00000000]\n",
      "100%|██████████| 59/59 [00:04<00:00, 13.69batch/s,  Epoch: 59 \tTotal Loss: 0.110133\tReconstruction Loss: 0.110133\t lr: 10.00000000]\n",
      "100%|██████████| 59/59 [00:04<00:00, 13.18batch/s,  Epoch: 60 \tTotal Loss: 0.107430\tReconstruction Loss: 0.107430\t lr: 10.00000000]\n",
      "100%|██████████| 59/59 [00:04<00:00, 13.34batch/s,  Epoch: 61 \tTotal Loss: 0.105560\tReconstruction Loss: 0.105560\t lr: 10.00000000]\n",
      "100%|██████████| 59/59 [00:04<00:00, 13.34batch/s,  Epoch: 62 \tTotal Loss: 0.106655\tReconstruction Loss: 0.106655\t lr: 10.00000000]\n",
      "100%|██████████| 59/59 [00:04<00:00, 13.44batch/s,  Epoch: 63 \tTotal Loss: 0.106163\tReconstruction Loss: 0.106163\t lr: 10.00000000]\n",
      "100%|██████████| 59/59 [00:04<00:00, 12.71batch/s,  Epoch: 64 \tTotal Loss: 0.108917\tReconstruction Loss: 0.108917\t lr: 10.00000000]\n",
      "100%|██████████| 59/59 [00:04<00:00, 13.58batch/s,  Epoch: 65 \tTotal Loss: 0.109166\tReconstruction Loss: 0.109166\t lr: 10.00000000]\n",
      "100%|██████████| 59/59 [00:04<00:00, 12.29batch/s,  Epoch: 66 \tTotal Loss: 0.109548\tReconstruction Loss: 0.109548\t lr: 10.00000000]\n",
      "100%|██████████| 59/59 [00:04<00:00, 13.50batch/s,  Epoch: 67 \tTotal Loss: 0.107803\tReconstruction Loss: 0.107803\t lr: 10.00000000]\n",
      "100%|██████████| 59/59 [00:04<00:00, 13.20batch/s,  Epoch: 68 \tTotal Loss: 0.105536\tReconstruction Loss: 0.105536\t lr: 10.00000000]\n",
      "100%|██████████| 59/59 [00:04<00:00, 13.10batch/s,  Epoch: 69 \tTotal Loss: 0.104842\tReconstruction Loss: 0.104842\t lr: 10.00000000]\n",
      "100%|██████████| 59/59 [00:04<00:00, 12.92batch/s,  Epoch: 70 \tTotal Loss: 0.102165\tReconstruction Loss: 0.102165\t lr: 10.00000000]\n",
      "100%|██████████| 59/59 [00:04<00:00, 12.99batch/s,  Epoch: 71 \tTotal Loss: 0.103328\tReconstruction Loss: 0.103328\t lr: 10.00000000]\n",
      "100%|██████████| 59/59 [00:04<00:00, 13.33batch/s,  Epoch: 72 \tTotal Loss: 0.106316\tReconstruction Loss: 0.106316\t lr: 10.00000000]\n",
      "100%|██████████| 59/59 [00:04<00:00, 13.49batch/s,  Epoch: 73 \tTotal Loss: 0.101693\tReconstruction Loss: 0.101693\t lr: 10.00000000]\n",
      "100%|██████████| 59/59 [00:04<00:00, 13.22batch/s,  Epoch: 74 \tTotal Loss: 0.108336\tReconstruction Loss: 0.108336\t lr: 10.00000000]\n",
      "100%|██████████| 59/59 [00:04<00:00, 13.22batch/s,  Epoch: 75 \tTotal Loss: 0.100821\tReconstruction Loss: 0.100821\t lr: 10.00000000]\n",
      "100%|██████████| 59/59 [00:04<00:00, 13.36batch/s,  Epoch: 76 \tTotal Loss: 0.100272\tReconstruction Loss: 0.100272\t lr: 10.00000000]\n",
      "100%|██████████| 59/59 [00:04<00:00, 13.11batch/s,  Epoch: 77 \tTotal Loss: 0.101518\tReconstruction Loss: 0.101518\t lr: 10.00000000]\n",
      "100%|██████████| 59/59 [00:04<00:00, 13.00batch/s,  Epoch: 78 \tTotal Loss: 0.105297\tReconstruction Loss: 0.105297\t lr: 10.00000000]\n",
      "100%|██████████| 59/59 [00:04<00:00, 13.43batch/s,  Epoch: 79 \tTotal Loss: 0.098999\tReconstruction Loss: 0.098999\t lr: 10.00000000]\n",
      "100%|██████████| 59/59 [00:04<00:00, 13.55batch/s,  Epoch: 80 \tTotal Loss: 0.101839\tReconstruction Loss: 0.101839\t lr: 10.00000000]\n",
      "100%|██████████| 59/59 [00:04<00:00, 13.39batch/s,  Epoch: 81 \tTotal Loss: 0.099933\tReconstruction Loss: 0.099933\t lr: 10.00000000]\n",
      "100%|██████████| 59/59 [00:04<00:00, 12.80batch/s,  Epoch: 82 \tTotal Loss: 0.100634\tReconstruction Loss: 0.100634\t lr: 10.00000000]\n",
      "100%|██████████| 59/59 [00:04<00:00, 13.50batch/s,  Epoch: 83 \tTotal Loss: 0.100238\tReconstruction Loss: 0.100238\t lr: 10.00000000]\n",
      "100%|██████████| 59/59 [00:04<00:00, 12.39batch/s,  Epoch: 84 \tTotal Loss: 0.101416\tReconstruction Loss: 0.101416\t lr: 10.00000000]\n",
      "100%|██████████| 59/59 [00:04<00:00, 13.80batch/s,  Epoch: 85 \tTotal Loss: 0.103273\tReconstruction Loss: 0.103273\t lr: 10.00000000]\n",
      "100%|██████████| 59/59 [00:04<00:00, 12.51batch/s,  Epoch: 86 \tTotal Loss: 0.098432\tReconstruction Loss: 0.098432\t lr: 10.00000000]\n",
      "100%|██████████| 59/59 [00:04<00:00, 13.71batch/s,  Epoch: 87 \tTotal Loss: 0.102363\tReconstruction Loss: 0.102363\t lr: 10.00000000]\n",
      "100%|██████████| 59/59 [00:04<00:00, 12.35batch/s,  Epoch: 88 \tTotal Loss: 0.094860\tReconstruction Loss: 0.094860\t lr: 10.00000000]\n",
      "100%|██████████| 59/59 [00:04<00:00, 13.75batch/s,  Epoch: 89 \tTotal Loss: 0.097656\tReconstruction Loss: 0.097656\t lr: 10.00000000]\n",
      "100%|██████████| 59/59 [00:04<00:00, 12.52batch/s,  Epoch: 90 \tTotal Loss: 0.099215\tReconstruction Loss: 0.099215\t lr: 10.00000000]\n",
      "100%|██████████| 59/59 [00:04<00:00, 13.71batch/s,  Epoch: 91 \tTotal Loss: 0.097909\tReconstruction Loss: 0.097909\t lr: 10.00000000]\n",
      "100%|██████████| 59/59 [00:04<00:00, 12.98batch/s,  Epoch: 92 \tTotal Loss: 0.100603\tReconstruction Loss: 0.100603\t lr: 10.00000000]\n",
      "100%|██████████| 59/59 [00:04<00:00, 13.41batch/s,  Epoch: 93 \tTotal Loss: 0.098700\tReconstruction Loss: 0.098700\t lr: 10.00000000]\n",
      "100%|██████████| 59/59 [00:04<00:00, 13.59batch/s,  Epoch: 94 \tTotal Loss: 0.097153\tReconstruction Loss: 0.097153\t lr: 10.00000000]\n",
      "100%|██████████| 59/59 [00:04<00:00, 13.40batch/s,  Epoch: 95 \tTotal Loss: 0.097966\tReconstruction Loss: 0.097966\t lr: 10.00000000]\n",
      "100%|██████████| 59/59 [00:04<00:00, 13.12batch/s,  Epoch: 96 \tTotal Loss: 0.098177\tReconstruction Loss: 0.098177\t lr: 10.00000000]\n",
      "100%|██████████| 59/59 [00:04<00:00, 13.07batch/s,  Epoch: 97 \tTotal Loss: 0.097414\tReconstruction Loss: 0.097414\t lr: 10.00000000]\n",
      "100%|██████████| 59/59 [00:04<00:00, 12.96batch/s,  Epoch: 98 \tTotal Loss: 0.102259\tReconstruction Loss: 0.102259\t lr: 10.00000000]\n",
      "100%|██████████| 59/59 [00:04<00:00, 13.26batch/s,  Epoch: 99 \tTotal Loss: 0.094686\tReconstruction Loss: 0.094686\t lr: 10.00000000]\n",
      "100%|██████████| 59/59 [00:04<00:00, 12.98batch/s,  Epoch: 100 \tTotal Loss: 0.095196\tReconstruction Loss: 0.095196\t lr: 10.00000000]\n",
      "100%|██████████| 59/59 [00:04<00:00, 13.06batch/s,  Epoch: 101 \tTotal Loss: 0.094802\tReconstruction Loss: 0.094802\t lr: 10.00000000]\n",
      "100%|██████████| 59/59 [00:04<00:00, 13.50batch/s,  Epoch: 102 \tTotal Loss: 0.097711\tReconstruction Loss: 0.097711\t lr: 10.00000000]\n",
      "100%|██████████| 59/59 [00:04<00:00, 12.57batch/s,  Epoch: 103 \tTotal Loss: 0.096072\tReconstruction Loss: 0.096072\t lr: 10.00000000]\n",
      "100%|██████████| 59/59 [00:04<00:00, 13.50batch/s,  Epoch: 104 \tTotal Loss: 0.095445\tReconstruction Loss: 0.095445\t lr: 10.00000000]\n",
      "100%|██████████| 59/59 [00:04<00:00, 13.58batch/s,  Epoch: 105 \tTotal Loss: 0.095111\tReconstruction Loss: 0.095111\t lr: 10.00000000]\n",
      "100%|██████████| 59/59 [00:04<00:00, 13.09batch/s,  Epoch: 106 \tTotal Loss: 0.096432\tReconstruction Loss: 0.096432\t lr: 10.00000000]\n",
      "100%|██████████| 59/59 [00:04<00:00, 13.15batch/s,  Epoch: 107 \tTotal Loss: 0.093048\tReconstruction Loss: 0.093048\t lr: 10.00000000]\n",
      "100%|██████████| 59/59 [00:04<00:00, 13.70batch/s,  Epoch: 108 \tTotal Loss: 0.095291\tReconstruction Loss: 0.095291\t lr: 10.00000000]\n",
      "100%|██████████| 59/59 [00:04<00:00, 13.55batch/s,  Epoch: 109 \tTotal Loss: 0.093962\tReconstruction Loss: 0.093962\t lr: 10.00000000]\n",
      "100%|██████████| 59/59 [00:04<00:00, 13.50batch/s,  Epoch: 110 \tTotal Loss: 0.093484\tReconstruction Loss: 0.093484\t lr: 10.00000000]\n",
      "100%|██████████| 59/59 [00:04<00:00, 12.26batch/s,  Epoch: 111 \tTotal Loss: 0.094234\tReconstruction Loss: 0.094234\t lr: 10.00000000]\n",
      "100%|██████████| 59/59 [00:04<00:00, 12.77batch/s,  Epoch: 112 \tTotal Loss: 0.093377\tReconstruction Loss: 0.093377\t lr: 10.00000000]\n",
      "100%|██████████| 59/59 [00:04<00:00, 12.67batch/s,  Epoch: 113 \tTotal Loss: 0.094535\tReconstruction Loss: 0.094535\t lr: 10.00000000]\n",
      "100%|██████████| 59/59 [00:03<00:00, 16.35batch/s,  Epoch: 114 \tTotal Loss: 0.091236\tReconstruction Loss: 0.091236\t lr: 10.00000000]\n",
      "100%|██████████| 59/59 [00:04<00:00, 12.77batch/s,  Epoch: 115 \tTotal Loss: 0.096229\tReconstruction Loss: 0.096229\t lr: 10.00000000]\n",
      "100%|██████████| 59/59 [00:04<00:00, 13.27batch/s,  Epoch: 116 \tTotal Loss: 0.092835\tReconstruction Loss: 0.092835\t lr: 10.00000000]\n",
      "100%|██████████| 59/59 [00:04<00:00, 13.51batch/s,  Epoch: 117 \tTotal Loss: 0.092207\tReconstruction Loss: 0.092207\t lr: 10.00000000]\n",
      "100%|██████████| 59/59 [00:04<00:00, 13.34batch/s,  Epoch: 118 \tTotal Loss: 0.089589\tReconstruction Loss: 0.089589\t lr: 10.00000000]\n",
      "100%|██████████| 59/59 [00:04<00:00, 13.51batch/s,  Epoch: 119 \tTotal Loss: 0.094331\tReconstruction Loss: 0.094331\t lr: 10.00000000]\n",
      "100%|██████████| 59/59 [00:04<00:00, 13.50batch/s,  Epoch: 120 \tTotal Loss: 0.093904\tReconstruction Loss: 0.093904\t lr: 10.00000000]\n",
      "100%|██████████| 59/59 [00:04<00:00, 13.73batch/s,  Epoch: 121 \tTotal Loss: 0.091454\tReconstruction Loss: 0.091454\t lr: 10.00000000]\n",
      "100%|██████████| 59/59 [00:04<00:00, 13.32batch/s,  Epoch: 122 \tTotal Loss: 0.093588\tReconstruction Loss: 0.093588\t lr: 10.00000000]\n",
      "100%|██████████| 59/59 [00:04<00:00, 13.41batch/s,  Epoch: 123 \tTotal Loss: 0.093923\tReconstruction Loss: 0.093923\t lr: 10.00000000]\n",
      "100%|██████████| 59/59 [00:04<00:00, 13.57batch/s,  Epoch: 124 \tTotal Loss: 0.093429\tReconstruction Loss: 0.093429\t lr: 10.00000000]\n",
      "100%|██████████| 59/59 [00:04<00:00, 12.74batch/s,  Epoch: 125 \tTotal Loss: 0.095095\tReconstruction Loss: 0.095095\t lr: 10.00000000]\n",
      "100%|██████████| 59/59 [00:04<00:00, 13.75batch/s,  Epoch: 126 \tTotal Loss: 0.093034\tReconstruction Loss: 0.093034\t lr: 10.00000000]\n",
      "100%|██████████| 59/59 [00:04<00:00, 13.50batch/s,  Epoch: 127 \tTotal Loss: 0.093511\tReconstruction Loss: 0.093511\t lr: 10.00000000]\n",
      "100%|██████████| 59/59 [00:04<00:00, 12.25batch/s,  Epoch: 128 \tTotal Loss: 0.090292\tReconstruction Loss: 0.090292\t lr: 10.00000000]\n",
      "100%|██████████| 59/59 [00:04<00:00, 13.23batch/s,  Epoch: 129 \tTotal Loss: 0.093633\tReconstruction Loss: 0.093633\t lr: 10.00000000]\n",
      "100%|██████████| 59/59 [00:04<00:00, 12.72batch/s,  Epoch: 130 \tTotal Loss: 0.089794\tReconstruction Loss: 0.089794\t lr: 10.00000000]\n",
      "100%|██████████| 59/59 [00:04<00:00, 13.70batch/s,  Epoch: 131 \tTotal Loss: 0.091029\tReconstruction Loss: 0.091029\t lr: 10.00000000]\n",
      "100%|██████████| 59/59 [00:04<00:00, 13.28batch/s,  Epoch: 132 \tTotal Loss: 0.092430\tReconstruction Loss: 0.092430\t lr: 10.00000000]\n",
      "100%|██████████| 59/59 [00:04<00:00, 13.45batch/s,  Epoch: 133 \tTotal Loss: 0.090824\tReconstruction Loss: 0.090824\t lr: 10.00000000]\n",
      "100%|██████████| 59/59 [00:04<00:00, 13.14batch/s,  Epoch: 134 \tTotal Loss: 0.090000\tReconstruction Loss: 0.090000\t lr: 10.00000000]\n",
      "100%|██████████| 59/59 [00:04<00:00, 12.40batch/s,  Epoch: 135 \tTotal Loss: 0.090149\tReconstruction Loss: 0.090149\t lr: 10.00000000]\n",
      "100%|██████████| 59/59 [00:04<00:00, 12.84batch/s,  Epoch: 136 \tTotal Loss: 0.090881\tReconstruction Loss: 0.090881\t lr: 10.00000000]\n",
      "100%|██████████| 59/59 [00:04<00:00, 13.29batch/s,  Epoch: 137 \tTotal Loss: 0.089874\tReconstruction Loss: 0.089874\t lr: 10.00000000]\n",
      "100%|██████████| 59/59 [00:04<00:00, 12.65batch/s,  Epoch: 138 \tTotal Loss: 0.092036\tReconstruction Loss: 0.092036\t lr: 10.00000000]\n",
      "100%|██████████| 59/59 [00:04<00:00, 13.04batch/s,  Epoch: 139 \tTotal Loss: 0.093267\tReconstruction Loss: 0.093267\t lr: 10.00000000]\n",
      "100%|██████████| 59/59 [00:04<00:00, 13.41batch/s,  Epoch: 140 \tTotal Loss: 0.089708\tReconstruction Loss: 0.089708\t lr: 10.00000000]\n",
      "100%|██████████| 59/59 [00:04<00:00, 13.17batch/s,  Epoch: 141 \tTotal Loss: 0.089871\tReconstruction Loss: 0.089871\t lr: 10.00000000]\n",
      "100%|██████████| 59/59 [00:04<00:00, 12.77batch/s,  Epoch: 142 \tTotal Loss: 0.090899\tReconstruction Loss: 0.090899\t lr: 10.00000000]\n",
      "100%|██████████| 59/59 [00:04<00:00, 13.39batch/s,  Epoch: 143 \tTotal Loss: 0.091587\tReconstruction Loss: 0.091587\t lr: 10.00000000]\n",
      "100%|██████████| 59/59 [00:04<00:00, 12.32batch/s,  Epoch: 144 \tTotal Loss: 0.089645\tReconstruction Loss: 0.089645\t lr: 10.00000000]\n",
      "100%|██████████| 59/59 [00:04<00:00, 13.35batch/s,  Epoch: 145 \tTotal Loss: 0.089325\tReconstruction Loss: 0.089325\t lr: 10.00000000]\n",
      "100%|██████████| 59/59 [00:04<00:00, 11.92batch/s,  Epoch: 146 \tTotal Loss: 0.088914\tReconstruction Loss: 0.088914\t lr: 10.00000000]\n",
      "100%|██████████| 59/59 [00:04<00:00, 11.96batch/s,  Epoch: 147 \tTotal Loss: 0.088263\tReconstruction Loss: 0.088263\t lr: 10.00000000]\n",
      "100%|██████████| 59/59 [00:04<00:00, 13.28batch/s,  Epoch: 148 \tTotal Loss: 0.088578\tReconstruction Loss: 0.088578\t lr: 10.00000000]\n",
      "100%|██████████| 59/59 [00:04<00:00, 12.54batch/s,  Epoch: 149 \tTotal Loss: 0.090081\tReconstruction Loss: 0.090081\t lr: 10.00000000]\n",
      "100%|██████████| 59/59 [00:04<00:00, 12.61batch/s,  Epoch: 150 \tTotal Loss: 0.087701\tReconstruction Loss: 0.087701\t lr: 10.00000000]\n",
      "100%|██████████| 59/59 [00:04<00:00, 12.64batch/s,  Epoch: 151 \tTotal Loss: 0.089165\tReconstruction Loss: 0.089165\t lr: 10.00000000]\n",
      "100%|██████████| 59/59 [00:04<00:00, 12.38batch/s,  Epoch: 152 \tTotal Loss: 0.088616\tReconstruction Loss: 0.088616\t lr: 10.00000000]\n",
      "100%|██████████| 59/59 [00:04<00:00, 12.60batch/s,  Epoch: 153 \tTotal Loss: 0.087283\tReconstruction Loss: 0.087283\t lr: 10.00000000]\n",
      "100%|██████████| 59/59 [00:04<00:00, 12.58batch/s,  Epoch: 154 \tTotal Loss: 0.091480\tReconstruction Loss: 0.091480\t lr: 10.00000000]\n",
      "100%|██████████| 59/59 [00:04<00:00, 12.47batch/s,  Epoch: 155 \tTotal Loss: 0.087940\tReconstruction Loss: 0.087940\t lr: 10.00000000]\n",
      "100%|██████████| 59/59 [00:04<00:00, 12.67batch/s,  Epoch: 156 \tTotal Loss: 0.091588\tReconstruction Loss: 0.091588\t lr: 10.00000000]\n",
      "100%|██████████| 59/59 [00:04<00:00, 12.57batch/s,  Epoch: 157 \tTotal Loss: 0.090128\tReconstruction Loss: 0.090128\t lr: 10.00000000]\n",
      "100%|██████████| 59/59 [00:04<00:00, 12.46batch/s,  Epoch: 158 \tTotal Loss: 0.089446\tReconstruction Loss: 0.089446\t lr: 10.00000000]\n",
      "100%|██████████| 59/59 [00:04<00:00, 12.62batch/s,  Epoch: 159 \tTotal Loss: 0.087700\tReconstruction Loss: 0.087700\t lr: 10.00000000]\n",
      "100%|██████████| 59/59 [00:04<00:00, 12.61batch/s,  Epoch: 160 \tTotal Loss: 0.086016\tReconstruction Loss: 0.086016\t lr: 10.00000000]\n",
      "100%|██████████| 59/59 [00:04<00:00, 12.47batch/s,  Epoch: 161 \tTotal Loss: 0.088524\tReconstruction Loss: 0.088524\t lr: 10.00000000]\n",
      "100%|██████████| 59/59 [00:04<00:00, 12.60batch/s,  Epoch: 162 \tTotal Loss: 0.088381\tReconstruction Loss: 0.088381\t lr: 10.00000000]\n",
      "100%|██████████| 59/59 [00:04<00:00, 12.44batch/s,  Epoch: 163 \tTotal Loss: 0.090874\tReconstruction Loss: 0.090874\t lr: 10.00000000]\n",
      "100%|██████████| 59/59 [00:04<00:00, 12.59batch/s,  Epoch: 164 \tTotal Loss: 0.086708\tReconstruction Loss: 0.086708\t lr: 10.00000000]\n",
      "100%|██████████| 59/59 [00:04<00:00, 12.63batch/s,  Epoch: 165 \tTotal Loss: 0.087804\tReconstruction Loss: 0.087804\t lr: 10.00000000]\n",
      "100%|██████████| 59/59 [00:04<00:00, 12.61batch/s,  Epoch: 166 \tTotal Loss: 0.089960\tReconstruction Loss: 0.089960\t lr: 10.00000000]\n",
      "100%|██████████| 59/59 [00:04<00:00, 12.34batch/s,  Epoch: 167 \tTotal Loss: 0.088215\tReconstruction Loss: 0.088215\t lr: 10.00000000]\n",
      "100%|██████████| 59/59 [00:04<00:00, 12.62batch/s,  Epoch: 168 \tTotal Loss: 0.088938\tReconstruction Loss: 0.088938\t lr: 10.00000000]\n",
      "100%|██████████| 59/59 [00:04<00:00, 12.61batch/s,  Epoch: 169 \tTotal Loss: 0.089433\tReconstruction Loss: 0.089433\t lr: 10.00000000]\n",
      "100%|██████████| 59/59 [00:04<00:00, 12.65batch/s,  Epoch: 170 \tTotal Loss: 0.089130\tReconstruction Loss: 0.089130\t lr: 10.00000000]\n",
      "100%|██████████| 59/59 [00:04<00:00, 12.38batch/s,  Epoch: 171 \tTotal Loss: 0.088426\tReconstruction Loss: 0.088426\t lr: 10.00000000]\n",
      "100%|██████████| 59/59 [00:04<00:00, 12.61batch/s,  Epoch: 172 \tTotal Loss: 0.083484\tReconstruction Loss: 0.083484\t lr: 1.00000000]\n",
      "100%|██████████| 59/59 [00:04<00:00, 12.64batch/s,  Epoch: 173 \tTotal Loss: 0.083311\tReconstruction Loss: 0.083311\t lr: 1.00000000]\n",
      "100%|██████████| 59/59 [00:04<00:00, 12.54batch/s,  Epoch: 174 \tTotal Loss: 0.082718\tReconstruction Loss: 0.082718\t lr: 1.00000000]\n",
      "100%|██████████| 59/59 [00:04<00:00, 12.48batch/s,  Epoch: 175 \tTotal Loss: 0.083772\tReconstruction Loss: 0.083772\t lr: 1.00000000]\n",
      "100%|██████████| 59/59 [00:04<00:00, 12.67batch/s,  Epoch: 176 \tTotal Loss: 0.082355\tReconstruction Loss: 0.082355\t lr: 1.00000000]\n",
      "100%|██████████| 59/59 [00:04<00:00, 12.60batch/s,  Epoch: 177 \tTotal Loss: 0.082515\tReconstruction Loss: 0.082515\t lr: 1.00000000]\n",
      "100%|██████████| 59/59 [00:04<00:00, 12.38batch/s,  Epoch: 178 \tTotal Loss: 0.083653\tReconstruction Loss: 0.083653\t lr: 1.00000000]\n",
      "100%|██████████| 59/59 [00:04<00:00, 12.64batch/s,  Epoch: 179 \tTotal Loss: 0.081975\tReconstruction Loss: 0.081975\t lr: 1.00000000]\n",
      "100%|██████████| 59/59 [00:04<00:00, 12.54batch/s,  Epoch: 180 \tTotal Loss: 0.080585\tReconstruction Loss: 0.080585\t lr: 1.00000000]\n",
      "100%|██████████| 59/59 [00:04<00:00, 12.48batch/s,  Epoch: 181 \tTotal Loss: 0.084051\tReconstruction Loss: 0.084051\t lr: 1.00000000]\n",
      "100%|██████████| 59/59 [00:04<00:00, 12.46batch/s,  Epoch: 182 \tTotal Loss: 0.084709\tReconstruction Loss: 0.084709\t lr: 1.00000000]\n",
      "100%|██████████| 59/59 [00:04<00:00, 12.48batch/s,  Epoch: 183 \tTotal Loss: 0.082177\tReconstruction Loss: 0.082177\t lr: 1.00000000]\n",
      "100%|██████████| 59/59 [00:04<00:00, 12.59batch/s,  Epoch: 184 \tTotal Loss: 0.083191\tReconstruction Loss: 0.083191\t lr: 1.00000000]\n",
      "100%|██████████| 59/59 [00:04<00:00, 12.63batch/s,  Epoch: 185 \tTotal Loss: 0.081861\tReconstruction Loss: 0.081861\t lr: 1.00000000]\n",
      "100%|██████████| 59/59 [00:04<00:00, 12.52batch/s,  Epoch: 186 \tTotal Loss: 0.083363\tReconstruction Loss: 0.083363\t lr: 1.00000000]\n",
      "100%|██████████| 59/59 [00:04<00:00, 12.46batch/s,  Epoch: 187 \tTotal Loss: 0.081373\tReconstruction Loss: 0.081373\t lr: 1.00000000]\n",
      "100%|██████████| 59/59 [00:04<00:00, 12.59batch/s,  Epoch: 188 \tTotal Loss: 0.082505\tReconstruction Loss: 0.082505\t lr: 1.00000000]\n",
      "100%|██████████| 59/59 [00:04<00:00, 12.42batch/s,  Epoch: 189 \tTotal Loss: 0.082163\tReconstruction Loss: 0.082163\t lr: 1.00000000]\n",
      "100%|██████████| 59/59 [00:04<00:00, 12.52batch/s,  Epoch: 190 \tTotal Loss: 0.083290\tReconstruction Loss: 0.083290\t lr: 1.00000000]\n",
      "100%|██████████| 59/59 [00:04<00:00, 12.51batch/s,  Epoch: 191 \tTotal Loss: 0.083443\tReconstruction Loss: 0.083443\t lr: 1.00000000]\n",
      "100%|██████████| 59/59 [00:04<00:00, 12.51batch/s,  Epoch: 192 \tTotal Loss: 0.082218\tReconstruction Loss: 0.082218\t lr: 1.00000000]\n",
      "100%|██████████| 59/59 [00:04<00:00, 12.54batch/s,  Epoch: 193 \tTotal Loss: 0.083512\tReconstruction Loss: 0.083512\t lr: 1.00000000]\n",
      "100%|██████████| 59/59 [00:04<00:00, 12.59batch/s,  Epoch: 194 \tTotal Loss: 0.083339\tReconstruction Loss: 0.083339\t lr: 1.00000000]\n",
      "100%|██████████| 59/59 [00:04<00:00, 12.42batch/s,  Epoch: 195 \tTotal Loss: 0.081608\tReconstruction Loss: 0.081608\t lr: 1.00000000]\n",
      "100%|██████████| 59/59 [00:04<00:00, 12.67batch/s,  Epoch: 196 \tTotal Loss: 0.080956\tReconstruction Loss: 0.080956\t lr: 1.00000000]\n",
      "100%|██████████| 59/59 [00:04<00:00, 12.63batch/s,  Epoch: 197 \tTotal Loss: 0.083538\tReconstruction Loss: 0.083538\t lr: 1.00000000]\n",
      "100%|██████████| 59/59 [00:04<00:00, 12.65batch/s,  Epoch: 198 \tTotal Loss: 0.082461\tReconstruction Loss: 0.082461\t lr: 1.00000000]\n",
      "100%|██████████| 59/59 [00:04<00:00, 12.45batch/s,  Epoch: 199 \tTotal Loss: 0.082621\tReconstruction Loss: 0.082621\t lr: 1.00000000]\n",
      "100%|██████████| 59/59 [00:04<00:00, 12.42batch/s,  Epoch: 200 \tTotal Loss: 0.081400\tReconstruction Loss: 0.081400\t lr: 1.00000000]\n"
     ]
    }
   ],
   "source": [
    "for epoch in range(1, 201):\n",
    "    _, loss = train(model, train_loader, optimizer, epoch)\n",
    "    scheduler.step(np.mean(loss))"
   ],
   "metadata": {
    "collapsed": false
   }
  },
  {
   "cell_type": "code",
   "execution_count": 10,
   "outputs": [
    {
     "data": {
      "text/plain": "<matplotlib.image.AxesImage at 0x16fdadd9900>"
     },
     "execution_count": 10,
     "metadata": {},
     "output_type": "execute_result"
    },
    {
     "data": {
      "text/plain": "<Figure size 640x480 with 1 Axes>",
      "image/png": "[encoded data removed]"
     },
     "metadata": {},
     "output_type": "display_data"
    }
   ],
   "source": [
    "z = torch.normal(0, 1, size=(1, 64)).cuda()\n",
    "plt.imshow(model.sample(z).cpu().detach().view(28, 28), cmap='Greys')"
   ],
   "metadata": {
    "collapsed": false
   }
  },
  {
   "cell_type": "code",
   "execution_count": 11,
   "outputs": [],
   "source": [
    "img0 = next(iter(train_loader))[0][0]"
   ],
   "metadata": {
    "collapsed": false
   }
  },
  {
   "cell_type": "code",
   "execution_count": 12,
   "outputs": [
    {
     "data": {
      "text/plain": "<matplotlib.image.AxesImage at 0x16fdbf9e800>"
     },
     "execution_count": 12,
     "metadata": {},
     "output_type": "execute_result"
    },
    {
     "data": {
      "text/plain": "<Figure size 640x480 with 1 Axes>",
      "image/png": "[encoded data removed]"
     },
     "metadata": {},
     "output_type": "display_data"
    }
   ],
   "source": [
    "plt.imshow(img0[0], cmap='Greys')"
   ],
   "metadata": {
    "collapsed": false
   }
  },
  {
   "cell_type": "code",
   "execution_count": 13,
   "outputs": [
    {
     "data": {
      "text/plain": "<matplotlib.image.AxesImage at 0x16ffa0d1120>"
     },
     "execution_count": 13,
     "metadata": {},
     "output_type": "execute_result"
    },
    {
     "data": {
      "text/plain": "<Figure size 640x480 with 1 Axes>",
      "image/png": "[encoded data removed]"
     },
     "metadata": {},
     "output_type": "display_data"
    }
   ],
   "source": [
    "output, _, _ = model(img0.view(-1, 28 * 28).cuda())\n",
    "plt.imshow(output.cpu().detach().view(28, 28), cmap='Greys')"
   ],
   "metadata": {
    "collapsed": false
   }
  },
  {
   "cell_type": "code",
   "execution_count": 14,
   "outputs": [],
   "source": [
    "testBatch0=next(iter(train_loader))[0]"
   ],
   "metadata": {
    "collapsed": false
   }
  },
  {
   "cell_type": "code",
   "execution_count": 16,
   "outputs": [],
   "source": [
    "_,testMu,testLogvar=model(testBatch0.view(-1,28*28).cuda())"
   ],
   "metadata": {
    "collapsed": false
   }
  },
  {
   "cell_type": "code",
   "execution_count": 17,
   "outputs": [
    {
     "data": {
      "text/plain": "tensor([[16.6421,  6.6377, -5.6243,  ...,  4.5057, -2.5437, -0.4899],\n        [ 7.3226,  2.5680, -5.1583,  ..., -2.2315, -4.4619, -3.2795],\n        [-6.2674,  5.1949, -5.4320,  ...,  2.5350,  4.1184, -3.8398],\n        ...,\n        [-6.8060,  0.4432,  1.3288,  ...,  3.5307, -5.0770, -2.4892],\n        [ 7.2060, -4.0303, -2.7953,  ...,  2.0946,  1.4376,  3.4276],\n        [ 7.2078, -5.5857, -2.6517,  ..., -3.9898, 11.4325, -5.2647]],\n       device='cuda:0', grad_fn=<AddmmBackward0>)"
     },
     "execution_count": 17,
     "metadata": {},
     "output_type": "execute_result"
    }
   ],
   "source": [
    "testMu"
   ],
   "metadata": {
    "collapsed": false
   }
  },
  {
   "cell_type": "code",
   "execution_count": 18,
   "outputs": [],
   "source": [
    "from sklearn.mixture import GaussianMixture\n",
    "gm=GaussianMixture(10)"
   ],
   "metadata": {
    "collapsed": false
   }
  },
  {
   "cell_type": "code",
   "execution_count": 22,
   "outputs": [
    {
     "data": {
      "text/plain": "GaussianMixture(n_components=10)",
      "text/html": "<style>#sk-container-id-1 {color: black;background-color: white;}#sk-container-id-1 pre{padding: 0;}#sk-container-id-1 div.sk-toggleable {background-color: white;}#sk-container-id-1 label.sk-toggleable__label {cursor: pointer;display: block;width: 100%;margin-bottom: 0;padding: 0.3em;box-sizing: border-box;text-align: center;}#sk-container-id-1 label.sk-toggleable__label-arrow:before {content: \"▸\";float: left;margin-right: 0.25em;color: #696969;}#sk-container-id-1 label.sk-toggleable__label-arrow:hover:before {color: black;}#sk-container-id-1 div.sk-estimator:hover label.sk-toggleable__label-arrow:before {color: black;}#sk-container-id-1 div.sk-toggleable__content {max-height: 0;max-width: 0;overflow: hidden;text-align: left;background-color: #f0f8ff;}#sk-container-id-1 div.sk-toggleable__content pre {margin: 0.2em;color: black;border-radius: 0.25em;background-color: #f0f8ff;}#sk-container-id-1 input.sk-toggleable__control:checked~div.sk-toggleable__content {max-height: 200px;max-width: 100%;overflow: auto;}#sk-container-id-1 input.sk-toggleable__control:checked~label.sk-toggleable__label-arrow:before {content: \"▾\";}#sk-container-id-1 div.sk-estimator input.sk-toggleable__control:checked~label.sk-toggleable__label {background-color: #d4ebff;}#sk-container-id-1 div.sk-label input.sk-toggleable__control:checked~label.sk-toggleable__label {background-color: #d4ebff;}#sk-container-id-1 input.sk-hidden--visually {border: 0;clip: rect(1px 1px 1px 1px);clip: rect(1px, 1px, 1px, 1px);height: 1px;margin: -1px;overflow: hidden;padding: 0;position: absolute;width: 1px;}#sk-container-id-1 div.sk-estimator {font-family: monospace;background-color: #f0f8ff;border: 1px dotted black;border-radius: 0.25em;box-sizing: border-box;margin-bottom: 0.5em;}#sk-container-id-1 div.sk-estimator:hover {background-color: #d4ebff;}#sk-container-id-1 div.sk-parallel-item::after {content: \"\";width: 100%;border-bottom: 1px solid gray;flex-grow: 1;}#sk-container-id-1 div.sk-label:hover label.sk-toggleable__label {background-color: #d4ebff;}#sk-container-id-1 div.sk-serial::before {content: \"\";position: absolute;border-left: 1px solid gray;box-sizing: border-box;top: 0;bottom: 0;left: 50%;z-index: 0;}#sk-container-id-1 div.sk-serial {display: flex;flex-direction: column;align-items: center;background-color: white;padding-right: 0.2em;padding-left: 0.2em;position: relative;}#sk-container-id-1 div.sk-item {position: relative;z-index: 1;}#sk-container-id-1 div.sk-parallel {display: flex;align-items: stretch;justify-content: center;background-color: white;position: relative;}#sk-container-id-1 div.sk-item::before, #sk-container-id-1 div.sk-parallel-item::before {content: \"\";position: absolute;border-left: 1px solid gray;box-sizing: border-box;top: 0;bottom: 0;left: 50%;z-index: -1;}#sk-container-id-1 div.sk-parallel-item {display: flex;flex-direction: column;z-index: 1;position: relative;background-color: white;}#sk-container-id-1 div.sk-parallel-item:first-child::after {align-self: flex-end;width: 50%;}#sk-container-id-1 div.sk-parallel-item:last-child::after {align-self: flex-start;width: 50%;}#sk-container-id-1 div.sk-parallel-item:only-child::after {width: 0;}#sk-container-id-1 div.sk-dashed-wrapped {border: 1px dashed gray;margin: 0 0.4em 0.5em 0.4em;box-sizing: border-box;padding-bottom: 0.4em;background-color: white;}#sk-container-id-1 div.sk-label label {font-family: monospace;font-weight: bold;display: inline-block;line-height: 1.2em;}#sk-container-id-1 div.sk-label-container {text-align: center;}#sk-container-id-1 div.sk-container {/* jupyter's `normalize.less` sets `[hidden] { display: none; }` but bootstrap.min.css set `[hidden] { display: none !important; }` so we also need the `!important` here to be able to override the default hidden behavior on the sphinx rendered scikit-learn.org. See: https://github.com/scikit-learn/scikit-learn/issues/21755 */display: inline-block !important;position: relative;}#sk-container-id-1 div.sk-text-repr-fallback {display: none;}</style><div id=\"sk-container-id-1\" class=\"sk-top-container\"><div class=\"sk-text-repr-fallback\"><pre>GaussianMixture(n_components=10)</pre><b>In a Jupyter environment, please rerun this cell to show the HTML representation or trust the notebook. <br />On GitHub, the HTML representation is unable to render, please try loading this page with nbviewer.org.</b></div><div class=\"sk-container\" hidden><div class=\"sk-item\"><div class=\"sk-estimator sk-toggleable\"><input class=\"sk-toggleable__control sk-hidden--visually\" id=\"sk-estimator-id-1\" type=\"checkbox\" checked><label for=\"sk-estimator-id-1\" class=\"sk-toggleable__label sk-toggleable__label-arrow\">GaussianMixture</label><div class=\"sk-toggleable__content\"><pre>GaussianMixture(n_components=10)</pre></div></div></div></div></div>"
     },
     "execution_count": 22,
     "metadata": {},
     "output_type": "execute_result"
    }
   ],
   "source": [
    "gm.fit(testMu.detach().cpu())"
   ],
   "metadata": {
    "collapsed": false
   }
  },
  {
   "cell_type": "code",
   "execution_count": 23,
   "outputs": [
    {
     "data": {
      "text/plain": "array([[ 7.15132463e+00, -7.12238056e-01, -2.92221215e+00,\n         6.13318557e-01, -5.44238383e-01,  7.76435800e+00,\n         4.69089164e+00,  5.18205137e+00, -2.23015837e+00,\n         2.47707280e+00,  1.01401525e-01, -1.43885065e+00,\n        -3.41118978e+00, -4.51757784e-01,  1.34928019e+00,\n        -4.22867755e-02,  1.55901429e+00,  1.65287173e+00,\n        -9.19230563e-01, -6.69156110e-01,  2.51598556e+00,\n         8.00572273e-02, -9.68093843e-01, -2.81860967e-01,\n        -1.84898162e+00, -1.00449900e+00,  2.89582116e+00,\n        -2.60291953e+00, -2.29162927e-01,  4.20732192e+00,\n        -3.16015141e-01,  1.09629397e+00,  9.60188756e+00,\n        -3.96340010e+00, -6.64579518e-02, -5.57171757e-01,\n         1.05004994e+00, -1.73643032e+00, -5.41676591e+00,\n         2.30947069e+00,  9.57693091e-01,  5.05044577e-03,\n        -2.21618843e+00,  3.33858120e-01,  2.39755895e+00,\n         2.87443453e+00, -3.81556784e-01,  5.25245734e+00,\n        -3.63691764e+00, -2.10583743e+00, -9.87353160e-01,\n        -6.58638136e-01, -7.89397605e-01, -8.23809432e-01,\n        -2.98543791e+00, -2.84387311e-01, -2.38178006e+00,\n        -8.34229363e-01,  5.01185911e+00,  1.29517540e+00,\n         2.65250338e-01, -3.97624589e+00,  2.38778956e+00,\n         1.48335402e+00],\n       [ 3.79379459e+00,  1.09816038e+00, -3.59443983e+00,\n        -2.84422938e+00,  3.23486557e+00,  2.34332902e+00,\n        -5.37556008e+00, -3.54553240e+00, -5.22019727e-01,\n         1.04575815e+01,  1.78801576e+00,  3.52598437e-01,\n        -1.51301539e+00,  3.34395851e+00,  2.86595903e+00,\n        -2.91130179e-01,  2.51401458e-01,  6.34939749e+00,\n         1.30018197e+00, -6.05051047e-01,  8.26814380e-02,\n         1.67500423e+00,  4.25289586e-01, -3.98289071e+00,\n        -1.83197755e+00,  1.83866349e+00,  2.31094240e+00,\n         1.51894238e+00,  2.19771866e+00, -4.31611363e+00,\n         1.66434964e+00, -3.87697662e-01,  3.86814391e-01,\n        -4.22659302e-01,  2.19394625e+00,  1.58768763e+00,\n        -1.17593852e+00, -8.33170334e-01, -1.26994014e+00,\n         5.13246358e+00, -7.42326736e-01,  2.69609077e+00,\n        -2.93299642e+00,  2.13864818e+00, -6.58177949e+00,\n         5.82907184e+00, -6.24646397e-01,  1.69354308e+00,\n        -6.79306594e-01,  2.43741624e+00, -3.05318245e+00,\n        -7.96201199e-01,  3.96197294e+00,  3.31197988e+00,\n         1.70591465e+00, -3.43417617e+00,  5.28872235e+00,\n        -3.20527273e+00,  6.26377916e-01, -1.07876313e-01,\n         5.17098977e+00,  7.95968184e-01, -2.49270169e+00,\n        -1.55905136e+00],\n       [ 5.35861695e-01, -5.56511569e+00, -3.70528708e+00,\n         6.28676024e+00, -2.98128206e+00, -1.67380628e+00,\n         3.39530793e+00,  2.00697251e+00,  2.89452817e-02,\n        -9.47152874e+00, -2.30591835e+00,  3.31298655e+00,\n        -1.31801181e+00,  1.17370584e+00,  1.43099606e+00,\n         4.32926288e+00,  6.51655891e-01, -1.11279036e+00,\n        -4.17544557e+00,  6.52813206e+00,  3.67465967e+00,\n         2.05901808e-01, -3.24476255e+00, -1.82902174e+00,\n        -1.80477133e+00,  5.21076514e+00, -8.58735934e-01,\n        -3.61749627e+00,  7.80391287e-01,  2.73704662e-01,\n         2.05586894e+00,  2.84703397e+00, -6.22252530e-01,\n         2.39381380e+00, -3.98463025e+00,  7.82047530e+00,\n         2.61256522e+00, -2.52711094e+00,  3.12809849e+00,\n         6.30806229e-01, -2.66958570e+00,  4.38664177e-01,\n        -2.07570590e+00, -8.72000220e-01, -3.93901055e+00,\n        -6.12400835e-02,  1.70822370e-01,  1.09976837e+00,\n         6.84661527e+00, -3.61976524e+00,  1.97918451e+00,\n        -1.32497979e+00, -1.59119023e+00,  2.46882972e+00,\n         2.93904564e+00,  1.55708862e+00,  2.16792315e+00,\n         1.53390948e+00,  2.39034763e+00, -2.64160689e+00,\n        -3.73202992e+00,  1.23824374e+00,  7.31288537e-02,\n        -5.95181433e-01],\n       [ 3.45978291e+00, -1.37201021e+00, -1.97762131e-02,\n        -4.02534008e+00, -3.71450156e+00,  5.14502677e+00,\n         2.58165370e+00,  2.24673429e+00, -4.48937141e-01,\n        -6.44689377e+00,  2.88056720e+00,  4.01741961e-01,\n        -3.17904280e+00,  4.25700558e+00,  2.09340455e+00,\n         1.06912721e+00, -1.55967836e+00,  8.60414890e-01,\n        -1.34265420e-01,  5.42881155e-01, -1.31997169e+00,\n         1.02750235e+00,  1.58866306e+00, -5.47147288e-01,\n        -2.00174597e+00,  2.11489678e+00, -4.29057148e+00,\n        -1.22002171e+00,  7.01426098e-01,  5.67836533e+00,\n        -2.17951036e+00, -3.35720583e+00,  4.43212892e+00,\n         9.86298949e-01, -1.55123124e+00, -1.46771565e+00,\n        -1.12631250e+00,  3.66563192e+00, -3.93278780e+00,\n         2.38985111e+00,  4.35947089e+00,  2.19709743e+00,\n        -1.45368897e+00,  1.76815496e-01, -3.92766255e+00,\n         1.37835410e+00, -1.23035900e+00, -3.25268269e+00,\n         4.07249012e+00,  3.20806599e+00, -1.83617536e+00,\n         2.67816441e+00,  1.55857071e+00,  9.30616971e-01,\n        -4.85316408e+00,  1.25731238e+00, -1.99168817e+00,\n         3.35002346e+00,  5.18704140e+00, -4.18968916e-01,\n        -5.98853067e-02,  1.75089641e+00, -7.47549126e-01,\n         1.50159914e+00],\n       [ 2.26930167e+00,  1.98096871e-02, -2.86236544e+00,\n         5.62234923e-01,  1.08205139e+00, -4.56405563e+00,\n        -2.05225154e+00, -2.98818112e-01, -1.99490911e+00,\n        -3.24727082e+00,  1.58946262e+00, -6.39507591e+00,\n        -1.54989945e+00, -1.21595483e+00,  1.95589991e+00,\n        -1.21035188e+00,  1.18078802e-01, -5.23424041e-03,\n         3.34992667e+00, -3.27490579e+00, -4.79970436e+00,\n         8.20532827e-01, -4.56049987e+00,  4.98016205e-01,\n         1.96494091e+00, -2.89344506e+00,  8.14303492e-01,\n         2.20729388e+00, -1.56053725e-01, -2.25338730e+00,\n        -2.23786064e+00, -4.28613553e+00,  2.74449141e+00,\n        -1.53018205e-01, -5.28478099e-01,  1.67647358e+00,\n        -6.48373673e+00,  2.65970309e+00, -1.83115148e+00,\n        -3.73033410e+00,  2.19311514e+00, -9.10422429e-01,\n        -1.31004392e+00,  1.42037921e+00, -1.78282823e+00,\n         3.18307705e-01,  4.28111996e-01, -2.46915526e+00,\n         2.20214592e-02,  6.85375477e-02, -2.79462261e+00,\n        -3.26419418e+00,  6.95401429e+00, -2.37648951e+00,\n        -4.45742924e-01, -3.18430786e+00,  3.44232020e+00,\n        -4.60639764e+00, -3.51016833e+00, -1.84154866e+00,\n        -1.17487924e+00, -2.47789205e+00, -1.60253081e+00,\n         5.20463986e-01],\n       [ 2.67869261e-01,  1.82345474e+00, -2.03534820e+00,\n         4.12623777e+00,  3.51527981e+00, -3.82473498e+00,\n        -3.37014533e+00,  1.93531573e+00,  3.25596954e+00,\n        -5.82538283e-01, -3.87689757e+00,  8.99926662e-01,\n         2.36549163e+00,  1.27507771e+00,  9.06273582e-01,\n        -3.05523709e+00,  2.50056817e+00,  7.67957438e-01,\n        -1.32375784e+00,  1.24673548e+00,  1.46256039e+00,\n        -4.10860225e+00,  2.36542857e+00, -3.17253446e-01,\n         3.45865952e-01,  3.73039711e+00,  1.55723704e+00,\n        -2.82805621e+00, -1.94291409e+00,  1.22275640e+00,\n         1.66009251e+00,  3.58886455e+00, -4.98033065e+00,\n        -2.88784944e+00,  1.41795801e+00, -4.73002759e+00,\n        -6.12520586e-01, -2.49435363e+00,  1.48851098e+00,\n        -9.40450470e-01, -2.72730391e+00,  1.01115347e+00,\n         7.51250462e+00,  1.02566730e+00, -1.00331299e+00,\n         8.24902392e-02, -1.19720880e+00,  2.10238494e-01,\n        -1.03041014e+00, -1.99629168e+00,  9.89507838e-01,\n        -2.32036291e+00, -3.24533962e+00,  3.57753735e-01,\n         5.67034949e-01, -1.17802563e+00,  3.58419527e-01,\n        -3.03052484e-01,  6.69474771e-01,  2.25017134e+00,\n        -3.34344527e-03,  2.17194143e+00,  4.75521437e-01,\n         2.19730355e-01],\n       [-5.31984188e+00,  1.01452306e+00,  6.09230476e+00,\n         3.49536085e+00,  2.63354217e+00,  2.45048447e+00,\n         5.49296876e-01, -1.51935798e-01,  1.94077364e+00,\n        -4.84196067e+00,  3.12571485e+00,  6.44057592e+00,\n        -2.09902763e+00,  2.16377325e+00, -3.59423314e+00,\n        -1.80407433e+00,  7.57100051e-01,  4.12184206e+00,\n         3.34263040e+00, -3.44499340e-01, -2.60615879e+00,\n         2.26591814e+00,  3.77993656e+00, -1.93520700e+00,\n        -5.26041896e-01,  1.74902270e+00, -4.20442553e+00,\n         4.61541197e+00,  2.36601779e-01,  2.25175325e+00,\n        -2.99293485e+00,  6.50115724e-02, -7.99323721e-01,\n         3.97592983e+00,  6.62405905e-01,  2.50541385e-01,\n         3.82785444e+00,  2.60382842e+00,  4.33017518e+00,\n         1.07960360e+00,  2.85092412e+00,  3.08575620e+00,\n        -2.50858761e+00, -3.56425965e+00, -1.75791726e+00,\n        -5.55208558e+00, -5.13204818e-01, -4.32575970e+00,\n         8.60450371e-01,  6.40450266e-01,  5.49601782e-01,\n         4.37524556e+00,  1.05720855e+00,  1.41444381e-01,\n         6.17084006e-02,  4.23768592e+00,  7.54952320e-01,\n         3.01778511e+00, -1.29335861e+00,  1.41360806e+00,\n        -2.43576124e+00,  3.68569420e+00, -1.24766331e+00,\n        -4.88951473e+00],\n       [ 2.62731768e+00,  3.36583242e+00, -1.08985074e+00,\n        -6.62364871e+00, -3.52325872e+00, -1.04574650e+01,\n        -7.41665789e+00, -4.75166171e+00, -2.20665663e+00,\n         4.29921320e+00,  3.55883699e-01, -1.51347052e+00,\n        -8.73860853e-01,  2.92823770e+00,  5.20438306e+00,\n        -5.43767085e-01, -6.65652065e-01,  1.92054614e-01,\n         1.71378019e+00, -3.93489089e-02,  3.04538143e+00,\n        -1.96141796e+00, -1.29016315e-01,  6.39470988e-01,\n        -3.39954079e+00, -6.73453821e+00,  1.72018755e+00,\n         1.08900031e+00, -3.30320805e+00, -1.62987835e+00,\n        -1.53714964e+00, -4.65222347e+00, -2.09805107e+00,\n         1.21298696e+00,  1.23735556e+00, -1.57399886e+00,\n        -1.64752831e+00,  6.00105712e-01,  2.80585583e-01,\n         2.20404858e+00,  4.50490285e+00, -1.28300638e+00,\n         4.16211722e-01,  2.87545135e+00, -6.45961064e+00,\n         6.46616498e+00,  1.20499864e+00, -2.43929897e+00,\n         1.61033790e+00,  2.77859012e+00,  3.78733041e-01,\n         2.03885888e-01, -9.07899071e-01,  3.38258112e+00,\n         1.37642761e+00,  2.21480599e+00,  1.20137972e+00,\n        -2.81049892e+00, -6.34382472e-01, -4.44745663e+00,\n         1.41412616e+00,  3.57796301e+00, -3.70947984e-01,\n        -2.46965672e+00],\n       [ 3.68838146e+00,  7.48086466e-01, -1.29239769e+00,\n        -2.10243979e+00, -2.69681494e-01,  5.62563962e+00,\n         2.80887534e+00, -4.28659941e+00, -4.12126764e+00,\n         7.32635709e+00, -2.35360108e+00, -2.66793770e+00,\n         1.70679924e+00,  2.72643931e-01, -3.23125989e+00,\n         8.78031916e-01, -8.01023941e-03, -3.57227377e+00,\n        -3.07436806e+00,  2.67201159e+00,  3.15749564e+00,\n         1.33060387e+00, -2.33181357e+00,  4.70856765e+00,\n        -1.62330843e+00, -3.55952165e+00,  4.02522827e+00,\n         6.80170826e-02,  1.50242995e+00,  2.53793210e+00,\n         9.31044257e-01, -1.22018707e+00,  1.45374778e+00,\n         2.36508794e+00,  9.23587437e-01, -9.00526135e-01,\n        -2.43196960e+00, -2.62157348e+00,  1.28830334e+00,\n        -1.67904056e+00, -3.24893738e+00, -1.96841380e+00,\n         4.42351299e-01, -1.08183008e-01,  5.62601380e+00,\n        -6.60005155e-01, -1.04223311e+00,  5.82664925e+00,\n        -4.03549641e+00,  4.34718671e-01, -4.86709980e+00,\n        -3.03663038e+00, -3.47904086e+00, -1.00278098e+00,\n         4.47355401e-01, -4.15471386e-01, -3.23758361e+00,\n        -1.65444434e+00, -4.92087693e+00, -1.74479082e+00,\n         1.58343199e+00, -9.76650816e-02,  2.56855225e-01,\n        -1.69139016e+00],\n       [-7.67261638e+00, -2.13586402e-02,  4.21775804e+00,\n         3.68614548e+00,  3.71732043e+00, -4.62861869e+00,\n         1.44525921e+00, -8.76671651e-01,  1.66681426e+00,\n        -3.72909625e+00, -1.09344288e-01, -6.25810497e-01,\n         1.05818682e+00, -1.99508559e+00, -2.89235849e+00,\n        -1.60276039e+00,  1.63463751e+00, -2.87777871e+00,\n         2.12657734e+00, -2.00171961e-01, -1.48031700e+00,\n         5.78542330e-01,  4.22642048e+00,  6.78454696e+00,\n         6.30745161e-01, -3.39779604e+00,  2.80044083e+00,\n         1.37857099e+00, -9.07191144e-02,  3.98281518e-01,\n        -1.18164894e+00,  1.78359668e+00, -1.81083637e+00,\n         7.60999253e-01, -6.95059579e-01,  1.31068883e+00,\n         1.90523233e-01, -2.46048767e+00,  2.51704780e+00,\n        -4.25344226e+00, -3.63771279e+00, -1.91277502e+00,\n         1.69455784e+00, -2.87862667e+00,  3.74528183e+00,\n        -9.50434289e+00,  2.50331666e+00,  1.37488756e+00,\n        -3.28732380e+00, -3.61553775e+00,  1.59443469e+00,\n        -1.18409247e+00, -4.04289467e+00, -2.75064464e+00,\n        -1.81795409e+00,  9.33203500e-01, -1.98165229e-01,\n        -1.07684833e+00, -6.97456892e+00, -3.22515878e+00,\n        -2.04048819e+00, -2.48005868e+00,  1.45386782e+00,\n         1.09044431e+00]])"
     },
     "execution_count": 23,
     "metadata": {},
     "output_type": "execute_result"
    }
   ],
   "source": [
    "gm.means_"
   ],
   "metadata": {
    "collapsed": false
   }
  },
  {
   "cell_type": "code",
   "execution_count": 35,
   "outputs": [
    {
     "data": {
      "text/plain": "<matplotlib.image.AxesImage at 0x1709d285fc0>"
     },
     "execution_count": 35,
     "metadata": {},
     "output_type": "execute_result"
    },
    {
     "data": {
      "text/plain": "<Figure size 640x480 with 1 Axes>",
      "image/png": "[encoded data removed]"
     },
     "metadata": {},
     "output_type": "display_data"
    }
   ],
   "source": [
    "gmMeanOutput=model.sample(torch.tensor(gm.means_[0],dtype=torch.float32).cuda())\n",
    "plt.imshow(gmMeanOutput.cpu().detach().view(28, 28), cmap='Greys')"
   ],
   "metadata": {
    "collapsed": false
   }
  },
  {
   "cell_type": "code",
   "execution_count": 36,
   "outputs": [
    {
     "data": {
      "text/plain": "<matplotlib.image.AxesImage at 0x1709d2e6b90>"
     },
     "execution_count": 36,
     "metadata": {},
     "output_type": "execute_result"
    },
    {
     "data": {
      "text/plain": "<Figure size 640x480 with 1 Axes>",
      "image/png": "[encoded data removed]"
     },
     "metadata": {},
     "output_type": "display_data"
    }
   ],
   "source": [
    "gmMeanOutput=model.sample(torch.tensor(gm.means_[1],dtype=torch.float32).cuda())\n",
    "plt.imshow(gmMeanOutput.cpu().detach().view(28, 28), cmap='Greys')"
   ],
   "metadata": {
    "collapsed": false
   }
  },
  {
   "cell_type": "code",
   "execution_count": 37,
   "outputs": [
    {
     "data": {
      "text/plain": "<matplotlib.image.AxesImage at 0x1709d36fd90>"
     },
     "execution_count": 37,
     "metadata": {},
     "output_type": "execute_result"
    },
    {
     "data": {
      "text/plain": "<Figure size 640x480 with 1 Axes>",
      "image/png": "[encoded data removed]"
     },
     "metadata": {},
     "output_type": "display_data"
    }
   ],
   "source": [
    "gmMeanOutput=model.sample(torch.tensor(gm.means_[2],dtype=torch.float32).cuda())\n",
    "plt.imshow(gmMeanOutput.cpu().detach().view(28, 28), cmap='Greys')"
   ],
   "metadata": {
    "collapsed": false
   }
  },
  {
   "cell_type": "markdown",
   "source": [
    "## KLD and L1"
   ],
   "metadata": {
    "collapsed": false
   }
  },
  {
   "cell_type": "code",
   "execution_count": 39,
   "outputs": [],
   "source": [
    "model = vae.to('cuda')\n",
    "optimizer = optim.Adadelta(model.parameters(), lr=1e1)\n",
    "scheduler = ReduceLROnPlateau(optimizer, factor=0.1, patience=5, verbose=False, threshold=1e-3)"
   ],
   "metadata": {
    "collapsed": false
   }
  },
  {
   "cell_type": "code",
   "execution_count": 40,
   "outputs": [],
   "source": [
    "def train(model, train_loader, optimizer, epoch):\n",
    "    model.train()\n",
    "    allLoss = []\n",
    "    allReconLoss = []\n",
    "    with tqdm(train_loader, unit='batch') as tEpoch:\n",
    "        for data, _ in tEpoch:\n",
    "            data = data.to('cuda').view(-1, 28 * 28)\n",
    "            optimizer.zero_grad()\n",
    "            output, mu, log_var = model(data)\n",
    "            reconLoss = L1Loss(output, data)\n",
    "            loss = reconLoss + KLD(mu, log_var)\n",
    "            loss.backward()\n",
    "            optimizer.step()\n",
    "            allLoss.append(loss.item())\n",
    "            allReconLoss.append(reconLoss.item())\n",
    "            tEpoch.set_postfix_str(' Epoch: {} \\tTotal Loss: {:.6f}\\tReconstruction Loss: {:.6f}\\t lr: {:.8f}'.format(\n",
    "                epoch, loss.item(), reconLoss.item(), optimizer.param_groups[0]['lr']))\n",
    "    return allLoss, allReconLoss"
   ],
   "metadata": {
    "collapsed": false
   }
  },
  {
   "cell_type": "code",
   "execution_count": 41,
   "outputs": [
    {
     "name": "stderr",
     "output_type": "stream",
     "text": [
      "100%|██████████| 59/59 [00:04<00:00, 12.60batch/s,  Epoch: 1 \tTotal Loss: 0.135925\tReconstruction Loss: 0.135921\t lr: 10.00000000]\n",
      "100%|██████████| 59/59 [00:04<00:00, 12.68batch/s,  Epoch: 2 \tTotal Loss: 0.128449\tReconstruction Loss: 0.128042\t lr: 10.00000000]\n",
      "100%|██████████| 59/59 [00:04<00:00, 13.65batch/s,  Epoch: 3 \tTotal Loss: 0.127404\tReconstruction Loss: 0.126174\t lr: 10.00000000]\n",
      "100%|██████████| 59/59 [00:04<00:00, 12.96batch/s,  Epoch: 4 \tTotal Loss: 0.131754\tReconstruction Loss: 0.129746\t lr: 10.00000000]\n",
      "100%|██████████| 59/59 [00:04<00:00, 12.93batch/s,  Epoch: 5 \tTotal Loss: 0.127663\tReconstruction Loss: 0.124872\t lr: 10.00000000]\n",
      "100%|██████████| 59/59 [00:04<00:00, 12.27batch/s,  Epoch: 6 \tTotal Loss: 0.127666\tReconstruction Loss: 0.124116\t lr: 10.00000000]\n",
      "100%|██████████| 59/59 [00:04<00:00, 12.03batch/s,  Epoch: 7 \tTotal Loss: 0.129088\tReconstruction Loss: 0.124771\t lr: 10.00000000]\n",
      "100%|██████████| 59/59 [00:04<00:00, 13.11batch/s,  Epoch: 8 \tTotal Loss: 0.130822\tReconstruction Loss: 0.125752\t lr: 10.00000000]\n",
      "100%|██████████| 59/59 [00:04<00:00, 12.99batch/s,  Epoch: 9 \tTotal Loss: 0.131843\tReconstruction Loss: 0.126013\t lr: 10.00000000]\n",
      "100%|██████████| 59/59 [00:04<00:00, 12.68batch/s,  Epoch: 10 \tTotal Loss: 0.133543\tReconstruction Loss: 0.126953\t lr: 10.00000000]\n",
      "100%|██████████| 59/59 [00:04<00:00, 12.02batch/s,  Epoch: 11 \tTotal Loss: 0.133442\tReconstruction Loss: 0.126093\t lr: 10.00000000]\n",
      "100%|██████████| 59/59 [00:04<00:00, 12.66batch/s,  Epoch: 12 \tTotal Loss: 0.135029\tReconstruction Loss: 0.126938\t lr: 10.00000000]\n",
      "100%|██████████| 59/59 [00:04<00:00, 12.15batch/s,  Epoch: 13 \tTotal Loss: 0.134669\tReconstruction Loss: 0.125812\t lr: 10.00000000]\n",
      "100%|██████████| 59/59 [00:04<00:00, 12.06batch/s,  Epoch: 14 \tTotal Loss: 0.132120\tReconstruction Loss: 0.122519\t lr: 10.00000000]\n",
      "100%|██████████| 59/59 [00:04<00:00, 12.95batch/s,  Epoch: 15 \tTotal Loss: 0.136700\tReconstruction Loss: 0.126351\t lr: 10.00000000]\n",
      "100%|██████████| 59/59 [00:04<00:00, 12.72batch/s,  Epoch: 16 \tTotal Loss: 0.137856\tReconstruction Loss: 0.126769\t lr: 10.00000000]\n",
      "100%|██████████| 59/59 [00:04<00:00, 12.50batch/s,  Epoch: 17 \tTotal Loss: 0.133930\tReconstruction Loss: 0.122080\t lr: 10.00000000]\n",
      "100%|██████████| 59/59 [00:04<00:00, 12.77batch/s,  Epoch: 18 \tTotal Loss: 0.136056\tReconstruction Loss: 0.123462\t lr: 10.00000000]\n",
      "100%|██████████| 59/59 [00:04<00:00, 12.85batch/s,  Epoch: 19 \tTotal Loss: 0.136432\tReconstruction Loss: 0.123086\t lr: 10.00000000]\n",
      "100%|██████████| 59/59 [00:04<00:00, 12.81batch/s,  Epoch: 20 \tTotal Loss: 0.137019\tReconstruction Loss: 0.122933\t lr: 10.00000000]\n",
      "100%|██████████| 59/59 [00:04<00:00, 12.76batch/s,  Epoch: 21 \tTotal Loss: 0.141887\tReconstruction Loss: 0.127041\t lr: 10.00000000]\n",
      "100%|██████████| 59/59 [00:04<00:00, 12.79batch/s,  Epoch: 22 \tTotal Loss: 0.140092\tReconstruction Loss: 0.124498\t lr: 10.00000000]\n",
      "100%|██████████| 59/59 [00:04<00:00, 12.59batch/s,  Epoch: 23 \tTotal Loss: 0.139838\tReconstruction Loss: 0.123507\t lr: 10.00000000]\n",
      "100%|██████████| 59/59 [00:04<00:00, 12.59batch/s,  Epoch: 24 \tTotal Loss: 0.124281\tReconstruction Loss: 0.124281\t lr: 1.00000000]\n",
      "100%|██████████| 59/59 [00:04<00:00, 13.38batch/s,  Epoch: 25 \tTotal Loss: 0.122584\tReconstruction Loss: 0.122583\t lr: 1.00000000]\n",
      "100%|██████████| 59/59 [00:04<00:00, 13.07batch/s,  Epoch: 26 \tTotal Loss: 0.125509\tReconstruction Loss: 0.125509\t lr: 1.00000000]\n",
      "100%|██████████| 59/59 [00:04<00:00, 12.56batch/s,  Epoch: 27 \tTotal Loss: 0.127652\tReconstruction Loss: 0.127652\t lr: 1.00000000]\n",
      "100%|██████████| 59/59 [00:04<00:00, 12.64batch/s,  Epoch: 28 \tTotal Loss: 0.122324\tReconstruction Loss: 0.122324\t lr: 1.00000000]\n",
      "100%|██████████| 59/59 [00:04<00:00, 12.67batch/s,  Epoch: 29 \tTotal Loss: 0.121859\tReconstruction Loss: 0.121859\t lr: 1.00000000]\n",
      "100%|██████████| 59/59 [00:04<00:00, 12.96batch/s,  Epoch: 30 \tTotal Loss: 0.124296\tReconstruction Loss: 0.124296\t lr: 0.10000000]\n",
      "100%|██████████| 59/59 [00:04<00:00, 12.18batch/s,  Epoch: 31 \tTotal Loss: 0.123872\tReconstruction Loss: 0.123872\t lr: 0.10000000]\n",
      "100%|██████████| 59/59 [00:04<00:00, 12.05batch/s,  Epoch: 32 \tTotal Loss: 0.126774\tReconstruction Loss: 0.126774\t lr: 0.10000000]\n",
      "100%|██████████| 59/59 [00:04<00:00, 11.99batch/s,  Epoch: 33 \tTotal Loss: 0.127110\tReconstruction Loss: 0.127110\t lr: 0.10000000]\n",
      "100%|██████████| 59/59 [00:04<00:00, 12.18batch/s,  Epoch: 34 \tTotal Loss: 0.123527\tReconstruction Loss: 0.123527\t lr: 0.10000000]\n",
      "100%|██████████| 59/59 [00:04<00:00, 12.74batch/s,  Epoch: 35 \tTotal Loss: 0.123350\tReconstruction Loss: 0.123350\t lr: 0.10000000]\n",
      "100%|██████████| 59/59 [00:04<00:00, 12.63batch/s,  Epoch: 36 \tTotal Loss: 0.125453\tReconstruction Loss: 0.125453\t lr: 0.01000000]\n",
      "100%|██████████| 59/59 [00:04<00:00, 13.20batch/s,  Epoch: 37 \tTotal Loss: 0.125401\tReconstruction Loss: 0.125401\t lr: 0.01000000]\n",
      "100%|██████████| 59/59 [00:04<00:00, 12.60batch/s,  Epoch: 38 \tTotal Loss: 0.122911\tReconstruction Loss: 0.122911\t lr: 0.01000000]\n",
      "100%|██████████| 59/59 [00:04<00:00, 12.95batch/s,  Epoch: 39 \tTotal Loss: 0.122966\tReconstruction Loss: 0.122966\t lr: 0.01000000]\n",
      "100%|██████████| 59/59 [00:04<00:00, 12.33batch/s,  Epoch: 40 \tTotal Loss: 0.121190\tReconstruction Loss: 0.121190\t lr: 0.01000000]\n",
      "100%|██████████| 59/59 [00:04<00:00, 12.71batch/s,  Epoch: 41 \tTotal Loss: 0.124879\tReconstruction Loss: 0.124879\t lr: 0.01000000]\n",
      "100%|██████████| 59/59 [00:04<00:00, 12.00batch/s,  Epoch: 42 \tTotal Loss: 0.125773\tReconstruction Loss: 0.125773\t lr: 0.00100000]\n",
      " 69%|██████▉   | 41/59 [00:03<00:01, 13.40batch/s,  Epoch: 43 \tTotal Loss: 0.122722\tReconstruction Loss: 0.122722\t lr: 0.00100000]\n"
     ]
    },
    {
     "ename": "KeyboardInterrupt",
     "evalue": "",
     "output_type": "error",
     "traceback": [
      "\u001B[1;31m---------------------------------------------------------------------------\u001B[0m",
      "\u001B[1;31mKeyboardInterrupt\u001B[0m                         Traceback (most recent call last)",
      "Cell \u001B[1;32mIn [41], line 2\u001B[0m\n\u001B[0;32m      1\u001B[0m \u001B[38;5;28;01mfor\u001B[39;00m epoch \u001B[38;5;129;01min\u001B[39;00m \u001B[38;5;28mrange\u001B[39m(\u001B[38;5;241m1\u001B[39m, \u001B[38;5;241m201\u001B[39m):\n\u001B[1;32m----> 2\u001B[0m     _, loss \u001B[38;5;241m=\u001B[39m \u001B[43mtrain\u001B[49m\u001B[43m(\u001B[49m\u001B[43mmodel\u001B[49m\u001B[43m,\u001B[49m\u001B[43m \u001B[49m\u001B[43mtrain_loader\u001B[49m\u001B[43m,\u001B[49m\u001B[43m \u001B[49m\u001B[43moptimizer\u001B[49m\u001B[43m,\u001B[49m\u001B[43m \u001B[49m\u001B[43mepoch\u001B[49m\u001B[43m)\u001B[49m\n\u001B[0;32m      3\u001B[0m     scheduler\u001B[38;5;241m.\u001B[39mstep(np\u001B[38;5;241m.\u001B[39mmean(loss))\n",
      "Cell \u001B[1;32mIn [40], line 6\u001B[0m, in \u001B[0;36mtrain\u001B[1;34m(model, train_loader, optimizer, epoch)\u001B[0m\n\u001B[0;32m      4\u001B[0m allReconLoss \u001B[38;5;241m=\u001B[39m []\n\u001B[0;32m      5\u001B[0m \u001B[38;5;28;01mwith\u001B[39;00m tqdm(train_loader, unit\u001B[38;5;241m=\u001B[39m\u001B[38;5;124m'\u001B[39m\u001B[38;5;124mbatch\u001B[39m\u001B[38;5;124m'\u001B[39m) \u001B[38;5;28;01mas\u001B[39;00m tEpoch:\n\u001B[1;32m----> 6\u001B[0m     \u001B[38;5;28;01mfor\u001B[39;00m data, _ \u001B[38;5;129;01min\u001B[39;00m tEpoch:\n\u001B[0;32m      7\u001B[0m         data \u001B[38;5;241m=\u001B[39m data\u001B[38;5;241m.\u001B[39mto(\u001B[38;5;124m'\u001B[39m\u001B[38;5;124mcuda\u001B[39m\u001B[38;5;124m'\u001B[39m)\u001B[38;5;241m.\u001B[39mview(\u001B[38;5;241m-\u001B[39m\u001B[38;5;241m1\u001B[39m, \u001B[38;5;241m28\u001B[39m \u001B[38;5;241m*\u001B[39m \u001B[38;5;241m28\u001B[39m)\n\u001B[0;32m      8\u001B[0m         optimizer\u001B[38;5;241m.\u001B[39mzero_grad()\n",
      "File \u001B[1;32mC:\\Python310\\lib\\site-packages\\tqdm\\std.py:1195\u001B[0m, in \u001B[0;36mtqdm.__iter__\u001B[1;34m(self)\u001B[0m\n\u001B[0;32m   1192\u001B[0m time \u001B[38;5;241m=\u001B[39m \u001B[38;5;28mself\u001B[39m\u001B[38;5;241m.\u001B[39m_time\n\u001B[0;32m   1194\u001B[0m \u001B[38;5;28;01mtry\u001B[39;00m:\n\u001B[1;32m-> 1195\u001B[0m     \u001B[38;5;28;01mfor\u001B[39;00m obj \u001B[38;5;129;01min\u001B[39;00m iterable:\n\u001B[0;32m   1196\u001B[0m         \u001B[38;5;28;01myield\u001B[39;00m obj\n\u001B[0;32m   1197\u001B[0m         \u001B[38;5;66;03m# Update and possibly print the progressbar.\u001B[39;00m\n\u001B[0;32m   1198\u001B[0m         \u001B[38;5;66;03m# Note: does not call self.update(1) for speed optimisation.\u001B[39;00m\n",
      "File \u001B[1;32mC:\\Python310\\lib\\site-packages\\torch\\utils\\data\\dataloader.py:681\u001B[0m, in \u001B[0;36m_BaseDataLoaderIter.__next__\u001B[1;34m(self)\u001B[0m\n\u001B[0;32m    678\u001B[0m \u001B[38;5;28;01mif\u001B[39;00m \u001B[38;5;28mself\u001B[39m\u001B[38;5;241m.\u001B[39m_sampler_iter \u001B[38;5;129;01mis\u001B[39;00m \u001B[38;5;28;01mNone\u001B[39;00m:\n\u001B[0;32m    679\u001B[0m     \u001B[38;5;66;03m# TODO(https://github.com/pytorch/pytorch/issues/76750)\u001B[39;00m\n\u001B[0;32m    680\u001B[0m     \u001B[38;5;28mself\u001B[39m\u001B[38;5;241m.\u001B[39m_reset()  \u001B[38;5;66;03m# type: ignore[call-arg]\u001B[39;00m\n\u001B[1;32m--> 681\u001B[0m data \u001B[38;5;241m=\u001B[39m \u001B[38;5;28;43mself\u001B[39;49m\u001B[38;5;241;43m.\u001B[39;49m\u001B[43m_next_data\u001B[49m\u001B[43m(\u001B[49m\u001B[43m)\u001B[49m\n\u001B[0;32m    682\u001B[0m \u001B[38;5;28mself\u001B[39m\u001B[38;5;241m.\u001B[39m_num_yielded \u001B[38;5;241m+\u001B[39m\u001B[38;5;241m=\u001B[39m \u001B[38;5;241m1\u001B[39m\n\u001B[0;32m    683\u001B[0m \u001B[38;5;28;01mif\u001B[39;00m \u001B[38;5;28mself\u001B[39m\u001B[38;5;241m.\u001B[39m_dataset_kind \u001B[38;5;241m==\u001B[39m _DatasetKind\u001B[38;5;241m.\u001B[39mIterable \u001B[38;5;129;01mand\u001B[39;00m \\\n\u001B[0;32m    684\u001B[0m         \u001B[38;5;28mself\u001B[39m\u001B[38;5;241m.\u001B[39m_IterableDataset_len_called \u001B[38;5;129;01mis\u001B[39;00m \u001B[38;5;129;01mnot\u001B[39;00m \u001B[38;5;28;01mNone\u001B[39;00m \u001B[38;5;129;01mand\u001B[39;00m \\\n\u001B[0;32m    685\u001B[0m         \u001B[38;5;28mself\u001B[39m\u001B[38;5;241m.\u001B[39m_num_yielded \u001B[38;5;241m>\u001B[39m \u001B[38;5;28mself\u001B[39m\u001B[38;5;241m.\u001B[39m_IterableDataset_len_called:\n",
      "File \u001B[1;32mC:\\Python310\\lib\\site-packages\\torch\\utils\\data\\dataloader.py:721\u001B[0m, in \u001B[0;36m_SingleProcessDataLoaderIter._next_data\u001B[1;34m(self)\u001B[0m\n\u001B[0;32m    719\u001B[0m \u001B[38;5;28;01mdef\u001B[39;00m \u001B[38;5;21m_next_data\u001B[39m(\u001B[38;5;28mself\u001B[39m):\n\u001B[0;32m    720\u001B[0m     index \u001B[38;5;241m=\u001B[39m \u001B[38;5;28mself\u001B[39m\u001B[38;5;241m.\u001B[39m_next_index()  \u001B[38;5;66;03m# may raise StopIteration\u001B[39;00m\n\u001B[1;32m--> 721\u001B[0m     data \u001B[38;5;241m=\u001B[39m \u001B[38;5;28;43mself\u001B[39;49m\u001B[38;5;241;43m.\u001B[39;49m\u001B[43m_dataset_fetcher\u001B[49m\u001B[38;5;241;43m.\u001B[39;49m\u001B[43mfetch\u001B[49m\u001B[43m(\u001B[49m\u001B[43mindex\u001B[49m\u001B[43m)\u001B[49m  \u001B[38;5;66;03m# may raise StopIteration\u001B[39;00m\n\u001B[0;32m    722\u001B[0m     \u001B[38;5;28;01mif\u001B[39;00m \u001B[38;5;28mself\u001B[39m\u001B[38;5;241m.\u001B[39m_pin_memory:\n\u001B[0;32m    723\u001B[0m         data \u001B[38;5;241m=\u001B[39m _utils\u001B[38;5;241m.\u001B[39mpin_memory\u001B[38;5;241m.\u001B[39mpin_memory(data, \u001B[38;5;28mself\u001B[39m\u001B[38;5;241m.\u001B[39m_pin_memory_device)\n",
      "File \u001B[1;32mC:\\Python310\\lib\\site-packages\\torch\\utils\\data\\_utils\\fetch.py:49\u001B[0m, in \u001B[0;36m_MapDatasetFetcher.fetch\u001B[1;34m(self, possibly_batched_index)\u001B[0m\n\u001B[0;32m     47\u001B[0m \u001B[38;5;28;01mdef\u001B[39;00m \u001B[38;5;21mfetch\u001B[39m(\u001B[38;5;28mself\u001B[39m, possibly_batched_index):\n\u001B[0;32m     48\u001B[0m     \u001B[38;5;28;01mif\u001B[39;00m \u001B[38;5;28mself\u001B[39m\u001B[38;5;241m.\u001B[39mauto_collation:\n\u001B[1;32m---> 49\u001B[0m         data \u001B[38;5;241m=\u001B[39m [\u001B[38;5;28mself\u001B[39m\u001B[38;5;241m.\u001B[39mdataset[idx] \u001B[38;5;28;01mfor\u001B[39;00m idx \u001B[38;5;129;01min\u001B[39;00m possibly_batched_index]\n\u001B[0;32m     50\u001B[0m     \u001B[38;5;28;01melse\u001B[39;00m:\n\u001B[0;32m     51\u001B[0m         data \u001B[38;5;241m=\u001B[39m \u001B[38;5;28mself\u001B[39m\u001B[38;5;241m.\u001B[39mdataset[possibly_batched_index]\n",
      "File \u001B[1;32mC:\\Python310\\lib\\site-packages\\torch\\utils\\data\\_utils\\fetch.py:49\u001B[0m, in \u001B[0;36m<listcomp>\u001B[1;34m(.0)\u001B[0m\n\u001B[0;32m     47\u001B[0m \u001B[38;5;28;01mdef\u001B[39;00m \u001B[38;5;21mfetch\u001B[39m(\u001B[38;5;28mself\u001B[39m, possibly_batched_index):\n\u001B[0;32m     48\u001B[0m     \u001B[38;5;28;01mif\u001B[39;00m \u001B[38;5;28mself\u001B[39m\u001B[38;5;241m.\u001B[39mauto_collation:\n\u001B[1;32m---> 49\u001B[0m         data \u001B[38;5;241m=\u001B[39m [\u001B[38;5;28;43mself\u001B[39;49m\u001B[38;5;241;43m.\u001B[39;49m\u001B[43mdataset\u001B[49m\u001B[43m[\u001B[49m\u001B[43midx\u001B[49m\u001B[43m]\u001B[49m \u001B[38;5;28;01mfor\u001B[39;00m idx \u001B[38;5;129;01min\u001B[39;00m possibly_batched_index]\n\u001B[0;32m     50\u001B[0m     \u001B[38;5;28;01melse\u001B[39;00m:\n\u001B[0;32m     51\u001B[0m         data \u001B[38;5;241m=\u001B[39m \u001B[38;5;28mself\u001B[39m\u001B[38;5;241m.\u001B[39mdataset[possibly_batched_index]\n",
      "File \u001B[1;32mC:\\Python310\\lib\\site-packages\\torchvision\\datasets\\mnist.py:145\u001B[0m, in \u001B[0;36mMNIST.__getitem__\u001B[1;34m(self, index)\u001B[0m\n\u001B[0;32m    142\u001B[0m img \u001B[38;5;241m=\u001B[39m Image\u001B[38;5;241m.\u001B[39mfromarray(img\u001B[38;5;241m.\u001B[39mnumpy(), mode\u001B[38;5;241m=\u001B[39m\u001B[38;5;124m\"\u001B[39m\u001B[38;5;124mL\u001B[39m\u001B[38;5;124m\"\u001B[39m)\n\u001B[0;32m    144\u001B[0m \u001B[38;5;28;01mif\u001B[39;00m \u001B[38;5;28mself\u001B[39m\u001B[38;5;241m.\u001B[39mtransform \u001B[38;5;129;01mis\u001B[39;00m \u001B[38;5;129;01mnot\u001B[39;00m \u001B[38;5;28;01mNone\u001B[39;00m:\n\u001B[1;32m--> 145\u001B[0m     img \u001B[38;5;241m=\u001B[39m \u001B[38;5;28;43mself\u001B[39;49m\u001B[38;5;241;43m.\u001B[39;49m\u001B[43mtransform\u001B[49m\u001B[43m(\u001B[49m\u001B[43mimg\u001B[49m\u001B[43m)\u001B[49m\n\u001B[0;32m    147\u001B[0m \u001B[38;5;28;01mif\u001B[39;00m \u001B[38;5;28mself\u001B[39m\u001B[38;5;241m.\u001B[39mtarget_transform \u001B[38;5;129;01mis\u001B[39;00m \u001B[38;5;129;01mnot\u001B[39;00m \u001B[38;5;28;01mNone\u001B[39;00m:\n\u001B[0;32m    148\u001B[0m     target \u001B[38;5;241m=\u001B[39m \u001B[38;5;28mself\u001B[39m\u001B[38;5;241m.\u001B[39mtarget_transform(target)\n",
      "File \u001B[1;32mC:\\Python310\\lib\\site-packages\\torchvision\\transforms\\transforms.py:94\u001B[0m, in \u001B[0;36mCompose.__call__\u001B[1;34m(self, img)\u001B[0m\n\u001B[0;32m     92\u001B[0m \u001B[38;5;28;01mdef\u001B[39;00m \u001B[38;5;21m__call__\u001B[39m(\u001B[38;5;28mself\u001B[39m, img):\n\u001B[0;32m     93\u001B[0m     \u001B[38;5;28;01mfor\u001B[39;00m t \u001B[38;5;129;01min\u001B[39;00m \u001B[38;5;28mself\u001B[39m\u001B[38;5;241m.\u001B[39mtransforms:\n\u001B[1;32m---> 94\u001B[0m         img \u001B[38;5;241m=\u001B[39m \u001B[43mt\u001B[49m\u001B[43m(\u001B[49m\u001B[43mimg\u001B[49m\u001B[43m)\u001B[49m\n\u001B[0;32m     95\u001B[0m     \u001B[38;5;28;01mreturn\u001B[39;00m img\n",
      "File \u001B[1;32mC:\\Python310\\lib\\site-packages\\torchvision\\transforms\\transforms.py:134\u001B[0m, in \u001B[0;36mToTensor.__call__\u001B[1;34m(self, pic)\u001B[0m\n\u001B[0;32m    126\u001B[0m \u001B[38;5;28;01mdef\u001B[39;00m \u001B[38;5;21m__call__\u001B[39m(\u001B[38;5;28mself\u001B[39m, pic):\n\u001B[0;32m    127\u001B[0m     \u001B[38;5;124;03m\"\"\"\u001B[39;00m\n\u001B[0;32m    128\u001B[0m \u001B[38;5;124;03m    Args:\u001B[39;00m\n\u001B[0;32m    129\u001B[0m \u001B[38;5;124;03m        pic (PIL Image or numpy.ndarray): Image to be converted to tensor.\u001B[39;00m\n\u001B[1;32m   (...)\u001B[0m\n\u001B[0;32m    132\u001B[0m \u001B[38;5;124;03m        Tensor: Converted image.\u001B[39;00m\n\u001B[0;32m    133\u001B[0m \u001B[38;5;124;03m    \"\"\"\u001B[39;00m\n\u001B[1;32m--> 134\u001B[0m     \u001B[38;5;28;01mreturn\u001B[39;00m \u001B[43mF\u001B[49m\u001B[38;5;241;43m.\u001B[39;49m\u001B[43mto_tensor\u001B[49m\u001B[43m(\u001B[49m\u001B[43mpic\u001B[49m\u001B[43m)\u001B[49m\n",
      "File \u001B[1;32mC:\\Python310\\lib\\site-packages\\torchvision\\transforms\\functional.py:172\u001B[0m, in \u001B[0;36mto_tensor\u001B[1;34m(pic)\u001B[0m\n\u001B[0;32m    170\u001B[0m img \u001B[38;5;241m=\u001B[39m img\u001B[38;5;241m.\u001B[39mpermute((\u001B[38;5;241m2\u001B[39m, \u001B[38;5;241m0\u001B[39m, \u001B[38;5;241m1\u001B[39m))\u001B[38;5;241m.\u001B[39mcontiguous()\n\u001B[0;32m    171\u001B[0m \u001B[38;5;28;01mif\u001B[39;00m \u001B[38;5;28misinstance\u001B[39m(img, torch\u001B[38;5;241m.\u001B[39mByteTensor):\n\u001B[1;32m--> 172\u001B[0m     \u001B[38;5;28;01mreturn\u001B[39;00m \u001B[43mimg\u001B[49m\u001B[38;5;241;43m.\u001B[39;49m\u001B[43mto\u001B[49m\u001B[43m(\u001B[49m\u001B[43mdtype\u001B[49m\u001B[38;5;241;43m=\u001B[39;49m\u001B[43mdefault_float_dtype\u001B[49m\u001B[43m)\u001B[49m\u001B[38;5;241;43m.\u001B[39;49m\u001B[43mdiv\u001B[49m\u001B[43m(\u001B[49m\u001B[38;5;241;43m255\u001B[39;49m\u001B[43m)\u001B[49m\n\u001B[0;32m    173\u001B[0m \u001B[38;5;28;01melse\u001B[39;00m:\n\u001B[0;32m    174\u001B[0m     \u001B[38;5;28;01mreturn\u001B[39;00m img\n",
      "\u001B[1;31mKeyboardInterrupt\u001B[0m: "
     ]
    }
   ],
   "source": [
    "for epoch in range(1, 201):\n",
    "    _, loss = train(model, train_loader, optimizer, epoch)\n",
    "    scheduler.step(np.mean(loss))"
   ],
   "metadata": {
    "collapsed": false
   }
  },
  {
   "cell_type": "code",
   "execution_count": 44,
   "outputs": [
    {
     "data": {
      "text/plain": "<matplotlib.image.AxesImage at 0x170a0d071c0>"
     },
     "execution_count": 44,
     "metadata": {},
     "output_type": "execute_result"
    },
    {
     "data": {
      "text/plain": "<Figure size 640x480 with 1 Axes>",
      "image/png": "[encoded data removed]"
     },
     "metadata": {},
     "output_type": "display_data"
    }
   ],
   "source": [
    "z = torch.normal(0, 1, size=(1, 2)).cuda()\n",
    "plt.imshow(model.sample(z).cpu().detach().view(28, 28), cmap='Greys')"
   ],
   "metadata": {
    "collapsed": false
   }
  },
  {
   "cell_type": "code",
   "execution_count": 45,
   "outputs": [],
   "source": [
    "img0 = next(iter(train_loader))[0][0]"
   ],
   "metadata": {
    "collapsed": false
   }
  },
  {
   "cell_type": "code",
   "execution_count": 46,
   "outputs": [
    {
     "data": {
      "text/plain": "<matplotlib.image.AxesImage at 0x170a0ebaad0>"
     },
     "execution_count": 46,
     "metadata": {},
     "output_type": "execute_result"
    },
    {
     "data": {
      "text/plain": "<Figure size 640x480 with 1 Axes>",
      "image/png": "[encoded data removed]"
     },
     "metadata": {},
     "output_type": "display_data"
    }
   ],
   "source": [
    "plt.imshow(img0[0], cmap='Greys')"
   ],
   "metadata": {
    "collapsed": false
   }
  },
  {
   "cell_type": "code",
   "execution_count": 47,
   "outputs": [
    {
     "data": {
      "text/plain": "<matplotlib.image.AxesImage at 0x170a0f45060>"
     },
     "execution_count": 47,
     "metadata": {},
     "output_type": "execute_result"
    },
    {
     "data": {
      "text/plain": "<Figure size 640x480 with 1 Axes>",
      "image/png": "[encoded data removed]"
     },
     "metadata": {},
     "output_type": "display_data"
    }
   ],
   "source": [
    "output, _, _ = model(img0.view(-1, 28 * 28).cuda())\n",
    "plt.imshow(output.cpu().detach().view(28, 28), cmap='Greys')"
   ],
   "metadata": {
    "collapsed": false
   }
  },
  {
   "cell_type": "code",
   "execution_count": null,
   "outputs": [],
   "source": [],
   "metadata": {
    "collapsed": false
   }
  }
 ],
 "metadata": {
  "kernelspec": {
   "display_name": "Python 3",
   "language": "python",
   "name": "python3"
  },
  "language_info": {
   "codemirror_mode": {
    "name": "ipython",
    "version": 2
   },
   "file_extension": ".py",
   "mimetype": "text/x-python",
   "name": "python",
   "nbconvert_exporter": "python",
   "pygments_lexer": "ipython2",
   "version": "2.7.6"
  }
 },
 "nbformat": 4,
 "nbformat_minor": 0
}
