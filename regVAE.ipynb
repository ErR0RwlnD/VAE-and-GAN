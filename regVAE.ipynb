{
 "cells": [
  {
   "cell_type": "code",
   "execution_count": 2,
   "metadata": {
    "collapsed": true
   },
   "outputs": [],
   "source": [
    "import matplotlib.pyplot as plt\n",
    "import numpy as np\n",
    "import torch\n",
    "from sklearn.preprocessing import MinMaxScaler\n",
    "from torch import nn\n",
    "from torch import optim\n",
    "from torch.optim.lr_scheduler import ReduceLROnPlateau\n",
    "from torchvision import datasets, transforms\n",
    "from tqdm import tqdm\n",
    "\n",
    "from src.VAE import LinearVAE"
   ]
  },
  {
   "cell_type": "code",
   "execution_count": 6,
   "outputs": [],
   "source": [
    "encoder0 = nn.Sequential(nn.Linear(28 * 28, 256),\n",
    "                         nn.ReLU(),\n",
    "                         nn.Linear(256, 128),\n",
    "                         nn.ReLU())\n",
    "decoder0 = nn.Sequential(nn.Linear(64, 128),\n",
    "                         nn.ReLU(),\n",
    "                         nn.Linear(128, 256),\n",
    "                         nn.ReLU(),\n",
    "                         nn.Linear(256, 28 * 28),\n",
    "                         nn.Sigmoid())"
   ],
   "metadata": {
    "collapsed": false
   }
  },
  {
   "cell_type": "code",
   "execution_count": 7,
   "outputs": [],
   "source": [
    "def KLD(mu: torch.Tensor, log_var: torch.Tensor):\n",
    "    return -0.5 * torch.mean(1 + log_var - mu.pow(2) - log_var.exp())\n",
    "\n",
    "\n",
    "def BCE(recon: torch.Tensor, X: torch.Tensor):\n",
    "    return nn.functional.binary_cross_entropy(recon, X, reduction='mean')\n",
    "\n",
    "\n",
    "def L1Loss(recon: torch.Tensor, X: torch.Tensor):\n",
    "    return nn.functional.l1_loss(recon, X, reduction='mean')\n",
    "\n",
    "\n",
    "def L2Loss(recon: torch.Tensor, X: torch.Tensor):\n",
    "    return nn.functional.mse_loss(recon, X, reduction='mean')"
   ],
   "metadata": {
    "collapsed": false
   }
  },
  {
   "cell_type": "code",
   "execution_count": 8,
   "outputs": [],
   "source": [
    "transform = transforms.Compose([\n",
    "    transforms.ToTensor()\n",
    "])\n",
    "dataset1 = datasets.MNIST('../data', train=True, download=True,\n",
    "                          transform=transform)\n",
    "dataset2 = datasets.MNIST('../data', train=False,\n",
    "                          transform=transform)\n",
    "train_loader = torch.utils.data.DataLoader(dataset1, batch_size=1024, shuffle=True)\n",
    "test_loader = torch.utils.data.DataLoader(dataset2, batch_size=10000)"
   ],
   "metadata": {
    "collapsed": false
   }
  },
  {
   "cell_type": "markdown",
   "source": [
    "## Only BCE"
   ],
   "metadata": {
    "collapsed": false
   }
  },
  {
   "cell_type": "code",
   "execution_count": 9,
   "outputs": [],
   "source": [
    "model = LinearVAE(encoder0, decoder0, 128, 64).cuda()\n",
    "optimizer = optim.Adadelta(model.parameters(), lr=1e1)\n",
    "scheduler = ReduceLROnPlateau(optimizer, factor=0.1, patience=5, verbose=False, threshold=1e-3)"
   ],
   "metadata": {
    "collapsed": false
   }
  },
  {
   "cell_type": "code",
   "execution_count": 6,
   "outputs": [],
   "source": [
    "def train(model, train_loader, optimizer, epoch):\n",
    "    model.train()\n",
    "    allLoss = []\n",
    "    allReconLoss = []\n",
    "    with tqdm(train_loader, unit='batch') as tEpoch:\n",
    "        for data, _ in tEpoch:\n",
    "            data = data.to('cuda').view(-1, 28 * 28)\n",
    "            optimizer.zero_grad()\n",
    "            output, mu, log_var = model(data)\n",
    "            reconLoss = BCE(output, data)\n",
    "            loss = reconLoss\n",
    "            loss.backward()\n",
    "            optimizer.step()\n",
    "            allLoss.append(loss.item())\n",
    "            allReconLoss.append(reconLoss.item())\n",
    "            tEpoch.set_postfix_str(' Epoch: {} \\tTotal Loss: {:.6f}\\tReconstruction Loss: {:.6f}\\t lr: {:.8f}'.format(\n",
    "                epoch, loss.item(), reconLoss.item(), optimizer.param_groups[0]['lr']))\n",
    "    return allLoss, allReconLoss"
   ],
   "metadata": {
    "collapsed": false
   }
  },
  {
   "cell_type": "code",
   "execution_count": 7,
   "outputs": [
    {
     "name": "stderr",
     "output_type": "stream",
     "text": [
      "100%|██████████| 59/59 [00:05<00:00, 10.25batch/s,  Epoch: 1 \tTotal Loss: 0.256889\tReconstruction Loss: 0.256889\t lr: 10.00000000]\n",
      "100%|██████████| 59/59 [00:04<00:00, 12.18batch/s,  Epoch: 2 \tTotal Loss: 0.253637\tReconstruction Loss: 0.253637\t lr: 10.00000000]\n",
      "100%|██████████| 59/59 [00:05<00:00, 11.43batch/s,  Epoch: 3 \tTotal Loss: 0.238949\tReconstruction Loss: 0.238949\t lr: 10.00000000]\n",
      "100%|██████████| 59/59 [00:04<00:00, 12.18batch/s,  Epoch: 4 \tTotal Loss: 0.236941\tReconstruction Loss: 0.236941\t lr: 10.00000000]\n",
      "100%|██████████| 59/59 [00:05<00:00, 11.79batch/s,  Epoch: 5 \tTotal Loss: 0.230490\tReconstruction Loss: 0.230490\t lr: 10.00000000]\n",
      "100%|██████████| 59/59 [00:04<00:00, 12.55batch/s,  Epoch: 6 \tTotal Loss: 0.230862\tReconstruction Loss: 0.230862\t lr: 10.00000000]\n",
      "100%|██████████| 59/59 [00:05<00:00, 11.52batch/s,  Epoch: 7 \tTotal Loss: 0.219060\tReconstruction Loss: 0.219060\t lr: 10.00000000]\n",
      "100%|██████████| 59/59 [00:04<00:00, 11.88batch/s,  Epoch: 8 \tTotal Loss: 0.216356\tReconstruction Loss: 0.216356\t lr: 10.00000000]\n",
      "100%|██████████| 59/59 [00:04<00:00, 12.15batch/s,  Epoch: 9 \tTotal Loss: 0.203217\tReconstruction Loss: 0.203217\t lr: 10.00000000]\n",
      "100%|██████████| 59/59 [00:04<00:00, 12.10batch/s,  Epoch: 10 \tTotal Loss: 0.198644\tReconstruction Loss: 0.198644\t lr: 10.00000000]\n",
      "100%|██████████| 59/59 [00:04<00:00, 12.31batch/s,  Epoch: 11 \tTotal Loss: 0.197197\tReconstruction Loss: 0.197197\t lr: 10.00000000]\n",
      "100%|██████████| 59/59 [00:05<00:00, 11.45batch/s,  Epoch: 12 \tTotal Loss: 0.178333\tReconstruction Loss: 0.178333\t lr: 10.00000000]\n",
      "100%|██████████| 59/59 [00:04<00:00, 12.20batch/s,  Epoch: 13 \tTotal Loss: 0.185393\tReconstruction Loss: 0.185393\t lr: 10.00000000]\n",
      "100%|██████████| 59/59 [00:05<00:00, 11.20batch/s,  Epoch: 14 \tTotal Loss: 0.172483\tReconstruction Loss: 0.172483\t lr: 10.00000000]\n",
      "100%|██████████| 59/59 [00:04<00:00, 12.07batch/s,  Epoch: 15 \tTotal Loss: 0.167845\tReconstruction Loss: 0.167845\t lr: 10.00000000]\n",
      "100%|██████████| 59/59 [00:04<00:00, 12.44batch/s,  Epoch: 16 \tTotal Loss: 0.162389\tReconstruction Loss: 0.162389\t lr: 10.00000000]\n",
      "100%|██████████| 59/59 [00:05<00:00, 11.75batch/s,  Epoch: 17 \tTotal Loss: 0.166066\tReconstruction Loss: 0.166066\t lr: 10.00000000]\n",
      "100%|██████████| 59/59 [00:04<00:00, 12.62batch/s,  Epoch: 18 \tTotal Loss: 0.162503\tReconstruction Loss: 0.162503\t lr: 10.00000000]\n",
      "100%|██████████| 59/59 [00:05<00:00, 11.69batch/s,  Epoch: 19 \tTotal Loss: 0.161166\tReconstruction Loss: 0.161166\t lr: 10.00000000]\n",
      "100%|██████████| 59/59 [00:05<00:00, 11.64batch/s,  Epoch: 20 \tTotal Loss: 0.155751\tReconstruction Loss: 0.155751\t lr: 10.00000000]\n",
      "100%|██████████| 59/59 [00:04<00:00, 12.30batch/s,  Epoch: 21 \tTotal Loss: 0.150179\tReconstruction Loss: 0.150179\t lr: 10.00000000]\n",
      "100%|██████████| 59/59 [00:04<00:00, 11.85batch/s,  Epoch: 22 \tTotal Loss: 0.146643\tReconstruction Loss: 0.146643\t lr: 10.00000000]\n",
      "100%|██████████| 59/59 [00:05<00:00, 11.65batch/s,  Epoch: 23 \tTotal Loss: 0.147556\tReconstruction Loss: 0.147556\t lr: 10.00000000]\n",
      "100%|██████████| 59/59 [00:04<00:00, 12.47batch/s,  Epoch: 24 \tTotal Loss: 0.146805\tReconstruction Loss: 0.146805\t lr: 10.00000000]\n",
      "100%|██████████| 59/59 [00:05<00:00, 11.51batch/s,  Epoch: 25 \tTotal Loss: 0.145113\tReconstruction Loss: 0.145113\t lr: 10.00000000]\n",
      "100%|██████████| 59/59 [00:04<00:00, 12.01batch/s,  Epoch: 26 \tTotal Loss: 0.148676\tReconstruction Loss: 0.148676\t lr: 10.00000000]\n",
      "100%|██████████| 59/59 [00:04<00:00, 12.06batch/s,  Epoch: 27 \tTotal Loss: 0.136049\tReconstruction Loss: 0.136049\t lr: 10.00000000]\n",
      "100%|██████████| 59/59 [00:04<00:00, 12.03batch/s,  Epoch: 28 \tTotal Loss: 0.136027\tReconstruction Loss: 0.136027\t lr: 10.00000000]\n",
      "100%|██████████| 59/59 [00:05<00:00, 11.40batch/s,  Epoch: 29 \tTotal Loss: 0.137761\tReconstruction Loss: 0.137761\t lr: 10.00000000]\n",
      "100%|██████████| 59/59 [00:04<00:00, 11.99batch/s,  Epoch: 30 \tTotal Loss: 0.135667\tReconstruction Loss: 0.135667\t lr: 10.00000000]\n",
      "100%|██████████| 59/59 [00:04<00:00, 11.99batch/s,  Epoch: 31 \tTotal Loss: 0.130715\tReconstruction Loss: 0.130715\t lr: 10.00000000]\n",
      "100%|██████████| 59/59 [00:05<00:00, 11.25batch/s,  Epoch: 32 \tTotal Loss: 0.131310\tReconstruction Loss: 0.131310\t lr: 10.00000000]\n",
      "100%|██████████| 59/59 [00:04<00:00, 12.11batch/s,  Epoch: 33 \tTotal Loss: 0.132218\tReconstruction Loss: 0.132218\t lr: 10.00000000]\n",
      "100%|██████████| 59/59 [00:04<00:00, 12.35batch/s,  Epoch: 34 \tTotal Loss: 0.124411\tReconstruction Loss: 0.124411\t lr: 10.00000000]\n",
      "100%|██████████| 59/59 [00:04<00:00, 12.54batch/s,  Epoch: 35 \tTotal Loss: 0.127271\tReconstruction Loss: 0.127271\t lr: 10.00000000]\n",
      "100%|██████████| 59/59 [00:05<00:00, 11.19batch/s,  Epoch: 36 \tTotal Loss: 0.135140\tReconstruction Loss: 0.135140\t lr: 10.00000000]\n",
      "100%|██████████| 59/59 [00:04<00:00, 12.31batch/s,  Epoch: 37 \tTotal Loss: 0.124514\tReconstruction Loss: 0.124514\t lr: 10.00000000]\n",
      "100%|██████████| 59/59 [00:04<00:00, 12.17batch/s,  Epoch: 38 \tTotal Loss: 0.124724\tReconstruction Loss: 0.124724\t lr: 10.00000000]\n",
      "100%|██████████| 59/59 [00:05<00:00, 11.71batch/s,  Epoch: 39 \tTotal Loss: 0.127738\tReconstruction Loss: 0.127738\t lr: 10.00000000]\n",
      "100%|██████████| 59/59 [00:05<00:00, 11.71batch/s,  Epoch: 40 \tTotal Loss: 0.117465\tReconstruction Loss: 0.117465\t lr: 10.00000000]\n",
      "100%|██████████| 59/59 [00:04<00:00, 11.97batch/s,  Epoch: 41 \tTotal Loss: 0.120674\tReconstruction Loss: 0.120674\t lr: 10.00000000]\n",
      "100%|██████████| 59/59 [00:05<00:00, 11.69batch/s,  Epoch: 42 \tTotal Loss: 0.119840\tReconstruction Loss: 0.119840\t lr: 10.00000000]\n",
      "100%|██████████| 59/59 [00:05<00:00, 11.62batch/s,  Epoch: 43 \tTotal Loss: 0.118207\tReconstruction Loss: 0.118207\t lr: 10.00000000]\n",
      "100%|██████████| 59/59 [00:04<00:00, 11.92batch/s,  Epoch: 44 \tTotal Loss: 0.114470\tReconstruction Loss: 0.114470\t lr: 10.00000000]\n",
      "100%|██████████| 59/59 [00:04<00:00, 11.88batch/s,  Epoch: 45 \tTotal Loss: 0.112061\tReconstruction Loss: 0.112061\t lr: 10.00000000]\n",
      "100%|██████████| 59/59 [00:04<00:00, 12.22batch/s,  Epoch: 46 \tTotal Loss: 0.110979\tReconstruction Loss: 0.110979\t lr: 10.00000000]\n",
      "100%|██████████| 59/59 [00:05<00:00, 11.52batch/s,  Epoch: 47 \tTotal Loss: 0.112618\tReconstruction Loss: 0.112618\t lr: 10.00000000]\n",
      "100%|██████████| 59/59 [00:04<00:00, 12.12batch/s,  Epoch: 48 \tTotal Loss: 0.112754\tReconstruction Loss: 0.112754\t lr: 10.00000000]\n",
      "100%|██████████| 59/59 [00:04<00:00, 12.22batch/s,  Epoch: 49 \tTotal Loss: 0.113060\tReconstruction Loss: 0.113060\t lr: 10.00000000]\n",
      "100%|██████████| 59/59 [00:04<00:00, 12.60batch/s,  Epoch: 50 \tTotal Loss: 0.113818\tReconstruction Loss: 0.113818\t lr: 10.00000000]\n",
      "100%|██████████| 59/59 [00:04<00:00, 12.03batch/s,  Epoch: 51 \tTotal Loss: 0.117150\tReconstruction Loss: 0.117150\t lr: 10.00000000]\n",
      "100%|██████████| 59/59 [00:04<00:00, 11.81batch/s,  Epoch: 52 \tTotal Loss: 0.112831\tReconstruction Loss: 0.112831\t lr: 10.00000000]\n",
      "100%|██████████| 59/59 [00:04<00:00, 12.10batch/s,  Epoch: 53 \tTotal Loss: 0.109262\tReconstruction Loss: 0.109262\t lr: 10.00000000]\n",
      "100%|██████████| 59/59 [00:04<00:00, 12.10batch/s,  Epoch: 54 \tTotal Loss: 0.108550\tReconstruction Loss: 0.108550\t lr: 10.00000000]\n",
      "100%|██████████| 59/59 [00:04<00:00, 12.14batch/s,  Epoch: 55 \tTotal Loss: 0.111941\tReconstruction Loss: 0.111941\t lr: 10.00000000]\n",
      "100%|██████████| 59/59 [00:04<00:00, 12.97batch/s,  Epoch: 56 \tTotal Loss: 0.109364\tReconstruction Loss: 0.109364\t lr: 10.00000000]\n",
      "100%|██████████| 59/59 [00:04<00:00, 13.10batch/s,  Epoch: 57 \tTotal Loss: 0.108579\tReconstruction Loss: 0.108579\t lr: 10.00000000]\n",
      "100%|██████████| 59/59 [00:04<00:00, 13.32batch/s,  Epoch: 58 \tTotal Loss: 0.109693\tReconstruction Loss: 0.109693\t lr: 10.00000000]\n",
      "100%|██████████| 59/59 [00:04<00:00, 12.15batch/s,  Epoch: 59 \tTotal Loss: 0.107920\tReconstruction Loss: 0.107920\t lr: 10.00000000]\n",
      "100%|██████████| 59/59 [00:05<00:00, 11.62batch/s,  Epoch: 60 \tTotal Loss: 0.106712\tReconstruction Loss: 0.106712\t lr: 10.00000000]\n",
      "100%|██████████| 59/59 [00:04<00:00, 11.98batch/s,  Epoch: 61 \tTotal Loss: 0.110327\tReconstruction Loss: 0.110327\t lr: 10.00000000]\n",
      "100%|██████████| 59/59 [00:05<00:00, 11.59batch/s,  Epoch: 62 \tTotal Loss: 0.105564\tReconstruction Loss: 0.105564\t lr: 10.00000000]\n",
      "100%|██████████| 59/59 [00:05<00:00, 11.68batch/s,  Epoch: 63 \tTotal Loss: 0.104194\tReconstruction Loss: 0.104194\t lr: 10.00000000]\n",
      "100%|██████████| 59/59 [00:05<00:00, 11.36batch/s,  Epoch: 64 \tTotal Loss: 0.106239\tReconstruction Loss: 0.106239\t lr: 10.00000000]\n",
      "100%|██████████| 59/59 [00:04<00:00, 12.74batch/s,  Epoch: 65 \tTotal Loss: 0.106984\tReconstruction Loss: 0.106984\t lr: 10.00000000]\n",
      "100%|██████████| 59/59 [00:04<00:00, 12.17batch/s,  Epoch: 66 \tTotal Loss: 0.107256\tReconstruction Loss: 0.107256\t lr: 10.00000000]\n",
      "100%|██████████| 59/59 [00:04<00:00, 12.22batch/s,  Epoch: 67 \tTotal Loss: 0.105682\tReconstruction Loss: 0.105682\t lr: 10.00000000]\n",
      "100%|██████████| 59/59 [00:04<00:00, 12.03batch/s,  Epoch: 68 \tTotal Loss: 0.107314\tReconstruction Loss: 0.107314\t lr: 10.00000000]\n",
      "100%|██████████| 59/59 [00:04<00:00, 11.95batch/s,  Epoch: 69 \tTotal Loss: 0.106784\tReconstruction Loss: 0.106784\t lr: 10.00000000]\n",
      "100%|██████████| 59/59 [00:04<00:00, 12.59batch/s,  Epoch: 70 \tTotal Loss: 0.105810\tReconstruction Loss: 0.105810\t lr: 10.00000000]\n",
      "100%|██████████| 59/59 [00:05<00:00, 11.65batch/s,  Epoch: 71 \tTotal Loss: 0.106843\tReconstruction Loss: 0.106843\t lr: 10.00000000]\n",
      "100%|██████████| 59/59 [00:04<00:00, 11.98batch/s,  Epoch: 72 \tTotal Loss: 0.101977\tReconstruction Loss: 0.101977\t lr: 10.00000000]\n",
      "100%|██████████| 59/59 [00:04<00:00, 12.47batch/s,  Epoch: 73 \tTotal Loss: 0.106608\tReconstruction Loss: 0.106608\t lr: 10.00000000]\n",
      "100%|██████████| 59/59 [00:04<00:00, 12.31batch/s,  Epoch: 74 \tTotal Loss: 0.099157\tReconstruction Loss: 0.099157\t lr: 10.00000000]\n",
      "100%|██████████| 59/59 [00:04<00:00, 12.13batch/s,  Epoch: 75 \tTotal Loss: 0.099536\tReconstruction Loss: 0.099536\t lr: 10.00000000]\n",
      "100%|██████████| 59/59 [00:04<00:00, 12.21batch/s,  Epoch: 76 \tTotal Loss: 0.100233\tReconstruction Loss: 0.100233\t lr: 10.00000000]\n",
      "100%|██████████| 59/59 [00:04<00:00, 12.56batch/s,  Epoch: 77 \tTotal Loss: 0.102837\tReconstruction Loss: 0.102837\t lr: 10.00000000]\n",
      "100%|██████████| 59/59 [00:04<00:00, 12.30batch/s,  Epoch: 78 \tTotal Loss: 0.100107\tReconstruction Loss: 0.100107\t lr: 10.00000000]\n",
      "100%|██████████| 59/59 [00:05<00:00, 11.56batch/s,  Epoch: 79 \tTotal Loss: 0.099134\tReconstruction Loss: 0.099134\t lr: 10.00000000]\n",
      "100%|██████████| 59/59 [00:04<00:00, 12.36batch/s,  Epoch: 80 \tTotal Loss: 0.100880\tReconstruction Loss: 0.100880\t lr: 10.00000000]\n",
      "100%|██████████| 59/59 [00:04<00:00, 11.81batch/s,  Epoch: 81 \tTotal Loss: 0.101569\tReconstruction Loss: 0.101569\t lr: 10.00000000]\n",
      "100%|██████████| 59/59 [00:04<00:00, 11.92batch/s,  Epoch: 82 \tTotal Loss: 0.100182\tReconstruction Loss: 0.100182\t lr: 10.00000000]\n",
      "100%|██████████| 59/59 [00:05<00:00, 11.74batch/s,  Epoch: 83 \tTotal Loss: 0.096802\tReconstruction Loss: 0.096802\t lr: 10.00000000]\n",
      "100%|██████████| 59/59 [00:04<00:00, 12.57batch/s,  Epoch: 84 \tTotal Loss: 0.100345\tReconstruction Loss: 0.100345\t lr: 10.00000000]\n",
      "100%|██████████| 59/59 [00:04<00:00, 13.16batch/s,  Epoch: 85 \tTotal Loss: 0.097925\tReconstruction Loss: 0.097925\t lr: 10.00000000]\n",
      "100%|██████████| 59/59 [00:04<00:00, 12.55batch/s,  Epoch: 86 \tTotal Loss: 0.098513\tReconstruction Loss: 0.098513\t lr: 10.00000000]\n",
      "100%|██████████| 59/59 [00:04<00:00, 12.71batch/s,  Epoch: 87 \tTotal Loss: 0.098171\tReconstruction Loss: 0.098171\t lr: 10.00000000]\n",
      "100%|██████████| 59/59 [00:04<00:00, 12.10batch/s,  Epoch: 88 \tTotal Loss: 0.099150\tReconstruction Loss: 0.099150\t lr: 10.00000000]\n",
      "100%|██████████| 59/59 [00:05<00:00, 11.78batch/s,  Epoch: 89 \tTotal Loss: 0.098704\tReconstruction Loss: 0.098704\t lr: 10.00000000]\n",
      "100%|██████████| 59/59 [00:05<00:00, 11.55batch/s,  Epoch: 90 \tTotal Loss: 0.098863\tReconstruction Loss: 0.098863\t lr: 10.00000000]\n",
      "100%|██████████| 59/59 [00:04<00:00, 12.11batch/s,  Epoch: 91 \tTotal Loss: 0.097531\tReconstruction Loss: 0.097531\t lr: 10.00000000]\n",
      "100%|██████████| 59/59 [00:04<00:00, 12.25batch/s,  Epoch: 92 \tTotal Loss: 0.096073\tReconstruction Loss: 0.096073\t lr: 10.00000000]\n",
      "100%|██████████| 59/59 [00:04<00:00, 12.26batch/s,  Epoch: 93 \tTotal Loss: 0.098565\tReconstruction Loss: 0.098565\t lr: 10.00000000]\n",
      "100%|██████████| 59/59 [00:04<00:00, 11.97batch/s,  Epoch: 94 \tTotal Loss: 0.095182\tReconstruction Loss: 0.095182\t lr: 10.00000000]\n",
      "100%|██████████| 59/59 [00:04<00:00, 11.99batch/s,  Epoch: 95 \tTotal Loss: 0.098403\tReconstruction Loss: 0.098403\t lr: 10.00000000]\n",
      "100%|██████████| 59/59 [00:04<00:00, 11.82batch/s,  Epoch: 96 \tTotal Loss: 0.095919\tReconstruction Loss: 0.095919\t lr: 10.00000000]\n",
      "100%|██████████| 59/59 [00:05<00:00, 11.75batch/s,  Epoch: 97 \tTotal Loss: 0.096146\tReconstruction Loss: 0.096146\t lr: 10.00000000]\n",
      "100%|██████████| 59/59 [00:05<00:00, 11.58batch/s,  Epoch: 98 \tTotal Loss: 0.096719\tReconstruction Loss: 0.096719\t lr: 10.00000000]\n",
      "100%|██████████| 59/59 [00:04<00:00, 12.35batch/s,  Epoch: 99 \tTotal Loss: 0.095095\tReconstruction Loss: 0.095095\t lr: 10.00000000]\n",
      "100%|██████████| 59/59 [00:04<00:00, 12.24batch/s,  Epoch: 100 \tTotal Loss: 0.096279\tReconstruction Loss: 0.096279\t lr: 10.00000000]\n",
      "100%|██████████| 59/59 [00:05<00:00, 11.59batch/s,  Epoch: 101 \tTotal Loss: 0.093268\tReconstruction Loss: 0.093268\t lr: 10.00000000]\n",
      "100%|██████████| 59/59 [00:04<00:00, 12.38batch/s,  Epoch: 102 \tTotal Loss: 0.092898\tReconstruction Loss: 0.092898\t lr: 10.00000000]\n",
      "100%|██████████| 59/59 [00:05<00:00, 11.58batch/s,  Epoch: 103 \tTotal Loss: 0.096099\tReconstruction Loss: 0.096099\t lr: 10.00000000]\n",
      "100%|██████████| 59/59 [00:04<00:00, 11.87batch/s,  Epoch: 104 \tTotal Loss: 0.093974\tReconstruction Loss: 0.093974\t lr: 10.00000000]\n",
      "100%|██████████| 59/59 [00:04<00:00, 12.10batch/s,  Epoch: 105 \tTotal Loss: 0.092697\tReconstruction Loss: 0.092697\t lr: 10.00000000]\n",
      "100%|██████████| 59/59 [00:04<00:00, 12.63batch/s,  Epoch: 106 \tTotal Loss: 0.093851\tReconstruction Loss: 0.093851\t lr: 10.00000000]\n",
      "100%|██████████| 59/59 [00:04<00:00, 12.16batch/s,  Epoch: 107 \tTotal Loss: 0.095100\tReconstruction Loss: 0.095100\t lr: 10.00000000]\n",
      "100%|██████████| 59/59 [00:04<00:00, 12.61batch/s,  Epoch: 108 \tTotal Loss: 0.094820\tReconstruction Loss: 0.094820\t lr: 10.00000000]\n",
      "100%|██████████| 59/59 [00:04<00:00, 12.62batch/s,  Epoch: 109 \tTotal Loss: 0.093401\tReconstruction Loss: 0.093401\t lr: 10.00000000]\n",
      "100%|██████████| 59/59 [00:04<00:00, 12.34batch/s,  Epoch: 110 \tTotal Loss: 0.092245\tReconstruction Loss: 0.092245\t lr: 10.00000000]\n",
      "100%|██████████| 59/59 [00:04<00:00, 12.49batch/s,  Epoch: 111 \tTotal Loss: 0.093075\tReconstruction Loss: 0.093075\t lr: 10.00000000]\n",
      "100%|██████████| 59/59 [00:04<00:00, 12.22batch/s,  Epoch: 112 \tTotal Loss: 0.093265\tReconstruction Loss: 0.093265\t lr: 10.00000000]\n",
      "100%|██████████| 59/59 [00:04<00:00, 12.50batch/s,  Epoch: 113 \tTotal Loss: 0.092281\tReconstruction Loss: 0.092281\t lr: 10.00000000]\n",
      "100%|██████████| 59/59 [00:04<00:00, 12.38batch/s,  Epoch: 114 \tTotal Loss: 0.093641\tReconstruction Loss: 0.093641\t lr: 10.00000000]\n",
      "100%|██████████| 59/59 [00:04<00:00, 12.46batch/s,  Epoch: 115 \tTotal Loss: 0.092328\tReconstruction Loss: 0.092328\t lr: 10.00000000]\n",
      "100%|██████████| 59/59 [00:04<00:00, 12.17batch/s,  Epoch: 116 \tTotal Loss: 0.094120\tReconstruction Loss: 0.094120\t lr: 10.00000000]\n",
      "100%|██████████| 59/59 [00:04<00:00, 12.41batch/s,  Epoch: 117 \tTotal Loss: 0.094758\tReconstruction Loss: 0.094758\t lr: 10.00000000]\n",
      "100%|██████████| 59/59 [00:04<00:00, 12.41batch/s,  Epoch: 118 \tTotal Loss: 0.093297\tReconstruction Loss: 0.093297\t lr: 10.00000000]\n",
      "100%|██████████| 59/59 [00:04<00:00, 12.42batch/s,  Epoch: 119 \tTotal Loss: 0.092374\tReconstruction Loss: 0.092374\t lr: 10.00000000]\n",
      "100%|██████████| 59/59 [00:04<00:00, 12.34batch/s,  Epoch: 120 \tTotal Loss: 0.091381\tReconstruction Loss: 0.091381\t lr: 10.00000000]\n",
      "100%|██████████| 59/59 [00:04<00:00, 12.44batch/s,  Epoch: 121 \tTotal Loss: 0.090534\tReconstruction Loss: 0.090534\t lr: 10.00000000]\n",
      "100%|██████████| 59/59 [00:04<00:00, 12.38batch/s,  Epoch: 122 \tTotal Loss: 0.094392\tReconstruction Loss: 0.094392\t lr: 10.00000000]\n",
      "100%|██████████| 59/59 [00:04<00:00, 12.33batch/s,  Epoch: 123 \tTotal Loss: 0.091539\tReconstruction Loss: 0.091539\t lr: 10.00000000]\n",
      "100%|██████████| 59/59 [00:04<00:00, 12.43batch/s,  Epoch: 124 \tTotal Loss: 0.090397\tReconstruction Loss: 0.090397\t lr: 10.00000000]\n",
      "100%|██████████| 59/59 [00:04<00:00, 12.22batch/s,  Epoch: 125 \tTotal Loss: 0.089652\tReconstruction Loss: 0.089652\t lr: 10.00000000]\n",
      "100%|██████████| 59/59 [00:04<00:00, 12.50batch/s,  Epoch: 126 \tTotal Loss: 0.093249\tReconstruction Loss: 0.093249\t lr: 10.00000000]\n",
      "100%|██████████| 59/59 [00:04<00:00, 12.42batch/s,  Epoch: 127 \tTotal Loss: 0.089567\tReconstruction Loss: 0.089567\t lr: 10.00000000]\n",
      "100%|██████████| 59/59 [00:04<00:00, 12.22batch/s,  Epoch: 128 \tTotal Loss: 0.093163\tReconstruction Loss: 0.093163\t lr: 10.00000000]\n",
      "100%|██████████| 59/59 [00:04<00:00, 12.48batch/s,  Epoch: 129 \tTotal Loss: 0.092125\tReconstruction Loss: 0.092125\t lr: 10.00000000]\n",
      "100%|██████████| 59/59 [00:04<00:00, 12.28batch/s,  Epoch: 130 \tTotal Loss: 0.091629\tReconstruction Loss: 0.091629\t lr: 10.00000000]\n",
      "100%|██████████| 59/59 [00:04<00:00, 12.44batch/s,  Epoch: 131 \tTotal Loss: 0.092296\tReconstruction Loss: 0.092296\t lr: 10.00000000]\n",
      "100%|██████████| 59/59 [00:04<00:00, 12.31batch/s,  Epoch: 132 \tTotal Loss: 0.091881\tReconstruction Loss: 0.091881\t lr: 10.00000000]\n",
      "100%|██████████| 59/59 [00:04<00:00, 12.45batch/s,  Epoch: 133 \tTotal Loss: 0.091661\tReconstruction Loss: 0.091661\t lr: 10.00000000]\n",
      "100%|██████████| 59/59 [00:04<00:00, 12.45batch/s,  Epoch: 134 \tTotal Loss: 0.088693\tReconstruction Loss: 0.088693\t lr: 10.00000000]\n",
      "100%|██████████| 59/59 [00:04<00:00, 12.14batch/s,  Epoch: 135 \tTotal Loss: 0.091394\tReconstruction Loss: 0.091394\t lr: 10.00000000]\n",
      "100%|██████████| 59/59 [00:04<00:00, 12.43batch/s,  Epoch: 136 \tTotal Loss: 0.088291\tReconstruction Loss: 0.088291\t lr: 10.00000000]\n",
      "100%|██████████| 59/59 [00:04<00:00, 12.28batch/s,  Epoch: 137 \tTotal Loss: 0.091176\tReconstruction Loss: 0.091176\t lr: 10.00000000]\n",
      "100%|██████████| 59/59 [00:04<00:00, 12.40batch/s,  Epoch: 138 \tTotal Loss: 0.090110\tReconstruction Loss: 0.090110\t lr: 10.00000000]\n",
      "100%|██████████| 59/59 [00:04<00:00, 12.46batch/s,  Epoch: 139 \tTotal Loss: 0.089153\tReconstruction Loss: 0.089153\t lr: 10.00000000]\n",
      "100%|██████████| 59/59 [00:04<00:00, 12.27batch/s,  Epoch: 140 \tTotal Loss: 0.091188\tReconstruction Loss: 0.091188\t lr: 10.00000000]\n",
      "100%|██████████| 59/59 [00:04<00:00, 12.38batch/s,  Epoch: 141 \tTotal Loss: 0.088726\tReconstruction Loss: 0.088726\t lr: 10.00000000]\n",
      "100%|██████████| 59/59 [00:04<00:00, 12.31batch/s,  Epoch: 142 \tTotal Loss: 0.089182\tReconstruction Loss: 0.089182\t lr: 10.00000000]\n",
      "100%|██████████| 59/59 [00:04<00:00, 12.40batch/s,  Epoch: 143 \tTotal Loss: 0.088918\tReconstruction Loss: 0.088918\t lr: 10.00000000]\n",
      "100%|██████████| 59/59 [00:04<00:00, 12.47batch/s,  Epoch: 144 \tTotal Loss: 0.088861\tReconstruction Loss: 0.088861\t lr: 10.00000000]\n",
      "100%|██████████| 59/59 [00:04<00:00, 12.21batch/s,  Epoch: 145 \tTotal Loss: 0.088885\tReconstruction Loss: 0.088885\t lr: 10.00000000]\n",
      "100%|██████████| 59/59 [00:04<00:00, 12.74batch/s,  Epoch: 146 \tTotal Loss: 0.089043\tReconstruction Loss: 0.089043\t lr: 10.00000000]\n",
      "100%|██████████| 59/59 [00:04<00:00, 12.53batch/s,  Epoch: 147 \tTotal Loss: 0.089490\tReconstruction Loss: 0.089490\t lr: 10.00000000]\n",
      "100%|██████████| 59/59 [00:04<00:00, 12.43batch/s,  Epoch: 148 \tTotal Loss: 0.092264\tReconstruction Loss: 0.092264\t lr: 10.00000000]\n",
      "100%|██████████| 59/59 [00:04<00:00, 11.80batch/s,  Epoch: 149 \tTotal Loss: 0.091199\tReconstruction Loss: 0.091199\t lr: 10.00000000]\n",
      "100%|██████████| 59/59 [00:04<00:00, 12.03batch/s,  Epoch: 150 \tTotal Loss: 0.088988\tReconstruction Loss: 0.088988\t lr: 10.00000000]\n",
      "100%|██████████| 59/59 [00:04<00:00, 11.94batch/s,  Epoch: 151 \tTotal Loss: 0.089730\tReconstruction Loss: 0.089730\t lr: 10.00000000]\n",
      "100%|██████████| 59/59 [00:04<00:00, 12.73batch/s,  Epoch: 152 \tTotal Loss: 0.087487\tReconstruction Loss: 0.087487\t lr: 10.00000000]\n",
      "100%|██████████| 59/59 [00:05<00:00, 11.41batch/s,  Epoch: 153 \tTotal Loss: 0.091094\tReconstruction Loss: 0.091094\t lr: 10.00000000]\n",
      "100%|██████████| 59/59 [00:04<00:00, 12.57batch/s,  Epoch: 154 \tTotal Loss: 0.088577\tReconstruction Loss: 0.088577\t lr: 10.00000000]\n",
      "100%|██████████| 59/59 [00:05<00:00, 11.66batch/s,  Epoch: 155 \tTotal Loss: 0.090139\tReconstruction Loss: 0.090139\t lr: 10.00000000]\n",
      "100%|██████████| 59/59 [00:04<00:00, 12.18batch/s,  Epoch: 156 \tTotal Loss: 0.087886\tReconstruction Loss: 0.087886\t lr: 10.00000000]\n",
      "100%|██████████| 59/59 [00:04<00:00, 13.35batch/s,  Epoch: 157 \tTotal Loss: 0.092064\tReconstruction Loss: 0.092064\t lr: 10.00000000]\n",
      "100%|██████████| 59/59 [00:04<00:00, 13.28batch/s,  Epoch: 158 \tTotal Loss: 0.086094\tReconstruction Loss: 0.086094\t lr: 10.00000000]\n",
      "100%|██████████| 59/59 [00:04<00:00, 11.87batch/s,  Epoch: 159 \tTotal Loss: 0.085804\tReconstruction Loss: 0.085804\t lr: 10.00000000]\n",
      "100%|██████████| 59/59 [00:05<00:00, 11.75batch/s,  Epoch: 160 \tTotal Loss: 0.088891\tReconstruction Loss: 0.088891\t lr: 10.00000000]\n",
      "100%|██████████| 59/59 [00:04<00:00, 12.50batch/s,  Epoch: 161 \tTotal Loss: 0.088483\tReconstruction Loss: 0.088483\t lr: 10.00000000]\n",
      "100%|██████████| 59/59 [00:05<00:00, 11.56batch/s,  Epoch: 162 \tTotal Loss: 0.089938\tReconstruction Loss: 0.089938\t lr: 10.00000000]\n",
      "100%|██████████| 59/59 [00:05<00:00, 11.59batch/s,  Epoch: 163 \tTotal Loss: 0.086278\tReconstruction Loss: 0.086278\t lr: 10.00000000]\n",
      "100%|██████████| 59/59 [00:05<00:00, 11.26batch/s,  Epoch: 164 \tTotal Loss: 0.086991\tReconstruction Loss: 0.086991\t lr: 10.00000000]\n",
      "100%|██████████| 59/59 [00:04<00:00, 12.15batch/s,  Epoch: 165 \tTotal Loss: 0.090178\tReconstruction Loss: 0.090178\t lr: 10.00000000]\n",
      "100%|██████████| 59/59 [00:05<00:00, 11.70batch/s,  Epoch: 166 \tTotal Loss: 0.088045\tReconstruction Loss: 0.088045\t lr: 10.00000000]\n",
      "100%|██████████| 59/59 [00:04<00:00, 11.90batch/s,  Epoch: 167 \tTotal Loss: 0.087487\tReconstruction Loss: 0.087487\t lr: 10.00000000]\n",
      "100%|██████████| 59/59 [00:04<00:00, 11.84batch/s,  Epoch: 168 \tTotal Loss: 0.087513\tReconstruction Loss: 0.087513\t lr: 10.00000000]\n",
      "100%|██████████| 59/59 [00:04<00:00, 12.28batch/s,  Epoch: 169 \tTotal Loss: 0.088997\tReconstruction Loss: 0.088997\t lr: 10.00000000]\n",
      "100%|██████████| 59/59 [00:04<00:00, 11.89batch/s,  Epoch: 170 \tTotal Loss: 0.088328\tReconstruction Loss: 0.088328\t lr: 10.00000000]\n",
      "100%|██████████| 59/59 [00:04<00:00, 12.05batch/s,  Epoch: 171 \tTotal Loss: 0.086715\tReconstruction Loss: 0.086715\t lr: 10.00000000]\n",
      "100%|██████████| 59/59 [00:04<00:00, 12.48batch/s,  Epoch: 172 \tTotal Loss: 0.086546\tReconstruction Loss: 0.086546\t lr: 10.00000000]\n",
      "100%|██████████| 59/59 [00:04<00:00, 12.87batch/s,  Epoch: 173 \tTotal Loss: 0.086648\tReconstruction Loss: 0.086648\t lr: 10.00000000]\n",
      "100%|██████████| 59/59 [00:04<00:00, 13.31batch/s,  Epoch: 174 \tTotal Loss: 0.086817\tReconstruction Loss: 0.086817\t lr: 10.00000000]\n",
      "100%|██████████| 59/59 [00:04<00:00, 12.61batch/s,  Epoch: 175 \tTotal Loss: 0.086859\tReconstruction Loss: 0.086859\t lr: 10.00000000]\n",
      "100%|██████████| 59/59 [00:04<00:00, 12.58batch/s,  Epoch: 176 \tTotal Loss: 0.088320\tReconstruction Loss: 0.088320\t lr: 10.00000000]\n",
      "100%|██████████| 59/59 [00:04<00:00, 12.42batch/s,  Epoch: 177 \tTotal Loss: 0.087104\tReconstruction Loss: 0.087104\t lr: 10.00000000]\n",
      "100%|██████████| 59/59 [00:04<00:00, 12.57batch/s,  Epoch: 178 \tTotal Loss: 0.088828\tReconstruction Loss: 0.088828\t lr: 10.00000000]\n",
      "100%|██████████| 59/59 [00:04<00:00, 12.53batch/s,  Epoch: 179 \tTotal Loss: 0.087805\tReconstruction Loss: 0.087805\t lr: 10.00000000]\n",
      "100%|██████████| 59/59 [00:04<00:00, 12.95batch/s,  Epoch: 180 \tTotal Loss: 0.087789\tReconstruction Loss: 0.087789\t lr: 10.00000000]\n",
      "100%|██████████| 59/59 [00:04<00:00, 12.54batch/s,  Epoch: 181 \tTotal Loss: 0.086815\tReconstruction Loss: 0.086815\t lr: 10.00000000]\n",
      "100%|██████████| 59/59 [00:04<00:00, 12.50batch/s,  Epoch: 182 \tTotal Loss: 0.085332\tReconstruction Loss: 0.085332\t lr: 10.00000000]\n",
      "100%|██████████| 59/59 [00:04<00:00, 12.49batch/s,  Epoch: 183 \tTotal Loss: 0.089380\tReconstruction Loss: 0.089380\t lr: 10.00000000]\n",
      "100%|██████████| 59/59 [00:04<00:00, 12.58batch/s,  Epoch: 184 \tTotal Loss: 0.086887\tReconstruction Loss: 0.086887\t lr: 10.00000000]\n",
      "100%|██████████| 59/59 [00:04<00:00, 12.26batch/s,  Epoch: 185 \tTotal Loss: 0.088597\tReconstruction Loss: 0.088597\t lr: 10.00000000]\n",
      "100%|██████████| 59/59 [00:04<00:00, 12.90batch/s,  Epoch: 186 \tTotal Loss: 0.088261\tReconstruction Loss: 0.088261\t lr: 10.00000000]\n",
      "100%|██████████| 59/59 [00:04<00:00, 13.12batch/s,  Epoch: 187 \tTotal Loss: 0.085425\tReconstruction Loss: 0.085425\t lr: 10.00000000]\n",
      "100%|██████████| 59/59 [00:04<00:00, 12.57batch/s,  Epoch: 188 \tTotal Loss: 0.086034\tReconstruction Loss: 0.086034\t lr: 10.00000000]\n",
      "100%|██████████| 59/59 [00:04<00:00, 12.46batch/s,  Epoch: 189 \tTotal Loss: 0.087221\tReconstruction Loss: 0.087221\t lr: 10.00000000]\n",
      "100%|██████████| 59/59 [00:04<00:00, 12.71batch/s,  Epoch: 190 \tTotal Loss: 0.086319\tReconstruction Loss: 0.086319\t lr: 10.00000000]\n",
      "100%|██████████| 59/59 [00:04<00:00, 12.78batch/s,  Epoch: 191 \tTotal Loss: 0.085903\tReconstruction Loss: 0.085903\t lr: 10.00000000]\n",
      "100%|██████████| 59/59 [00:04<00:00, 12.72batch/s,  Epoch: 192 \tTotal Loss: 0.087512\tReconstruction Loss: 0.087512\t lr: 10.00000000]\n",
      "100%|██████████| 59/59 [00:04<00:00, 12.97batch/s,  Epoch: 193 \tTotal Loss: 0.086346\tReconstruction Loss: 0.086346\t lr: 10.00000000]\n",
      "100%|██████████| 59/59 [00:04<00:00, 12.70batch/s,  Epoch: 194 \tTotal Loss: 0.087946\tReconstruction Loss: 0.087946\t lr: 10.00000000]\n",
      "100%|██████████| 59/59 [00:04<00:00, 12.99batch/s,  Epoch: 195 \tTotal Loss: 0.085224\tReconstruction Loss: 0.085224\t lr: 10.00000000]\n",
      "100%|██████████| 59/59 [00:04<00:00, 12.79batch/s,  Epoch: 196 \tTotal Loss: 0.086370\tReconstruction Loss: 0.086370\t lr: 10.00000000]\n",
      "100%|██████████| 59/59 [00:04<00:00, 13.24batch/s,  Epoch: 197 \tTotal Loss: 0.086763\tReconstruction Loss: 0.086763\t lr: 10.00000000]\n",
      "100%|██████████| 59/59 [00:04<00:00, 12.71batch/s,  Epoch: 198 \tTotal Loss: 0.086000\tReconstruction Loss: 0.086000\t lr: 10.00000000]\n",
      "100%|██████████| 59/59 [00:04<00:00, 12.62batch/s,  Epoch: 199 \tTotal Loss: 0.085691\tReconstruction Loss: 0.085691\t lr: 10.00000000]\n",
      "100%|██████████| 59/59 [00:04<00:00, 11.99batch/s,  Epoch: 200 \tTotal Loss: 0.085919\tReconstruction Loss: 0.085919\t lr: 10.00000000]\n"
     ]
    }
   ],
   "source": [
    "for epoch in range(1, 201):\n",
    "    _, loss = train(model, train_loader, optimizer, epoch)\n",
    "    scheduler.step(np.mean(loss))"
   ],
   "metadata": {
    "collapsed": false
   }
  },
  {
   "cell_type": "code",
   "execution_count": 8,
   "outputs": [
    {
     "data": {
      "text/plain": "<matplotlib.image.AxesImage at 0x238ffa7f670>"
     },
     "execution_count": 8,
     "metadata": {},
     "output_type": "execute_result"
    },
    {
     "data": {
      "text/plain": "<Figure size 640x480 with 1 Axes>",
      "image/png": "[encoded data removed]"
     },
     "metadata": {},
     "output_type": "display_data"
    }
   ],
   "source": [
    "z = torch.normal(0, 1, size=(1, 64)).cuda()\n",
    "plt.imshow(model.sample(z).cpu().detach().view(28, 28), cmap='Greys')"
   ],
   "metadata": {
    "collapsed": false
   }
  },
  {
   "cell_type": "code",
   "execution_count": 22,
   "outputs": [
    {
     "data": {
      "text/plain": "<matplotlib.image.AxesImage at 0x19c9069d030>"
     },
     "execution_count": 22,
     "metadata": {},
     "output_type": "execute_result"
    },
    {
     "data": {
      "text/plain": "<Figure size 640x480 with 1 Axes>",
      "image/png": "[encoded data removed]"
     },
     "metadata": {},
     "output_type": "display_data"
    }
   ],
   "source": [
    "img0 = next(iter(train_loader))[0][99]\n",
    "plt.imshow(img0[0], cmap='Greys')"
   ],
   "metadata": {
    "collapsed": false
   }
  },
  {
   "cell_type": "code",
   "execution_count": 23,
   "outputs": [
    {
     "data": {
      "text/plain": "<matplotlib.image.AxesImage at 0x19c903c0040>"
     },
     "execution_count": 23,
     "metadata": {},
     "output_type": "execute_result"
    },
    {
     "data": {
      "text/plain": "<Figure size 640x480 with 1 Axes>",
      "image/png": "[encoded data removed]"
     },
     "metadata": {},
     "output_type": "display_data"
    }
   ],
   "source": [
    "output, mu, log_var = model(img0.view(-1, 28 * 28).cuda())\n",
    "plt.imshow(output.cpu().detach().view(28, 28), cmap='Greys')"
   ],
   "metadata": {
    "collapsed": false
   }
  },
  {
   "cell_type": "code",
   "execution_count": 24,
   "outputs": [
    {
     "data": {
      "text/plain": "<matplotlib.image.AxesImage at 0x19c903ce3e0>"
     },
     "execution_count": 24,
     "metadata": {},
     "output_type": "execute_result"
    },
    {
     "data": {
      "text/plain": "<Figure size 640x480 with 1 Axes>",
      "image/png": "[encoded data removed]"
     },
     "metadata": {},
     "output_type": "display_data"
    }
   ],
   "source": [
    "output, mu, log_var = model(img0.view(-1, 28 * 28).cuda())\n",
    "plt.imshow(model.sample(mu).cpu().detach().view(28, 28), cmap='Greys')"
   ],
   "metadata": {
    "collapsed": false
   }
  },
  {
   "cell_type": "code",
   "execution_count": 19,
   "outputs": [],
   "source": [
    "mms = MinMaxScaler()\n",
    "mms01 = mms.fit_transform(mu.detach().cpu().numpy().T)"
   ],
   "metadata": {
    "collapsed": false
   }
  },
  {
   "cell_type": "code",
   "execution_count": 20,
   "outputs": [
    {
     "data": {
      "text/plain": "<matplotlib.image.AxesImage at 0x238ffd00370>"
     },
     "execution_count": 20,
     "metadata": {},
     "output_type": "execute_result"
    },
    {
     "data": {
      "text/plain": "<Figure size 640x480 with 1 Axes>",
      "image/png": "[encoded data removed]"
     },
     "metadata": {},
     "output_type": "display_data"
    }
   ],
   "source": [
    "plt.imshow(mms01.reshape(8, 8), cmap='Greys')"
   ],
   "metadata": {
    "collapsed": false
   }
  },
  {
   "cell_type": "code",
   "execution_count": 21,
   "outputs": [],
   "source": [
    "torch.save(model.state_dict(), 'regVAE00_200epochs')"
   ],
   "metadata": {
    "collapsed": false
   }
  },
  {
   "cell_type": "markdown",
   "source": [
    "### model 1"
   ],
   "metadata": {
    "collapsed": false
   }
  },
  {
   "cell_type": "code",
   "execution_count": 15,
   "outputs": [
    {
     "data": {
      "text/plain": "<All keys matched successfully>"
     },
     "execution_count": 15,
     "metadata": {},
     "output_type": "execute_result"
    }
   ],
   "source": [
    "model.load_state_dict(torch.load('regVAE00_200epochs'))"
   ],
   "metadata": {
    "collapsed": false
   }
  },
  {
   "cell_type": "code",
   "execution_count": 18,
   "outputs": [],
   "source": [
    "encoder1 = nn.Sequential(nn.Linear(64, 64),\n",
    "                         nn.ReLU(),\n",
    "                         nn.Linear(64, 32),\n",
    "                         nn.ReLU())\n",
    "decoder1 = nn.Sequential(nn.Linear(16, 32),\n",
    "                         nn.ReLU(),\n",
    "                         nn.Linear(32, 64),\n",
    "                         nn.ReLU(),\n",
    "                         nn.Linear(64, 64))\n",
    "model1 = LinearVAE(encoder1, decoder1, 32, 16).cuda()\n",
    "optimizer = optim.Adadelta(model1.parameters(), lr=1e1)\n",
    "scheduler = ReduceLROnPlateau(optimizer, factor=0.1, patience=5, verbose=False, threshold=1e-3)"
   ],
   "metadata": {
    "collapsed": false
   }
  },
  {
   "cell_type": "code",
   "execution_count": 19,
   "outputs": [],
   "source": [
    "def train1(net, train_loader, optimizer, epoch):\n",
    "    net.train()\n",
    "    allReconLoss = []\n",
    "    with tqdm(train_loader, unit='batch') as tEpoch:\n",
    "        for data, _ in tEpoch:\n",
    "            data = data.to('cuda').view(-1, 28 * 28)\n",
    "            optimizer.zero_grad()\n",
    "            _, interOutput, _ = model(data)\n",
    "            output, _, _ = net(interOutput.detach())\n",
    "            reconLoss = L1Loss(output, interOutput)\n",
    "            reconLoss.backward()\n",
    "            optimizer.step()\n",
    "            allReconLoss.append(reconLoss.item())\n",
    "            tEpoch.set_postfix_str(' Epoch: {} \\tReconstruction Loss: {:.6f}\\t lr: {:.8f}'.format(\n",
    "                epoch, reconLoss.item(), optimizer.param_groups[0]['lr']))\n",
    "    return allReconLoss"
   ],
   "metadata": {
    "collapsed": false
   }
  },
  {
   "cell_type": "code",
   "execution_count": 20,
   "outputs": [
    {
     "name": "stderr",
     "output_type": "stream",
     "text": [
      "100%|██████████| 59/59 [00:04<00:00, 11.93batch/s,  Epoch: 1 \tReconstruction Loss: 3.045654\t lr: 10.00000000]\n",
      "100%|██████████| 59/59 [00:04<00:00, 12.25batch/s,  Epoch: 2 \tReconstruction Loss: 2.749655\t lr: 10.00000000]\n",
      "100%|██████████| 59/59 [00:04<00:00, 12.43batch/s,  Epoch: 3 \tReconstruction Loss: 2.640055\t lr: 10.00000000]\n",
      "100%|██████████| 59/59 [00:04<00:00, 12.80batch/s,  Epoch: 4 \tReconstruction Loss: 2.561180\t lr: 10.00000000]\n",
      "100%|██████████| 59/59 [00:04<00:00, 12.71batch/s,  Epoch: 5 \tReconstruction Loss: 2.469587\t lr: 10.00000000]\n",
      "100%|██████████| 59/59 [00:05<00:00, 11.23batch/s,  Epoch: 6 \tReconstruction Loss: 2.408911\t lr: 10.00000000]\n",
      "100%|██████████| 59/59 [00:05<00:00, 11.68batch/s,  Epoch: 7 \tReconstruction Loss: 2.484480\t lr: 10.00000000]\n",
      "100%|██████████| 59/59 [00:05<00:00, 11.45batch/s,  Epoch: 8 \tReconstruction Loss: 2.493376\t lr: 10.00000000]\n",
      "100%|██████████| 59/59 [00:04<00:00, 12.21batch/s,  Epoch: 9 \tReconstruction Loss: 2.351760\t lr: 10.00000000]\n",
      "100%|██████████| 59/59 [00:04<00:00, 12.95batch/s,  Epoch: 10 \tReconstruction Loss: 2.248891\t lr: 10.00000000]\n",
      "100%|██████████| 59/59 [00:05<00:00, 11.46batch/s,  Epoch: 11 \tReconstruction Loss: 2.281984\t lr: 10.00000000]\n",
      "100%|██████████| 59/59 [00:04<00:00, 12.35batch/s,  Epoch: 12 \tReconstruction Loss: 2.560746\t lr: 10.00000000]\n",
      "100%|██████████| 59/59 [00:05<00:00, 11.08batch/s,  Epoch: 13 \tReconstruction Loss: 2.350262\t lr: 10.00000000]\n",
      "100%|██████████| 59/59 [00:05<00:00, 11.66batch/s,  Epoch: 14 \tReconstruction Loss: 2.205500\t lr: 10.00000000]\n",
      "100%|██████████| 59/59 [00:05<00:00, 11.15batch/s,  Epoch: 15 \tReconstruction Loss: 2.231743\t lr: 10.00000000]\n",
      "100%|██████████| 59/59 [00:05<00:00, 11.39batch/s,  Epoch: 16 \tReconstruction Loss: 2.188370\t lr: 10.00000000]\n",
      "100%|██████████| 59/59 [00:04<00:00, 12.06batch/s,  Epoch: 17 \tReconstruction Loss: 2.181656\t lr: 10.00000000]\n",
      "100%|██████████| 59/59 [00:05<00:00, 11.26batch/s,  Epoch: 18 \tReconstruction Loss: 2.119227\t lr: 10.00000000]\n",
      "100%|██████████| 59/59 [00:05<00:00, 11.61batch/s,  Epoch: 19 \tReconstruction Loss: 2.197792\t lr: 10.00000000]\n",
      "100%|██████████| 59/59 [00:05<00:00, 11.30batch/s,  Epoch: 20 \tReconstruction Loss: 2.233438\t lr: 10.00000000]\n",
      "100%|██████████| 59/59 [00:05<00:00, 11.78batch/s,  Epoch: 21 \tReconstruction Loss: 2.011257\t lr: 10.00000000]\n",
      "100%|██████████| 59/59 [00:05<00:00, 11.40batch/s,  Epoch: 22 \tReconstruction Loss: 2.055385\t lr: 10.00000000]\n",
      "100%|██████████| 59/59 [00:05<00:00, 11.64batch/s,  Epoch: 23 \tReconstruction Loss: 2.252596\t lr: 10.00000000]\n",
      "100%|██████████| 59/59 [00:05<00:00, 11.16batch/s,  Epoch: 24 \tReconstruction Loss: 2.147242\t lr: 10.00000000]\n",
      "100%|██████████| 59/59 [00:05<00:00, 11.55batch/s,  Epoch: 25 \tReconstruction Loss: 2.016336\t lr: 10.00000000]\n",
      "100%|██████████| 59/59 [00:05<00:00, 11.71batch/s,  Epoch: 26 \tReconstruction Loss: 2.074857\t lr: 10.00000000]\n",
      "100%|██████████| 59/59 [00:05<00:00, 11.40batch/s,  Epoch: 27 \tReconstruction Loss: 2.109018\t lr: 10.00000000]\n",
      "100%|██████████| 59/59 [00:05<00:00, 11.75batch/s,  Epoch: 28 \tReconstruction Loss: 2.029951\t lr: 10.00000000]\n",
      "100%|██████████| 59/59 [00:05<00:00, 11.02batch/s,  Epoch: 29 \tReconstruction Loss: 2.000874\t lr: 10.00000000]\n",
      "100%|██████████| 59/59 [00:04<00:00, 11.96batch/s,  Epoch: 30 \tReconstruction Loss: 2.140177\t lr: 10.00000000]\n",
      "100%|██████████| 59/59 [00:04<00:00, 12.28batch/s,  Epoch: 31 \tReconstruction Loss: 2.234543\t lr: 10.00000000]\n",
      "100%|██████████| 59/59 [00:04<00:00, 12.20batch/s,  Epoch: 32 \tReconstruction Loss: 2.211113\t lr: 10.00000000]\n",
      "100%|██████████| 59/59 [00:04<00:00, 12.30batch/s,  Epoch: 33 \tReconstruction Loss: 2.111662\t lr: 10.00000000]\n",
      "100%|██████████| 59/59 [00:04<00:00, 12.47batch/s,  Epoch: 34 \tReconstruction Loss: 2.146570\t lr: 10.00000000]\n",
      "100%|██████████| 59/59 [00:04<00:00, 12.28batch/s,  Epoch: 35 \tReconstruction Loss: 2.221128\t lr: 10.00000000]\n",
      "100%|██████████| 59/59 [00:04<00:00, 12.38batch/s,  Epoch: 36 \tReconstruction Loss: 2.122625\t lr: 10.00000000]\n",
      "100%|██████████| 59/59 [00:04<00:00, 12.41batch/s,  Epoch: 37 \tReconstruction Loss: 2.010442\t lr: 10.00000000]\n",
      "100%|██████████| 59/59 [00:04<00:00, 12.37batch/s,  Epoch: 38 \tReconstruction Loss: 2.090486\t lr: 10.00000000]\n",
      "100%|██████████| 59/59 [00:04<00:00, 12.05batch/s,  Epoch: 39 \tReconstruction Loss: 2.180479\t lr: 10.00000000]\n",
      "100%|██████████| 59/59 [00:04<00:00, 12.30batch/s,  Epoch: 40 \tReconstruction Loss: 2.065227\t lr: 10.00000000]\n",
      "100%|██████████| 59/59 [00:04<00:00, 12.45batch/s,  Epoch: 41 \tReconstruction Loss: 2.123615\t lr: 10.00000000]\n",
      "100%|██████████| 59/59 [00:04<00:00, 12.38batch/s,  Epoch: 42 \tReconstruction Loss: 2.046268\t lr: 10.00000000]\n",
      "100%|██████████| 59/59 [00:04<00:00, 11.99batch/s,  Epoch: 43 \tReconstruction Loss: 2.145853\t lr: 10.00000000]\n",
      "100%|██████████| 59/59 [00:04<00:00, 12.87batch/s,  Epoch: 44 \tReconstruction Loss: 1.891618\t lr: 10.00000000]\n",
      "100%|██████████| 59/59 [00:04<00:00, 12.32batch/s,  Epoch: 45 \tReconstruction Loss: 2.116826\t lr: 10.00000000]\n",
      "100%|██████████| 59/59 [00:05<00:00, 11.65batch/s,  Epoch: 46 \tReconstruction Loss: 2.104405\t lr: 10.00000000]\n",
      "100%|██████████| 59/59 [00:05<00:00, 11.37batch/s,  Epoch: 47 \tReconstruction Loss: 2.065818\t lr: 10.00000000]\n",
      "100%|██████████| 59/59 [00:05<00:00, 11.75batch/s,  Epoch: 48 \tReconstruction Loss: 2.199043\t lr: 10.00000000]\n",
      "100%|██████████| 59/59 [00:05<00:00, 11.41batch/s,  Epoch: 49 \tReconstruction Loss: 1.986847\t lr: 10.00000000]\n",
      "100%|██████████| 59/59 [00:04<00:00, 11.85batch/s,  Epoch: 50 \tReconstruction Loss: 1.942053\t lr: 10.00000000]\n",
      "100%|██████████| 59/59 [00:05<00:00, 11.36batch/s,  Epoch: 51 \tReconstruction Loss: 1.467658\t lr: 1.00000000]\n",
      "100%|██████████| 59/59 [00:04<00:00, 11.86batch/s,  Epoch: 52 \tReconstruction Loss: 1.434943\t lr: 1.00000000]\n",
      "100%|██████████| 59/59 [00:05<00:00, 11.36batch/s,  Epoch: 53 \tReconstruction Loss: 1.408150\t lr: 1.00000000]\n",
      "100%|██████████| 59/59 [00:05<00:00, 11.72batch/s,  Epoch: 54 \tReconstruction Loss: 1.379860\t lr: 1.00000000]\n",
      "100%|██████████| 59/59 [00:04<00:00, 12.19batch/s,  Epoch: 55 \tReconstruction Loss: 1.382820\t lr: 1.00000000]\n",
      "100%|██████████| 59/59 [00:04<00:00, 12.72batch/s,  Epoch: 56 \tReconstruction Loss: 1.331074\t lr: 1.00000000]\n",
      "100%|██████████| 59/59 [00:04<00:00, 12.40batch/s,  Epoch: 57 \tReconstruction Loss: 1.377168\t lr: 1.00000000]\n",
      "100%|██████████| 59/59 [00:04<00:00, 12.21batch/s,  Epoch: 58 \tReconstruction Loss: 1.344335\t lr: 1.00000000]\n",
      "100%|██████████| 59/59 [00:04<00:00, 12.23batch/s,  Epoch: 59 \tReconstruction Loss: 1.346845\t lr: 1.00000000]\n",
      "100%|██████████| 59/59 [00:04<00:00, 12.24batch/s,  Epoch: 60 \tReconstruction Loss: 1.302238\t lr: 1.00000000]\n",
      "100%|██████████| 59/59 [00:04<00:00, 12.71batch/s,  Epoch: 61 \tReconstruction Loss: 1.312067\t lr: 1.00000000]\n",
      "100%|██████████| 59/59 [00:04<00:00, 12.75batch/s,  Epoch: 62 \tReconstruction Loss: 1.296246\t lr: 1.00000000]\n",
      "100%|██████████| 59/59 [00:04<00:00, 12.87batch/s,  Epoch: 63 \tReconstruction Loss: 1.296866\t lr: 1.00000000]\n",
      "100%|██████████| 59/59 [00:05<00:00, 10.94batch/s,  Epoch: 64 \tReconstruction Loss: 1.300100\t lr: 1.00000000]\n",
      "100%|██████████| 59/59 [00:05<00:00, 11.70batch/s,  Epoch: 65 \tReconstruction Loss: 1.294076\t lr: 1.00000000]\n",
      "100%|██████████| 59/59 [00:04<00:00, 11.98batch/s,  Epoch: 66 \tReconstruction Loss: 1.272386\t lr: 1.00000000]\n",
      "100%|██████████| 59/59 [00:04<00:00, 12.33batch/s,  Epoch: 67 \tReconstruction Loss: 1.274058\t lr: 1.00000000]\n",
      "100%|██████████| 59/59 [00:05<00:00, 11.63batch/s,  Epoch: 68 \tReconstruction Loss: 1.246019\t lr: 1.00000000]\n",
      "100%|██████████| 59/59 [00:05<00:00, 11.52batch/s,  Epoch: 69 \tReconstruction Loss: 1.248795\t lr: 1.00000000]\n",
      "100%|██████████| 59/59 [00:05<00:00, 11.49batch/s,  Epoch: 70 \tReconstruction Loss: 1.195050\t lr: 1.00000000]\n",
      "100%|██████████| 59/59 [00:05<00:00, 11.15batch/s,  Epoch: 71 \tReconstruction Loss: 1.229887\t lr: 1.00000000]\n",
      "100%|██████████| 59/59 [00:04<00:00, 12.12batch/s,  Epoch: 72 \tReconstruction Loss: 1.246170\t lr: 1.00000000]\n",
      "100%|██████████| 59/59 [00:05<00:00, 11.74batch/s,  Epoch: 73 \tReconstruction Loss: 1.225573\t lr: 1.00000000]\n",
      "100%|██████████| 59/59 [00:04<00:00, 12.75batch/s,  Epoch: 74 \tReconstruction Loss: 1.215658\t lr: 1.00000000]\n",
      "100%|██████████| 59/59 [00:04<00:00, 12.19batch/s,  Epoch: 75 \tReconstruction Loss: 1.214769\t lr: 1.00000000]\n",
      "100%|██████████| 59/59 [00:04<00:00, 11.86batch/s,  Epoch: 76 \tReconstruction Loss: 1.207684\t lr: 1.00000000]\n",
      "100%|██████████| 59/59 [00:05<00:00, 11.49batch/s,  Epoch: 77 \tReconstruction Loss: 1.230107\t lr: 1.00000000]\n",
      "100%|██████████| 59/59 [00:05<00:00, 11.30batch/s,  Epoch: 78 \tReconstruction Loss: 1.217026\t lr: 1.00000000]\n",
      "100%|██████████| 59/59 [00:05<00:00, 11.65batch/s,  Epoch: 79 \tReconstruction Loss: 1.241979\t lr: 1.00000000]\n",
      "100%|██████████| 59/59 [00:05<00:00, 11.69batch/s,  Epoch: 80 \tReconstruction Loss: 1.190880\t lr: 1.00000000]\n",
      "100%|██████████| 59/59 [00:04<00:00, 12.65batch/s,  Epoch: 81 \tReconstruction Loss: 1.194897\t lr: 1.00000000]\n",
      "100%|██████████| 59/59 [00:04<00:00, 12.20batch/s,  Epoch: 82 \tReconstruction Loss: 1.167959\t lr: 1.00000000]\n",
      "100%|██████████| 59/59 [00:04<00:00, 12.22batch/s,  Epoch: 83 \tReconstruction Loss: 1.207894\t lr: 1.00000000]\n",
      "100%|██████████| 59/59 [00:04<00:00, 12.46batch/s,  Epoch: 84 \tReconstruction Loss: 1.195273\t lr: 1.00000000]\n",
      "100%|██████████| 59/59 [00:04<00:00, 12.50batch/s,  Epoch: 85 \tReconstruction Loss: 1.194732\t lr: 1.00000000]\n",
      "100%|██████████| 59/59 [00:04<00:00, 12.56batch/s,  Epoch: 86 \tReconstruction Loss: 1.144832\t lr: 1.00000000]\n",
      "100%|██████████| 59/59 [00:04<00:00, 12.50batch/s,  Epoch: 87 \tReconstruction Loss: 1.192882\t lr: 1.00000000]\n",
      "100%|██████████| 59/59 [00:04<00:00, 12.68batch/s,  Epoch: 88 \tReconstruction Loss: 1.171967\t lr: 1.00000000]\n",
      "100%|██████████| 59/59 [00:04<00:00, 12.15batch/s,  Epoch: 89 \tReconstruction Loss: 1.195695\t lr: 1.00000000]\n",
      "100%|██████████| 59/59 [00:05<00:00, 11.23batch/s,  Epoch: 90 \tReconstruction Loss: 1.181247\t lr: 1.00000000]\n",
      "100%|██████████| 59/59 [00:05<00:00, 11.72batch/s,  Epoch: 91 \tReconstruction Loss: 1.215083\t lr: 1.00000000]\n",
      "100%|██████████| 59/59 [00:04<00:00, 11.81batch/s,  Epoch: 92 \tReconstruction Loss: 1.168538\t lr: 1.00000000]\n",
      "100%|██████████| 59/59 [00:05<00:00, 11.58batch/s,  Epoch: 93 \tReconstruction Loss: 1.185572\t lr: 1.00000000]\n",
      "100%|██████████| 59/59 [00:04<00:00, 11.90batch/s,  Epoch: 94 \tReconstruction Loss: 1.142578\t lr: 1.00000000]\n",
      "100%|██████████| 59/59 [00:05<00:00, 11.03batch/s,  Epoch: 95 \tReconstruction Loss: 1.192329\t lr: 1.00000000]\n",
      "100%|██████████| 59/59 [00:05<00:00, 11.76batch/s,  Epoch: 96 \tReconstruction Loss: 1.171338\t lr: 1.00000000]\n",
      "100%|██████████| 59/59 [00:04<00:00, 12.36batch/s,  Epoch: 97 \tReconstruction Loss: 1.171881\t lr: 1.00000000]\n",
      "100%|██████████| 59/59 [00:04<00:00, 12.27batch/s,  Epoch: 98 \tReconstruction Loss: 1.166905\t lr: 1.00000000]\n",
      "100%|██████████| 59/59 [00:04<00:00, 12.67batch/s,  Epoch: 99 \tReconstruction Loss: 1.167778\t lr: 1.00000000]\n",
      "100%|██████████| 59/59 [00:04<00:00, 12.42batch/s,  Epoch: 100 \tReconstruction Loss: 1.155541\t lr: 1.00000000]\n",
      "100%|██████████| 59/59 [00:04<00:00, 12.36batch/s,  Epoch: 101 \tReconstruction Loss: 1.165535\t lr: 1.00000000]\n",
      "100%|██████████| 59/59 [00:04<00:00, 11.95batch/s,  Epoch: 102 \tReconstruction Loss: 1.161305\t lr: 1.00000000]\n",
      "100%|██████████| 59/59 [00:04<00:00, 11.99batch/s,  Epoch: 103 \tReconstruction Loss: 1.138964\t lr: 1.00000000]\n",
      "100%|██████████| 59/59 [00:05<00:00, 11.43batch/s,  Epoch: 104 \tReconstruction Loss: 1.160048\t lr: 1.00000000]\n",
      "100%|██████████| 59/59 [00:04<00:00, 11.86batch/s,  Epoch: 105 \tReconstruction Loss: 1.140296\t lr: 1.00000000]\n",
      "100%|██████████| 59/59 [00:05<00:00, 11.47batch/s,  Epoch: 106 \tReconstruction Loss: 1.144187\t lr: 1.00000000]\n",
      "100%|██████████| 59/59 [00:05<00:00, 11.75batch/s,  Epoch: 107 \tReconstruction Loss: 1.131422\t lr: 1.00000000]\n",
      "100%|██████████| 59/59 [00:05<00:00, 11.62batch/s,  Epoch: 108 \tReconstruction Loss: 1.119325\t lr: 1.00000000]\n",
      "100%|██████████| 59/59 [00:05<00:00, 11.49batch/s,  Epoch: 109 \tReconstruction Loss: 1.156723\t lr: 1.00000000]\n",
      "100%|██████████| 59/59 [00:05<00:00, 11.74batch/s,  Epoch: 110 \tReconstruction Loss: 1.119382\t lr: 1.00000000]\n",
      "100%|██████████| 59/59 [00:05<00:00, 11.65batch/s,  Epoch: 111 \tReconstruction Loss: 1.135021\t lr: 1.00000000]\n",
      "100%|██████████| 59/59 [00:05<00:00, 11.75batch/s,  Epoch: 112 \tReconstruction Loss: 1.112803\t lr: 1.00000000]\n",
      "100%|██████████| 59/59 [00:05<00:00, 11.51batch/s,  Epoch: 113 \tReconstruction Loss: 1.146521\t lr: 1.00000000]\n",
      "100%|██████████| 59/59 [00:04<00:00, 11.89batch/s,  Epoch: 114 \tReconstruction Loss: 1.113843\t lr: 1.00000000]\n",
      "100%|██████████| 59/59 [00:05<00:00, 11.14batch/s,  Epoch: 115 \tReconstruction Loss: 1.132971\t lr: 1.00000000]\n",
      "100%|██████████| 59/59 [00:04<00:00, 11.84batch/s,  Epoch: 116 \tReconstruction Loss: 1.128464\t lr: 1.00000000]\n",
      "100%|██████████| 59/59 [00:05<00:00, 11.51batch/s,  Epoch: 117 \tReconstruction Loss: 1.108849\t lr: 1.00000000]\n",
      "100%|██████████| 59/59 [00:05<00:00, 11.76batch/s,  Epoch: 118 \tReconstruction Loss: 1.108739\t lr: 1.00000000]\n",
      "100%|██████████| 59/59 [00:04<00:00, 12.21batch/s,  Epoch: 119 \tReconstruction Loss: 1.087185\t lr: 1.00000000]\n",
      "100%|██████████| 59/59 [00:04<00:00, 12.40batch/s,  Epoch: 120 \tReconstruction Loss: 1.111311\t lr: 1.00000000]\n",
      "100%|██████████| 59/59 [00:04<00:00, 12.62batch/s,  Epoch: 121 \tReconstruction Loss: 1.138426\t lr: 1.00000000]\n",
      "100%|██████████| 59/59 [00:05<00:00, 11.45batch/s,  Epoch: 122 \tReconstruction Loss: 1.135117\t lr: 1.00000000]\n",
      "100%|██████████| 59/59 [00:05<00:00, 11.52batch/s,  Epoch: 123 \tReconstruction Loss: 1.135484\t lr: 1.00000000]\n",
      "100%|██████████| 59/59 [00:05<00:00, 11.44batch/s,  Epoch: 124 \tReconstruction Loss: 1.104741\t lr: 1.00000000]\n",
      "100%|██████████| 59/59 [00:04<00:00, 11.92batch/s,  Epoch: 125 \tReconstruction Loss: 1.097863\t lr: 1.00000000]\n",
      "100%|██████████| 59/59 [00:04<00:00, 12.71batch/s,  Epoch: 126 \tReconstruction Loss: 1.129050\t lr: 1.00000000]\n",
      "100%|██████████| 59/59 [00:04<00:00, 12.31batch/s,  Epoch: 127 \tReconstruction Loss: 1.088508\t lr: 1.00000000]\n",
      "100%|██████████| 59/59 [00:04<00:00, 12.45batch/s,  Epoch: 128 \tReconstruction Loss: 1.087528\t lr: 1.00000000]\n",
      "100%|██████████| 59/59 [00:04<00:00, 12.13batch/s,  Epoch: 129 \tReconstruction Loss: 1.129428\t lr: 1.00000000]\n",
      "100%|██████████| 59/59 [00:04<00:00, 12.32batch/s,  Epoch: 130 \tReconstruction Loss: 1.103720\t lr: 1.00000000]\n",
      "100%|██████████| 59/59 [00:04<00:00, 12.44batch/s,  Epoch: 131 \tReconstruction Loss: 1.099635\t lr: 1.00000000]\n",
      "100%|██████████| 59/59 [00:04<00:00, 12.61batch/s,  Epoch: 132 \tReconstruction Loss: 1.079874\t lr: 1.00000000]\n",
      "100%|██████████| 59/59 [00:04<00:00, 12.40batch/s,  Epoch: 133 \tReconstruction Loss: 1.081993\t lr: 1.00000000]\n",
      "100%|██████████| 59/59 [00:04<00:00, 12.35batch/s,  Epoch: 134 \tReconstruction Loss: 1.113559\t lr: 1.00000000]\n",
      "100%|██████████| 59/59 [00:04<00:00, 12.21batch/s,  Epoch: 135 \tReconstruction Loss: 1.092551\t lr: 1.00000000]\n",
      "100%|██████████| 59/59 [00:04<00:00, 12.34batch/s,  Epoch: 136 \tReconstruction Loss: 1.099008\t lr: 1.00000000]\n",
      "100%|██████████| 59/59 [00:04<00:00, 12.51batch/s,  Epoch: 137 \tReconstruction Loss: 1.111005\t lr: 1.00000000]\n",
      "100%|██████████| 59/59 [00:04<00:00, 12.43batch/s,  Epoch: 138 \tReconstruction Loss: 1.109827\t lr: 1.00000000]\n",
      "100%|██████████| 59/59 [00:04<00:00, 12.62batch/s,  Epoch: 139 \tReconstruction Loss: 1.062124\t lr: 1.00000000]\n",
      "100%|██████████| 59/59 [00:04<00:00, 12.06batch/s,  Epoch: 140 \tReconstruction Loss: 1.078303\t lr: 1.00000000]\n",
      "100%|██████████| 59/59 [00:04<00:00, 12.37batch/s,  Epoch: 141 \tReconstruction Loss: 1.100113\t lr: 1.00000000]\n",
      "100%|██████████| 59/59 [00:04<00:00, 12.49batch/s,  Epoch: 142 \tReconstruction Loss: 1.060055\t lr: 1.00000000]\n",
      "100%|██████████| 59/59 [00:04<00:00, 12.32batch/s,  Epoch: 143 \tReconstruction Loss: 1.043029\t lr: 1.00000000]\n",
      "100%|██████████| 59/59 [00:04<00:00, 12.63batch/s,  Epoch: 144 \tReconstruction Loss: 1.080263\t lr: 1.00000000]\n",
      "100%|██████████| 59/59 [00:04<00:00, 12.27batch/s,  Epoch: 145 \tReconstruction Loss: 1.096369\t lr: 1.00000000]\n",
      "100%|██████████| 59/59 [00:04<00:00, 12.55batch/s,  Epoch: 146 \tReconstruction Loss: 1.075096\t lr: 1.00000000]\n",
      "100%|██████████| 59/59 [00:04<00:00, 12.42batch/s,  Epoch: 147 \tReconstruction Loss: 1.094861\t lr: 1.00000000]\n",
      "100%|██████████| 59/59 [00:04<00:00, 12.23batch/s,  Epoch: 148 \tReconstruction Loss: 1.080386\t lr: 1.00000000]\n",
      "100%|██████████| 59/59 [00:04<00:00, 12.05batch/s,  Epoch: 149 \tReconstruction Loss: 1.086873\t lr: 1.00000000]\n",
      "100%|██████████| 59/59 [00:04<00:00, 12.27batch/s,  Epoch: 150 \tReconstruction Loss: 1.063273\t lr: 1.00000000]\n",
      "100%|██████████| 59/59 [00:04<00:00, 12.56batch/s,  Epoch: 151 \tReconstruction Loss: 1.078572\t lr: 1.00000000]\n",
      "100%|██████████| 59/59 [00:04<00:00, 12.47batch/s,  Epoch: 152 \tReconstruction Loss: 0.948892\t lr: 0.10000000]\n",
      "100%|██████████| 59/59 [00:04<00:00, 12.44batch/s,  Epoch: 153 \tReconstruction Loss: 0.946137\t lr: 0.10000000]\n",
      "100%|██████████| 59/59 [00:04<00:00, 12.56batch/s,  Epoch: 154 \tReconstruction Loss: 0.961841\t lr: 0.10000000]\n",
      "100%|██████████| 59/59 [00:04<00:00, 12.15batch/s,  Epoch: 155 \tReconstruction Loss: 0.953252\t lr: 0.10000000]\n",
      "100%|██████████| 59/59 [00:04<00:00, 12.77batch/s,  Epoch: 156 \tReconstruction Loss: 0.946045\t lr: 0.10000000]\n",
      "100%|██████████| 59/59 [00:05<00:00, 11.71batch/s,  Epoch: 157 \tReconstruction Loss: 0.950918\t lr: 0.10000000]\n",
      "100%|██████████| 59/59 [00:05<00:00, 11.78batch/s,  Epoch: 158 \tReconstruction Loss: 0.962171\t lr: 0.10000000]\n",
      "100%|██████████| 59/59 [00:05<00:00, 11.59batch/s,  Epoch: 159 \tReconstruction Loss: 0.971362\t lr: 0.10000000]\n",
      "100%|██████████| 59/59 [00:05<00:00, 11.72batch/s,  Epoch: 160 \tReconstruction Loss: 0.935674\t lr: 0.10000000]\n",
      "100%|██████████| 59/59 [00:05<00:00, 11.23batch/s,  Epoch: 161 \tReconstruction Loss: 0.943786\t lr: 0.10000000]\n",
      "100%|██████████| 59/59 [00:04<00:00, 11.89batch/s,  Epoch: 162 \tReconstruction Loss: 0.963696\t lr: 0.10000000]\n",
      "100%|██████████| 59/59 [00:05<00:00, 11.56batch/s,  Epoch: 163 \tReconstruction Loss: 0.947416\t lr: 0.10000000]\n",
      "100%|██████████| 59/59 [00:04<00:00, 12.15batch/s,  Epoch: 164 \tReconstruction Loss: 0.933050\t lr: 0.10000000]\n",
      "100%|██████████| 59/59 [00:04<00:00, 13.16batch/s,  Epoch: 165 \tReconstruction Loss: 0.953024\t lr: 0.10000000]\n",
      "100%|██████████| 59/59 [00:04<00:00, 12.65batch/s,  Epoch: 166 \tReconstruction Loss: 0.954483\t lr: 0.10000000]\n",
      "100%|██████████| 59/59 [00:04<00:00, 12.05batch/s,  Epoch: 167 \tReconstruction Loss: 0.944515\t lr: 0.10000000]\n",
      "100%|██████████| 59/59 [00:04<00:00, 12.41batch/s,  Epoch: 168 \tReconstruction Loss: 0.943269\t lr: 0.10000000]\n",
      "100%|██████████| 59/59 [00:04<00:00, 12.40batch/s,  Epoch: 169 \tReconstruction Loss: 0.934418\t lr: 0.10000000]\n",
      "100%|██████████| 59/59 [00:05<00:00, 11.42batch/s,  Epoch: 170 \tReconstruction Loss: 0.939306\t lr: 0.10000000]\n",
      "100%|██████████| 59/59 [00:05<00:00, 11.53batch/s,  Epoch: 171 \tReconstruction Loss: 0.946072\t lr: 0.10000000]\n",
      "100%|██████████| 59/59 [00:05<00:00, 11.36batch/s,  Epoch: 172 \tReconstruction Loss: 0.938356\t lr: 0.10000000]\n",
      "100%|██████████| 59/59 [00:04<00:00, 12.80batch/s,  Epoch: 173 \tReconstruction Loss: 0.934132\t lr: 0.10000000]\n",
      "100%|██████████| 59/59 [00:04<00:00, 12.00batch/s,  Epoch: 174 \tReconstruction Loss: 0.949935\t lr: 0.10000000]\n",
      "100%|██████████| 59/59 [00:04<00:00, 11.93batch/s,  Epoch: 175 \tReconstruction Loss: 0.930908\t lr: 0.10000000]\n",
      "100%|██████████| 59/59 [00:05<00:00, 11.38batch/s,  Epoch: 176 \tReconstruction Loss: 0.933556\t lr: 0.10000000]\n",
      "100%|██████████| 59/59 [00:05<00:00, 11.66batch/s,  Epoch: 177 \tReconstruction Loss: 0.951785\t lr: 0.10000000]\n",
      "100%|██████████| 59/59 [00:05<00:00, 11.59batch/s,  Epoch: 178 \tReconstruction Loss: 0.937208\t lr: 0.10000000]\n",
      "100%|██████████| 59/59 [00:05<00:00, 11.32batch/s,  Epoch: 179 \tReconstruction Loss: 0.943554\t lr: 0.10000000]\n",
      "100%|██████████| 59/59 [00:05<00:00, 11.69batch/s,  Epoch: 180 \tReconstruction Loss: 0.935590\t lr: 0.10000000]\n",
      "100%|██████████| 59/59 [00:05<00:00, 11.33batch/s,  Epoch: 181 \tReconstruction Loss: 0.942545\t lr: 0.10000000]\n",
      "100%|██████████| 59/59 [00:04<00:00, 11.98batch/s,  Epoch: 182 \tReconstruction Loss: 0.953441\t lr: 0.10000000]\n",
      "100%|██████████| 59/59 [00:05<00:00, 11.40batch/s,  Epoch: 183 \tReconstruction Loss: 0.925737\t lr: 0.10000000]\n",
      "100%|██████████| 59/59 [00:05<00:00, 11.75batch/s,  Epoch: 184 \tReconstruction Loss: 0.928437\t lr: 0.10000000]\n",
      "100%|██████████| 59/59 [00:05<00:00, 11.24batch/s,  Epoch: 185 \tReconstruction Loss: 0.947381\t lr: 0.10000000]\n",
      "100%|██████████| 59/59 [00:04<00:00, 12.51batch/s,  Epoch: 186 \tReconstruction Loss: 0.940729\t lr: 0.10000000]\n",
      "100%|██████████| 59/59 [00:04<00:00, 12.67batch/s,  Epoch: 187 \tReconstruction Loss: 0.924421\t lr: 0.10000000]\n",
      "100%|██████████| 59/59 [00:04<00:00, 12.43batch/s,  Epoch: 188 \tReconstruction Loss: 0.929689\t lr: 0.10000000]\n",
      "100%|██████████| 59/59 [00:04<00:00, 12.34batch/s,  Epoch: 189 \tReconstruction Loss: 0.928330\t lr: 0.10000000]\n",
      "100%|██████████| 59/59 [00:05<00:00, 11.49batch/s,  Epoch: 190 \tReconstruction Loss: 0.919507\t lr: 0.10000000]\n",
      "100%|██████████| 59/59 [00:05<00:00, 11.77batch/s,  Epoch: 191 \tReconstruction Loss: 0.927801\t lr: 0.10000000]\n",
      "100%|██████████| 59/59 [00:05<00:00, 11.15batch/s,  Epoch: 192 \tReconstruction Loss: 0.933200\t lr: 0.10000000]\n",
      "100%|██████████| 59/59 [00:04<00:00, 11.94batch/s,  Epoch: 193 \tReconstruction Loss: 0.931404\t lr: 0.10000000]\n",
      "100%|██████████| 59/59 [00:04<00:00, 11.82batch/s,  Epoch: 194 \tReconstruction Loss: 0.927991\t lr: 0.10000000]\n",
      "100%|██████████| 59/59 [00:04<00:00, 12.72batch/s,  Epoch: 195 \tReconstruction Loss: 0.950377\t lr: 0.10000000]\n",
      "100%|██████████| 59/59 [00:04<00:00, 12.48batch/s,  Epoch: 196 \tReconstruction Loss: 0.943012\t lr: 0.10000000]\n",
      "100%|██████████| 59/59 [00:04<00:00, 12.57batch/s,  Epoch: 197 \tReconstruction Loss: 0.924609\t lr: 0.10000000]\n",
      "100%|██████████| 59/59 [00:04<00:00, 12.53batch/s,  Epoch: 198 \tReconstruction Loss: 0.897943\t lr: 0.10000000]\n",
      "100%|██████████| 59/59 [00:04<00:00, 12.27batch/s,  Epoch: 199 \tReconstruction Loss: 0.917104\t lr: 0.10000000]\n",
      "100%|██████████| 59/59 [00:04<00:00, 12.44batch/s,  Epoch: 200 \tReconstruction Loss: 0.930519\t lr: 0.10000000]\n"
     ]
    }
   ],
   "source": [
    "for epoch in range(1, 201):\n",
    "    loss = train1(model1, train_loader, optimizer, epoch)\n",
    "    scheduler.step(np.mean(loss))"
   ],
   "metadata": {
    "collapsed": false
   }
  },
  {
   "cell_type": "code",
   "execution_count": 21,
   "outputs": [
    {
     "name": "stderr",
     "output_type": "stream",
     "text": [
      "100%|██████████| 59/59 [00:04<00:00, 12.34batch/s,  Epoch: 201 \tReconstruction Loss: 0.894446\t lr: 0.10000000]\n",
      "100%|██████████| 59/59 [00:04<00:00, 12.55batch/s,  Epoch: 202 \tReconstruction Loss: 0.940515\t lr: 0.10000000]\n",
      "100%|██████████| 59/59 [00:05<00:00, 11.39batch/s,  Epoch: 203 \tReconstruction Loss: 0.935382\t lr: 0.10000000]\n",
      "100%|██████████| 59/59 [00:04<00:00, 11.83batch/s,  Epoch: 204 \tReconstruction Loss: 0.923537\t lr: 0.10000000]\n",
      "100%|██████████| 59/59 [00:05<00:00, 11.33batch/s,  Epoch: 205 \tReconstruction Loss: 0.940015\t lr: 0.10000000]\n",
      "100%|██████████| 59/59 [00:05<00:00, 11.78batch/s,  Epoch: 206 \tReconstruction Loss: 0.931961\t lr: 0.10000000]\n",
      "100%|██████████| 59/59 [00:05<00:00, 11.27batch/s,  Epoch: 207 \tReconstruction Loss: 0.926963\t lr: 0.10000000]\n",
      "100%|██████████| 59/59 [00:05<00:00, 11.53batch/s,  Epoch: 208 \tReconstruction Loss: 0.940455\t lr: 0.10000000]\n",
      "100%|██████████| 59/59 [00:05<00:00, 11.51batch/s,  Epoch: 209 \tReconstruction Loss: 0.899568\t lr: 0.10000000]\n",
      "100%|██████████| 59/59 [00:05<00:00, 11.39batch/s,  Epoch: 210 \tReconstruction Loss: 0.925608\t lr: 0.10000000]\n",
      "100%|██████████| 59/59 [00:05<00:00, 11.66batch/s,  Epoch: 211 \tReconstruction Loss: 0.925998\t lr: 0.10000000]\n",
      "100%|██████████| 59/59 [00:05<00:00, 11.32batch/s,  Epoch: 212 \tReconstruction Loss: 0.911980\t lr: 0.10000000]\n",
      "100%|██████████| 59/59 [00:05<00:00, 11.59batch/s,  Epoch: 213 \tReconstruction Loss: 0.930084\t lr: 0.10000000]\n",
      "100%|██████████| 59/59 [00:05<00:00, 11.60batch/s,  Epoch: 214 \tReconstruction Loss: 0.922703\t lr: 0.10000000]\n",
      "100%|██████████| 59/59 [00:05<00:00, 11.31batch/s,  Epoch: 215 \tReconstruction Loss: 0.908648\t lr: 0.10000000]\n",
      "100%|██████████| 59/59 [00:05<00:00, 11.48batch/s,  Epoch: 216 \tReconstruction Loss: 0.940734\t lr: 0.10000000]\n",
      "100%|██████████| 59/59 [00:05<00:00, 11.36batch/s,  Epoch: 217 \tReconstruction Loss: 0.928341\t lr: 0.10000000]\n",
      "100%|██████████| 59/59 [00:05<00:00, 11.43batch/s,  Epoch: 218 \tReconstruction Loss: 0.921898\t lr: 0.10000000]\n",
      "100%|██████████| 59/59 [00:05<00:00, 11.56batch/s,  Epoch: 219 \tReconstruction Loss: 0.912829\t lr: 0.10000000]\n",
      "100%|██████████| 59/59 [00:04<00:00, 12.81batch/s,  Epoch: 220 \tReconstruction Loss: 0.918030\t lr: 0.10000000]\n",
      "100%|██████████| 59/59 [00:04<00:00, 12.44batch/s,  Epoch: 221 \tReconstruction Loss: 0.932675\t lr: 0.10000000]\n",
      "100%|██████████| 59/59 [00:04<00:00, 12.25batch/s,  Epoch: 222 \tReconstruction Loss: 0.929888\t lr: 0.10000000]\n",
      "100%|██████████| 59/59 [00:04<00:00, 12.45batch/s,  Epoch: 223 \tReconstruction Loss: 0.911055\t lr: 0.10000000]\n",
      "100%|██████████| 59/59 [00:04<00:00, 12.69batch/s,  Epoch: 224 \tReconstruction Loss: 0.918311\t lr: 0.10000000]\n",
      "100%|██████████| 59/59 [00:05<00:00, 11.34batch/s,  Epoch: 225 \tReconstruction Loss: 0.926414\t lr: 0.10000000]\n",
      "100%|██████████| 59/59 [00:05<00:00, 11.64batch/s,  Epoch: 226 \tReconstruction Loss: 0.936898\t lr: 0.10000000]\n",
      "100%|██████████| 59/59 [00:05<00:00, 11.55batch/s,  Epoch: 227 \tReconstruction Loss: 0.922682\t lr: 0.10000000]\n",
      "100%|██████████| 59/59 [00:05<00:00, 11.54batch/s,  Epoch: 228 \tReconstruction Loss: 0.916800\t lr: 0.10000000]\n",
      "100%|██████████| 59/59 [00:05<00:00, 11.71batch/s,  Epoch: 229 \tReconstruction Loss: 0.907223\t lr: 0.10000000]\n",
      "100%|██████████| 59/59 [00:05<00:00, 11.18batch/s,  Epoch: 230 \tReconstruction Loss: 0.935781\t lr: 0.10000000]\n",
      "100%|██████████| 59/59 [00:05<00:00, 11.75batch/s,  Epoch: 231 \tReconstruction Loss: 0.919853\t lr: 0.10000000]\n",
      "100%|██████████| 59/59 [00:05<00:00, 11.38batch/s,  Epoch: 232 \tReconstruction Loss: 0.927534\t lr: 0.10000000]\n",
      "100%|██████████| 59/59 [00:04<00:00, 12.86batch/s,  Epoch: 233 \tReconstruction Loss: 0.911170\t lr: 0.10000000]\n",
      "100%|██████████| 59/59 [00:04<00:00, 12.13batch/s,  Epoch: 234 \tReconstruction Loss: 0.899315\t lr: 0.10000000]\n",
      "100%|██████████| 59/59 [00:04<00:00, 12.50batch/s,  Epoch: 235 \tReconstruction Loss: 0.913001\t lr: 0.10000000]\n",
      "100%|██████████| 59/59 [00:05<00:00, 11.47batch/s,  Epoch: 236 \tReconstruction Loss: 0.905885\t lr: 0.10000000]\n",
      "100%|██████████| 59/59 [00:05<00:00, 11.29batch/s,  Epoch: 237 \tReconstruction Loss: 0.916099\t lr: 0.10000000]\n",
      "100%|██████████| 59/59 [00:05<00:00, 11.73batch/s,  Epoch: 238 \tReconstruction Loss: 0.940148\t lr: 0.10000000]\n",
      "100%|██████████| 59/59 [00:05<00:00, 11.39batch/s,  Epoch: 239 \tReconstruction Loss: 0.902671\t lr: 0.10000000]\n",
      "100%|██████████| 59/59 [00:05<00:00, 11.80batch/s,  Epoch: 240 \tReconstruction Loss: 0.900267\t lr: 0.10000000]\n",
      "100%|██████████| 59/59 [00:05<00:00, 11.42batch/s,  Epoch: 241 \tReconstruction Loss: 0.926403\t lr: 0.10000000]\n",
      "100%|██████████| 59/59 [00:04<00:00, 11.85batch/s,  Epoch: 242 \tReconstruction Loss: 0.924220\t lr: 0.10000000]\n",
      "100%|██████████| 59/59 [00:05<00:00, 11.22batch/s,  Epoch: 243 \tReconstruction Loss: 0.909973\t lr: 0.10000000]\n",
      "100%|██████████| 59/59 [00:05<00:00, 11.71batch/s,  Epoch: 244 \tReconstruction Loss: 0.911379\t lr: 0.10000000]\n",
      "100%|██████████| 59/59 [00:05<00:00, 11.75batch/s,  Epoch: 245 \tReconstruction Loss: 0.906024\t lr: 0.10000000]\n",
      "100%|██████████| 59/59 [00:05<00:00, 11.60batch/s,  Epoch: 246 \tReconstruction Loss: 0.878792\t lr: 0.10000000]\n",
      "100%|██████████| 59/59 [00:05<00:00, 11.78batch/s,  Epoch: 247 \tReconstruction Loss: 0.895454\t lr: 0.10000000]\n",
      "100%|██████████| 59/59 [00:05<00:00, 11.08batch/s,  Epoch: 248 \tReconstruction Loss: 0.918003\t lr: 0.10000000]\n",
      "100%|██████████| 59/59 [00:04<00:00, 12.40batch/s,  Epoch: 249 \tReconstruction Loss: 0.894929\t lr: 0.10000000]\n",
      "100%|██████████| 59/59 [00:04<00:00, 12.21batch/s,  Epoch: 250 \tReconstruction Loss: 0.926700\t lr: 0.10000000]\n",
      "100%|██████████| 59/59 [00:04<00:00, 12.16batch/s,  Epoch: 251 \tReconstruction Loss: 0.904846\t lr: 0.10000000]\n",
      "100%|██████████| 59/59 [00:05<00:00, 11.50batch/s,  Epoch: 252 \tReconstruction Loss: 0.933622\t lr: 0.10000000]\n",
      "100%|██████████| 59/59 [00:05<00:00, 11.71batch/s,  Epoch: 253 \tReconstruction Loss: 0.909380\t lr: 0.10000000]\n",
      "100%|██████████| 59/59 [00:05<00:00, 11.26batch/s,  Epoch: 254 \tReconstruction Loss: 0.913115\t lr: 0.10000000]\n",
      "100%|██████████| 59/59 [00:05<00:00, 11.61batch/s,  Epoch: 255 \tReconstruction Loss: 0.918464\t lr: 0.10000000]\n",
      "100%|██████████| 59/59 [00:05<00:00, 11.61batch/s,  Epoch: 256 \tReconstruction Loss: 0.927395\t lr: 0.10000000]\n",
      "100%|██████████| 59/59 [00:05<00:00, 11.45batch/s,  Epoch: 257 \tReconstruction Loss: 0.926683\t lr: 0.10000000]\n",
      "100%|██████████| 59/59 [00:04<00:00, 12.56batch/s,  Epoch: 258 \tReconstruction Loss: 0.917754\t lr: 0.10000000]\n",
      "100%|██████████| 59/59 [00:04<00:00, 12.36batch/s,  Epoch: 259 \tReconstruction Loss: 0.879379\t lr: 0.10000000]\n",
      "100%|██████████| 59/59 [00:04<00:00, 12.10batch/s,  Epoch: 260 \tReconstruction Loss: 0.910260\t lr: 0.10000000]\n",
      "100%|██████████| 59/59 [00:05<00:00, 11.25batch/s,  Epoch: 261 \tReconstruction Loss: 0.915547\t lr: 0.10000000]\n",
      "100%|██████████| 59/59 [00:05<00:00, 11.58batch/s,  Epoch: 262 \tReconstruction Loss: 0.896098\t lr: 0.10000000]\n",
      "100%|██████████| 59/59 [00:05<00:00, 11.28batch/s,  Epoch: 263 \tReconstruction Loss: 0.897822\t lr: 0.10000000]\n",
      "100%|██████████| 59/59 [00:05<00:00, 11.13batch/s,  Epoch: 264 \tReconstruction Loss: 0.905389\t lr: 0.10000000]\n",
      "100%|██████████| 59/59 [00:05<00:00, 11.62batch/s,  Epoch: 265 \tReconstruction Loss: 0.905763\t lr: 0.10000000]\n",
      "100%|██████████| 59/59 [00:05<00:00, 11.24batch/s,  Epoch: 266 \tReconstruction Loss: 0.899298\t lr: 0.10000000]\n",
      "100%|██████████| 59/59 [00:05<00:00, 11.62batch/s,  Epoch: 267 \tReconstruction Loss: 0.910316\t lr: 0.10000000]\n",
      "100%|██████████| 59/59 [00:04<00:00, 12.48batch/s,  Epoch: 268 \tReconstruction Loss: 0.917985\t lr: 0.10000000]\n",
      "100%|██████████| 59/59 [00:04<00:00, 12.92batch/s,  Epoch: 269 \tReconstruction Loss: 0.922744\t lr: 0.10000000]\n",
      "100%|██████████| 59/59 [00:04<00:00, 12.11batch/s,  Epoch: 270 \tReconstruction Loss: 0.908564\t lr: 0.10000000]\n",
      "100%|██████████| 59/59 [00:04<00:00, 12.45batch/s,  Epoch: 271 \tReconstruction Loss: 0.906690\t lr: 0.10000000]\n",
      "100%|██████████| 59/59 [00:05<00:00, 11.32batch/s,  Epoch: 272 \tReconstruction Loss: 0.888359\t lr: 0.10000000]\n",
      "100%|██████████| 59/59 [00:04<00:00, 12.08batch/s,  Epoch: 273 \tReconstruction Loss: 0.916209\t lr: 0.10000000]\n",
      "100%|██████████| 59/59 [00:05<00:00, 11.54batch/s,  Epoch: 274 \tReconstruction Loss: 0.926377\t lr: 0.10000000]\n",
      "100%|██████████| 59/59 [00:05<00:00, 11.22batch/s,  Epoch: 275 \tReconstruction Loss: 0.897030\t lr: 0.10000000]\n",
      "100%|██████████| 59/59 [00:05<00:00, 11.66batch/s,  Epoch: 276 \tReconstruction Loss: 0.898250\t lr: 0.10000000]\n",
      "100%|██████████| 59/59 [00:05<00:00, 11.29batch/s,  Epoch: 277 \tReconstruction Loss: 0.898050\t lr: 0.10000000]\n",
      "100%|██████████| 59/59 [00:05<00:00, 11.76batch/s,  Epoch: 278 \tReconstruction Loss: 0.909527\t lr: 0.10000000]\n",
      "100%|██████████| 59/59 [00:05<00:00, 11.41batch/s,  Epoch: 279 \tReconstruction Loss: 0.900683\t lr: 0.10000000]\n",
      "100%|██████████| 59/59 [00:05<00:00, 11.59batch/s,  Epoch: 280 \tReconstruction Loss: 0.899742\t lr: 0.10000000]\n",
      "100%|██████████| 59/59 [00:04<00:00, 12.08batch/s,  Epoch: 281 \tReconstruction Loss: 0.880350\t lr: 0.10000000]\n",
      "100%|██████████| 59/59 [00:04<00:00, 12.40batch/s,  Epoch: 282 \tReconstruction Loss: 0.915587\t lr: 0.10000000]\n",
      "100%|██████████| 59/59 [00:04<00:00, 12.07batch/s,  Epoch: 283 \tReconstruction Loss: 0.937809\t lr: 0.10000000]\n",
      "100%|██████████| 59/59 [00:04<00:00, 12.31batch/s,  Epoch: 284 \tReconstruction Loss: 0.926432\t lr: 0.10000000]\n",
      "100%|██████████| 59/59 [00:04<00:00, 12.38batch/s,  Epoch: 285 \tReconstruction Loss: 0.907612\t lr: 0.10000000]\n",
      "100%|██████████| 59/59 [00:04<00:00, 13.11batch/s,  Epoch: 286 \tReconstruction Loss: 0.930502\t lr: 0.10000000]\n",
      "100%|██████████| 59/59 [00:04<00:00, 11.83batch/s,  Epoch: 287 \tReconstruction Loss: 0.894772\t lr: 0.10000000]\n",
      "100%|██████████| 59/59 [00:05<00:00, 11.40batch/s,  Epoch: 288 \tReconstruction Loss: 0.878228\t lr: 0.10000000]\n",
      "100%|██████████| 59/59 [00:05<00:00, 11.76batch/s,  Epoch: 289 \tReconstruction Loss: 0.910769\t lr: 0.10000000]\n",
      "100%|██████████| 59/59 [00:05<00:00, 11.51batch/s,  Epoch: 290 \tReconstruction Loss: 0.916698\t lr: 0.10000000]\n",
      "100%|██████████| 59/59 [00:05<00:00, 11.68batch/s,  Epoch: 291 \tReconstruction Loss: 0.910220\t lr: 0.10000000]\n",
      "100%|██████████| 59/59 [00:05<00:00, 11.16batch/s,  Epoch: 292 \tReconstruction Loss: 0.926271\t lr: 0.10000000]\n",
      "100%|██████████| 59/59 [00:05<00:00, 11.63batch/s,  Epoch: 293 \tReconstruction Loss: 0.915219\t lr: 0.10000000]\n",
      "100%|██████████| 59/59 [00:05<00:00, 11.47batch/s,  Epoch: 294 \tReconstruction Loss: 0.887271\t lr: 0.10000000]\n",
      "100%|██████████| 59/59 [00:05<00:00, 11.30batch/s,  Epoch: 295 \tReconstruction Loss: 0.914433\t lr: 0.10000000]\n",
      "100%|██████████| 59/59 [00:05<00:00, 11.69batch/s,  Epoch: 296 \tReconstruction Loss: 0.911560\t lr: 0.10000000]\n",
      "100%|██████████| 59/59 [00:05<00:00, 11.37batch/s,  Epoch: 297 \tReconstruction Loss: 0.900684\t lr: 0.10000000]\n",
      "100%|██████████| 59/59 [00:05<00:00, 11.63batch/s,  Epoch: 298 \tReconstruction Loss: 0.902160\t lr: 0.10000000]\n",
      "100%|██████████| 59/59 [00:05<00:00, 11.05batch/s,  Epoch: 299 \tReconstruction Loss: 0.894034\t lr: 0.10000000]\n",
      "100%|██████████| 59/59 [00:05<00:00, 11.55batch/s,  Epoch: 300 \tReconstruction Loss: 0.904941\t lr: 0.10000000]\n"
     ]
    }
   ],
   "source": [
    "for epoch in range(201, 301):\n",
    "    loss = train1(model1, train_loader, optimizer, epoch)\n",
    "    scheduler.step(np.mean(loss))"
   ],
   "metadata": {
    "collapsed": false
   }
  },
  {
   "cell_type": "code",
   "execution_count": 25,
   "outputs": [
    {
     "data": {
      "text/plain": "<matplotlib.image.AxesImage at 0x19c908dba30>"
     },
     "execution_count": 25,
     "metadata": {},
     "output_type": "execute_result"
    },
    {
     "data": {
      "text/plain": "<Figure size 640x480 with 1 Axes>",
      "image/png": "[encoded data removed]"
     },
     "metadata": {},
     "output_type": "display_data"
    }
   ],
   "source": [
    "img0 = next(iter(train_loader))[0][99]\n",
    "plt.imshow(img0[0], cmap='Greys')"
   ],
   "metadata": {
    "collapsed": false
   }
  },
  {
   "cell_type": "code",
   "execution_count": 31,
   "outputs": [
    {
     "data": {
      "text/plain": "<matplotlib.image.AxesImage at 0x19c9a2edba0>"
     },
     "execution_count": 31,
     "metadata": {},
     "output_type": "execute_result"
    },
    {
     "data": {
      "text/plain": "<Figure size 640x480 with 1 Axes>",
      "image/png": "[encoded data removed]"
     },
     "metadata": {},
     "output_type": "display_data"
    }
   ],
   "source": [
    "output, mu, log_var = model(img0.view(-1, 28 * 28).cuda())\n",
    "plt.imshow(output.cpu().detach().view(28, 28), cmap='Greys')"
   ],
   "metadata": {
    "collapsed": false
   }
  },
  {
   "cell_type": "code",
   "execution_count": 32,
   "outputs": [
    {
     "data": {
      "text/plain": "<matplotlib.image.AxesImage at 0x19c9a1e6620>"
     },
     "execution_count": 32,
     "metadata": {},
     "output_type": "execute_result"
    },
    {
     "data": {
      "text/plain": "<Figure size 640x480 with 1 Axes>",
      "image/png": "[encoded data removed]"
     },
     "metadata": {},
     "output_type": "display_data"
    }
   ],
   "source": [
    "_, interOutput, _ = model(img0.view(-1, 28 * 28).cuda())\n",
    "output, mu, log_var = model1(interOutput)\n",
    "plt.imshow(model.sample(output).cpu().detach().view(28, 28), cmap='Greys')"
   ],
   "metadata": {
    "collapsed": false
   }
  },
  {
   "cell_type": "code",
   "execution_count": 33,
   "outputs": [
    {
     "data": {
      "text/plain": "tensor([[ 2.7183e-02,  8.6011e+00,  8.4348e+00,  4.0580e+00, -3.1790e+00,\n         -1.2977e+01,  2.4694e+01, -1.2136e+01,  2.4074e+00,  7.1473e+00,\n          1.9952e+00,  2.9003e+01, -3.6338e-01,  7.2282e-01, -4.3633e+00,\n          5.2911e+00]], device='cuda:0', grad_fn=<AddmmBackward0>)"
     },
     "execution_count": 33,
     "metadata": {},
     "output_type": "execute_result"
    }
   ],
   "source": [
    "mu"
   ],
   "metadata": {
    "collapsed": false
   }
  },
  {
   "cell_type": "code",
   "execution_count": 34,
   "outputs": [
    {
     "data": {
      "text/plain": "tensor([[-25.7693, -23.5371, -30.4626, -28.6531, -29.5610, -32.2796, -32.6819,\n         -29.9182, -27.5484, -31.4930, -28.7216, -25.5644, -31.8688, -30.8862,\n         -27.0919, -30.4480]], device='cuda:0', grad_fn=<AddmmBackward0>)"
     },
     "execution_count": 34,
     "metadata": {},
     "output_type": "execute_result"
    }
   ],
   "source": [
    "log_var"
   ],
   "metadata": {
    "collapsed": false
   }
  },
  {
   "cell_type": "code",
   "execution_count": 35,
   "outputs": [],
   "source": [
    "torch.save(model1.state_dict(),'regVAE01_200epoch')"
   ],
   "metadata": {
    "collapsed": false
   }
  },
  {
   "cell_type": "markdown",
   "source": [
    "### model2"
   ],
   "metadata": {
    "collapsed": false
   }
  },
  {
   "cell_type": "code",
   "execution_count": null,
   "outputs": [],
   "source": [
    "model2="
   ],
   "metadata": {
    "collapsed": false
   }
  }
 ],
 "metadata": {
  "kernelspec": {
   "display_name": "Python 3",
   "language": "python",
   "name": "python3"
  },
  "language_info": {
   "codemirror_mode": {
    "name": "ipython",
    "version": 2
   },
   "file_extension": ".py",
   "mimetype": "text/x-python",
   "name": "python",
   "nbconvert_exporter": "python",
   "pygments_lexer": "ipython2",
   "version": "2.7.6"
  }
 },
 "nbformat": 4,
 "nbformat_minor": 0
}
