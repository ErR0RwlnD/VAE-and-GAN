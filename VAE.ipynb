{
 "cells": [
  {
   "cell_type": "code",
   "execution_count": 1,
   "metadata": {
    "collapsed": true
   },
   "outputs": [],
   "source": [
    "import matplotlib.pyplot as plt\n",
    "import numpy as np\n",
    "import torch\n",
    "from torch import nn\n",
    "from torch import optim\n",
    "from torch.optim.lr_scheduler import ReduceLROnPlateau\n",
    "from torchvision import datasets, transforms\n",
    "from tqdm import tqdm\n",
    "\n",
    "from src.VAE import LinearVAE"
   ]
  },
  {
   "cell_type": "code",
   "execution_count": 2,
   "outputs": [],
   "source": [
    "encoder1 = nn.Sequential(nn.Linear(28 * 28, 256),\n",
    "                         nn.ReLU(),\n",
    "                         nn.Linear(256, 128),\n",
    "                         nn.ReLU())\n",
    "decoder1 = nn.Sequential(nn.Linear(64, 128),\n",
    "                         nn.ReLU(),\n",
    "                         nn.Linear(128, 256),\n",
    "                         nn.ReLU(),\n",
    "                         nn.Linear(256, 28 * 28),\n",
    "                         nn.Sigmoid())\n",
    "encoder2 = nn.Sequential(nn.Linear(28 * 28, 256))\n",
    "decoder2 = nn.Sequential(nn.Linear(256, 28 * 28))\n",
    "vae = LinearVAE(encoder1, decoder1, 128, 64)"
   ],
   "metadata": {
    "collapsed": false
   }
  },
  {
   "cell_type": "code",
   "execution_count": 3,
   "outputs": [],
   "source": [
    "def KLD(mu: torch.Tensor, log_var: torch.Tensor):\n",
    "    return -0.5 * torch.mean(1 + log_var - mu.pow(2) - log_var.exp())\n",
    "\n",
    "\n",
    "def BCE(recon: torch.Tensor, X: torch.Tensor):\n",
    "    return nn.functional.binary_cross_entropy(recon, X, reduction='mean')\n",
    "\n",
    "\n",
    "def L1Loss(recon: torch.Tensor, X: torch.Tensor):\n",
    "    return nn.functional.l1_loss(recon, X, reduction='mean')\n",
    "\n",
    "\n",
    "def L2Loss(recon: torch.Tensor, X: torch.Tensor):\n",
    "    return nn.functional.mse_loss(recon, X, reduction='mean')"
   ],
   "metadata": {
    "collapsed": false
   }
  },
  {
   "cell_type": "code",
   "execution_count": 43,
   "outputs": [],
   "source": [
    "transform = transforms.Compose([\n",
    "    transforms.ToTensor()\n",
    "])\n",
    "dataset1 = datasets.MNIST('../data', train=True, download=True,\n",
    "                          transform=transform)\n",
    "dataset2 = datasets.MNIST('../data', train=False,\n",
    "                          transform=transform)\n",
    "train_loader = torch.utils.data.DataLoader(dataset1, batch_size=1024, shuffle=True)\n",
    "test_loader = torch.utils.data.DataLoader(dataset2, batch_size=10000)"
   ],
   "metadata": {
    "collapsed": false
   }
  },
  {
   "cell_type": "markdown",
   "source": [
    "## KLD and BCE"
   ],
   "metadata": {
    "collapsed": false
   }
  },
  {
   "cell_type": "code",
   "execution_count": 123,
   "outputs": [],
   "source": [
    "model = vae.to('cuda')\n",
    "optimizer = optim.Adadelta(model.parameters(), lr=1e-1)\n",
    "scheduler = ReduceLROnPlateau(optimizer, factor=0.1, patience=5, verbose=False, threshold=1e-3)"
   ],
   "metadata": {
    "collapsed": false
   }
  },
  {
   "cell_type": "code",
   "execution_count": 124,
   "outputs": [],
   "source": [
    "def train(model, train_loader, optimizer, epoch):\n",
    "    model.train()\n",
    "    allLoss = []\n",
    "    allReconLoss = []\n",
    "    with tqdm(train_loader, unit='batch') as tEpoch:\n",
    "        for data, _ in tEpoch:\n",
    "            data = data.to('cuda').view(-1, 28 * 28)\n",
    "            optimizer.zero_grad()\n",
    "            output, mu, log_var = model(data)\n",
    "            reconLoss = BCE(output, data)\n",
    "            loss = KLD(mu, log_var)\n",
    "            loss.backward()\n",
    "            optimizer.step()\n",
    "            allLoss.append(loss.item())\n",
    "            allReconLoss.append(reconLoss.item())\n",
    "            tEpoch.set_postfix_str(' Epoch: {} \\tTotal Loss: {:.6f}\\tReconstruction Loss: {:.6f}\\t lr: {:.8f}'.format(\n",
    "                epoch, loss.item(), reconLoss.item(), optimizer.param_groups[0]['lr']))\n",
    "    return allLoss, allReconLoss"
   ],
   "metadata": {
    "collapsed": false
   }
  },
  {
   "cell_type": "code",
   "execution_count": 125,
   "outputs": [
    {
     "name": "stderr",
     "output_type": "stream",
     "text": [
      "100%|██████████| 59/59 [00:05<00:00, 11.65batch/s,  Epoch: 1 \tTotal Loss: 0.000001\tReconstruction Loss: 0.262482\t lr: 0.10000000]\n",
      "100%|██████████| 59/59 [00:04<00:00, 13.48batch/s,  Epoch: 2 \tTotal Loss: 0.000001\tReconstruction Loss: 0.263870\t lr: 0.10000000]\n",
      "100%|██████████| 59/59 [00:04<00:00, 13.24batch/s,  Epoch: 3 \tTotal Loss: 0.000001\tReconstruction Loss: 0.263912\t lr: 0.10000000]\n",
      "100%|██████████| 59/59 [00:04<00:00, 12.67batch/s,  Epoch: 4 \tTotal Loss: 0.000000\tReconstruction Loss: 0.263187\t lr: 0.10000000]\n",
      "100%|██████████| 59/59 [00:04<00:00, 13.20batch/s,  Epoch: 5 \tTotal Loss: 0.000000\tReconstruction Loss: 0.261560\t lr: 0.10000000]\n",
      "100%|██████████| 59/59 [00:04<00:00, 12.56batch/s,  Epoch: 6 \tTotal Loss: 0.000000\tReconstruction Loss: 0.261086\t lr: 0.10000000]\n",
      "100%|██████████| 59/59 [00:04<00:00, 13.06batch/s,  Epoch: 7 \tTotal Loss: 0.000000\tReconstruction Loss: 0.261644\t lr: 0.10000000]\n",
      "100%|██████████| 59/59 [00:04<00:00, 13.20batch/s,  Epoch: 8 \tTotal Loss: 0.000000\tReconstruction Loss: 0.263898\t lr: 0.01000000]\n",
      "100%|██████████| 59/59 [00:04<00:00, 12.48batch/s,  Epoch: 9 \tTotal Loss: 0.000000\tReconstruction Loss: 0.263763\t lr: 0.01000000]\n",
      "100%|██████████| 59/59 [00:04<00:00, 13.21batch/s,  Epoch: 10 \tTotal Loss: 0.000000\tReconstruction Loss: 0.265138\t lr: 0.01000000]\n",
      "100%|██████████| 59/59 [00:04<00:00, 13.31batch/s,  Epoch: 11 \tTotal Loss: 0.000000\tReconstruction Loss: 0.263124\t lr: 0.01000000]\n",
      "100%|██████████| 59/59 [00:04<00:00, 12.54batch/s,  Epoch: 12 \tTotal Loss: 0.000000\tReconstruction Loss: 0.260337\t lr: 0.01000000]\n",
      "100%|██████████| 59/59 [00:04<00:00, 12.89batch/s,  Epoch: 13 \tTotal Loss: 0.000000\tReconstruction Loss: 0.264206\t lr: 0.01000000]\n",
      "100%|██████████| 59/59 [00:04<00:00, 12.96batch/s,  Epoch: 14 \tTotal Loss: 0.000000\tReconstruction Loss: 0.266170\t lr: 0.00100000]\n",
      "100%|██████████| 59/59 [00:04<00:00, 13.04batch/s,  Epoch: 15 \tTotal Loss: 0.000000\tReconstruction Loss: 0.263143\t lr: 0.00100000]\n",
      "100%|██████████| 59/59 [00:04<00:00, 13.11batch/s,  Epoch: 16 \tTotal Loss: 0.000002\tReconstruction Loss: 0.259044\t lr: 0.00100000]\n",
      "100%|██████████| 59/59 [00:04<00:00, 12.59batch/s,  Epoch: 17 \tTotal Loss: 0.000000\tReconstruction Loss: 0.266323\t lr: 0.00100000]\n",
      "100%|██████████| 59/59 [00:04<00:00, 12.84batch/s,  Epoch: 18 \tTotal Loss: 0.000000\tReconstruction Loss: 0.260475\t lr: 0.00100000]\n",
      "100%|██████████| 59/59 [00:04<00:00, 12.87batch/s,  Epoch: 19 \tTotal Loss: 0.000000\tReconstruction Loss: 0.265579\t lr: 0.00100000]\n",
      "100%|██████████| 59/59 [00:04<00:00, 13.15batch/s,  Epoch: 20 \tTotal Loss: 0.000001\tReconstruction Loss: 0.264563\t lr: 0.00010000]\n",
      "100%|██████████| 59/59 [00:04<00:00, 12.76batch/s,  Epoch: 21 \tTotal Loss: 0.000000\tReconstruction Loss: 0.259927\t lr: 0.00010000]\n",
      "100%|██████████| 59/59 [00:04<00:00, 13.15batch/s,  Epoch: 22 \tTotal Loss: 0.000000\tReconstruction Loss: 0.258998\t lr: 0.00010000]\n",
      "100%|██████████| 59/59 [00:04<00:00, 12.37batch/s,  Epoch: 23 \tTotal Loss: 0.000000\tReconstruction Loss: 0.257731\t lr: 0.00010000]\n",
      "100%|██████████| 59/59 [00:04<00:00, 12.89batch/s,  Epoch: 24 \tTotal Loss: 0.000000\tReconstruction Loss: 0.265188\t lr: 0.00010000]\n",
      "100%|██████████| 59/59 [00:04<00:00, 12.86batch/s,  Epoch: 25 \tTotal Loss: 0.000000\tReconstruction Loss: 0.265181\t lr: 0.00010000]\n",
      "100%|██████████| 59/59 [00:04<00:00, 12.89batch/s,  Epoch: 26 \tTotal Loss: 0.000000\tReconstruction Loss: 0.262299\t lr: 0.00001000]\n",
      " 20%|██        | 12/59 [00:01<00:04, 11.61batch/s,  Epoch: 27 \tTotal Loss: 0.000000\tReconstruction Loss: 0.262823\t lr: 0.00001000]\n"
     ]
    },
    {
     "ename": "KeyboardInterrupt",
     "evalue": "",
     "output_type": "error",
     "traceback": [
      "\u001B[1;31m---------------------------------------------------------------------------\u001B[0m",
      "\u001B[1;31mKeyboardInterrupt\u001B[0m                         Traceback (most recent call last)",
      "Cell \u001B[1;32mIn [125], line 2\u001B[0m\n\u001B[0;32m      1\u001B[0m \u001B[38;5;28;01mfor\u001B[39;00m epoch \u001B[38;5;129;01min\u001B[39;00m \u001B[38;5;28mrange\u001B[39m(\u001B[38;5;241m1\u001B[39m, \u001B[38;5;241m201\u001B[39m):\n\u001B[1;32m----> 2\u001B[0m     _, loss \u001B[38;5;241m=\u001B[39m \u001B[43mtrain\u001B[49m\u001B[43m(\u001B[49m\u001B[43mmodel\u001B[49m\u001B[43m,\u001B[49m\u001B[43m \u001B[49m\u001B[43mtrain_loader\u001B[49m\u001B[43m,\u001B[49m\u001B[43m \u001B[49m\u001B[43moptimizer\u001B[49m\u001B[43m,\u001B[49m\u001B[43m \u001B[49m\u001B[43mepoch\u001B[49m\u001B[43m)\u001B[49m\n\u001B[0;32m      3\u001B[0m     scheduler\u001B[38;5;241m.\u001B[39mstep(np\u001B[38;5;241m.\u001B[39mmean(loss))\n",
      "Cell \u001B[1;32mIn [124], line 6\u001B[0m, in \u001B[0;36mtrain\u001B[1;34m(model, train_loader, optimizer, epoch)\u001B[0m\n\u001B[0;32m      4\u001B[0m allReconLoss \u001B[38;5;241m=\u001B[39m []\n\u001B[0;32m      5\u001B[0m \u001B[38;5;28;01mwith\u001B[39;00m tqdm(train_loader, unit\u001B[38;5;241m=\u001B[39m\u001B[38;5;124m'\u001B[39m\u001B[38;5;124mbatch\u001B[39m\u001B[38;5;124m'\u001B[39m) \u001B[38;5;28;01mas\u001B[39;00m tEpoch:\n\u001B[1;32m----> 6\u001B[0m     \u001B[38;5;28;01mfor\u001B[39;00m data, _ \u001B[38;5;129;01min\u001B[39;00m tEpoch:\n\u001B[0;32m      7\u001B[0m         data \u001B[38;5;241m=\u001B[39m data\u001B[38;5;241m.\u001B[39mto(\u001B[38;5;124m'\u001B[39m\u001B[38;5;124mcuda\u001B[39m\u001B[38;5;124m'\u001B[39m)\u001B[38;5;241m.\u001B[39mview(\u001B[38;5;241m-\u001B[39m\u001B[38;5;241m1\u001B[39m, \u001B[38;5;241m28\u001B[39m \u001B[38;5;241m*\u001B[39m \u001B[38;5;241m28\u001B[39m)\n\u001B[0;32m      8\u001B[0m         optimizer\u001B[38;5;241m.\u001B[39mzero_grad()\n",
      "File \u001B[1;32mC:\\Python310\\lib\\site-packages\\tqdm\\std.py:1195\u001B[0m, in \u001B[0;36mtqdm.__iter__\u001B[1;34m(self)\u001B[0m\n\u001B[0;32m   1192\u001B[0m time \u001B[38;5;241m=\u001B[39m \u001B[38;5;28mself\u001B[39m\u001B[38;5;241m.\u001B[39m_time\n\u001B[0;32m   1194\u001B[0m \u001B[38;5;28;01mtry\u001B[39;00m:\n\u001B[1;32m-> 1195\u001B[0m     \u001B[38;5;28;01mfor\u001B[39;00m obj \u001B[38;5;129;01min\u001B[39;00m iterable:\n\u001B[0;32m   1196\u001B[0m         \u001B[38;5;28;01myield\u001B[39;00m obj\n\u001B[0;32m   1197\u001B[0m         \u001B[38;5;66;03m# Update and possibly print the progressbar.\u001B[39;00m\n\u001B[0;32m   1198\u001B[0m         \u001B[38;5;66;03m# Note: does not call self.update(1) for speed optimisation.\u001B[39;00m\n",
      "File \u001B[1;32mC:\\Python310\\lib\\site-packages\\torch\\utils\\data\\dataloader.py:681\u001B[0m, in \u001B[0;36m_BaseDataLoaderIter.__next__\u001B[1;34m(self)\u001B[0m\n\u001B[0;32m    678\u001B[0m \u001B[38;5;28;01mif\u001B[39;00m \u001B[38;5;28mself\u001B[39m\u001B[38;5;241m.\u001B[39m_sampler_iter \u001B[38;5;129;01mis\u001B[39;00m \u001B[38;5;28;01mNone\u001B[39;00m:\n\u001B[0;32m    679\u001B[0m     \u001B[38;5;66;03m# TODO(https://github.com/pytorch/pytorch/issues/76750)\u001B[39;00m\n\u001B[0;32m    680\u001B[0m     \u001B[38;5;28mself\u001B[39m\u001B[38;5;241m.\u001B[39m_reset()  \u001B[38;5;66;03m# type: ignore[call-arg]\u001B[39;00m\n\u001B[1;32m--> 681\u001B[0m data \u001B[38;5;241m=\u001B[39m \u001B[38;5;28;43mself\u001B[39;49m\u001B[38;5;241;43m.\u001B[39;49m\u001B[43m_next_data\u001B[49m\u001B[43m(\u001B[49m\u001B[43m)\u001B[49m\n\u001B[0;32m    682\u001B[0m \u001B[38;5;28mself\u001B[39m\u001B[38;5;241m.\u001B[39m_num_yielded \u001B[38;5;241m+\u001B[39m\u001B[38;5;241m=\u001B[39m \u001B[38;5;241m1\u001B[39m\n\u001B[0;32m    683\u001B[0m \u001B[38;5;28;01mif\u001B[39;00m \u001B[38;5;28mself\u001B[39m\u001B[38;5;241m.\u001B[39m_dataset_kind \u001B[38;5;241m==\u001B[39m _DatasetKind\u001B[38;5;241m.\u001B[39mIterable \u001B[38;5;129;01mand\u001B[39;00m \\\n\u001B[0;32m    684\u001B[0m         \u001B[38;5;28mself\u001B[39m\u001B[38;5;241m.\u001B[39m_IterableDataset_len_called \u001B[38;5;129;01mis\u001B[39;00m \u001B[38;5;129;01mnot\u001B[39;00m \u001B[38;5;28;01mNone\u001B[39;00m \u001B[38;5;129;01mand\u001B[39;00m \\\n\u001B[0;32m    685\u001B[0m         \u001B[38;5;28mself\u001B[39m\u001B[38;5;241m.\u001B[39m_num_yielded \u001B[38;5;241m>\u001B[39m \u001B[38;5;28mself\u001B[39m\u001B[38;5;241m.\u001B[39m_IterableDataset_len_called:\n",
      "File \u001B[1;32mC:\\Python310\\lib\\site-packages\\torch\\utils\\data\\dataloader.py:721\u001B[0m, in \u001B[0;36m_SingleProcessDataLoaderIter._next_data\u001B[1;34m(self)\u001B[0m\n\u001B[0;32m    719\u001B[0m \u001B[38;5;28;01mdef\u001B[39;00m \u001B[38;5;21m_next_data\u001B[39m(\u001B[38;5;28mself\u001B[39m):\n\u001B[0;32m    720\u001B[0m     index \u001B[38;5;241m=\u001B[39m \u001B[38;5;28mself\u001B[39m\u001B[38;5;241m.\u001B[39m_next_index()  \u001B[38;5;66;03m# may raise StopIteration\u001B[39;00m\n\u001B[1;32m--> 721\u001B[0m     data \u001B[38;5;241m=\u001B[39m \u001B[38;5;28;43mself\u001B[39;49m\u001B[38;5;241;43m.\u001B[39;49m\u001B[43m_dataset_fetcher\u001B[49m\u001B[38;5;241;43m.\u001B[39;49m\u001B[43mfetch\u001B[49m\u001B[43m(\u001B[49m\u001B[43mindex\u001B[49m\u001B[43m)\u001B[49m  \u001B[38;5;66;03m# may raise StopIteration\u001B[39;00m\n\u001B[0;32m    722\u001B[0m     \u001B[38;5;28;01mif\u001B[39;00m \u001B[38;5;28mself\u001B[39m\u001B[38;5;241m.\u001B[39m_pin_memory:\n\u001B[0;32m    723\u001B[0m         data \u001B[38;5;241m=\u001B[39m _utils\u001B[38;5;241m.\u001B[39mpin_memory\u001B[38;5;241m.\u001B[39mpin_memory(data, \u001B[38;5;28mself\u001B[39m\u001B[38;5;241m.\u001B[39m_pin_memory_device)\n",
      "File \u001B[1;32mC:\\Python310\\lib\\site-packages\\torch\\utils\\data\\_utils\\fetch.py:49\u001B[0m, in \u001B[0;36m_MapDatasetFetcher.fetch\u001B[1;34m(self, possibly_batched_index)\u001B[0m\n\u001B[0;32m     47\u001B[0m \u001B[38;5;28;01mdef\u001B[39;00m \u001B[38;5;21mfetch\u001B[39m(\u001B[38;5;28mself\u001B[39m, possibly_batched_index):\n\u001B[0;32m     48\u001B[0m     \u001B[38;5;28;01mif\u001B[39;00m \u001B[38;5;28mself\u001B[39m\u001B[38;5;241m.\u001B[39mauto_collation:\n\u001B[1;32m---> 49\u001B[0m         data \u001B[38;5;241m=\u001B[39m [\u001B[38;5;28mself\u001B[39m\u001B[38;5;241m.\u001B[39mdataset[idx] \u001B[38;5;28;01mfor\u001B[39;00m idx \u001B[38;5;129;01min\u001B[39;00m possibly_batched_index]\n\u001B[0;32m     50\u001B[0m     \u001B[38;5;28;01melse\u001B[39;00m:\n\u001B[0;32m     51\u001B[0m         data \u001B[38;5;241m=\u001B[39m \u001B[38;5;28mself\u001B[39m\u001B[38;5;241m.\u001B[39mdataset[possibly_batched_index]\n",
      "File \u001B[1;32mC:\\Python310\\lib\\site-packages\\torch\\utils\\data\\_utils\\fetch.py:49\u001B[0m, in \u001B[0;36m<listcomp>\u001B[1;34m(.0)\u001B[0m\n\u001B[0;32m     47\u001B[0m \u001B[38;5;28;01mdef\u001B[39;00m \u001B[38;5;21mfetch\u001B[39m(\u001B[38;5;28mself\u001B[39m, possibly_batched_index):\n\u001B[0;32m     48\u001B[0m     \u001B[38;5;28;01mif\u001B[39;00m \u001B[38;5;28mself\u001B[39m\u001B[38;5;241m.\u001B[39mauto_collation:\n\u001B[1;32m---> 49\u001B[0m         data \u001B[38;5;241m=\u001B[39m [\u001B[38;5;28;43mself\u001B[39;49m\u001B[38;5;241;43m.\u001B[39;49m\u001B[43mdataset\u001B[49m\u001B[43m[\u001B[49m\u001B[43midx\u001B[49m\u001B[43m]\u001B[49m \u001B[38;5;28;01mfor\u001B[39;00m idx \u001B[38;5;129;01min\u001B[39;00m possibly_batched_index]\n\u001B[0;32m     50\u001B[0m     \u001B[38;5;28;01melse\u001B[39;00m:\n\u001B[0;32m     51\u001B[0m         data \u001B[38;5;241m=\u001B[39m \u001B[38;5;28mself\u001B[39m\u001B[38;5;241m.\u001B[39mdataset[possibly_batched_index]\n",
      "File \u001B[1;32mC:\\Python310\\lib\\site-packages\\torchvision\\datasets\\mnist.py:145\u001B[0m, in \u001B[0;36mMNIST.__getitem__\u001B[1;34m(self, index)\u001B[0m\n\u001B[0;32m    142\u001B[0m img \u001B[38;5;241m=\u001B[39m Image\u001B[38;5;241m.\u001B[39mfromarray(img\u001B[38;5;241m.\u001B[39mnumpy(), mode\u001B[38;5;241m=\u001B[39m\u001B[38;5;124m\"\u001B[39m\u001B[38;5;124mL\u001B[39m\u001B[38;5;124m\"\u001B[39m)\n\u001B[0;32m    144\u001B[0m \u001B[38;5;28;01mif\u001B[39;00m \u001B[38;5;28mself\u001B[39m\u001B[38;5;241m.\u001B[39mtransform \u001B[38;5;129;01mis\u001B[39;00m \u001B[38;5;129;01mnot\u001B[39;00m \u001B[38;5;28;01mNone\u001B[39;00m:\n\u001B[1;32m--> 145\u001B[0m     img \u001B[38;5;241m=\u001B[39m \u001B[38;5;28;43mself\u001B[39;49m\u001B[38;5;241;43m.\u001B[39;49m\u001B[43mtransform\u001B[49m\u001B[43m(\u001B[49m\u001B[43mimg\u001B[49m\u001B[43m)\u001B[49m\n\u001B[0;32m    147\u001B[0m \u001B[38;5;28;01mif\u001B[39;00m \u001B[38;5;28mself\u001B[39m\u001B[38;5;241m.\u001B[39mtarget_transform \u001B[38;5;129;01mis\u001B[39;00m \u001B[38;5;129;01mnot\u001B[39;00m \u001B[38;5;28;01mNone\u001B[39;00m:\n\u001B[0;32m    148\u001B[0m     target \u001B[38;5;241m=\u001B[39m \u001B[38;5;28mself\u001B[39m\u001B[38;5;241m.\u001B[39mtarget_transform(target)\n",
      "File \u001B[1;32mC:\\Python310\\lib\\site-packages\\torchvision\\transforms\\transforms.py:94\u001B[0m, in \u001B[0;36mCompose.__call__\u001B[1;34m(self, img)\u001B[0m\n\u001B[0;32m     92\u001B[0m \u001B[38;5;28;01mdef\u001B[39;00m \u001B[38;5;21m__call__\u001B[39m(\u001B[38;5;28mself\u001B[39m, img):\n\u001B[0;32m     93\u001B[0m     \u001B[38;5;28;01mfor\u001B[39;00m t \u001B[38;5;129;01min\u001B[39;00m \u001B[38;5;28mself\u001B[39m\u001B[38;5;241m.\u001B[39mtransforms:\n\u001B[1;32m---> 94\u001B[0m         img \u001B[38;5;241m=\u001B[39m \u001B[43mt\u001B[49m\u001B[43m(\u001B[49m\u001B[43mimg\u001B[49m\u001B[43m)\u001B[49m\n\u001B[0;32m     95\u001B[0m     \u001B[38;5;28;01mreturn\u001B[39;00m img\n",
      "File \u001B[1;32mC:\\Python310\\lib\\site-packages\\torchvision\\transforms\\transforms.py:134\u001B[0m, in \u001B[0;36mToTensor.__call__\u001B[1;34m(self, pic)\u001B[0m\n\u001B[0;32m    126\u001B[0m \u001B[38;5;28;01mdef\u001B[39;00m \u001B[38;5;21m__call__\u001B[39m(\u001B[38;5;28mself\u001B[39m, pic):\n\u001B[0;32m    127\u001B[0m     \u001B[38;5;124;03m\"\"\"\u001B[39;00m\n\u001B[0;32m    128\u001B[0m \u001B[38;5;124;03m    Args:\u001B[39;00m\n\u001B[0;32m    129\u001B[0m \u001B[38;5;124;03m        pic (PIL Image or numpy.ndarray): Image to be converted to tensor.\u001B[39;00m\n\u001B[1;32m   (...)\u001B[0m\n\u001B[0;32m    132\u001B[0m \u001B[38;5;124;03m        Tensor: Converted image.\u001B[39;00m\n\u001B[0;32m    133\u001B[0m \u001B[38;5;124;03m    \"\"\"\u001B[39;00m\n\u001B[1;32m--> 134\u001B[0m     \u001B[38;5;28;01mreturn\u001B[39;00m \u001B[43mF\u001B[49m\u001B[38;5;241;43m.\u001B[39;49m\u001B[43mto_tensor\u001B[49m\u001B[43m(\u001B[49m\u001B[43mpic\u001B[49m\u001B[43m)\u001B[49m\n",
      "File \u001B[1;32mC:\\Python310\\lib\\site-packages\\torchvision\\transforms\\functional.py:168\u001B[0m, in \u001B[0;36mto_tensor\u001B[1;34m(pic)\u001B[0m\n\u001B[0;32m    166\u001B[0m \u001B[38;5;28;01mif\u001B[39;00m pic\u001B[38;5;241m.\u001B[39mmode \u001B[38;5;241m==\u001B[39m \u001B[38;5;124m\"\u001B[39m\u001B[38;5;124m1\u001B[39m\u001B[38;5;124m\"\u001B[39m:\n\u001B[0;32m    167\u001B[0m     img \u001B[38;5;241m=\u001B[39m \u001B[38;5;241m255\u001B[39m \u001B[38;5;241m*\u001B[39m img\n\u001B[1;32m--> 168\u001B[0m img \u001B[38;5;241m=\u001B[39m \u001B[43mimg\u001B[49m\u001B[38;5;241;43m.\u001B[39;49m\u001B[43mview\u001B[49m\u001B[43m(\u001B[49m\u001B[43mpic\u001B[49m\u001B[38;5;241;43m.\u001B[39;49m\u001B[43msize\u001B[49m\u001B[43m[\u001B[49m\u001B[38;5;241;43m1\u001B[39;49m\u001B[43m]\u001B[49m\u001B[43m,\u001B[49m\u001B[43m \u001B[49m\u001B[43mpic\u001B[49m\u001B[38;5;241;43m.\u001B[39;49m\u001B[43msize\u001B[49m\u001B[43m[\u001B[49m\u001B[38;5;241;43m0\u001B[39;49m\u001B[43m]\u001B[49m\u001B[43m,\u001B[49m\u001B[43m \u001B[49m\u001B[38;5;28;43mlen\u001B[39;49m\u001B[43m(\u001B[49m\u001B[43mpic\u001B[49m\u001B[38;5;241;43m.\u001B[39;49m\u001B[43mgetbands\u001B[49m\u001B[43m(\u001B[49m\u001B[43m)\u001B[49m\u001B[43m)\u001B[49m\u001B[43m)\u001B[49m\n\u001B[0;32m    169\u001B[0m \u001B[38;5;66;03m# put it from HWC to CHW format\u001B[39;00m\n\u001B[0;32m    170\u001B[0m img \u001B[38;5;241m=\u001B[39m img\u001B[38;5;241m.\u001B[39mpermute((\u001B[38;5;241m2\u001B[39m, \u001B[38;5;241m0\u001B[39m, \u001B[38;5;241m1\u001B[39m))\u001B[38;5;241m.\u001B[39mcontiguous()\n",
      "\u001B[1;31mKeyboardInterrupt\u001B[0m: "
     ]
    }
   ],
   "source": [
    "for epoch in range(1, 201):\n",
    "    _, loss = train(model, train_loader, optimizer, epoch)\n",
    "    scheduler.step(np.mean(loss))"
   ],
   "metadata": {
    "collapsed": false
   }
  },
  {
   "cell_type": "code",
   "execution_count": 126,
   "outputs": [
    {
     "data": {
      "text/plain": "<matplotlib.image.AxesImage at 0x284e8b8caf0>"
     },
     "execution_count": 126,
     "metadata": {},
     "output_type": "execute_result"
    },
    {
     "data": {
      "text/plain": "<Figure size 640x480 with 1 Axes>",
      "image/png": "[encoded data removed]"
     },
     "metadata": {},
     "output_type": "display_data"
    }
   ],
   "source": [
    "z = torch.normal(0, 1, size=(1, 64)).cuda()\n",
    "plt.imshow(model.sample(z).cpu().detach().view(28, 28), cmap='Greys')"
   ],
   "metadata": {
    "collapsed": false
   }
  },
  {
   "cell_type": "code",
   "execution_count": 89,
   "outputs": [],
   "source": [
    "img0 = next(iter(train_loader))[0][0]"
   ],
   "metadata": {
    "collapsed": false
   }
  },
  {
   "cell_type": "code",
   "execution_count": 90,
   "outputs": [
    {
     "data": {
      "text/plain": "<matplotlib.image.AxesImage at 0x284522fa5f0>"
     },
     "execution_count": 90,
     "metadata": {},
     "output_type": "execute_result"
    },
    {
     "data": {
      "text/plain": "<Figure size 640x480 with 1 Axes>",
      "image/png": "[encoded data removed]"
     },
     "metadata": {},
     "output_type": "display_data"
    }
   ],
   "source": [
    "plt.imshow(img0[0], cmap='Greys')"
   ],
   "metadata": {
    "collapsed": false
   }
  },
  {
   "cell_type": "code",
   "execution_count": 91,
   "outputs": [
    {
     "data": {
      "text/plain": "<matplotlib.image.AxesImage at 0x2845235f670>"
     },
     "execution_count": 91,
     "metadata": {},
     "output_type": "execute_result"
    },
    {
     "data": {
      "text/plain": "<Figure size 640x480 with 1 Axes>",
      "image/png": "[encoded data removed]"
     },
     "metadata": {},
     "output_type": "display_data"
    }
   ],
   "source": [
    "output, _, _ = model(img0.view(-1, 28 * 28).cuda())\n",
    "plt.imshow(output.cpu().detach().view(28, 28), cmap='Greys')"
   ],
   "metadata": {
    "collapsed": false
   }
  },
  {
   "cell_type": "markdown",
   "source": [
    "## Only BCE"
   ],
   "metadata": {
    "collapsed": false
   }
  },
  {
   "cell_type": "code",
   "execution_count": 62,
   "outputs": [],
   "source": [
    "model = vae.to('cuda')\n",
    "optimizer = optim.Adadelta(model.parameters(), lr=1e1)\n",
    "scheduler = ReduceLROnPlateau(optimizer, factor=0.1, patience=5, verbose=False, threshold=1e-3)"
   ],
   "metadata": {
    "collapsed": false
   }
  },
  {
   "cell_type": "code",
   "execution_count": 63,
   "outputs": [],
   "source": [
    "def train(model, train_loader, optimizer, epoch):\n",
    "    model.train()\n",
    "    allLoss = []\n",
    "    allReconLoss = []\n",
    "    with tqdm(train_loader, unit='batch') as tEpoch:\n",
    "        for data, _ in tEpoch:\n",
    "            data = data.to('cuda').view(-1, 28 * 28)\n",
    "            optimizer.zero_grad()\n",
    "            output, mu, log_var = model(data)\n",
    "            reconLoss = BCE(output, data)\n",
    "            loss = reconLoss\n",
    "            loss.backward()\n",
    "            optimizer.step()\n",
    "            allLoss.append(loss.item())\n",
    "            allReconLoss.append(reconLoss.item())\n",
    "            tEpoch.set_postfix_str(' Epoch: {} \\tTotal Loss: {:.6f}\\tReconstruction Loss: {:.6f}\\t lr: {:.8f}'.format(\n",
    "                epoch, loss.item(), reconLoss.item(), optimizer.param_groups[0]['lr']))\n",
    "    return allLoss, allReconLoss"
   ],
   "metadata": {
    "collapsed": false
   }
  },
  {
   "cell_type": "code",
   "execution_count": 64,
   "outputs": [
    {
     "name": "stderr",
     "output_type": "stream",
     "text": [
      "100%|██████████| 59/59 [00:04<00:00, 11.90batch/s,  Epoch: 1 \tTotal Loss: 0.231735\tReconstruction Loss: 0.231735\t lr: 10.00000000]\n",
      "100%|██████████| 59/59 [00:04<00:00, 11.81batch/s,  Epoch: 2 \tTotal Loss: 0.232234\tReconstruction Loss: 0.232234\t lr: 10.00000000]\n",
      "100%|██████████| 59/59 [00:04<00:00, 12.34batch/s,  Epoch: 3 \tTotal Loss: 0.227629\tReconstruction Loss: 0.227629\t lr: 10.00000000]\n",
      "100%|██████████| 59/59 [00:04<00:00, 12.22batch/s,  Epoch: 4 \tTotal Loss: 0.217133\tReconstruction Loss: 0.217133\t lr: 10.00000000]\n",
      "100%|██████████| 59/59 [00:04<00:00, 12.16batch/s,  Epoch: 5 \tTotal Loss: 0.207153\tReconstruction Loss: 0.207153\t lr: 10.00000000]\n",
      "100%|██████████| 59/59 [00:04<00:00, 12.29batch/s,  Epoch: 6 \tTotal Loss: 0.196917\tReconstruction Loss: 0.196917\t lr: 10.00000000]\n",
      "100%|██████████| 59/59 [00:04<00:00, 12.02batch/s,  Epoch: 7 \tTotal Loss: 0.183619\tReconstruction Loss: 0.183619\t lr: 10.00000000]\n",
      "100%|██████████| 59/59 [00:04<00:00, 12.20batch/s,  Epoch: 8 \tTotal Loss: 0.179168\tReconstruction Loss: 0.179168\t lr: 10.00000000]\n",
      "100%|██████████| 59/59 [00:04<00:00, 12.29batch/s,  Epoch: 9 \tTotal Loss: 0.158075\tReconstruction Loss: 0.158075\t lr: 10.00000000]\n",
      "100%|██████████| 59/59 [00:04<00:00, 12.18batch/s,  Epoch: 10 \tTotal Loss: 0.150733\tReconstruction Loss: 0.150733\t lr: 10.00000000]\n",
      "100%|██████████| 59/59 [00:04<00:00, 12.03batch/s,  Epoch: 11 \tTotal Loss: 0.137086\tReconstruction Loss: 0.137086\t lr: 10.00000000]\n",
      "100%|██████████| 59/59 [00:04<00:00, 12.25batch/s,  Epoch: 12 \tTotal Loss: 0.128885\tReconstruction Loss: 0.128885\t lr: 10.00000000]\n",
      "100%|██████████| 59/59 [00:05<00:00, 11.64batch/s,  Epoch: 13 \tTotal Loss: 0.116031\tReconstruction Loss: 0.116031\t lr: 10.00000000]\n",
      "100%|██████████| 59/59 [00:04<00:00, 13.08batch/s,  Epoch: 14 \tTotal Loss: 0.119591\tReconstruction Loss: 0.119591\t lr: 10.00000000]\n",
      "100%|██████████| 59/59 [00:04<00:00, 13.13batch/s,  Epoch: 15 \tTotal Loss: 0.109552\tReconstruction Loss: 0.109552\t lr: 10.00000000]\n",
      "100%|██████████| 59/59 [00:05<00:00, 11.75batch/s,  Epoch: 16 \tTotal Loss: 0.111463\tReconstruction Loss: 0.111463\t lr: 10.00000000]\n",
      "100%|██████████| 59/59 [00:04<00:00, 12.24batch/s,  Epoch: 17 \tTotal Loss: 0.104017\tReconstruction Loss: 0.104017\t lr: 10.00000000]\n",
      "100%|██████████| 59/59 [00:04<00:00, 12.38batch/s,  Epoch: 18 \tTotal Loss: 0.102287\tReconstruction Loss: 0.102287\t lr: 10.00000000]\n",
      "100%|██████████| 59/59 [00:04<00:00, 12.38batch/s,  Epoch: 19 \tTotal Loss: 0.102870\tReconstruction Loss: 0.102870\t lr: 10.00000000]\n",
      "100%|██████████| 59/59 [00:04<00:00, 12.54batch/s,  Epoch: 20 \tTotal Loss: 0.099782\tReconstruction Loss: 0.099782\t lr: 10.00000000]\n",
      "100%|██████████| 59/59 [00:04<00:00, 12.12batch/s,  Epoch: 21 \tTotal Loss: 0.103504\tReconstruction Loss: 0.103504\t lr: 10.00000000]\n",
      "100%|██████████| 59/59 [00:04<00:00, 12.53batch/s,  Epoch: 22 \tTotal Loss: 0.099654\tReconstruction Loss: 0.099654\t lr: 10.00000000]\n",
      "100%|██████████| 59/59 [00:04<00:00, 12.47batch/s,  Epoch: 23 \tTotal Loss: 0.103430\tReconstruction Loss: 0.103430\t lr: 10.00000000]\n",
      "100%|██████████| 59/59 [00:04<00:00, 12.41batch/s,  Epoch: 24 \tTotal Loss: 0.098931\tReconstruction Loss: 0.098931\t lr: 10.00000000]\n",
      "100%|██████████| 59/59 [00:04<00:00, 12.48batch/s,  Epoch: 25 \tTotal Loss: 0.100069\tReconstruction Loss: 0.100069\t lr: 10.00000000]\n",
      "100%|██████████| 59/59 [00:04<00:00, 12.50batch/s,  Epoch: 26 \tTotal Loss: 0.097256\tReconstruction Loss: 0.097256\t lr: 10.00000000]\n",
      "100%|██████████| 59/59 [00:04<00:00, 12.26batch/s,  Epoch: 27 \tTotal Loss: 0.096152\tReconstruction Loss: 0.096152\t lr: 10.00000000]\n",
      "100%|██████████| 59/59 [00:04<00:00, 12.50batch/s,  Epoch: 28 \tTotal Loss: 0.095520\tReconstruction Loss: 0.095520\t lr: 10.00000000]\n",
      "100%|██████████| 59/59 [00:04<00:00, 12.50batch/s,  Epoch: 29 \tTotal Loss: 0.099412\tReconstruction Loss: 0.099412\t lr: 10.00000000]\n",
      "100%|██████████| 59/59 [00:04<00:00, 12.55batch/s,  Epoch: 30 \tTotal Loss: 0.095858\tReconstruction Loss: 0.095858\t lr: 10.00000000]\n",
      "100%|██████████| 59/59 [00:04<00:00, 12.51batch/s,  Epoch: 31 \tTotal Loss: 0.097048\tReconstruction Loss: 0.097048\t lr: 10.00000000]\n",
      "100%|██████████| 59/59 [00:04<00:00, 12.21batch/s,  Epoch: 32 \tTotal Loss: 0.093343\tReconstruction Loss: 0.093343\t lr: 10.00000000]\n",
      "100%|██████████| 59/59 [00:04<00:00, 12.43batch/s,  Epoch: 33 \tTotal Loss: 0.095707\tReconstruction Loss: 0.095707\t lr: 10.00000000]\n",
      "100%|██████████| 59/59 [00:04<00:00, 12.46batch/s,  Epoch: 34 \tTotal Loss: 0.094100\tReconstruction Loss: 0.094100\t lr: 10.00000000]\n",
      "100%|██████████| 59/59 [00:04<00:00, 12.50batch/s,  Epoch: 35 \tTotal Loss: 0.096510\tReconstruction Loss: 0.096510\t lr: 10.00000000]\n",
      "100%|██████████| 59/59 [00:04<00:00, 12.22batch/s,  Epoch: 36 \tTotal Loss: 0.095026\tReconstruction Loss: 0.095026\t lr: 10.00000000]\n",
      "100%|██████████| 59/59 [00:04<00:00, 12.46batch/s,  Epoch: 37 \tTotal Loss: 0.094003\tReconstruction Loss: 0.094003\t lr: 10.00000000]\n",
      "100%|██████████| 59/59 [00:04<00:00, 12.46batch/s,  Epoch: 38 \tTotal Loss: 0.094657\tReconstruction Loss: 0.094657\t lr: 10.00000000]\n",
      "100%|██████████| 59/59 [00:04<00:00, 12.42batch/s,  Epoch: 39 \tTotal Loss: 0.099372\tReconstruction Loss: 0.099372\t lr: 10.00000000]\n",
      "100%|██████████| 59/59 [00:04<00:00, 12.51batch/s,  Epoch: 40 \tTotal Loss: 0.091762\tReconstruction Loss: 0.091762\t lr: 10.00000000]\n",
      "100%|██████████| 59/59 [00:04<00:00, 12.46batch/s,  Epoch: 41 \tTotal Loss: 0.095134\tReconstruction Loss: 0.095134\t lr: 10.00000000]\n",
      "100%|██████████| 59/59 [00:04<00:00, 12.26batch/s,  Epoch: 42 \tTotal Loss: 0.094822\tReconstruction Loss: 0.094822\t lr: 10.00000000]\n",
      "100%|██████████| 59/59 [00:04<00:00, 12.50batch/s,  Epoch: 43 \tTotal Loss: 0.091738\tReconstruction Loss: 0.091738\t lr: 10.00000000]\n",
      "100%|██████████| 59/59 [00:04<00:00, 12.54batch/s,  Epoch: 44 \tTotal Loss: 0.091174\tReconstruction Loss: 0.091174\t lr: 10.00000000]\n",
      "100%|██████████| 59/59 [00:04<00:00, 12.42batch/s,  Epoch: 45 \tTotal Loss: 0.092676\tReconstruction Loss: 0.092676\t lr: 10.00000000]\n",
      "100%|██████████| 59/59 [00:04<00:00, 12.06batch/s,  Epoch: 46 \tTotal Loss: 0.094372\tReconstruction Loss: 0.094372\t lr: 10.00000000]\n",
      "100%|██████████| 59/59 [00:04<00:00, 12.35batch/s,  Epoch: 47 \tTotal Loss: 0.091675\tReconstruction Loss: 0.091675\t lr: 10.00000000]\n",
      "100%|██████████| 59/59 [00:04<00:00, 12.26batch/s,  Epoch: 48 \tTotal Loss: 0.093421\tReconstruction Loss: 0.093421\t lr: 10.00000000]\n",
      "100%|██████████| 59/59 [00:04<00:00, 12.34batch/s,  Epoch: 49 \tTotal Loss: 0.092627\tReconstruction Loss: 0.092627\t lr: 10.00000000]\n",
      "100%|██████████| 59/59 [00:04<00:00, 12.30batch/s,  Epoch: 50 \tTotal Loss: 0.090005\tReconstruction Loss: 0.090005\t lr: 10.00000000]\n",
      "100%|██████████| 59/59 [00:04<00:00, 12.34batch/s,  Epoch: 51 \tTotal Loss: 0.091731\tReconstruction Loss: 0.091731\t lr: 10.00000000]\n",
      "100%|██████████| 59/59 [00:04<00:00, 12.30batch/s,  Epoch: 52 \tTotal Loss: 0.093161\tReconstruction Loss: 0.093161\t lr: 10.00000000]\n",
      "100%|██████████| 59/59 [00:04<00:00, 11.99batch/s,  Epoch: 53 \tTotal Loss: 0.093243\tReconstruction Loss: 0.093243\t lr: 10.00000000]\n",
      "100%|██████████| 59/59 [00:04<00:00, 12.30batch/s,  Epoch: 54 \tTotal Loss: 0.090451\tReconstruction Loss: 0.090451\t lr: 10.00000000]\n",
      "100%|██████████| 59/59 [00:04<00:00, 12.34batch/s,  Epoch: 55 \tTotal Loss: 0.091301\tReconstruction Loss: 0.091301\t lr: 10.00000000]\n",
      "100%|██████████| 59/59 [00:04<00:00, 12.26batch/s,  Epoch: 56 \tTotal Loss: 0.091950\tReconstruction Loss: 0.091950\t lr: 10.00000000]\n",
      "100%|██████████| 59/59 [00:04<00:00, 12.34batch/s,  Epoch: 57 \tTotal Loss: 0.091263\tReconstruction Loss: 0.091263\t lr: 10.00000000]\n",
      "100%|██████████| 59/59 [00:04<00:00, 12.10batch/s,  Epoch: 58 \tTotal Loss: 0.091570\tReconstruction Loss: 0.091570\t lr: 10.00000000]\n",
      "100%|██████████| 59/59 [00:04<00:00, 12.34batch/s,  Epoch: 59 \tTotal Loss: 0.093956\tReconstruction Loss: 0.093956\t lr: 10.00000000]\n",
      "100%|██████████| 59/59 [00:04<00:00, 12.34batch/s,  Epoch: 60 \tTotal Loss: 0.090739\tReconstruction Loss: 0.090739\t lr: 10.00000000]\n",
      "100%|██████████| 59/59 [00:04<00:00, 12.26batch/s,  Epoch: 61 \tTotal Loss: 0.093255\tReconstruction Loss: 0.093255\t lr: 10.00000000]\n",
      "100%|██████████| 59/59 [00:04<00:00, 12.21batch/s,  Epoch: 62 \tTotal Loss: 0.092263\tReconstruction Loss: 0.092263\t lr: 10.00000000]\n",
      "100%|██████████| 59/59 [00:04<00:00, 12.21batch/s,  Epoch: 63 \tTotal Loss: 0.092864\tReconstruction Loss: 0.092864\t lr: 10.00000000]\n",
      "100%|██████████| 59/59 [00:04<00:00, 12.32batch/s,  Epoch: 64 \tTotal Loss: 0.089475\tReconstruction Loss: 0.089475\t lr: 10.00000000]\n",
      "100%|██████████| 59/59 [00:04<00:00, 12.04batch/s,  Epoch: 65 \tTotal Loss: 0.090872\tReconstruction Loss: 0.090872\t lr: 10.00000000]\n",
      "100%|██████████| 59/59 [00:04<00:00, 12.30batch/s,  Epoch: 66 \tTotal Loss: 0.092318\tReconstruction Loss: 0.092318\t lr: 10.00000000]\n",
      "100%|██████████| 59/59 [00:04<00:00, 12.30batch/s,  Epoch: 67 \tTotal Loss: 0.090482\tReconstruction Loss: 0.090482\t lr: 10.00000000]\n",
      "100%|██████████| 59/59 [00:04<00:00, 12.38batch/s,  Epoch: 68 \tTotal Loss: 0.088938\tReconstruction Loss: 0.088938\t lr: 10.00000000]\n",
      "100%|██████████| 59/59 [00:04<00:00, 12.11batch/s,  Epoch: 69 \tTotal Loss: 0.086877\tReconstruction Loss: 0.086877\t lr: 10.00000000]\n",
      "100%|██████████| 59/59 [00:05<00:00, 11.69batch/s,  Epoch: 70 \tTotal Loss: 0.090728\tReconstruction Loss: 0.090728\t lr: 10.00000000]\n",
      "100%|██████████| 59/59 [00:04<00:00, 12.10batch/s,  Epoch: 71 \tTotal Loss: 0.088112\tReconstruction Loss: 0.088112\t lr: 10.00000000]\n",
      "100%|██████████| 59/59 [00:04<00:00, 12.22batch/s,  Epoch: 72 \tTotal Loss: 0.090661\tReconstruction Loss: 0.090661\t lr: 10.00000000]\n",
      "100%|██████████| 59/59 [00:04<00:00, 12.03batch/s,  Epoch: 73 \tTotal Loss: 0.088531\tReconstruction Loss: 0.088531\t lr: 10.00000000]\n",
      "100%|██████████| 59/59 [00:04<00:00, 12.14batch/s,  Epoch: 74 \tTotal Loss: 0.089622\tReconstruction Loss: 0.089622\t lr: 10.00000000]\n",
      "100%|██████████| 59/59 [00:04<00:00, 11.92batch/s,  Epoch: 75 \tTotal Loss: 0.089048\tReconstruction Loss: 0.089048\t lr: 10.00000000]\n",
      "100%|██████████| 59/59 [00:04<00:00, 12.31batch/s,  Epoch: 76 \tTotal Loss: 0.089927\tReconstruction Loss: 0.089927\t lr: 10.00000000]\n",
      "100%|██████████| 59/59 [00:04<00:00, 12.28batch/s,  Epoch: 77 \tTotal Loss: 0.088245\tReconstruction Loss: 0.088245\t lr: 10.00000000]\n",
      "100%|██████████| 59/59 [00:04<00:00, 12.33batch/s,  Epoch: 78 \tTotal Loss: 0.087653\tReconstruction Loss: 0.087653\t lr: 10.00000000]\n",
      "100%|██████████| 59/59 [00:04<00:00, 12.30batch/s,  Epoch: 79 \tTotal Loss: 0.088292\tReconstruction Loss: 0.088292\t lr: 10.00000000]\n",
      "100%|██████████| 59/59 [00:04<00:00, 12.38batch/s,  Epoch: 80 \tTotal Loss: 0.088654\tReconstruction Loss: 0.088654\t lr: 10.00000000]\n",
      "100%|██████████| 59/59 [00:04<00:00, 12.30batch/s,  Epoch: 81 \tTotal Loss: 0.088665\tReconstruction Loss: 0.088665\t lr: 10.00000000]\n",
      "100%|██████████| 59/59 [00:04<00:00, 11.95batch/s,  Epoch: 82 \tTotal Loss: 0.088743\tReconstruction Loss: 0.088743\t lr: 10.00000000]\n",
      "100%|██████████| 59/59 [00:04<00:00, 12.33batch/s,  Epoch: 83 \tTotal Loss: 0.089454\tReconstruction Loss: 0.089454\t lr: 10.00000000]\n",
      "100%|██████████| 59/59 [00:04<00:00, 12.32batch/s,  Epoch: 84 \tTotal Loss: 0.090176\tReconstruction Loss: 0.090176\t lr: 10.00000000]\n",
      "100%|██████████| 59/59 [00:04<00:00, 12.29batch/s,  Epoch: 85 \tTotal Loss: 0.086395\tReconstruction Loss: 0.086395\t lr: 10.00000000]\n",
      "100%|██████████| 59/59 [00:04<00:00, 12.23batch/s,  Epoch: 86 \tTotal Loss: 0.086462\tReconstruction Loss: 0.086462\t lr: 10.00000000]\n",
      "100%|██████████| 59/59 [00:04<00:00, 12.27batch/s,  Epoch: 87 \tTotal Loss: 0.088941\tReconstruction Loss: 0.088941\t lr: 10.00000000]\n",
      "100%|██████████| 59/59 [00:04<00:00, 12.34batch/s,  Epoch: 88 \tTotal Loss: 0.088420\tReconstruction Loss: 0.088420\t lr: 10.00000000]\n",
      "100%|██████████| 59/59 [00:04<00:00, 12.05batch/s,  Epoch: 89 \tTotal Loss: 0.087571\tReconstruction Loss: 0.087571\t lr: 10.00000000]\n",
      "100%|██████████| 59/59 [00:04<00:00, 12.32batch/s,  Epoch: 90 \tTotal Loss: 0.088301\tReconstruction Loss: 0.088301\t lr: 10.00000000]\n",
      "100%|██████████| 59/59 [00:04<00:00, 12.30batch/s,  Epoch: 91 \tTotal Loss: 0.086225\tReconstruction Loss: 0.086225\t lr: 10.00000000]\n",
      "100%|██████████| 59/59 [00:04<00:00, 12.30batch/s,  Epoch: 92 \tTotal Loss: 0.086406\tReconstruction Loss: 0.086406\t lr: 10.00000000]\n",
      "100%|██████████| 59/59 [00:04<00:00, 12.06batch/s,  Epoch: 93 \tTotal Loss: 0.087747\tReconstruction Loss: 0.087747\t lr: 10.00000000]\n",
      "100%|██████████| 59/59 [00:04<00:00, 12.30batch/s,  Epoch: 94 \tTotal Loss: 0.087439\tReconstruction Loss: 0.087439\t lr: 10.00000000]\n",
      "100%|██████████| 59/59 [00:04<00:00, 12.30batch/s,  Epoch: 95 \tTotal Loss: 0.087609\tReconstruction Loss: 0.087609\t lr: 10.00000000]\n",
      "100%|██████████| 59/59 [00:04<00:00, 12.22batch/s,  Epoch: 96 \tTotal Loss: 0.089356\tReconstruction Loss: 0.089356\t lr: 10.00000000]\n",
      "100%|██████████| 59/59 [00:04<00:00, 12.30batch/s,  Epoch: 97 \tTotal Loss: 0.086135\tReconstruction Loss: 0.086135\t lr: 10.00000000]\n",
      "100%|██████████| 59/59 [00:04<00:00, 11.99batch/s,  Epoch: 98 \tTotal Loss: 0.087732\tReconstruction Loss: 0.087732\t lr: 10.00000000]\n",
      "100%|██████████| 59/59 [00:04<00:00, 12.34batch/s,  Epoch: 99 \tTotal Loss: 0.088856\tReconstruction Loss: 0.088856\t lr: 10.00000000]\n",
      "100%|██████████| 59/59 [00:04<00:00, 12.33batch/s,  Epoch: 100 \tTotal Loss: 0.087529\tReconstruction Loss: 0.087529\t lr: 10.00000000]\n",
      "100%|██████████| 59/59 [00:04<00:00, 12.40batch/s,  Epoch: 101 \tTotal Loss: 0.088470\tReconstruction Loss: 0.088470\t lr: 10.00000000]\n",
      "100%|██████████| 59/59 [00:04<00:00, 12.34batch/s,  Epoch: 102 \tTotal Loss: 0.089080\tReconstruction Loss: 0.089080\t lr: 10.00000000]\n",
      "100%|██████████| 59/59 [00:04<00:00, 12.30batch/s,  Epoch: 103 \tTotal Loss: 0.087538\tReconstruction Loss: 0.087538\t lr: 10.00000000]\n",
      "100%|██████████| 59/59 [00:04<00:00, 12.42batch/s,  Epoch: 104 \tTotal Loss: 0.087598\tReconstruction Loss: 0.087598\t lr: 10.00000000]\n",
      "100%|██████████| 59/59 [00:04<00:00, 11.95batch/s,  Epoch: 105 \tTotal Loss: 0.086317\tReconstruction Loss: 0.086317\t lr: 10.00000000]\n",
      "100%|██████████| 59/59 [00:04<00:00, 12.26batch/s,  Epoch: 106 \tTotal Loss: 0.086856\tReconstruction Loss: 0.086856\t lr: 10.00000000]\n",
      "100%|██████████| 59/59 [00:04<00:00, 12.22batch/s,  Epoch: 107 \tTotal Loss: 0.087183\tReconstruction Loss: 0.087183\t lr: 10.00000000]\n",
      "100%|██████████| 59/59 [00:04<00:00, 12.30batch/s,  Epoch: 108 \tTotal Loss: 0.088653\tReconstruction Loss: 0.088653\t lr: 10.00000000]\n",
      "100%|██████████| 59/59 [00:04<00:00, 12.34batch/s,  Epoch: 109 \tTotal Loss: 0.087818\tReconstruction Loss: 0.087818\t lr: 10.00000000]\n",
      "100%|██████████| 59/59 [00:04<00:00, 12.30batch/s,  Epoch: 110 \tTotal Loss: 0.081673\tReconstruction Loss: 0.081673\t lr: 1.00000000]\n",
      "100%|██████████| 59/59 [00:04<00:00, 12.07batch/s,  Epoch: 111 \tTotal Loss: 0.079849\tReconstruction Loss: 0.079849\t lr: 1.00000000]\n",
      "100%|██████████| 59/59 [00:04<00:00, 12.29batch/s,  Epoch: 112 \tTotal Loss: 0.081985\tReconstruction Loss: 0.081985\t lr: 1.00000000]\n",
      "100%|██████████| 59/59 [00:04<00:00, 12.18batch/s,  Epoch: 113 \tTotal Loss: 0.080316\tReconstruction Loss: 0.080316\t lr: 1.00000000]\n",
      "100%|██████████| 59/59 [00:04<00:00, 12.30batch/s,  Epoch: 114 \tTotal Loss: 0.079755\tReconstruction Loss: 0.079755\t lr: 1.00000000]\n",
      "100%|██████████| 59/59 [00:04<00:00, 12.25batch/s,  Epoch: 115 \tTotal Loss: 0.080258\tReconstruction Loss: 0.080258\t lr: 1.00000000]\n",
      "100%|██████████| 59/59 [00:04<00:00, 12.35batch/s,  Epoch: 116 \tTotal Loss: 0.081926\tReconstruction Loss: 0.081926\t lr: 1.00000000]\n",
      "100%|██████████| 59/59 [00:04<00:00, 11.95batch/s,  Epoch: 117 \tTotal Loss: 0.082822\tReconstruction Loss: 0.082822\t lr: 1.00000000]\n",
      "100%|██████████| 59/59 [00:04<00:00, 12.30batch/s,  Epoch: 118 \tTotal Loss: 0.080900\tReconstruction Loss: 0.080900\t lr: 1.00000000]\n",
      "100%|██████████| 59/59 [00:04<00:00, 12.34batch/s,  Epoch: 119 \tTotal Loss: 0.081120\tReconstruction Loss: 0.081120\t lr: 1.00000000]\n",
      "100%|██████████| 59/59 [00:04<00:00, 12.26batch/s,  Epoch: 120 \tTotal Loss: 0.083765\tReconstruction Loss: 0.083765\t lr: 1.00000000]\n",
      "100%|██████████| 59/59 [00:04<00:00, 12.30batch/s,  Epoch: 121 \tTotal Loss: 0.080882\tReconstruction Loss: 0.080882\t lr: 1.00000000]\n",
      "100%|██████████| 59/59 [00:04<00:00, 12.01batch/s,  Epoch: 122 \tTotal Loss: 0.081435\tReconstruction Loss: 0.081435\t lr: 1.00000000]\n",
      "100%|██████████| 59/59 [00:04<00:00, 12.32batch/s,  Epoch: 123 \tTotal Loss: 0.079743\tReconstruction Loss: 0.079743\t lr: 1.00000000]\n",
      "100%|██████████| 59/59 [00:04<00:00, 12.38batch/s,  Epoch: 124 \tTotal Loss: 0.080841\tReconstruction Loss: 0.080841\t lr: 1.00000000]\n",
      "100%|██████████| 59/59 [00:04<00:00, 12.30batch/s,  Epoch: 125 \tTotal Loss: 0.081363\tReconstruction Loss: 0.081363\t lr: 1.00000000]\n",
      " 88%|████████▊ | 52/59 [00:04<00:00, 11.84batch/s,  Epoch: 126 \tTotal Loss: 0.081188\tReconstruction Loss: 0.081188\t lr: 1.00000000]\n"
     ]
    },
    {
     "ename": "KeyboardInterrupt",
     "evalue": "",
     "output_type": "error",
     "traceback": [
      "\u001B[1;31m---------------------------------------------------------------------------\u001B[0m",
      "\u001B[1;31mKeyboardInterrupt\u001B[0m                         Traceback (most recent call last)",
      "Cell \u001B[1;32mIn [64], line 2\u001B[0m\n\u001B[0;32m      1\u001B[0m \u001B[38;5;28;01mfor\u001B[39;00m epoch \u001B[38;5;129;01min\u001B[39;00m \u001B[38;5;28mrange\u001B[39m(\u001B[38;5;241m1\u001B[39m, \u001B[38;5;241m201\u001B[39m):\n\u001B[1;32m----> 2\u001B[0m     _, loss \u001B[38;5;241m=\u001B[39m \u001B[43mtrain\u001B[49m\u001B[43m(\u001B[49m\u001B[43mmodel\u001B[49m\u001B[43m,\u001B[49m\u001B[43m \u001B[49m\u001B[43mtrain_loader\u001B[49m\u001B[43m,\u001B[49m\u001B[43m \u001B[49m\u001B[43moptimizer\u001B[49m\u001B[43m,\u001B[49m\u001B[43m \u001B[49m\u001B[43mepoch\u001B[49m\u001B[43m)\u001B[49m\n\u001B[0;32m      3\u001B[0m     scheduler\u001B[38;5;241m.\u001B[39mstep(np\u001B[38;5;241m.\u001B[39mmean(loss))\n",
      "Cell \u001B[1;32mIn [63], line 6\u001B[0m, in \u001B[0;36mtrain\u001B[1;34m(model, train_loader, optimizer, epoch)\u001B[0m\n\u001B[0;32m      4\u001B[0m allReconLoss \u001B[38;5;241m=\u001B[39m []\n\u001B[0;32m      5\u001B[0m \u001B[38;5;28;01mwith\u001B[39;00m tqdm(train_loader, unit\u001B[38;5;241m=\u001B[39m\u001B[38;5;124m'\u001B[39m\u001B[38;5;124mbatch\u001B[39m\u001B[38;5;124m'\u001B[39m) \u001B[38;5;28;01mas\u001B[39;00m tEpoch:\n\u001B[1;32m----> 6\u001B[0m     \u001B[38;5;28;01mfor\u001B[39;00m data, _ \u001B[38;5;129;01min\u001B[39;00m tEpoch:\n\u001B[0;32m      7\u001B[0m         data \u001B[38;5;241m=\u001B[39m data\u001B[38;5;241m.\u001B[39mto(\u001B[38;5;124m'\u001B[39m\u001B[38;5;124mcuda\u001B[39m\u001B[38;5;124m'\u001B[39m)\u001B[38;5;241m.\u001B[39mview(\u001B[38;5;241m-\u001B[39m\u001B[38;5;241m1\u001B[39m, \u001B[38;5;241m28\u001B[39m \u001B[38;5;241m*\u001B[39m \u001B[38;5;241m28\u001B[39m)\n\u001B[0;32m      8\u001B[0m         optimizer\u001B[38;5;241m.\u001B[39mzero_grad()\n",
      "File \u001B[1;32mC:\\Python310\\lib\\site-packages\\tqdm\\std.py:1195\u001B[0m, in \u001B[0;36mtqdm.__iter__\u001B[1;34m(self)\u001B[0m\n\u001B[0;32m   1192\u001B[0m time \u001B[38;5;241m=\u001B[39m \u001B[38;5;28mself\u001B[39m\u001B[38;5;241m.\u001B[39m_time\n\u001B[0;32m   1194\u001B[0m \u001B[38;5;28;01mtry\u001B[39;00m:\n\u001B[1;32m-> 1195\u001B[0m     \u001B[38;5;28;01mfor\u001B[39;00m obj \u001B[38;5;129;01min\u001B[39;00m iterable:\n\u001B[0;32m   1196\u001B[0m         \u001B[38;5;28;01myield\u001B[39;00m obj\n\u001B[0;32m   1197\u001B[0m         \u001B[38;5;66;03m# Update and possibly print the progressbar.\u001B[39;00m\n\u001B[0;32m   1198\u001B[0m         \u001B[38;5;66;03m# Note: does not call self.update(1) for speed optimisation.\u001B[39;00m\n",
      "File \u001B[1;32mC:\\Python310\\lib\\site-packages\\torch\\utils\\data\\dataloader.py:681\u001B[0m, in \u001B[0;36m_BaseDataLoaderIter.__next__\u001B[1;34m(self)\u001B[0m\n\u001B[0;32m    678\u001B[0m \u001B[38;5;28;01mif\u001B[39;00m \u001B[38;5;28mself\u001B[39m\u001B[38;5;241m.\u001B[39m_sampler_iter \u001B[38;5;129;01mis\u001B[39;00m \u001B[38;5;28;01mNone\u001B[39;00m:\n\u001B[0;32m    679\u001B[0m     \u001B[38;5;66;03m# TODO(https://github.com/pytorch/pytorch/issues/76750)\u001B[39;00m\n\u001B[0;32m    680\u001B[0m     \u001B[38;5;28mself\u001B[39m\u001B[38;5;241m.\u001B[39m_reset()  \u001B[38;5;66;03m# type: ignore[call-arg]\u001B[39;00m\n\u001B[1;32m--> 681\u001B[0m data \u001B[38;5;241m=\u001B[39m \u001B[38;5;28;43mself\u001B[39;49m\u001B[38;5;241;43m.\u001B[39;49m\u001B[43m_next_data\u001B[49m\u001B[43m(\u001B[49m\u001B[43m)\u001B[49m\n\u001B[0;32m    682\u001B[0m \u001B[38;5;28mself\u001B[39m\u001B[38;5;241m.\u001B[39m_num_yielded \u001B[38;5;241m+\u001B[39m\u001B[38;5;241m=\u001B[39m \u001B[38;5;241m1\u001B[39m\n\u001B[0;32m    683\u001B[0m \u001B[38;5;28;01mif\u001B[39;00m \u001B[38;5;28mself\u001B[39m\u001B[38;5;241m.\u001B[39m_dataset_kind \u001B[38;5;241m==\u001B[39m _DatasetKind\u001B[38;5;241m.\u001B[39mIterable \u001B[38;5;129;01mand\u001B[39;00m \\\n\u001B[0;32m    684\u001B[0m         \u001B[38;5;28mself\u001B[39m\u001B[38;5;241m.\u001B[39m_IterableDataset_len_called \u001B[38;5;129;01mis\u001B[39;00m \u001B[38;5;129;01mnot\u001B[39;00m \u001B[38;5;28;01mNone\u001B[39;00m \u001B[38;5;129;01mand\u001B[39;00m \\\n\u001B[0;32m    685\u001B[0m         \u001B[38;5;28mself\u001B[39m\u001B[38;5;241m.\u001B[39m_num_yielded \u001B[38;5;241m>\u001B[39m \u001B[38;5;28mself\u001B[39m\u001B[38;5;241m.\u001B[39m_IterableDataset_len_called:\n",
      "File \u001B[1;32mC:\\Python310\\lib\\site-packages\\torch\\utils\\data\\dataloader.py:721\u001B[0m, in \u001B[0;36m_SingleProcessDataLoaderIter._next_data\u001B[1;34m(self)\u001B[0m\n\u001B[0;32m    719\u001B[0m \u001B[38;5;28;01mdef\u001B[39;00m \u001B[38;5;21m_next_data\u001B[39m(\u001B[38;5;28mself\u001B[39m):\n\u001B[0;32m    720\u001B[0m     index \u001B[38;5;241m=\u001B[39m \u001B[38;5;28mself\u001B[39m\u001B[38;5;241m.\u001B[39m_next_index()  \u001B[38;5;66;03m# may raise StopIteration\u001B[39;00m\n\u001B[1;32m--> 721\u001B[0m     data \u001B[38;5;241m=\u001B[39m \u001B[38;5;28;43mself\u001B[39;49m\u001B[38;5;241;43m.\u001B[39;49m\u001B[43m_dataset_fetcher\u001B[49m\u001B[38;5;241;43m.\u001B[39;49m\u001B[43mfetch\u001B[49m\u001B[43m(\u001B[49m\u001B[43mindex\u001B[49m\u001B[43m)\u001B[49m  \u001B[38;5;66;03m# may raise StopIteration\u001B[39;00m\n\u001B[0;32m    722\u001B[0m     \u001B[38;5;28;01mif\u001B[39;00m \u001B[38;5;28mself\u001B[39m\u001B[38;5;241m.\u001B[39m_pin_memory:\n\u001B[0;32m    723\u001B[0m         data \u001B[38;5;241m=\u001B[39m _utils\u001B[38;5;241m.\u001B[39mpin_memory\u001B[38;5;241m.\u001B[39mpin_memory(data, \u001B[38;5;28mself\u001B[39m\u001B[38;5;241m.\u001B[39m_pin_memory_device)\n",
      "File \u001B[1;32mC:\\Python310\\lib\\site-packages\\torch\\utils\\data\\_utils\\fetch.py:49\u001B[0m, in \u001B[0;36m_MapDatasetFetcher.fetch\u001B[1;34m(self, possibly_batched_index)\u001B[0m\n\u001B[0;32m     47\u001B[0m \u001B[38;5;28;01mdef\u001B[39;00m \u001B[38;5;21mfetch\u001B[39m(\u001B[38;5;28mself\u001B[39m, possibly_batched_index):\n\u001B[0;32m     48\u001B[0m     \u001B[38;5;28;01mif\u001B[39;00m \u001B[38;5;28mself\u001B[39m\u001B[38;5;241m.\u001B[39mauto_collation:\n\u001B[1;32m---> 49\u001B[0m         data \u001B[38;5;241m=\u001B[39m [\u001B[38;5;28mself\u001B[39m\u001B[38;5;241m.\u001B[39mdataset[idx] \u001B[38;5;28;01mfor\u001B[39;00m idx \u001B[38;5;129;01min\u001B[39;00m possibly_batched_index]\n\u001B[0;32m     50\u001B[0m     \u001B[38;5;28;01melse\u001B[39;00m:\n\u001B[0;32m     51\u001B[0m         data \u001B[38;5;241m=\u001B[39m \u001B[38;5;28mself\u001B[39m\u001B[38;5;241m.\u001B[39mdataset[possibly_batched_index]\n",
      "File \u001B[1;32mC:\\Python310\\lib\\site-packages\\torch\\utils\\data\\_utils\\fetch.py:49\u001B[0m, in \u001B[0;36m<listcomp>\u001B[1;34m(.0)\u001B[0m\n\u001B[0;32m     47\u001B[0m \u001B[38;5;28;01mdef\u001B[39;00m \u001B[38;5;21mfetch\u001B[39m(\u001B[38;5;28mself\u001B[39m, possibly_batched_index):\n\u001B[0;32m     48\u001B[0m     \u001B[38;5;28;01mif\u001B[39;00m \u001B[38;5;28mself\u001B[39m\u001B[38;5;241m.\u001B[39mauto_collation:\n\u001B[1;32m---> 49\u001B[0m         data \u001B[38;5;241m=\u001B[39m [\u001B[38;5;28;43mself\u001B[39;49m\u001B[38;5;241;43m.\u001B[39;49m\u001B[43mdataset\u001B[49m\u001B[43m[\u001B[49m\u001B[43midx\u001B[49m\u001B[43m]\u001B[49m \u001B[38;5;28;01mfor\u001B[39;00m idx \u001B[38;5;129;01min\u001B[39;00m possibly_batched_index]\n\u001B[0;32m     50\u001B[0m     \u001B[38;5;28;01melse\u001B[39;00m:\n\u001B[0;32m     51\u001B[0m         data \u001B[38;5;241m=\u001B[39m \u001B[38;5;28mself\u001B[39m\u001B[38;5;241m.\u001B[39mdataset[possibly_batched_index]\n",
      "File \u001B[1;32mC:\\Python310\\lib\\site-packages\\torchvision\\datasets\\mnist.py:145\u001B[0m, in \u001B[0;36mMNIST.__getitem__\u001B[1;34m(self, index)\u001B[0m\n\u001B[0;32m    142\u001B[0m img \u001B[38;5;241m=\u001B[39m Image\u001B[38;5;241m.\u001B[39mfromarray(img\u001B[38;5;241m.\u001B[39mnumpy(), mode\u001B[38;5;241m=\u001B[39m\u001B[38;5;124m\"\u001B[39m\u001B[38;5;124mL\u001B[39m\u001B[38;5;124m\"\u001B[39m)\n\u001B[0;32m    144\u001B[0m \u001B[38;5;28;01mif\u001B[39;00m \u001B[38;5;28mself\u001B[39m\u001B[38;5;241m.\u001B[39mtransform \u001B[38;5;129;01mis\u001B[39;00m \u001B[38;5;129;01mnot\u001B[39;00m \u001B[38;5;28;01mNone\u001B[39;00m:\n\u001B[1;32m--> 145\u001B[0m     img \u001B[38;5;241m=\u001B[39m \u001B[38;5;28;43mself\u001B[39;49m\u001B[38;5;241;43m.\u001B[39;49m\u001B[43mtransform\u001B[49m\u001B[43m(\u001B[49m\u001B[43mimg\u001B[49m\u001B[43m)\u001B[49m\n\u001B[0;32m    147\u001B[0m \u001B[38;5;28;01mif\u001B[39;00m \u001B[38;5;28mself\u001B[39m\u001B[38;5;241m.\u001B[39mtarget_transform \u001B[38;5;129;01mis\u001B[39;00m \u001B[38;5;129;01mnot\u001B[39;00m \u001B[38;5;28;01mNone\u001B[39;00m:\n\u001B[0;32m    148\u001B[0m     target \u001B[38;5;241m=\u001B[39m \u001B[38;5;28mself\u001B[39m\u001B[38;5;241m.\u001B[39mtarget_transform(target)\n",
      "File \u001B[1;32mC:\\Python310\\lib\\site-packages\\torchvision\\transforms\\transforms.py:94\u001B[0m, in \u001B[0;36mCompose.__call__\u001B[1;34m(self, img)\u001B[0m\n\u001B[0;32m     92\u001B[0m \u001B[38;5;28;01mdef\u001B[39;00m \u001B[38;5;21m__call__\u001B[39m(\u001B[38;5;28mself\u001B[39m, img):\n\u001B[0;32m     93\u001B[0m     \u001B[38;5;28;01mfor\u001B[39;00m t \u001B[38;5;129;01min\u001B[39;00m \u001B[38;5;28mself\u001B[39m\u001B[38;5;241m.\u001B[39mtransforms:\n\u001B[1;32m---> 94\u001B[0m         img \u001B[38;5;241m=\u001B[39m \u001B[43mt\u001B[49m\u001B[43m(\u001B[49m\u001B[43mimg\u001B[49m\u001B[43m)\u001B[49m\n\u001B[0;32m     95\u001B[0m     \u001B[38;5;28;01mreturn\u001B[39;00m img\n",
      "File \u001B[1;32mC:\\Python310\\lib\\site-packages\\torchvision\\transforms\\transforms.py:134\u001B[0m, in \u001B[0;36mToTensor.__call__\u001B[1;34m(self, pic)\u001B[0m\n\u001B[0;32m    126\u001B[0m \u001B[38;5;28;01mdef\u001B[39;00m \u001B[38;5;21m__call__\u001B[39m(\u001B[38;5;28mself\u001B[39m, pic):\n\u001B[0;32m    127\u001B[0m     \u001B[38;5;124;03m\"\"\"\u001B[39;00m\n\u001B[0;32m    128\u001B[0m \u001B[38;5;124;03m    Args:\u001B[39;00m\n\u001B[0;32m    129\u001B[0m \u001B[38;5;124;03m        pic (PIL Image or numpy.ndarray): Image to be converted to tensor.\u001B[39;00m\n\u001B[1;32m   (...)\u001B[0m\n\u001B[0;32m    132\u001B[0m \u001B[38;5;124;03m        Tensor: Converted image.\u001B[39;00m\n\u001B[0;32m    133\u001B[0m \u001B[38;5;124;03m    \"\"\"\u001B[39;00m\n\u001B[1;32m--> 134\u001B[0m     \u001B[38;5;28;01mreturn\u001B[39;00m \u001B[43mF\u001B[49m\u001B[38;5;241;43m.\u001B[39;49m\u001B[43mto_tensor\u001B[49m\u001B[43m(\u001B[49m\u001B[43mpic\u001B[49m\u001B[43m)\u001B[49m\n",
      "File \u001B[1;32mC:\\Python310\\lib\\site-packages\\torchvision\\transforms\\functional.py:172\u001B[0m, in \u001B[0;36mto_tensor\u001B[1;34m(pic)\u001B[0m\n\u001B[0;32m    170\u001B[0m img \u001B[38;5;241m=\u001B[39m img\u001B[38;5;241m.\u001B[39mpermute((\u001B[38;5;241m2\u001B[39m, \u001B[38;5;241m0\u001B[39m, \u001B[38;5;241m1\u001B[39m))\u001B[38;5;241m.\u001B[39mcontiguous()\n\u001B[0;32m    171\u001B[0m \u001B[38;5;28;01mif\u001B[39;00m \u001B[38;5;28misinstance\u001B[39m(img, torch\u001B[38;5;241m.\u001B[39mByteTensor):\n\u001B[1;32m--> 172\u001B[0m     \u001B[38;5;28;01mreturn\u001B[39;00m \u001B[43mimg\u001B[49m\u001B[38;5;241;43m.\u001B[39;49m\u001B[43mto\u001B[49m\u001B[43m(\u001B[49m\u001B[43mdtype\u001B[49m\u001B[38;5;241;43m=\u001B[39;49m\u001B[43mdefault_float_dtype\u001B[49m\u001B[43m)\u001B[49m\u001B[38;5;241;43m.\u001B[39;49m\u001B[43mdiv\u001B[49m\u001B[43m(\u001B[49m\u001B[38;5;241;43m255\u001B[39;49m\u001B[43m)\u001B[49m\n\u001B[0;32m    173\u001B[0m \u001B[38;5;28;01melse\u001B[39;00m:\n\u001B[0;32m    174\u001B[0m     \u001B[38;5;28;01mreturn\u001B[39;00m img\n",
      "\u001B[1;31mKeyboardInterrupt\u001B[0m: "
     ]
    }
   ],
   "source": [
    "for epoch in range(1, 201):\n",
    "    _, loss = train(model, train_loader, optimizer, epoch)\n",
    "    scheduler.step(np.mean(loss))"
   ],
   "metadata": {
    "collapsed": false
   }
  },
  {
   "cell_type": "code",
   "execution_count": 65,
   "outputs": [
    {
     "data": {
      "text/plain": "<matplotlib.image.AxesImage at 0x284519f1960>"
     },
     "execution_count": 65,
     "metadata": {},
     "output_type": "execute_result"
    },
    {
     "data": {
      "text/plain": "<Figure size 640x480 with 1 Axes>",
      "image/png": "[encoded data removed]"
     },
     "metadata": {},
     "output_type": "display_data"
    }
   ],
   "source": [
    "z = torch.normal(0, 1, size=(1, 64)).cuda()\n",
    "plt.imshow(model.sample(z).cpu().detach().view(28, 28), cmap='Greys')"
   ],
   "metadata": {
    "collapsed": false
   }
  },
  {
   "cell_type": "code",
   "execution_count": 66,
   "outputs": [],
   "source": [
    "img0 = next(iter(train_loader))[0][0]"
   ],
   "metadata": {
    "collapsed": false
   }
  },
  {
   "cell_type": "code",
   "execution_count": 67,
   "outputs": [
    {
     "data": {
      "text/plain": "<matplotlib.image.AxesImage at 0x28451a3e230>"
     },
     "execution_count": 67,
     "metadata": {},
     "output_type": "execute_result"
    },
    {
     "data": {
      "text/plain": "<Figure size 640x480 with 1 Axes>",
      "image/png": "[encoded data removed]"
     },
     "metadata": {},
     "output_type": "display_data"
    }
   ],
   "source": [
    "plt.imshow(img0[0], cmap='Greys')"
   ],
   "metadata": {
    "collapsed": false
   }
  },
  {
   "cell_type": "code",
   "execution_count": 69,
   "outputs": [
    {
     "data": {
      "text/plain": "<matplotlib.image.AxesImage at 0x28451a96f80>"
     },
     "execution_count": 69,
     "metadata": {},
     "output_type": "execute_result"
    },
    {
     "data": {
      "text/plain": "<Figure size 640x480 with 1 Axes>",
      "image/png": "[encoded data removed]"
     },
     "metadata": {},
     "output_type": "display_data"
    }
   ],
   "source": [
    "output, _, _ = model(img0.view(-1, 28 * 28).cuda())\n",
    "plt.imshow(output.cpu().detach().view(28, 28), cmap='Greys')"
   ],
   "metadata": {
    "collapsed": false
   }
  },
  {
   "cell_type": "markdown",
   "source": [
    "## KLD and L1"
   ],
   "metadata": {
    "collapsed": false
   }
  },
  {
   "cell_type": "code",
   "execution_count": 107,
   "outputs": [],
   "source": [
    "model = vae.to('cuda')\n",
    "optimizer = optim.Adadelta(model.parameters(), lr=1e1)\n",
    "scheduler = ReduceLROnPlateau(optimizer, factor=0.1, patience=5, verbose=False, threshold=1e-3)"
   ],
   "metadata": {
    "collapsed": false
   }
  },
  {
   "cell_type": "code",
   "execution_count": 108,
   "outputs": [],
   "source": [
    "def train(model, train_loader, optimizer, epoch):\n",
    "    model.train()\n",
    "    allLoss = []\n",
    "    allReconLoss = []\n",
    "    with tqdm(train_loader, unit='batch') as tEpoch:\n",
    "        for data, _ in tEpoch:\n",
    "            data = data.to('cuda').view(-1, 28 * 28)\n",
    "            optimizer.zero_grad()\n",
    "            output, mu, log_var = model(data)\n",
    "            reconLoss = L1Loss(output, data)\n",
    "            loss = reconLoss + KLD(mu, log_var)\n",
    "            loss.backward()\n",
    "            optimizer.step()\n",
    "            allLoss.append(loss.item())\n",
    "            allReconLoss.append(reconLoss.item())\n",
    "            tEpoch.set_postfix_str(' Epoch: {} \\tTotal Loss: {:.6f}\\tReconstruction Loss: {:.6f}\\t lr: {:.8f}'.format(\n",
    "                epoch, loss.item(), reconLoss.item(), optimizer.param_groups[0]['lr']))\n",
    "    return allLoss, allReconLoss"
   ],
   "metadata": {
    "collapsed": false
   }
  },
  {
   "cell_type": "code",
   "execution_count": 109,
   "outputs": [
    {
     "name": "stderr",
     "output_type": "stream",
     "text": [
      "100%|██████████| 59/59 [00:04<00:00, 11.81batch/s,  Epoch: 1 \tTotal Loss: 0.123307\tReconstruction Loss: 0.123307\t lr: 0.10000000]\n",
      "100%|██████████| 59/59 [00:04<00:00, 12.18batch/s,  Epoch: 2 \tTotal Loss: 0.123197\tReconstruction Loss: 0.123197\t lr: 0.10000000]\n",
      " 49%|████▉     | 29/59 [00:02<00:02, 11.68batch/s,  Epoch: 3 \tTotal Loss: 0.126098\tReconstruction Loss: 0.126098\t lr: 0.10000000]\n"
     ]
    },
    {
     "ename": "KeyboardInterrupt",
     "evalue": "",
     "output_type": "error",
     "traceback": [
      "\u001B[1;31m---------------------------------------------------------------------------\u001B[0m",
      "\u001B[1;31mKeyboardInterrupt\u001B[0m                         Traceback (most recent call last)",
      "Cell \u001B[1;32mIn [109], line 2\u001B[0m\n\u001B[0;32m      1\u001B[0m \u001B[38;5;28;01mfor\u001B[39;00m epoch \u001B[38;5;129;01min\u001B[39;00m \u001B[38;5;28mrange\u001B[39m(\u001B[38;5;241m1\u001B[39m, \u001B[38;5;241m201\u001B[39m):\n\u001B[1;32m----> 2\u001B[0m     _, loss \u001B[38;5;241m=\u001B[39m \u001B[43mtrain\u001B[49m\u001B[43m(\u001B[49m\u001B[43mmodel\u001B[49m\u001B[43m,\u001B[49m\u001B[43m \u001B[49m\u001B[43mtrain_loader\u001B[49m\u001B[43m,\u001B[49m\u001B[43m \u001B[49m\u001B[43moptimizer\u001B[49m\u001B[43m,\u001B[49m\u001B[43m \u001B[49m\u001B[43mepoch\u001B[49m\u001B[43m)\u001B[49m\n\u001B[0;32m      3\u001B[0m     scheduler\u001B[38;5;241m.\u001B[39mstep(np\u001B[38;5;241m.\u001B[39mmean(loss))\n",
      "Cell \u001B[1;32mIn [108], line 6\u001B[0m, in \u001B[0;36mtrain\u001B[1;34m(model, train_loader, optimizer, epoch)\u001B[0m\n\u001B[0;32m      4\u001B[0m allReconLoss \u001B[38;5;241m=\u001B[39m []\n\u001B[0;32m      5\u001B[0m \u001B[38;5;28;01mwith\u001B[39;00m tqdm(train_loader, unit\u001B[38;5;241m=\u001B[39m\u001B[38;5;124m'\u001B[39m\u001B[38;5;124mbatch\u001B[39m\u001B[38;5;124m'\u001B[39m) \u001B[38;5;28;01mas\u001B[39;00m tEpoch:\n\u001B[1;32m----> 6\u001B[0m     \u001B[38;5;28;01mfor\u001B[39;00m data, _ \u001B[38;5;129;01min\u001B[39;00m tEpoch:\n\u001B[0;32m      7\u001B[0m         data \u001B[38;5;241m=\u001B[39m data\u001B[38;5;241m.\u001B[39mto(\u001B[38;5;124m'\u001B[39m\u001B[38;5;124mcuda\u001B[39m\u001B[38;5;124m'\u001B[39m)\u001B[38;5;241m.\u001B[39mview(\u001B[38;5;241m-\u001B[39m\u001B[38;5;241m1\u001B[39m, \u001B[38;5;241m28\u001B[39m \u001B[38;5;241m*\u001B[39m \u001B[38;5;241m28\u001B[39m)\n\u001B[0;32m      8\u001B[0m         optimizer\u001B[38;5;241m.\u001B[39mzero_grad()\n",
      "File \u001B[1;32mC:\\Python310\\lib\\site-packages\\tqdm\\std.py:1195\u001B[0m, in \u001B[0;36mtqdm.__iter__\u001B[1;34m(self)\u001B[0m\n\u001B[0;32m   1192\u001B[0m time \u001B[38;5;241m=\u001B[39m \u001B[38;5;28mself\u001B[39m\u001B[38;5;241m.\u001B[39m_time\n\u001B[0;32m   1194\u001B[0m \u001B[38;5;28;01mtry\u001B[39;00m:\n\u001B[1;32m-> 1195\u001B[0m     \u001B[38;5;28;01mfor\u001B[39;00m obj \u001B[38;5;129;01min\u001B[39;00m iterable:\n\u001B[0;32m   1196\u001B[0m         \u001B[38;5;28;01myield\u001B[39;00m obj\n\u001B[0;32m   1197\u001B[0m         \u001B[38;5;66;03m# Update and possibly print the progressbar.\u001B[39;00m\n\u001B[0;32m   1198\u001B[0m         \u001B[38;5;66;03m# Note: does not call self.update(1) for speed optimisation.\u001B[39;00m\n",
      "File \u001B[1;32mC:\\Python310\\lib\\site-packages\\torch\\utils\\data\\dataloader.py:681\u001B[0m, in \u001B[0;36m_BaseDataLoaderIter.__next__\u001B[1;34m(self)\u001B[0m\n\u001B[0;32m    678\u001B[0m \u001B[38;5;28;01mif\u001B[39;00m \u001B[38;5;28mself\u001B[39m\u001B[38;5;241m.\u001B[39m_sampler_iter \u001B[38;5;129;01mis\u001B[39;00m \u001B[38;5;28;01mNone\u001B[39;00m:\n\u001B[0;32m    679\u001B[0m     \u001B[38;5;66;03m# TODO(https://github.com/pytorch/pytorch/issues/76750)\u001B[39;00m\n\u001B[0;32m    680\u001B[0m     \u001B[38;5;28mself\u001B[39m\u001B[38;5;241m.\u001B[39m_reset()  \u001B[38;5;66;03m# type: ignore[call-arg]\u001B[39;00m\n\u001B[1;32m--> 681\u001B[0m data \u001B[38;5;241m=\u001B[39m \u001B[38;5;28;43mself\u001B[39;49m\u001B[38;5;241;43m.\u001B[39;49m\u001B[43m_next_data\u001B[49m\u001B[43m(\u001B[49m\u001B[43m)\u001B[49m\n\u001B[0;32m    682\u001B[0m \u001B[38;5;28mself\u001B[39m\u001B[38;5;241m.\u001B[39m_num_yielded \u001B[38;5;241m+\u001B[39m\u001B[38;5;241m=\u001B[39m \u001B[38;5;241m1\u001B[39m\n\u001B[0;32m    683\u001B[0m \u001B[38;5;28;01mif\u001B[39;00m \u001B[38;5;28mself\u001B[39m\u001B[38;5;241m.\u001B[39m_dataset_kind \u001B[38;5;241m==\u001B[39m _DatasetKind\u001B[38;5;241m.\u001B[39mIterable \u001B[38;5;129;01mand\u001B[39;00m \\\n\u001B[0;32m    684\u001B[0m         \u001B[38;5;28mself\u001B[39m\u001B[38;5;241m.\u001B[39m_IterableDataset_len_called \u001B[38;5;129;01mis\u001B[39;00m \u001B[38;5;129;01mnot\u001B[39;00m \u001B[38;5;28;01mNone\u001B[39;00m \u001B[38;5;129;01mand\u001B[39;00m \\\n\u001B[0;32m    685\u001B[0m         \u001B[38;5;28mself\u001B[39m\u001B[38;5;241m.\u001B[39m_num_yielded \u001B[38;5;241m>\u001B[39m \u001B[38;5;28mself\u001B[39m\u001B[38;5;241m.\u001B[39m_IterableDataset_len_called:\n",
      "File \u001B[1;32mC:\\Python310\\lib\\site-packages\\torch\\utils\\data\\dataloader.py:721\u001B[0m, in \u001B[0;36m_SingleProcessDataLoaderIter._next_data\u001B[1;34m(self)\u001B[0m\n\u001B[0;32m    719\u001B[0m \u001B[38;5;28;01mdef\u001B[39;00m \u001B[38;5;21m_next_data\u001B[39m(\u001B[38;5;28mself\u001B[39m):\n\u001B[0;32m    720\u001B[0m     index \u001B[38;5;241m=\u001B[39m \u001B[38;5;28mself\u001B[39m\u001B[38;5;241m.\u001B[39m_next_index()  \u001B[38;5;66;03m# may raise StopIteration\u001B[39;00m\n\u001B[1;32m--> 721\u001B[0m     data \u001B[38;5;241m=\u001B[39m \u001B[38;5;28;43mself\u001B[39;49m\u001B[38;5;241;43m.\u001B[39;49m\u001B[43m_dataset_fetcher\u001B[49m\u001B[38;5;241;43m.\u001B[39;49m\u001B[43mfetch\u001B[49m\u001B[43m(\u001B[49m\u001B[43mindex\u001B[49m\u001B[43m)\u001B[49m  \u001B[38;5;66;03m# may raise StopIteration\u001B[39;00m\n\u001B[0;32m    722\u001B[0m     \u001B[38;5;28;01mif\u001B[39;00m \u001B[38;5;28mself\u001B[39m\u001B[38;5;241m.\u001B[39m_pin_memory:\n\u001B[0;32m    723\u001B[0m         data \u001B[38;5;241m=\u001B[39m _utils\u001B[38;5;241m.\u001B[39mpin_memory\u001B[38;5;241m.\u001B[39mpin_memory(data, \u001B[38;5;28mself\u001B[39m\u001B[38;5;241m.\u001B[39m_pin_memory_device)\n",
      "File \u001B[1;32mC:\\Python310\\lib\\site-packages\\torch\\utils\\data\\_utils\\fetch.py:49\u001B[0m, in \u001B[0;36m_MapDatasetFetcher.fetch\u001B[1;34m(self, possibly_batched_index)\u001B[0m\n\u001B[0;32m     47\u001B[0m \u001B[38;5;28;01mdef\u001B[39;00m \u001B[38;5;21mfetch\u001B[39m(\u001B[38;5;28mself\u001B[39m, possibly_batched_index):\n\u001B[0;32m     48\u001B[0m     \u001B[38;5;28;01mif\u001B[39;00m \u001B[38;5;28mself\u001B[39m\u001B[38;5;241m.\u001B[39mauto_collation:\n\u001B[1;32m---> 49\u001B[0m         data \u001B[38;5;241m=\u001B[39m [\u001B[38;5;28mself\u001B[39m\u001B[38;5;241m.\u001B[39mdataset[idx] \u001B[38;5;28;01mfor\u001B[39;00m idx \u001B[38;5;129;01min\u001B[39;00m possibly_batched_index]\n\u001B[0;32m     50\u001B[0m     \u001B[38;5;28;01melse\u001B[39;00m:\n\u001B[0;32m     51\u001B[0m         data \u001B[38;5;241m=\u001B[39m \u001B[38;5;28mself\u001B[39m\u001B[38;5;241m.\u001B[39mdataset[possibly_batched_index]\n",
      "File \u001B[1;32mC:\\Python310\\lib\\site-packages\\torch\\utils\\data\\_utils\\fetch.py:49\u001B[0m, in \u001B[0;36m<listcomp>\u001B[1;34m(.0)\u001B[0m\n\u001B[0;32m     47\u001B[0m \u001B[38;5;28;01mdef\u001B[39;00m \u001B[38;5;21mfetch\u001B[39m(\u001B[38;5;28mself\u001B[39m, possibly_batched_index):\n\u001B[0;32m     48\u001B[0m     \u001B[38;5;28;01mif\u001B[39;00m \u001B[38;5;28mself\u001B[39m\u001B[38;5;241m.\u001B[39mauto_collation:\n\u001B[1;32m---> 49\u001B[0m         data \u001B[38;5;241m=\u001B[39m [\u001B[38;5;28;43mself\u001B[39;49m\u001B[38;5;241;43m.\u001B[39;49m\u001B[43mdataset\u001B[49m\u001B[43m[\u001B[49m\u001B[43midx\u001B[49m\u001B[43m]\u001B[49m \u001B[38;5;28;01mfor\u001B[39;00m idx \u001B[38;5;129;01min\u001B[39;00m possibly_batched_index]\n\u001B[0;32m     50\u001B[0m     \u001B[38;5;28;01melse\u001B[39;00m:\n\u001B[0;32m     51\u001B[0m         data \u001B[38;5;241m=\u001B[39m \u001B[38;5;28mself\u001B[39m\u001B[38;5;241m.\u001B[39mdataset[possibly_batched_index]\n",
      "File \u001B[1;32mC:\\Python310\\lib\\site-packages\\torchvision\\datasets\\mnist.py:145\u001B[0m, in \u001B[0;36mMNIST.__getitem__\u001B[1;34m(self, index)\u001B[0m\n\u001B[0;32m    142\u001B[0m img \u001B[38;5;241m=\u001B[39m Image\u001B[38;5;241m.\u001B[39mfromarray(img\u001B[38;5;241m.\u001B[39mnumpy(), mode\u001B[38;5;241m=\u001B[39m\u001B[38;5;124m\"\u001B[39m\u001B[38;5;124mL\u001B[39m\u001B[38;5;124m\"\u001B[39m)\n\u001B[0;32m    144\u001B[0m \u001B[38;5;28;01mif\u001B[39;00m \u001B[38;5;28mself\u001B[39m\u001B[38;5;241m.\u001B[39mtransform \u001B[38;5;129;01mis\u001B[39;00m \u001B[38;5;129;01mnot\u001B[39;00m \u001B[38;5;28;01mNone\u001B[39;00m:\n\u001B[1;32m--> 145\u001B[0m     img \u001B[38;5;241m=\u001B[39m \u001B[38;5;28;43mself\u001B[39;49m\u001B[38;5;241;43m.\u001B[39;49m\u001B[43mtransform\u001B[49m\u001B[43m(\u001B[49m\u001B[43mimg\u001B[49m\u001B[43m)\u001B[49m\n\u001B[0;32m    147\u001B[0m \u001B[38;5;28;01mif\u001B[39;00m \u001B[38;5;28mself\u001B[39m\u001B[38;5;241m.\u001B[39mtarget_transform \u001B[38;5;129;01mis\u001B[39;00m \u001B[38;5;129;01mnot\u001B[39;00m \u001B[38;5;28;01mNone\u001B[39;00m:\n\u001B[0;32m    148\u001B[0m     target \u001B[38;5;241m=\u001B[39m \u001B[38;5;28mself\u001B[39m\u001B[38;5;241m.\u001B[39mtarget_transform(target)\n",
      "File \u001B[1;32mC:\\Python310\\lib\\site-packages\\torchvision\\transforms\\transforms.py:94\u001B[0m, in \u001B[0;36mCompose.__call__\u001B[1;34m(self, img)\u001B[0m\n\u001B[0;32m     92\u001B[0m \u001B[38;5;28;01mdef\u001B[39;00m \u001B[38;5;21m__call__\u001B[39m(\u001B[38;5;28mself\u001B[39m, img):\n\u001B[0;32m     93\u001B[0m     \u001B[38;5;28;01mfor\u001B[39;00m t \u001B[38;5;129;01min\u001B[39;00m \u001B[38;5;28mself\u001B[39m\u001B[38;5;241m.\u001B[39mtransforms:\n\u001B[1;32m---> 94\u001B[0m         img \u001B[38;5;241m=\u001B[39m \u001B[43mt\u001B[49m\u001B[43m(\u001B[49m\u001B[43mimg\u001B[49m\u001B[43m)\u001B[49m\n\u001B[0;32m     95\u001B[0m     \u001B[38;5;28;01mreturn\u001B[39;00m img\n",
      "File \u001B[1;32mC:\\Python310\\lib\\site-packages\\torchvision\\transforms\\transforms.py:134\u001B[0m, in \u001B[0;36mToTensor.__call__\u001B[1;34m(self, pic)\u001B[0m\n\u001B[0;32m    126\u001B[0m \u001B[38;5;28;01mdef\u001B[39;00m \u001B[38;5;21m__call__\u001B[39m(\u001B[38;5;28mself\u001B[39m, pic):\n\u001B[0;32m    127\u001B[0m     \u001B[38;5;124;03m\"\"\"\u001B[39;00m\n\u001B[0;32m    128\u001B[0m \u001B[38;5;124;03m    Args:\u001B[39;00m\n\u001B[0;32m    129\u001B[0m \u001B[38;5;124;03m        pic (PIL Image or numpy.ndarray): Image to be converted to tensor.\u001B[39;00m\n\u001B[1;32m   (...)\u001B[0m\n\u001B[0;32m    132\u001B[0m \u001B[38;5;124;03m        Tensor: Converted image.\u001B[39;00m\n\u001B[0;32m    133\u001B[0m \u001B[38;5;124;03m    \"\"\"\u001B[39;00m\n\u001B[1;32m--> 134\u001B[0m     \u001B[38;5;28;01mreturn\u001B[39;00m \u001B[43mF\u001B[49m\u001B[38;5;241;43m.\u001B[39;49m\u001B[43mto_tensor\u001B[49m\u001B[43m(\u001B[49m\u001B[43mpic\u001B[49m\u001B[43m)\u001B[49m\n",
      "File \u001B[1;32mC:\\Python310\\lib\\site-packages\\torchvision\\transforms\\functional.py:172\u001B[0m, in \u001B[0;36mto_tensor\u001B[1;34m(pic)\u001B[0m\n\u001B[0;32m    170\u001B[0m img \u001B[38;5;241m=\u001B[39m img\u001B[38;5;241m.\u001B[39mpermute((\u001B[38;5;241m2\u001B[39m, \u001B[38;5;241m0\u001B[39m, \u001B[38;5;241m1\u001B[39m))\u001B[38;5;241m.\u001B[39mcontiguous()\n\u001B[0;32m    171\u001B[0m \u001B[38;5;28;01mif\u001B[39;00m \u001B[38;5;28misinstance\u001B[39m(img, torch\u001B[38;5;241m.\u001B[39mByteTensor):\n\u001B[1;32m--> 172\u001B[0m     \u001B[38;5;28;01mreturn\u001B[39;00m \u001B[43mimg\u001B[49m\u001B[38;5;241;43m.\u001B[39;49m\u001B[43mto\u001B[49m\u001B[43m(\u001B[49m\u001B[43mdtype\u001B[49m\u001B[38;5;241;43m=\u001B[39;49m\u001B[43mdefault_float_dtype\u001B[49m\u001B[43m)\u001B[49m\u001B[38;5;241m.\u001B[39mdiv(\u001B[38;5;241m255\u001B[39m)\n\u001B[0;32m    173\u001B[0m \u001B[38;5;28;01melse\u001B[39;00m:\n\u001B[0;32m    174\u001B[0m     \u001B[38;5;28;01mreturn\u001B[39;00m img\n",
      "\u001B[1;31mKeyboardInterrupt\u001B[0m: "
     ]
    }
   ],
   "source": [
    "for epoch in range(1, 201):\n",
    "    _, loss = train(model, train_loader, optimizer, epoch)\n",
    "    scheduler.step(np.mean(loss))"
   ],
   "metadata": {
    "collapsed": false
   }
  },
  {
   "cell_type": "code",
   "execution_count": 111,
   "outputs": [
    {
     "data": {
      "text/plain": "<matplotlib.image.AxesImage at 0x28452adc7c0>"
     },
     "execution_count": 111,
     "metadata": {},
     "output_type": "execute_result"
    },
    {
     "data": {
      "text/plain": "<Figure size 640x480 with 1 Axes>",
      "image/png": "[encoded data removed]"
     },
     "metadata": {},
     "output_type": "display_data"
    }
   ],
   "source": [
    "z = torch.normal(0, 1, size=(1, 64)).cuda()\n",
    "plt.imshow(model.sample(z).cpu().detach().view(28, 28), cmap='Greys')"
   ],
   "metadata": {
    "collapsed": false
   }
  },
  {
   "cell_type": "code",
   "execution_count": null,
   "outputs": [],
   "source": [],
   "metadata": {
    "collapsed": false
   }
  }
 ],
 "metadata": {
  "kernelspec": {
   "display_name": "Python 3",
   "language": "python",
   "name": "python3"
  },
  "language_info": {
   "codemirror_mode": {
    "name": "ipython",
    "version": 2
   },
   "file_extension": ".py",
   "mimetype": "text/x-python",
   "name": "python",
   "nbconvert_exporter": "python",
   "pygments_lexer": "ipython2",
   "version": "2.7.6"
  }
 },
 "nbformat": 4,
 "nbformat_minor": 0
}
