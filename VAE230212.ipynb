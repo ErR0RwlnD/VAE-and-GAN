{
 "cells": [
  {
   "cell_type": "code",
   "execution_count": 1,
   "metadata": {
    "collapsed": true
   },
   "outputs": [],
   "source": [
    "import matplotlib.pyplot as plt\n",
    "import numpy as np\n",
    "import torch\n",
    "from torch import nn\n",
    "from torch import optim\n",
    "from torch.optim.lr_scheduler import ReduceLROnPlateau\n",
    "from torchvision import datasets, transforms\n",
    "from tqdm import tqdm\n",
    "from sklearn.preprocessing import MinMaxScaler\n",
    "\n",
    "from src.VAE import LinearVAE"
   ]
  },
  {
   "cell_type": "code",
   "execution_count": 2,
   "outputs": [],
   "source": [
    "encoder1 = nn.Sequential(nn.Linear(28 * 28, 256),\n",
    "                         nn.ReLU(),\n",
    "                         nn.Linear(256, 128),\n",
    "                         nn.ReLU())\n",
    "decoder1 = nn.Sequential(nn.Linear(64, 128),\n",
    "                         nn.ReLU(),\n",
    "                         nn.Linear(128, 256),\n",
    "                         nn.ReLU(),\n",
    "                         nn.Linear(256, 28 * 28),\n",
    "                         nn.Sigmoid())\n",
    "encoderDeep = nn.Sequential(nn.Linear(28 * 28, 256),\n",
    "                            nn.ReLU(),\n",
    "                            nn.Linear(256, 128),\n",
    "                            nn.ReLU(),\n",
    "                            nn.Linear(128, 64),\n",
    "                            nn.ReLU())\n",
    "decoderDeep = nn.Sequential(nn.Linear(16, 64),\n",
    "                            nn.ReLU(),\n",
    "                            nn.Linear(64, 128),\n",
    "                            nn.ReLU(),\n",
    "                            nn.Linear(128, 256),\n",
    "                            nn.ReLU(),\n",
    "                            nn.Linear(256, 28 * 28),\n",
    "                            nn.Sigmoid())\n",
    "encoderShallow = nn.Sequential(nn.Linear(28 * 28, 128),\n",
    "                               nn.ReLU())\n",
    "decoderShallow = nn.Sequential(nn.Linear(2, 128),\n",
    "                               nn.ReLU(),\n",
    "                               nn.Linear(128, 28 * 28),\n",
    "                               nn.Sigmoid())\n",
    "vae = LinearVAE(encoder1, decoder1, 128, 64)"
   ],
   "metadata": {
    "collapsed": false
   }
  },
  {
   "cell_type": "code",
   "execution_count": 3,
   "outputs": [],
   "source": [
    "def KLD(mu: torch.Tensor, log_var: torch.Tensor):\n",
    "    return -0.5 * torch.mean(1 + log_var - mu.pow(2) - log_var.exp())\n",
    "\n",
    "\n",
    "def BCE(recon: torch.Tensor, X: torch.Tensor):\n",
    "    return nn.functional.binary_cross_entropy(recon, X, reduction='mean')\n",
    "\n",
    "\n",
    "def L1Loss(recon: torch.Tensor, X: torch.Tensor):\n",
    "    return nn.functional.l1_loss(recon, X, reduction='mean')\n",
    "\n",
    "\n",
    "def L2Loss(recon: torch.Tensor, X: torch.Tensor):\n",
    "    return nn.functional.mse_loss(recon, X, reduction='mean')"
   ],
   "metadata": {
    "collapsed": false
   }
  },
  {
   "cell_type": "code",
   "execution_count": 4,
   "outputs": [],
   "source": [
    "transform = transforms.Compose([\n",
    "    transforms.ToTensor()\n",
    "])\n",
    "dataset1 = datasets.MNIST('../data', train=True, download=True,\n",
    "                          transform=transform)\n",
    "dataset2 = datasets.MNIST('../data', train=False,\n",
    "                          transform=transform)\n",
    "train_loader = torch.utils.data.DataLoader(dataset1, batch_size=1024, shuffle=True)\n",
    "test_loader = torch.utils.data.DataLoader(dataset2, batch_size=10000)"
   ],
   "metadata": {
    "collapsed": false
   }
  },
  {
   "cell_type": "markdown",
   "source": [
    "## KLD and BCE"
   ],
   "metadata": {
    "collapsed": false
   }
  },
  {
   "cell_type": "code",
   "execution_count": 8,
   "outputs": [],
   "source": [
    "model = vae.to('cuda')\n",
    "optimizer = optim.Adam(model.parameters(), lr=1e-2)\n",
    "scheduler = ReduceLROnPlateau(optimizer, factor=0.1, patience=5, verbose=False, threshold=1e-3)"
   ],
   "metadata": {
    "collapsed": false
   }
  },
  {
   "cell_type": "code",
   "execution_count": 9,
   "outputs": [],
   "source": [
    "def train(model, train_loader, optimizer, epoch):\n",
    "    model.train()\n",
    "    allLoss = []\n",
    "    allReconLoss = []\n",
    "    with tqdm(train_loader, unit='batch') as tEpoch:\n",
    "        for data, _ in tEpoch:\n",
    "            data = data.to('cuda').view(-1, 28 * 28)\n",
    "            optimizer.zero_grad()\n",
    "            output, mu, log_var = model(data)\n",
    "            reconLoss = BCE(output, data)\n",
    "            loss = KLD(mu, log_var) + reconLoss\n",
    "            loss.backward()\n",
    "            optimizer.step()\n",
    "            # allLoss.append(loss.item())\n",
    "            allReconLoss.append(reconLoss.item())\n",
    "            tEpoch.set_postfix_str(' Epoch: {} \\tTotal Loss: {:.6f}\\tReconstruction Loss: {:.6f}\\t lr: {:.8f}'.format(\n",
    "                epoch, loss.item(), reconLoss.item(), optimizer.param_groups[0]['lr']))\n",
    "    return allLoss, allReconLoss"
   ],
   "metadata": {
    "collapsed": false
   }
  },
  {
   "cell_type": "code",
   "execution_count": 10,
   "outputs": [
    {
     "name": "stderr",
     "output_type": "stream",
     "text": [
      "100%|██████████| 59/59 [00:04<00:00, 12.20batch/s,  Epoch: 1 \tTotal Loss: 0.262750\tReconstruction Loss: 0.260918\t lr: 0.01000000]\n",
      "100%|██████████| 59/59 [00:04<00:00, 12.21batch/s,  Epoch: 2 \tTotal Loss: 0.261173\tReconstruction Loss: 0.255829\t lr: 0.01000000]\n",
      "100%|██████████| 59/59 [00:04<00:00, 12.47batch/s,  Epoch: 3 \tTotal Loss: 0.257463\tReconstruction Loss: 0.253245\t lr: 0.01000000]\n",
      "100%|██████████| 59/59 [00:04<00:00, 12.42batch/s,  Epoch: 4 \tTotal Loss: 0.260859\tReconstruction Loss: 0.253352\t lr: 0.01000000]\n",
      "100%|██████████| 59/59 [00:04<00:00, 12.33batch/s,  Epoch: 5 \tTotal Loss: 0.257557\tReconstruction Loss: 0.248033\t lr: 0.01000000]\n",
      "100%|██████████| 59/59 [00:04<00:00, 12.45batch/s,  Epoch: 6 \tTotal Loss: 0.254126\tReconstruction Loss: 0.242837\t lr: 0.01000000]\n",
      "100%|██████████| 59/59 [00:04<00:00, 12.51batch/s,  Epoch: 7 \tTotal Loss: 0.252575\tReconstruction Loss: 0.239078\t lr: 0.01000000]\n",
      "100%|██████████| 59/59 [00:04<00:00, 12.29batch/s,  Epoch: 8 \tTotal Loss: 0.253606\tReconstruction Loss: 0.238758\t lr: 0.01000000]\n",
      "100%|██████████| 59/59 [00:04<00:00, 12.50batch/s,  Epoch: 9 \tTotal Loss: 0.253144\tReconstruction Loss: 0.239564\t lr: 0.01000000]\n",
      "100%|██████████| 59/59 [00:04<00:00, 12.41batch/s,  Epoch: 10 \tTotal Loss: 0.257657\tReconstruction Loss: 0.244443\t lr: 0.01000000]\n",
      "100%|██████████| 59/59 [00:04<00:00, 12.14batch/s,  Epoch: 11 \tTotal Loss: 0.258806\tReconstruction Loss: 0.243669\t lr: 0.01000000]\n",
      "100%|██████████| 59/59 [00:04<00:00, 12.38batch/s,  Epoch: 12 \tTotal Loss: 0.254428\tReconstruction Loss: 0.239151\t lr: 0.01000000]\n",
      "100%|██████████| 59/59 [00:04<00:00, 12.51batch/s,  Epoch: 13 \tTotal Loss: 0.252885\tReconstruction Loss: 0.236813\t lr: 0.01000000]\n",
      "100%|██████████| 59/59 [00:05<00:00, 11.71batch/s,  Epoch: 14 \tTotal Loss: 0.250426\tReconstruction Loss: 0.234761\t lr: 0.01000000]\n",
      "100%|██████████| 59/59 [00:04<00:00, 11.90batch/s,  Epoch: 15 \tTotal Loss: 0.248738\tReconstruction Loss: 0.232473\t lr: 0.01000000]\n",
      "100%|██████████| 59/59 [00:05<00:00, 11.56batch/s,  Epoch: 16 \tTotal Loss: 0.251748\tReconstruction Loss: 0.236545\t lr: 0.01000000]\n",
      "100%|██████████| 59/59 [00:04<00:00, 11.98batch/s,  Epoch: 17 \tTotal Loss: 0.253930\tReconstruction Loss: 0.238203\t lr: 0.01000000]\n",
      "100%|██████████| 59/59 [00:04<00:00, 11.82batch/s,  Epoch: 18 \tTotal Loss: 0.252743\tReconstruction Loss: 0.235923\t lr: 0.01000000]\n",
      "100%|██████████| 59/59 [00:05<00:00, 11.75batch/s,  Epoch: 19 \tTotal Loss: 0.250361\tReconstruction Loss: 0.232605\t lr: 0.01000000]\n",
      "100%|██████████| 59/59 [00:04<00:00, 11.86batch/s,  Epoch: 20 \tTotal Loss: 0.254961\tReconstruction Loss: 0.237944\t lr: 0.01000000]\n",
      "100%|██████████| 59/59 [00:04<00:00, 12.88batch/s,  Epoch: 21 \tTotal Loss: 0.253754\tReconstruction Loss: 0.235628\t lr: 0.01000000]\n",
      "100%|██████████| 59/59 [00:04<00:00, 12.63batch/s,  Epoch: 22 \tTotal Loss: 0.255911\tReconstruction Loss: 0.239314\t lr: 0.01000000]\n",
      "100%|██████████| 59/59 [00:04<00:00, 13.41batch/s,  Epoch: 23 \tTotal Loss: 0.256789\tReconstruction Loss: 0.237553\t lr: 0.01000000]\n",
      "100%|██████████| 59/59 [00:04<00:00, 12.68batch/s,  Epoch: 24 \tTotal Loss: 0.248973\tReconstruction Loss: 0.229385\t lr: 0.01000000]\n",
      "100%|██████████| 59/59 [00:04<00:00, 12.24batch/s,  Epoch: 25 \tTotal Loss: 0.258312\tReconstruction Loss: 0.237934\t lr: 0.01000000]\n",
      "100%|██████████| 59/59 [00:04<00:00, 13.01batch/s,  Epoch: 26 \tTotal Loss: 0.252330\tReconstruction Loss: 0.232681\t lr: 0.01000000]\n",
      "100%|██████████| 59/59 [00:04<00:00, 12.85batch/s,  Epoch: 27 \tTotal Loss: 0.247811\tReconstruction Loss: 0.227129\t lr: 0.01000000]\n",
      "100%|██████████| 59/59 [00:04<00:00, 13.66batch/s,  Epoch: 28 \tTotal Loss: 0.251669\tReconstruction Loss: 0.230394\t lr: 0.01000000]\n",
      "100%|██████████| 59/59 [00:04<00:00, 12.74batch/s,  Epoch: 29 \tTotal Loss: 0.249895\tReconstruction Loss: 0.226560\t lr: 0.01000000]\n",
      "100%|██████████| 59/59 [00:04<00:00, 12.67batch/s,  Epoch: 30 \tTotal Loss: 0.252447\tReconstruction Loss: 0.229426\t lr: 0.01000000]\n",
      "100%|██████████| 59/59 [00:04<00:00, 12.72batch/s,  Epoch: 31 \tTotal Loss: 0.255455\tReconstruction Loss: 0.230275\t lr: 0.01000000]\n",
      "100%|██████████| 59/59 [00:04<00:00, 12.62batch/s,  Epoch: 32 \tTotal Loss: 0.252134\tReconstruction Loss: 0.228418\t lr: 0.01000000]\n",
      "100%|██████████| 59/59 [00:04<00:00, 12.63batch/s,  Epoch: 33 \tTotal Loss: 0.247830\tReconstruction Loss: 0.222488\t lr: 0.01000000]\n",
      "100%|██████████| 59/59 [00:04<00:00, 12.81batch/s,  Epoch: 34 \tTotal Loss: 0.250192\tReconstruction Loss: 0.225839\t lr: 0.01000000]\n",
      "100%|██████████| 59/59 [00:04<00:00, 12.77batch/s,  Epoch: 35 \tTotal Loss: 0.247185\tReconstruction Loss: 0.218911\t lr: 0.01000000]\n",
      "100%|██████████| 59/59 [00:04<00:00, 12.84batch/s,  Epoch: 36 \tTotal Loss: 0.247946\tReconstruction Loss: 0.218764\t lr: 0.01000000]\n",
      "100%|██████████| 59/59 [00:04<00:00, 13.37batch/s,  Epoch: 37 \tTotal Loss: 0.245895\tReconstruction Loss: 0.217814\t lr: 0.01000000]\n",
      "100%|██████████| 59/59 [00:04<00:00, 13.07batch/s,  Epoch: 38 \tTotal Loss: 0.252485\tReconstruction Loss: 0.221557\t lr: 0.01000000]\n",
      "100%|██████████| 59/59 [00:04<00:00, 12.76batch/s,  Epoch: 39 \tTotal Loss: 0.246032\tReconstruction Loss: 0.216156\t lr: 0.01000000]\n",
      "100%|██████████| 59/59 [00:04<00:00, 12.36batch/s,  Epoch: 40 \tTotal Loss: 0.242741\tReconstruction Loss: 0.212763\t lr: 0.01000000]\n",
      "100%|██████████| 59/59 [00:04<00:00, 12.17batch/s,  Epoch: 41 \tTotal Loss: 0.248462\tReconstruction Loss: 0.218148\t lr: 0.01000000]\n",
      "100%|██████████| 59/59 [00:05<00:00, 11.74batch/s,  Epoch: 42 \tTotal Loss: 0.248712\tReconstruction Loss: 0.215400\t lr: 0.01000000]\n",
      "100%|██████████| 59/59 [00:05<00:00, 11.74batch/s,  Epoch: 43 \tTotal Loss: 0.251488\tReconstruction Loss: 0.220781\t lr: 0.01000000]\n",
      "100%|██████████| 59/59 [00:05<00:00, 11.51batch/s,  Epoch: 44 \tTotal Loss: 0.248643\tReconstruction Loss: 0.217624\t lr: 0.01000000]\n",
      "100%|██████████| 59/59 [00:04<00:00, 12.01batch/s,  Epoch: 45 \tTotal Loss: 0.243445\tReconstruction Loss: 0.211914\t lr: 0.01000000]\n",
      "100%|██████████| 59/59 [00:04<00:00, 11.90batch/s,  Epoch: 46 \tTotal Loss: 0.248565\tReconstruction Loss: 0.214782\t lr: 0.01000000]\n",
      "100%|██████████| 59/59 [00:04<00:00, 11.95batch/s,  Epoch: 47 \tTotal Loss: 0.246105\tReconstruction Loss: 0.214185\t lr: 0.01000000]\n",
      "100%|██████████| 59/59 [00:04<00:00, 11.82batch/s,  Epoch: 48 \tTotal Loss: 0.241022\tReconstruction Loss: 0.208779\t lr: 0.01000000]\n",
      "100%|██████████| 59/59 [00:04<00:00, 12.08batch/s,  Epoch: 49 \tTotal Loss: 0.245551\tReconstruction Loss: 0.214668\t lr: 0.01000000]\n",
      "100%|██████████| 59/59 [00:04<00:00, 11.87batch/s,  Epoch: 50 \tTotal Loss: 0.243054\tReconstruction Loss: 0.210237\t lr: 0.01000000]\n",
      "100%|██████████| 59/59 [00:04<00:00, 11.92batch/s,  Epoch: 51 \tTotal Loss: 0.244716\tReconstruction Loss: 0.212155\t lr: 0.01000000]\n",
      "100%|██████████| 59/59 [00:04<00:00, 11.93batch/s,  Epoch: 52 \tTotal Loss: 0.245392\tReconstruction Loss: 0.211809\t lr: 0.01000000]\n",
      "100%|██████████| 59/59 [00:04<00:00, 12.02batch/s,  Epoch: 53 \tTotal Loss: 0.245225\tReconstruction Loss: 0.212507\t lr: 0.01000000]\n",
      "100%|██████████| 59/59 [00:05<00:00, 11.80batch/s,  Epoch: 54 \tTotal Loss: 0.249905\tReconstruction Loss: 0.217364\t lr: 0.01000000]\n",
      "100%|██████████| 59/59 [00:04<00:00, 12.53batch/s,  Epoch: 55 \tTotal Loss: 0.245180\tReconstruction Loss: 0.212125\t lr: 0.01000000]\n",
      "100%|██████████| 59/59 [00:04<00:00, 13.70batch/s,  Epoch: 56 \tTotal Loss: 0.246335\tReconstruction Loss: 0.214637\t lr: 0.01000000]\n",
      "100%|██████████| 59/59 [00:04<00:00, 12.50batch/s,  Epoch: 57 \tTotal Loss: 0.244701\tReconstruction Loss: 0.210456\t lr: 0.01000000]\n",
      "100%|██████████| 59/59 [00:04<00:00, 12.58batch/s,  Epoch: 58 \tTotal Loss: 0.243399\tReconstruction Loss: 0.210644\t lr: 0.01000000]\n",
      "100%|██████████| 59/59 [00:04<00:00, 13.61batch/s,  Epoch: 59 \tTotal Loss: 0.247914\tReconstruction Loss: 0.213725\t lr: 0.01000000]\n",
      "100%|██████████| 59/59 [00:04<00:00, 12.81batch/s,  Epoch: 60 \tTotal Loss: 0.242394\tReconstruction Loss: 0.209499\t lr: 0.01000000]\n",
      "100%|██████████| 59/59 [00:04<00:00, 13.49batch/s,  Epoch: 61 \tTotal Loss: 0.245487\tReconstruction Loss: 0.211844\t lr: 0.01000000]\n",
      "100%|██████████| 59/59 [00:04<00:00, 12.06batch/s,  Epoch: 62 \tTotal Loss: 0.245638\tReconstruction Loss: 0.212522\t lr: 0.01000000]\n",
      "100%|██████████| 59/59 [00:05<00:00, 11.76batch/s,  Epoch: 63 \tTotal Loss: 0.242427\tReconstruction Loss: 0.209164\t lr: 0.01000000]\n",
      "100%|██████████| 59/59 [00:05<00:00, 11.66batch/s,  Epoch: 64 \tTotal Loss: 0.246543\tReconstruction Loss: 0.212003\t lr: 0.01000000]\n",
      "100%|██████████| 59/59 [00:05<00:00, 11.71batch/s,  Epoch: 65 \tTotal Loss: 0.242880\tReconstruction Loss: 0.210425\t lr: 0.01000000]\n",
      "100%|██████████| 59/59 [00:04<00:00, 11.89batch/s,  Epoch: 66 \tTotal Loss: 0.243516\tReconstruction Loss: 0.210641\t lr: 0.01000000]\n",
      "100%|██████████| 59/59 [00:05<00:00, 11.54batch/s,  Epoch: 67 \tTotal Loss: 0.244142\tReconstruction Loss: 0.211318\t lr: 0.01000000]\n",
      "100%|██████████| 59/59 [00:05<00:00, 11.68batch/s,  Epoch: 68 \tTotal Loss: 0.246362\tReconstruction Loss: 0.212966\t lr: 0.01000000]\n",
      "100%|██████████| 59/59 [00:05<00:00, 11.52batch/s,  Epoch: 69 \tTotal Loss: 0.244318\tReconstruction Loss: 0.210782\t lr: 0.01000000]\n",
      "100%|██████████| 59/59 [00:05<00:00, 11.73batch/s,  Epoch: 70 \tTotal Loss: 0.244399\tReconstruction Loss: 0.209639\t lr: 0.01000000]\n",
      "100%|██████████| 59/59 [00:04<00:00, 11.92batch/s,  Epoch: 71 \tTotal Loss: 0.239921\tReconstruction Loss: 0.206270\t lr: 0.00100000]\n",
      "100%|██████████| 59/59 [00:05<00:00, 11.58batch/s,  Epoch: 72 \tTotal Loss: 0.239243\tReconstruction Loss: 0.204737\t lr: 0.00100000]\n",
      "100%|██████████| 59/59 [00:04<00:00, 11.96batch/s,  Epoch: 73 \tTotal Loss: 0.241799\tReconstruction Loss: 0.208679\t lr: 0.00100000]\n",
      "100%|██████████| 59/59 [00:05<00:00, 11.37batch/s,  Epoch: 74 \tTotal Loss: 0.245205\tReconstruction Loss: 0.210991\t lr: 0.00100000]\n",
      "100%|██████████| 59/59 [00:04<00:00, 12.01batch/s,  Epoch: 75 \tTotal Loss: 0.241913\tReconstruction Loss: 0.207291\t lr: 0.00100000]\n",
      "100%|██████████| 59/59 [00:05<00:00, 11.73batch/s,  Epoch: 76 \tTotal Loss: 0.243703\tReconstruction Loss: 0.209353\t lr: 0.00100000]\n",
      "100%|██████████| 59/59 [00:04<00:00, 11.92batch/s,  Epoch: 77 \tTotal Loss: 0.239109\tReconstruction Loss: 0.204420\t lr: 0.00100000]\n",
      "100%|██████████| 59/59 [00:05<00:00, 11.76batch/s,  Epoch: 78 \tTotal Loss: 0.245530\tReconstruction Loss: 0.211414\t lr: 0.00100000]\n",
      "100%|██████████| 59/59 [00:04<00:00, 12.49batch/s,  Epoch: 79 \tTotal Loss: 0.240442\tReconstruction Loss: 0.205981\t lr: 0.00100000]\n",
      "100%|██████████| 59/59 [00:05<00:00, 11.65batch/s,  Epoch: 80 \tTotal Loss: 0.245711\tReconstruction Loss: 0.210660\t lr: 0.00100000]\n",
      "100%|██████████| 59/59 [00:05<00:00, 11.60batch/s,  Epoch: 81 \tTotal Loss: 0.249090\tReconstruction Loss: 0.215037\t lr: 0.00100000]\n",
      "100%|██████████| 59/59 [00:04<00:00, 12.02batch/s,  Epoch: 82 \tTotal Loss: 0.245508\tReconstruction Loss: 0.211110\t lr: 0.00100000]\n",
      "100%|██████████| 59/59 [00:05<00:00, 11.52batch/s,  Epoch: 83 \tTotal Loss: 0.245367\tReconstruction Loss: 0.211579\t lr: 0.00100000]\n",
      "100%|██████████| 59/59 [00:04<00:00, 12.13batch/s,  Epoch: 84 \tTotal Loss: 0.245246\tReconstruction Loss: 0.210752\t lr: 0.00100000]\n",
      "100%|██████████| 59/59 [00:05<00:00, 11.75batch/s,  Epoch: 85 \tTotal Loss: 0.239750\tReconstruction Loss: 0.205153\t lr: 0.00100000]\n",
      "100%|██████████| 59/59 [00:04<00:00, 11.89batch/s,  Epoch: 86 \tTotal Loss: 0.243729\tReconstruction Loss: 0.209144\t lr: 0.00100000]\n",
      "100%|██████████| 59/59 [00:04<00:00, 11.93batch/s,  Epoch: 87 \tTotal Loss: 0.245747\tReconstruction Loss: 0.211561\t lr: 0.00100000]\n",
      "100%|██████████| 59/59 [00:04<00:00, 11.94batch/s,  Epoch: 88 \tTotal Loss: 0.243605\tReconstruction Loss: 0.208109\t lr: 0.00100000]\n",
      "100%|██████████| 59/59 [00:04<00:00, 11.81batch/s,  Epoch: 89 \tTotal Loss: 0.243316\tReconstruction Loss: 0.208842\t lr: 0.00100000]\n",
      "100%|██████████| 59/59 [00:05<00:00, 11.67batch/s,  Epoch: 90 \tTotal Loss: 0.241362\tReconstruction Loss: 0.206531\t lr: 0.00100000]\n",
      "100%|██████████| 59/59 [00:04<00:00, 12.75batch/s,  Epoch: 91 \tTotal Loss: 0.245316\tReconstruction Loss: 0.209754\t lr: 0.00100000]\n",
      "100%|██████████| 59/59 [00:04<00:00, 12.46batch/s,  Epoch: 92 \tTotal Loss: 0.242994\tReconstruction Loss: 0.207337\t lr: 0.00010000]\n",
      "100%|██████████| 59/59 [00:04<00:00, 13.54batch/s,  Epoch: 93 \tTotal Loss: 0.241123\tReconstruction Loss: 0.205888\t lr: 0.00010000]\n",
      "100%|██████████| 59/59 [00:04<00:00, 12.08batch/s,  Epoch: 94 \tTotal Loss: 0.243466\tReconstruction Loss: 0.208219\t lr: 0.00010000]\n",
      "100%|██████████| 59/59 [00:05<00:00, 11.58batch/s,  Epoch: 95 \tTotal Loss: 0.240670\tReconstruction Loss: 0.206489\t lr: 0.00010000]\n",
      "100%|██████████| 59/59 [00:04<00:00, 11.91batch/s,  Epoch: 96 \tTotal Loss: 0.243320\tReconstruction Loss: 0.208090\t lr: 0.00010000]\n",
      "100%|██████████| 59/59 [00:04<00:00, 11.98batch/s,  Epoch: 97 \tTotal Loss: 0.241438\tReconstruction Loss: 0.206817\t lr: 0.00010000]\n",
      "100%|██████████| 59/59 [00:04<00:00, 11.80batch/s,  Epoch: 98 \tTotal Loss: 0.245139\tReconstruction Loss: 0.209206\t lr: 0.00010000]\n",
      "100%|██████████| 59/59 [00:05<00:00, 11.78batch/s,  Epoch: 99 \tTotal Loss: 0.241188\tReconstruction Loss: 0.206430\t lr: 0.00010000]\n",
      "100%|██████████| 59/59 [00:04<00:00, 11.99batch/s,  Epoch: 100 \tTotal Loss: 0.239638\tReconstruction Loss: 0.204206\t lr: 0.00001000]\n",
      "100%|██████████| 59/59 [00:04<00:00, 12.04batch/s,  Epoch: 101 \tTotal Loss: 0.242489\tReconstruction Loss: 0.208463\t lr: 0.00001000]\n",
      "100%|██████████| 59/59 [00:04<00:00, 11.86batch/s,  Epoch: 102 \tTotal Loss: 0.240728\tReconstruction Loss: 0.204653\t lr: 0.00001000]\n",
      "100%|██████████| 59/59 [00:04<00:00, 11.93batch/s,  Epoch: 103 \tTotal Loss: 0.243819\tReconstruction Loss: 0.209491\t lr: 0.00001000]\n",
      "100%|██████████| 59/59 [00:04<00:00, 12.83batch/s,  Epoch: 104 \tTotal Loss: 0.244140\tReconstruction Loss: 0.209235\t lr: 0.00001000]\n",
      "100%|██████████| 59/59 [00:04<00:00, 13.57batch/s,  Epoch: 105 \tTotal Loss: 0.238824\tReconstruction Loss: 0.203843\t lr: 0.00001000]\n",
      "100%|██████████| 59/59 [00:04<00:00, 12.20batch/s,  Epoch: 106 \tTotal Loss: 0.239544\tReconstruction Loss: 0.205554\t lr: 0.00000100]\n",
      "100%|██████████| 59/59 [00:04<00:00, 13.77batch/s,  Epoch: 107 \tTotal Loss: 0.242832\tReconstruction Loss: 0.207705\t lr: 0.00000100]\n",
      "100%|██████████| 59/59 [00:04<00:00, 12.87batch/s,  Epoch: 108 \tTotal Loss: 0.243363\tReconstruction Loss: 0.208659\t lr: 0.00000100]\n",
      "100%|██████████| 59/59 [00:04<00:00, 12.43batch/s,  Epoch: 109 \tTotal Loss: 0.241386\tReconstruction Loss: 0.206310\t lr: 0.00000100]\n",
      "100%|██████████| 59/59 [00:04<00:00, 12.63batch/s,  Epoch: 110 \tTotal Loss: 0.246671\tReconstruction Loss: 0.211370\t lr: 0.00000100]\n",
      "100%|██████████| 59/59 [00:04<00:00, 12.76batch/s,  Epoch: 111 \tTotal Loss: 0.241484\tReconstruction Loss: 0.206668\t lr: 0.00000100]\n",
      "100%|██████████| 59/59 [00:04<00:00, 12.71batch/s,  Epoch: 112 \tTotal Loss: 0.243012\tReconstruction Loss: 0.208550\t lr: 0.00000010]\n",
      "100%|██████████| 59/59 [00:04<00:00, 12.59batch/s,  Epoch: 113 \tTotal Loss: 0.245355\tReconstruction Loss: 0.211039\t lr: 0.00000010]\n",
      "100%|██████████| 59/59 [00:04<00:00, 12.25batch/s,  Epoch: 114 \tTotal Loss: 0.243158\tReconstruction Loss: 0.208262\t lr: 0.00000010]\n",
      "100%|██████████| 59/59 [00:04<00:00, 12.61batch/s,  Epoch: 115 \tTotal Loss: 0.242084\tReconstruction Loss: 0.207022\t lr: 0.00000010]\n",
      "100%|██████████| 59/59 [00:04<00:00, 12.62batch/s,  Epoch: 116 \tTotal Loss: 0.246208\tReconstruction Loss: 0.210761\t lr: 0.00000010]\n",
      " 88%|████████▊ | 52/59 [00:04<00:00, 12.44batch/s,  Epoch: 117 \tTotal Loss: 0.241821\tReconstruction Loss: 0.206395\t lr: 0.00000010]\n"
     ]
    },
    {
     "ename": "KeyboardInterrupt",
     "evalue": "",
     "output_type": "error",
     "traceback": [
      "\u001B[1;31m---------------------------------------------------------------------------\u001B[0m",
      "\u001B[1;31mKeyboardInterrupt\u001B[0m                         Traceback (most recent call last)",
      "Cell \u001B[1;32mIn [10], line 2\u001B[0m\n\u001B[0;32m      1\u001B[0m \u001B[38;5;28;01mfor\u001B[39;00m epoch \u001B[38;5;129;01min\u001B[39;00m \u001B[38;5;28mrange\u001B[39m(\u001B[38;5;241m1\u001B[39m, \u001B[38;5;241m201\u001B[39m):\n\u001B[1;32m----> 2\u001B[0m     _, loss \u001B[38;5;241m=\u001B[39m \u001B[43mtrain\u001B[49m\u001B[43m(\u001B[49m\u001B[43mmodel\u001B[49m\u001B[43m,\u001B[49m\u001B[43m \u001B[49m\u001B[43mtrain_loader\u001B[49m\u001B[43m,\u001B[49m\u001B[43m \u001B[49m\u001B[43moptimizer\u001B[49m\u001B[43m,\u001B[49m\u001B[43m \u001B[49m\u001B[43mepoch\u001B[49m\u001B[43m)\u001B[49m\n\u001B[0;32m      3\u001B[0m     scheduler\u001B[38;5;241m.\u001B[39mstep(np\u001B[38;5;241m.\u001B[39mmean(loss))\n",
      "Cell \u001B[1;32mIn [9], line 6\u001B[0m, in \u001B[0;36mtrain\u001B[1;34m(model, train_loader, optimizer, epoch)\u001B[0m\n\u001B[0;32m      4\u001B[0m allReconLoss \u001B[38;5;241m=\u001B[39m []\n\u001B[0;32m      5\u001B[0m \u001B[38;5;28;01mwith\u001B[39;00m tqdm(train_loader, unit\u001B[38;5;241m=\u001B[39m\u001B[38;5;124m'\u001B[39m\u001B[38;5;124mbatch\u001B[39m\u001B[38;5;124m'\u001B[39m) \u001B[38;5;28;01mas\u001B[39;00m tEpoch:\n\u001B[1;32m----> 6\u001B[0m     \u001B[38;5;28;01mfor\u001B[39;00m data, _ \u001B[38;5;129;01min\u001B[39;00m tEpoch:\n\u001B[0;32m      7\u001B[0m         data \u001B[38;5;241m=\u001B[39m data\u001B[38;5;241m.\u001B[39mto(\u001B[38;5;124m'\u001B[39m\u001B[38;5;124mcuda\u001B[39m\u001B[38;5;124m'\u001B[39m)\u001B[38;5;241m.\u001B[39mview(\u001B[38;5;241m-\u001B[39m\u001B[38;5;241m1\u001B[39m, \u001B[38;5;241m28\u001B[39m \u001B[38;5;241m*\u001B[39m \u001B[38;5;241m28\u001B[39m)\n\u001B[0;32m      8\u001B[0m         optimizer\u001B[38;5;241m.\u001B[39mzero_grad()\n",
      "File \u001B[1;32mC:\\Python310\\lib\\site-packages\\tqdm\\std.py:1195\u001B[0m, in \u001B[0;36mtqdm.__iter__\u001B[1;34m(self)\u001B[0m\n\u001B[0;32m   1192\u001B[0m time \u001B[38;5;241m=\u001B[39m \u001B[38;5;28mself\u001B[39m\u001B[38;5;241m.\u001B[39m_time\n\u001B[0;32m   1194\u001B[0m \u001B[38;5;28;01mtry\u001B[39;00m:\n\u001B[1;32m-> 1195\u001B[0m     \u001B[38;5;28;01mfor\u001B[39;00m obj \u001B[38;5;129;01min\u001B[39;00m iterable:\n\u001B[0;32m   1196\u001B[0m         \u001B[38;5;28;01myield\u001B[39;00m obj\n\u001B[0;32m   1197\u001B[0m         \u001B[38;5;66;03m# Update and possibly print the progressbar.\u001B[39;00m\n\u001B[0;32m   1198\u001B[0m         \u001B[38;5;66;03m# Note: does not call self.update(1) for speed optimisation.\u001B[39;00m\n",
      "File \u001B[1;32mC:\\Python310\\lib\\site-packages\\torch\\utils\\data\\dataloader.py:681\u001B[0m, in \u001B[0;36m_BaseDataLoaderIter.__next__\u001B[1;34m(self)\u001B[0m\n\u001B[0;32m    678\u001B[0m \u001B[38;5;28;01mif\u001B[39;00m \u001B[38;5;28mself\u001B[39m\u001B[38;5;241m.\u001B[39m_sampler_iter \u001B[38;5;129;01mis\u001B[39;00m \u001B[38;5;28;01mNone\u001B[39;00m:\n\u001B[0;32m    679\u001B[0m     \u001B[38;5;66;03m# TODO(https://github.com/pytorch/pytorch/issues/76750)\u001B[39;00m\n\u001B[0;32m    680\u001B[0m     \u001B[38;5;28mself\u001B[39m\u001B[38;5;241m.\u001B[39m_reset()  \u001B[38;5;66;03m# type: ignore[call-arg]\u001B[39;00m\n\u001B[1;32m--> 681\u001B[0m data \u001B[38;5;241m=\u001B[39m \u001B[38;5;28;43mself\u001B[39;49m\u001B[38;5;241;43m.\u001B[39;49m\u001B[43m_next_data\u001B[49m\u001B[43m(\u001B[49m\u001B[43m)\u001B[49m\n\u001B[0;32m    682\u001B[0m \u001B[38;5;28mself\u001B[39m\u001B[38;5;241m.\u001B[39m_num_yielded \u001B[38;5;241m+\u001B[39m\u001B[38;5;241m=\u001B[39m \u001B[38;5;241m1\u001B[39m\n\u001B[0;32m    683\u001B[0m \u001B[38;5;28;01mif\u001B[39;00m \u001B[38;5;28mself\u001B[39m\u001B[38;5;241m.\u001B[39m_dataset_kind \u001B[38;5;241m==\u001B[39m _DatasetKind\u001B[38;5;241m.\u001B[39mIterable \u001B[38;5;129;01mand\u001B[39;00m \\\n\u001B[0;32m    684\u001B[0m         \u001B[38;5;28mself\u001B[39m\u001B[38;5;241m.\u001B[39m_IterableDataset_len_called \u001B[38;5;129;01mis\u001B[39;00m \u001B[38;5;129;01mnot\u001B[39;00m \u001B[38;5;28;01mNone\u001B[39;00m \u001B[38;5;129;01mand\u001B[39;00m \\\n\u001B[0;32m    685\u001B[0m         \u001B[38;5;28mself\u001B[39m\u001B[38;5;241m.\u001B[39m_num_yielded \u001B[38;5;241m>\u001B[39m \u001B[38;5;28mself\u001B[39m\u001B[38;5;241m.\u001B[39m_IterableDataset_len_called:\n",
      "File \u001B[1;32mC:\\Python310\\lib\\site-packages\\torch\\utils\\data\\dataloader.py:721\u001B[0m, in \u001B[0;36m_SingleProcessDataLoaderIter._next_data\u001B[1;34m(self)\u001B[0m\n\u001B[0;32m    719\u001B[0m \u001B[38;5;28;01mdef\u001B[39;00m \u001B[38;5;21m_next_data\u001B[39m(\u001B[38;5;28mself\u001B[39m):\n\u001B[0;32m    720\u001B[0m     index \u001B[38;5;241m=\u001B[39m \u001B[38;5;28mself\u001B[39m\u001B[38;5;241m.\u001B[39m_next_index()  \u001B[38;5;66;03m# may raise StopIteration\u001B[39;00m\n\u001B[1;32m--> 721\u001B[0m     data \u001B[38;5;241m=\u001B[39m \u001B[38;5;28;43mself\u001B[39;49m\u001B[38;5;241;43m.\u001B[39;49m\u001B[43m_dataset_fetcher\u001B[49m\u001B[38;5;241;43m.\u001B[39;49m\u001B[43mfetch\u001B[49m\u001B[43m(\u001B[49m\u001B[43mindex\u001B[49m\u001B[43m)\u001B[49m  \u001B[38;5;66;03m# may raise StopIteration\u001B[39;00m\n\u001B[0;32m    722\u001B[0m     \u001B[38;5;28;01mif\u001B[39;00m \u001B[38;5;28mself\u001B[39m\u001B[38;5;241m.\u001B[39m_pin_memory:\n\u001B[0;32m    723\u001B[0m         data \u001B[38;5;241m=\u001B[39m _utils\u001B[38;5;241m.\u001B[39mpin_memory\u001B[38;5;241m.\u001B[39mpin_memory(data, \u001B[38;5;28mself\u001B[39m\u001B[38;5;241m.\u001B[39m_pin_memory_device)\n",
      "File \u001B[1;32mC:\\Python310\\lib\\site-packages\\torch\\utils\\data\\_utils\\fetch.py:49\u001B[0m, in \u001B[0;36m_MapDatasetFetcher.fetch\u001B[1;34m(self, possibly_batched_index)\u001B[0m\n\u001B[0;32m     47\u001B[0m \u001B[38;5;28;01mdef\u001B[39;00m \u001B[38;5;21mfetch\u001B[39m(\u001B[38;5;28mself\u001B[39m, possibly_batched_index):\n\u001B[0;32m     48\u001B[0m     \u001B[38;5;28;01mif\u001B[39;00m \u001B[38;5;28mself\u001B[39m\u001B[38;5;241m.\u001B[39mauto_collation:\n\u001B[1;32m---> 49\u001B[0m         data \u001B[38;5;241m=\u001B[39m [\u001B[38;5;28mself\u001B[39m\u001B[38;5;241m.\u001B[39mdataset[idx] \u001B[38;5;28;01mfor\u001B[39;00m idx \u001B[38;5;129;01min\u001B[39;00m possibly_batched_index]\n\u001B[0;32m     50\u001B[0m     \u001B[38;5;28;01melse\u001B[39;00m:\n\u001B[0;32m     51\u001B[0m         data \u001B[38;5;241m=\u001B[39m \u001B[38;5;28mself\u001B[39m\u001B[38;5;241m.\u001B[39mdataset[possibly_batched_index]\n",
      "File \u001B[1;32mC:\\Python310\\lib\\site-packages\\torch\\utils\\data\\_utils\\fetch.py:49\u001B[0m, in \u001B[0;36m<listcomp>\u001B[1;34m(.0)\u001B[0m\n\u001B[0;32m     47\u001B[0m \u001B[38;5;28;01mdef\u001B[39;00m \u001B[38;5;21mfetch\u001B[39m(\u001B[38;5;28mself\u001B[39m, possibly_batched_index):\n\u001B[0;32m     48\u001B[0m     \u001B[38;5;28;01mif\u001B[39;00m \u001B[38;5;28mself\u001B[39m\u001B[38;5;241m.\u001B[39mauto_collation:\n\u001B[1;32m---> 49\u001B[0m         data \u001B[38;5;241m=\u001B[39m [\u001B[38;5;28;43mself\u001B[39;49m\u001B[38;5;241;43m.\u001B[39;49m\u001B[43mdataset\u001B[49m\u001B[43m[\u001B[49m\u001B[43midx\u001B[49m\u001B[43m]\u001B[49m \u001B[38;5;28;01mfor\u001B[39;00m idx \u001B[38;5;129;01min\u001B[39;00m possibly_batched_index]\n\u001B[0;32m     50\u001B[0m     \u001B[38;5;28;01melse\u001B[39;00m:\n\u001B[0;32m     51\u001B[0m         data \u001B[38;5;241m=\u001B[39m \u001B[38;5;28mself\u001B[39m\u001B[38;5;241m.\u001B[39mdataset[possibly_batched_index]\n",
      "File \u001B[1;32mC:\\Python310\\lib\\site-packages\\torchvision\\datasets\\mnist.py:145\u001B[0m, in \u001B[0;36mMNIST.__getitem__\u001B[1;34m(self, index)\u001B[0m\n\u001B[0;32m    142\u001B[0m img \u001B[38;5;241m=\u001B[39m Image\u001B[38;5;241m.\u001B[39mfromarray(img\u001B[38;5;241m.\u001B[39mnumpy(), mode\u001B[38;5;241m=\u001B[39m\u001B[38;5;124m\"\u001B[39m\u001B[38;5;124mL\u001B[39m\u001B[38;5;124m\"\u001B[39m)\n\u001B[0;32m    144\u001B[0m \u001B[38;5;28;01mif\u001B[39;00m \u001B[38;5;28mself\u001B[39m\u001B[38;5;241m.\u001B[39mtransform \u001B[38;5;129;01mis\u001B[39;00m \u001B[38;5;129;01mnot\u001B[39;00m \u001B[38;5;28;01mNone\u001B[39;00m:\n\u001B[1;32m--> 145\u001B[0m     img \u001B[38;5;241m=\u001B[39m \u001B[38;5;28;43mself\u001B[39;49m\u001B[38;5;241;43m.\u001B[39;49m\u001B[43mtransform\u001B[49m\u001B[43m(\u001B[49m\u001B[43mimg\u001B[49m\u001B[43m)\u001B[49m\n\u001B[0;32m    147\u001B[0m \u001B[38;5;28;01mif\u001B[39;00m \u001B[38;5;28mself\u001B[39m\u001B[38;5;241m.\u001B[39mtarget_transform \u001B[38;5;129;01mis\u001B[39;00m \u001B[38;5;129;01mnot\u001B[39;00m \u001B[38;5;28;01mNone\u001B[39;00m:\n\u001B[0;32m    148\u001B[0m     target \u001B[38;5;241m=\u001B[39m \u001B[38;5;28mself\u001B[39m\u001B[38;5;241m.\u001B[39mtarget_transform(target)\n",
      "File \u001B[1;32mC:\\Python310\\lib\\site-packages\\torchvision\\transforms\\transforms.py:94\u001B[0m, in \u001B[0;36mCompose.__call__\u001B[1;34m(self, img)\u001B[0m\n\u001B[0;32m     92\u001B[0m \u001B[38;5;28;01mdef\u001B[39;00m \u001B[38;5;21m__call__\u001B[39m(\u001B[38;5;28mself\u001B[39m, img):\n\u001B[0;32m     93\u001B[0m     \u001B[38;5;28;01mfor\u001B[39;00m t \u001B[38;5;129;01min\u001B[39;00m \u001B[38;5;28mself\u001B[39m\u001B[38;5;241m.\u001B[39mtransforms:\n\u001B[1;32m---> 94\u001B[0m         img \u001B[38;5;241m=\u001B[39m \u001B[43mt\u001B[49m\u001B[43m(\u001B[49m\u001B[43mimg\u001B[49m\u001B[43m)\u001B[49m\n\u001B[0;32m     95\u001B[0m     \u001B[38;5;28;01mreturn\u001B[39;00m img\n",
      "File \u001B[1;32mC:\\Python310\\lib\\site-packages\\torchvision\\transforms\\transforms.py:134\u001B[0m, in \u001B[0;36mToTensor.__call__\u001B[1;34m(self, pic)\u001B[0m\n\u001B[0;32m    126\u001B[0m \u001B[38;5;28;01mdef\u001B[39;00m \u001B[38;5;21m__call__\u001B[39m(\u001B[38;5;28mself\u001B[39m, pic):\n\u001B[0;32m    127\u001B[0m     \u001B[38;5;124;03m\"\"\"\u001B[39;00m\n\u001B[0;32m    128\u001B[0m \u001B[38;5;124;03m    Args:\u001B[39;00m\n\u001B[0;32m    129\u001B[0m \u001B[38;5;124;03m        pic (PIL Image or numpy.ndarray): Image to be converted to tensor.\u001B[39;00m\n\u001B[1;32m   (...)\u001B[0m\n\u001B[0;32m    132\u001B[0m \u001B[38;5;124;03m        Tensor: Converted image.\u001B[39;00m\n\u001B[0;32m    133\u001B[0m \u001B[38;5;124;03m    \"\"\"\u001B[39;00m\n\u001B[1;32m--> 134\u001B[0m     \u001B[38;5;28;01mreturn\u001B[39;00m \u001B[43mF\u001B[49m\u001B[38;5;241;43m.\u001B[39;49m\u001B[43mto_tensor\u001B[49m\u001B[43m(\u001B[49m\u001B[43mpic\u001B[49m\u001B[43m)\u001B[49m\n",
      "File \u001B[1;32mC:\\Python310\\lib\\site-packages\\torchvision\\transforms\\functional.py:172\u001B[0m, in \u001B[0;36mto_tensor\u001B[1;34m(pic)\u001B[0m\n\u001B[0;32m    170\u001B[0m img \u001B[38;5;241m=\u001B[39m img\u001B[38;5;241m.\u001B[39mpermute((\u001B[38;5;241m2\u001B[39m, \u001B[38;5;241m0\u001B[39m, \u001B[38;5;241m1\u001B[39m))\u001B[38;5;241m.\u001B[39mcontiguous()\n\u001B[0;32m    171\u001B[0m \u001B[38;5;28;01mif\u001B[39;00m \u001B[38;5;28misinstance\u001B[39m(img, torch\u001B[38;5;241m.\u001B[39mByteTensor):\n\u001B[1;32m--> 172\u001B[0m     \u001B[38;5;28;01mreturn\u001B[39;00m \u001B[43mimg\u001B[49m\u001B[38;5;241;43m.\u001B[39;49m\u001B[43mto\u001B[49m\u001B[43m(\u001B[49m\u001B[43mdtype\u001B[49m\u001B[38;5;241;43m=\u001B[39;49m\u001B[43mdefault_float_dtype\u001B[49m\u001B[43m)\u001B[49m\u001B[38;5;241;43m.\u001B[39;49m\u001B[43mdiv\u001B[49m\u001B[43m(\u001B[49m\u001B[38;5;241;43m255\u001B[39;49m\u001B[43m)\u001B[49m\n\u001B[0;32m    173\u001B[0m \u001B[38;5;28;01melse\u001B[39;00m:\n\u001B[0;32m    174\u001B[0m     \u001B[38;5;28;01mreturn\u001B[39;00m img\n",
      "\u001B[1;31mKeyboardInterrupt\u001B[0m: "
     ]
    }
   ],
   "source": [
    "for epoch in range(1, 201):\n",
    "    _, loss = train(model, train_loader, optimizer, epoch)\n",
    "    scheduler.step(np.mean(loss))"
   ],
   "metadata": {
    "collapsed": false
   }
  },
  {
   "cell_type": "code",
   "execution_count": 11,
   "outputs": [],
   "source": [
    "torch.save(model.state_dict(),'vanilla vae')"
   ],
   "metadata": {
    "collapsed": false
   }
  },
  {
   "cell_type": "code",
   "execution_count": 31,
   "outputs": [
    {
     "data": {
      "text/plain": "<matplotlib.image.AxesImage at 0x14d92cdca30>"
     },
     "execution_count": 31,
     "metadata": {},
     "output_type": "execute_result"
    },
    {
     "data": {
      "text/plain": "<Figure size 640x480 with 1 Axes>",
      "image/png": "[encoded data removed]"
     },
     "metadata": {},
     "output_type": "display_data"
    }
   ],
   "source": [
    "z = torch.normal(0, 1, size=(1, 64)).cuda()\n",
    "plt.imshow(model.sample(z).cpu().detach().view(28, 28), cmap='Greys')"
   ],
   "metadata": {
    "collapsed": false
   }
  },
  {
   "cell_type": "code",
   "execution_count": 32,
   "outputs": [],
   "source": [
    "img0 = next(iter(train_loader))[0][0]"
   ],
   "metadata": {
    "collapsed": false
   }
  },
  {
   "cell_type": "code",
   "execution_count": 33,
   "outputs": [
    {
     "data": {
      "text/plain": "<matplotlib.image.AxesImage at 0x14d93e58d60>"
     },
     "execution_count": 33,
     "metadata": {},
     "output_type": "execute_result"
    },
    {
     "data": {
      "text/plain": "<Figure size 640x480 with 1 Axes>",
      "image/png": "[encoded data removed]"
     },
     "metadata": {},
     "output_type": "display_data"
    }
   ],
   "source": [
    "plt.imshow(img0[0], cmap='Greys')"
   ],
   "metadata": {
    "collapsed": false
   }
  },
  {
   "cell_type": "code",
   "execution_count": 39,
   "outputs": [
    {
     "data": {
      "text/plain": "<matplotlib.image.AxesImage at 0x14d9719eb30>"
     },
     "execution_count": 39,
     "metadata": {},
     "output_type": "execute_result"
    },
    {
     "data": {
      "text/plain": "<Figure size 640x480 with 1 Axes>",
      "image/png": "[encoded data removed]"
     },
     "metadata": {},
     "output_type": "display_data"
    }
   ],
   "source": [
    "_, output, _ = model(img0.view(-1, 28 * 28).cuda())\n",
    "plt.imshow(model.sample(output).cpu().detach().view(28, 28), cmap='Greys')"
   ],
   "metadata": {
    "collapsed": false
   }
  },
  {
   "cell_type": "markdown",
   "source": [
    "## Only BCE"
   ],
   "metadata": {
    "collapsed": false
   }
  },
  {
   "cell_type": "code",
   "execution_count": 7,
   "outputs": [],
   "source": [
    "model = LinearVAE(encoder1, decoder1, 128, 64).cuda()\n",
    "optimizer = optim.Adadelta(model.parameters(), lr=1e1)\n",
    "scheduler = ReduceLROnPlateau(optimizer, factor=0.1, patience=5, verbose=False, threshold=1e-3)"
   ],
   "metadata": {
    "collapsed": false
   }
  },
  {
   "cell_type": "code",
   "execution_count": 8,
   "outputs": [],
   "source": [
    "def train(model, train_loader, optimizer, epoch):\n",
    "    model.train()\n",
    "    allLoss = []\n",
    "    allReconLoss = []\n",
    "    with tqdm(train_loader, unit='batch') as tEpoch:\n",
    "        for data, _ in tEpoch:\n",
    "            data = data.to('cuda').view(-1, 28 * 28)\n",
    "            optimizer.zero_grad()\n",
    "            output, mu, log_var = model(data)\n",
    "            reconLoss = BCE(output, data)\n",
    "            loss = reconLoss\n",
    "            loss.backward()\n",
    "            optimizer.step()\n",
    "            allLoss.append(loss.item())\n",
    "            allReconLoss.append(reconLoss.item())\n",
    "            tEpoch.set_postfix_str(' Epoch: {} \\tTotal Loss: {:.6f}\\tReconstruction Loss: {:.6f}\\t lr: {:.8f}'.format(\n",
    "                epoch, loss.item(), reconLoss.item(), optimizer.param_groups[0]['lr']))\n",
    "    return allLoss, allReconLoss"
   ],
   "metadata": {
    "collapsed": false
   }
  },
  {
   "cell_type": "code",
   "execution_count": 9,
   "outputs": [
    {
     "name": "stderr",
     "output_type": "stream",
     "text": [
      "100%|██████████| 59/59 [00:06<00:00,  9.59batch/s,  Epoch: 1 \tTotal Loss: 0.266194\tReconstruction Loss: 0.266194\t lr: 10.00000000]\n",
      "100%|██████████| 59/59 [00:04<00:00, 12.01batch/s,  Epoch: 2 \tTotal Loss: 0.256949\tReconstruction Loss: 0.256949\t lr: 10.00000000]\n",
      "100%|██████████| 59/59 [00:04<00:00, 12.53batch/s,  Epoch: 3 \tTotal Loss: 0.243322\tReconstruction Loss: 0.243322\t lr: 10.00000000]\n",
      "100%|██████████| 59/59 [00:04<00:00, 12.02batch/s,  Epoch: 4 \tTotal Loss: 0.241765\tReconstruction Loss: 0.241765\t lr: 10.00000000]\n",
      "100%|██████████| 59/59 [00:04<00:00, 13.02batch/s,  Epoch: 5 \tTotal Loss: 0.228689\tReconstruction Loss: 0.228689\t lr: 10.00000000]\n",
      "100%|██████████| 59/59 [00:04<00:00, 11.99batch/s,  Epoch: 6 \tTotal Loss: 0.230610\tReconstruction Loss: 0.230610\t lr: 10.00000000]\n",
      "100%|██████████| 59/59 [00:04<00:00, 12.12batch/s,  Epoch: 7 \tTotal Loss: 0.222519\tReconstruction Loss: 0.222519\t lr: 10.00000000]\n",
      "100%|██████████| 59/59 [00:04<00:00, 12.97batch/s,  Epoch: 8 \tTotal Loss: 0.209539\tReconstruction Loss: 0.209539\t lr: 10.00000000]\n",
      "100%|██████████| 59/59 [00:04<00:00, 13.06batch/s,  Epoch: 9 \tTotal Loss: 0.210879\tReconstruction Loss: 0.210879\t lr: 10.00000000]\n",
      "100%|██████████| 59/59 [00:04<00:00, 12.22batch/s,  Epoch: 10 \tTotal Loss: 0.198235\tReconstruction Loss: 0.198235\t lr: 10.00000000]\n",
      "100%|██████████| 59/59 [00:04<00:00, 12.01batch/s,  Epoch: 11 \tTotal Loss: 0.194568\tReconstruction Loss: 0.194568\t lr: 10.00000000]\n",
      "100%|██████████| 59/59 [00:04<00:00, 12.17batch/s,  Epoch: 12 \tTotal Loss: 0.182073\tReconstruction Loss: 0.182073\t lr: 10.00000000]\n",
      "100%|██████████| 59/59 [00:05<00:00, 11.74batch/s,  Epoch: 13 \tTotal Loss: 0.169002\tReconstruction Loss: 0.169002\t lr: 10.00000000]\n",
      "100%|██████████| 59/59 [00:04<00:00, 13.23batch/s,  Epoch: 14 \tTotal Loss: 0.172637\tReconstruction Loss: 0.172637\t lr: 10.00000000]\n",
      "100%|██████████| 59/59 [00:04<00:00, 13.02batch/s,  Epoch: 15 \tTotal Loss: 0.163303\tReconstruction Loss: 0.163303\t lr: 10.00000000]\n",
      "100%|██████████| 59/59 [00:04<00:00, 12.92batch/s,  Epoch: 16 \tTotal Loss: 0.163443\tReconstruction Loss: 0.163443\t lr: 10.00000000]\n",
      "100%|██████████| 59/59 [00:04<00:00, 12.83batch/s,  Epoch: 17 \tTotal Loss: 0.164415\tReconstruction Loss: 0.164415\t lr: 10.00000000]\n",
      "100%|██████████| 59/59 [00:04<00:00, 13.03batch/s,  Epoch: 18 \tTotal Loss: 0.160637\tReconstruction Loss: 0.160637\t lr: 10.00000000]\n",
      "100%|██████████| 59/59 [00:04<00:00, 13.11batch/s,  Epoch: 19 \tTotal Loss: 0.155789\tReconstruction Loss: 0.155789\t lr: 10.00000000]\n",
      "100%|██████████| 59/59 [00:04<00:00, 12.60batch/s,  Epoch: 20 \tTotal Loss: 0.161826\tReconstruction Loss: 0.161826\t lr: 10.00000000]\n",
      "100%|██████████| 59/59 [00:04<00:00, 13.16batch/s,  Epoch: 21 \tTotal Loss: 0.155660\tReconstruction Loss: 0.155660\t lr: 10.00000000]\n",
      "100%|██████████| 59/59 [00:04<00:00, 12.55batch/s,  Epoch: 22 \tTotal Loss: 0.146752\tReconstruction Loss: 0.146752\t lr: 10.00000000]\n",
      "100%|██████████| 59/59 [00:04<00:00, 12.09batch/s,  Epoch: 23 \tTotal Loss: 0.148348\tReconstruction Loss: 0.148348\t lr: 10.00000000]\n",
      "100%|██████████| 59/59 [00:05<00:00, 10.93batch/s,  Epoch: 24 \tTotal Loss: 0.150890\tReconstruction Loss: 0.150890\t lr: 10.00000000]\n",
      "100%|██████████| 59/59 [00:04<00:00, 12.71batch/s,  Epoch: 25 \tTotal Loss: 0.137941\tReconstruction Loss: 0.137941\t lr: 10.00000000]\n",
      "100%|██████████| 59/59 [00:04<00:00, 12.02batch/s,  Epoch: 26 \tTotal Loss: 0.155833\tReconstruction Loss: 0.155833\t lr: 10.00000000]\n",
      "100%|██████████| 59/59 [00:05<00:00, 11.68batch/s,  Epoch: 27 \tTotal Loss: 0.137503\tReconstruction Loss: 0.137503\t lr: 10.00000000]\n",
      "100%|██████████| 59/59 [00:04<00:00, 11.84batch/s,  Epoch: 28 \tTotal Loss: 0.138026\tReconstruction Loss: 0.138026\t lr: 10.00000000]\n",
      "100%|██████████| 59/59 [00:05<00:00, 11.29batch/s,  Epoch: 29 \tTotal Loss: 0.137407\tReconstruction Loss: 0.137407\t lr: 10.00000000]\n",
      "100%|██████████| 59/59 [00:04<00:00, 12.11batch/s,  Epoch: 30 \tTotal Loss: 0.131543\tReconstruction Loss: 0.131543\t lr: 10.00000000]\n",
      "100%|██████████| 59/59 [00:04<00:00, 11.80batch/s,  Epoch: 31 \tTotal Loss: 0.135785\tReconstruction Loss: 0.135785\t lr: 10.00000000]\n",
      "100%|██████████| 59/59 [00:04<00:00, 12.49batch/s,  Epoch: 32 \tTotal Loss: 0.129219\tReconstruction Loss: 0.129219\t lr: 10.00000000]\n",
      "100%|██████████| 59/59 [00:05<00:00, 11.74batch/s,  Epoch: 33 \tTotal Loss: 0.127968\tReconstruction Loss: 0.127968\t lr: 10.00000000]\n",
      "100%|██████████| 59/59 [00:04<00:00, 12.20batch/s,  Epoch: 34 \tTotal Loss: 0.131606\tReconstruction Loss: 0.131606\t lr: 10.00000000]\n",
      "100%|██████████| 59/59 [00:04<00:00, 12.24batch/s,  Epoch: 35 \tTotal Loss: 0.127986\tReconstruction Loss: 0.127986\t lr: 10.00000000]\n",
      "100%|██████████| 59/59 [00:04<00:00, 12.68batch/s,  Epoch: 36 \tTotal Loss: 0.128254\tReconstruction Loss: 0.128254\t lr: 10.00000000]\n",
      "100%|██████████| 59/59 [00:04<00:00, 12.62batch/s,  Epoch: 37 \tTotal Loss: 0.122590\tReconstruction Loss: 0.122590\t lr: 10.00000000]\n",
      "100%|██████████| 59/59 [00:04<00:00, 12.47batch/s,  Epoch: 38 \tTotal Loss: 0.132305\tReconstruction Loss: 0.132305\t lr: 10.00000000]\n",
      "100%|██████████| 59/59 [00:04<00:00, 12.74batch/s,  Epoch: 39 \tTotal Loss: 0.121123\tReconstruction Loss: 0.121123\t lr: 10.00000000]\n",
      "100%|██████████| 59/59 [00:04<00:00, 12.26batch/s,  Epoch: 40 \tTotal Loss: 0.122862\tReconstruction Loss: 0.122862\t lr: 10.00000000]\n",
      "100%|██████████| 59/59 [00:04<00:00, 13.21batch/s,  Epoch: 41 \tTotal Loss: 0.118746\tReconstruction Loss: 0.118746\t lr: 10.00000000]\n",
      "100%|██████████| 59/59 [00:05<00:00, 11.56batch/s,  Epoch: 42 \tTotal Loss: 0.118403\tReconstruction Loss: 0.118403\t lr: 10.00000000]\n",
      "100%|██████████| 59/59 [00:04<00:00, 12.34batch/s,  Epoch: 43 \tTotal Loss: 0.119437\tReconstruction Loss: 0.119437\t lr: 10.00000000]\n",
      "100%|██████████| 59/59 [00:05<00:00, 11.46batch/s,  Epoch: 44 \tTotal Loss: 0.124404\tReconstruction Loss: 0.124404\t lr: 10.00000000]\n",
      "100%|██████████| 59/59 [00:04<00:00, 12.13batch/s,  Epoch: 45 \tTotal Loss: 0.121945\tReconstruction Loss: 0.121945\t lr: 10.00000000]\n",
      "100%|██████████| 59/59 [00:04<00:00, 11.86batch/s,  Epoch: 46 \tTotal Loss: 0.113170\tReconstruction Loss: 0.113170\t lr: 10.00000000]\n",
      "100%|██████████| 59/59 [00:04<00:00, 11.83batch/s,  Epoch: 47 \tTotal Loss: 0.118357\tReconstruction Loss: 0.118357\t lr: 10.00000000]\n",
      "100%|██████████| 59/59 [00:04<00:00, 12.14batch/s,  Epoch: 48 \tTotal Loss: 0.117875\tReconstruction Loss: 0.117875\t lr: 10.00000000]\n",
      "100%|██████████| 59/59 [00:04<00:00, 12.06batch/s,  Epoch: 49 \tTotal Loss: 0.112719\tReconstruction Loss: 0.112719\t lr: 10.00000000]\n",
      "100%|██████████| 59/59 [00:04<00:00, 12.33batch/s,  Epoch: 50 \tTotal Loss: 0.116617\tReconstruction Loss: 0.116617\t lr: 10.00000000]\n",
      "100%|██████████| 59/59 [00:04<00:00, 11.87batch/s,  Epoch: 51 \tTotal Loss: 0.110933\tReconstruction Loss: 0.110933\t lr: 10.00000000]\n",
      "100%|██████████| 59/59 [00:04<00:00, 12.36batch/s,  Epoch: 52 \tTotal Loss: 0.110157\tReconstruction Loss: 0.110157\t lr: 10.00000000]\n",
      "100%|██████████| 59/59 [00:05<00:00, 11.69batch/s,  Epoch: 53 \tTotal Loss: 0.113287\tReconstruction Loss: 0.113287\t lr: 10.00000000]\n",
      "100%|██████████| 59/59 [00:05<00:00, 11.77batch/s,  Epoch: 54 \tTotal Loss: 0.113255\tReconstruction Loss: 0.113255\t lr: 10.00000000]\n",
      "100%|██████████| 59/59 [00:05<00:00, 11.72batch/s,  Epoch: 55 \tTotal Loss: 0.104606\tReconstruction Loss: 0.104606\t lr: 10.00000000]\n",
      "100%|██████████| 59/59 [00:04<00:00, 11.83batch/s,  Epoch: 56 \tTotal Loss: 0.113631\tReconstruction Loss: 0.113631\t lr: 10.00000000]\n",
      "100%|██████████| 59/59 [00:04<00:00, 12.05batch/s,  Epoch: 57 \tTotal Loss: 0.110680\tReconstruction Loss: 0.110680\t lr: 10.00000000]\n",
      "100%|██████████| 59/59 [00:04<00:00, 11.93batch/s,  Epoch: 58 \tTotal Loss: 0.109886\tReconstruction Loss: 0.109886\t lr: 10.00000000]\n",
      "100%|██████████| 59/59 [00:04<00:00, 11.83batch/s,  Epoch: 59 \tTotal Loss: 0.109395\tReconstruction Loss: 0.109395\t lr: 10.00000000]\n",
      "100%|██████████| 59/59 [00:04<00:00, 12.67batch/s,  Epoch: 60 \tTotal Loss: 0.108843\tReconstruction Loss: 0.108843\t lr: 10.00000000]\n",
      "100%|██████████| 59/59 [00:04<00:00, 13.02batch/s,  Epoch: 61 \tTotal Loss: 0.108297\tReconstruction Loss: 0.108297\t lr: 10.00000000]\n",
      "100%|██████████| 59/59 [00:04<00:00, 12.91batch/s,  Epoch: 62 \tTotal Loss: 0.107890\tReconstruction Loss: 0.107890\t lr: 10.00000000]\n",
      "100%|██████████| 59/59 [00:04<00:00, 13.11batch/s,  Epoch: 63 \tTotal Loss: 0.107061\tReconstruction Loss: 0.107061\t lr: 10.00000000]\n",
      "100%|██████████| 59/59 [00:04<00:00, 12.90batch/s,  Epoch: 64 \tTotal Loss: 0.104820\tReconstruction Loss: 0.104820\t lr: 10.00000000]\n",
      "100%|██████████| 59/59 [00:04<00:00, 12.57batch/s,  Epoch: 65 \tTotal Loss: 0.107227\tReconstruction Loss: 0.107227\t lr: 10.00000000]\n",
      "100%|██████████| 59/59 [00:04<00:00, 12.42batch/s,  Epoch: 66 \tTotal Loss: 0.107874\tReconstruction Loss: 0.107874\t lr: 10.00000000]\n",
      "100%|██████████| 59/59 [00:04<00:00, 12.98batch/s,  Epoch: 67 \tTotal Loss: 0.106169\tReconstruction Loss: 0.106169\t lr: 10.00000000]\n",
      "100%|██████████| 59/59 [00:04<00:00, 12.47batch/s,  Epoch: 68 \tTotal Loss: 0.102110\tReconstruction Loss: 0.102110\t lr: 10.00000000]\n",
      "100%|██████████| 59/59 [00:04<00:00, 13.45batch/s,  Epoch: 69 \tTotal Loss: 0.107025\tReconstruction Loss: 0.107025\t lr: 10.00000000]\n",
      "100%|██████████| 59/59 [00:04<00:00, 12.41batch/s,  Epoch: 70 \tTotal Loss: 0.102829\tReconstruction Loss: 0.102829\t lr: 10.00000000]\n",
      "100%|██████████| 59/59 [00:04<00:00, 12.89batch/s,  Epoch: 71 \tTotal Loss: 0.104870\tReconstruction Loss: 0.104870\t lr: 10.00000000]\n",
      "100%|██████████| 59/59 [00:04<00:00, 12.68batch/s,  Epoch: 72 \tTotal Loss: 0.100525\tReconstruction Loss: 0.100525\t lr: 10.00000000]\n",
      "100%|██████████| 59/59 [00:04<00:00, 12.08batch/s,  Epoch: 73 \tTotal Loss: 0.101798\tReconstruction Loss: 0.101798\t lr: 10.00000000]\n",
      "100%|██████████| 59/59 [00:04<00:00, 12.58batch/s,  Epoch: 74 \tTotal Loss: 0.105298\tReconstruction Loss: 0.105298\t lr: 10.00000000]\n",
      "100%|██████████| 59/59 [00:04<00:00, 12.84batch/s,  Epoch: 75 \tTotal Loss: 0.100041\tReconstruction Loss: 0.100041\t lr: 10.00000000]\n",
      "100%|██████████| 59/59 [00:04<00:00, 13.02batch/s,  Epoch: 76 \tTotal Loss: 0.100233\tReconstruction Loss: 0.100233\t lr: 10.00000000]\n",
      "100%|██████████| 59/59 [00:04<00:00, 12.36batch/s,  Epoch: 77 \tTotal Loss: 0.103720\tReconstruction Loss: 0.103720\t lr: 10.00000000]\n",
      "100%|██████████| 59/59 [00:04<00:00, 12.62batch/s,  Epoch: 78 \tTotal Loss: 0.101520\tReconstruction Loss: 0.101520\t lr: 10.00000000]\n",
      "100%|██████████| 59/59 [00:04<00:00, 12.70batch/s,  Epoch: 79 \tTotal Loss: 0.102166\tReconstruction Loss: 0.102166\t lr: 10.00000000]\n",
      "100%|██████████| 59/59 [00:04<00:00, 12.47batch/s,  Epoch: 80 \tTotal Loss: 0.099270\tReconstruction Loss: 0.099270\t lr: 10.00000000]\n",
      "100%|██████████| 59/59 [00:04<00:00, 12.66batch/s,  Epoch: 81 \tTotal Loss: 0.102925\tReconstruction Loss: 0.102925\t lr: 10.00000000]\n",
      "100%|██████████| 59/59 [00:04<00:00, 12.57batch/s,  Epoch: 82 \tTotal Loss: 0.098890\tReconstruction Loss: 0.098890\t lr: 10.00000000]\n",
      "100%|██████████| 59/59 [00:04<00:00, 12.47batch/s,  Epoch: 83 \tTotal Loss: 0.098658\tReconstruction Loss: 0.098658\t lr: 10.00000000]\n",
      "100%|██████████| 59/59 [00:04<00:00, 13.48batch/s,  Epoch: 84 \tTotal Loss: 0.099036\tReconstruction Loss: 0.099036\t lr: 10.00000000]\n",
      "100%|██████████| 59/59 [00:04<00:00, 12.90batch/s,  Epoch: 85 \tTotal Loss: 0.098679\tReconstruction Loss: 0.098679\t lr: 10.00000000]\n",
      "100%|██████████| 59/59 [00:04<00:00, 12.58batch/s,  Epoch: 86 \tTotal Loss: 0.098832\tReconstruction Loss: 0.098832\t lr: 10.00000000]\n",
      "100%|██████████| 59/59 [00:04<00:00, 12.79batch/s,  Epoch: 87 \tTotal Loss: 0.096830\tReconstruction Loss: 0.096830\t lr: 10.00000000]\n",
      "100%|██████████| 59/59 [00:04<00:00, 12.79batch/s,  Epoch: 88 \tTotal Loss: 0.099948\tReconstruction Loss: 0.099948\t lr: 10.00000000]\n",
      "100%|██████████| 59/59 [00:04<00:00, 12.78batch/s,  Epoch: 89 \tTotal Loss: 0.098516\tReconstruction Loss: 0.098516\t lr: 10.00000000]\n",
      "100%|██████████| 59/59 [00:04<00:00, 13.29batch/s,  Epoch: 90 \tTotal Loss: 0.098158\tReconstruction Loss: 0.098158\t lr: 10.00000000]\n",
      "100%|██████████| 59/59 [00:04<00:00, 13.11batch/s,  Epoch: 91 \tTotal Loss: 0.098888\tReconstruction Loss: 0.098888\t lr: 10.00000000]\n",
      "100%|██████████| 59/59 [00:04<00:00, 13.19batch/s,  Epoch: 92 \tTotal Loss: 0.098478\tReconstruction Loss: 0.098478\t lr: 10.00000000]\n",
      "100%|██████████| 59/59 [00:04<00:00, 12.65batch/s,  Epoch: 93 \tTotal Loss: 0.096970\tReconstruction Loss: 0.096970\t lr: 10.00000000]\n",
      "100%|██████████| 59/59 [00:04<00:00, 12.50batch/s,  Epoch: 94 \tTotal Loss: 0.096852\tReconstruction Loss: 0.096852\t lr: 10.00000000]\n",
      "100%|██████████| 59/59 [00:04<00:00, 12.65batch/s,  Epoch: 95 \tTotal Loss: 0.097427\tReconstruction Loss: 0.097427\t lr: 10.00000000]\n",
      "100%|██████████| 59/59 [00:04<00:00, 12.75batch/s,  Epoch: 96 \tTotal Loss: 0.097550\tReconstruction Loss: 0.097550\t lr: 10.00000000]\n",
      "100%|██████████| 59/59 [00:04<00:00, 12.71batch/s,  Epoch: 97 \tTotal Loss: 0.095710\tReconstruction Loss: 0.095710\t lr: 10.00000000]\n",
      "100%|██████████| 59/59 [00:04<00:00, 13.43batch/s,  Epoch: 98 \tTotal Loss: 0.098232\tReconstruction Loss: 0.098232\t lr: 10.00000000]\n",
      "100%|██████████| 59/59 [00:04<00:00, 12.55batch/s,  Epoch: 99 \tTotal Loss: 0.095454\tReconstruction Loss: 0.095454\t lr: 10.00000000]\n",
      "100%|██████████| 59/59 [00:04<00:00, 12.41batch/s,  Epoch: 100 \tTotal Loss: 0.094068\tReconstruction Loss: 0.094068\t lr: 10.00000000]\n",
      "100%|██████████| 59/59 [00:04<00:00, 12.82batch/s,  Epoch: 101 \tTotal Loss: 0.095759\tReconstruction Loss: 0.095759\t lr: 10.00000000]\n",
      "100%|██████████| 59/59 [00:04<00:00, 13.17batch/s,  Epoch: 102 \tTotal Loss: 0.095710\tReconstruction Loss: 0.095710\t lr: 10.00000000]\n",
      "100%|██████████| 59/59 [00:04<00:00, 12.56batch/s,  Epoch: 103 \tTotal Loss: 0.095918\tReconstruction Loss: 0.095918\t lr: 10.00000000]\n",
      "100%|██████████| 59/59 [00:04<00:00, 12.82batch/s,  Epoch: 104 \tTotal Loss: 0.096428\tReconstruction Loss: 0.096428\t lr: 10.00000000]\n",
      "100%|██████████| 59/59 [00:04<00:00, 12.88batch/s,  Epoch: 105 \tTotal Loss: 0.095714\tReconstruction Loss: 0.095714\t lr: 10.00000000]\n",
      "100%|██████████| 59/59 [00:04<00:00, 12.68batch/s,  Epoch: 106 \tTotal Loss: 0.093566\tReconstruction Loss: 0.093566\t lr: 10.00000000]\n",
      "100%|██████████| 59/59 [00:04<00:00, 12.89batch/s,  Epoch: 107 \tTotal Loss: 0.095003\tReconstruction Loss: 0.095003\t lr: 10.00000000]\n",
      "100%|██████████| 59/59 [00:04<00:00, 13.05batch/s,  Epoch: 108 \tTotal Loss: 0.096394\tReconstruction Loss: 0.096394\t lr: 10.00000000]\n",
      "100%|██████████| 59/59 [00:04<00:00, 13.10batch/s,  Epoch: 109 \tTotal Loss: 0.093413\tReconstruction Loss: 0.093413\t lr: 10.00000000]\n",
      "100%|██████████| 59/59 [00:04<00:00, 12.68batch/s,  Epoch: 110 \tTotal Loss: 0.094363\tReconstruction Loss: 0.094363\t lr: 10.00000000]\n",
      "100%|██████████| 59/59 [00:04<00:00, 12.27batch/s,  Epoch: 111 \tTotal Loss: 0.094443\tReconstruction Loss: 0.094443\t lr: 10.00000000]\n",
      "100%|██████████| 59/59 [00:04<00:00, 13.32batch/s,  Epoch: 112 \tTotal Loss: 0.092857\tReconstruction Loss: 0.092857\t lr: 10.00000000]\n",
      "100%|██████████| 59/59 [00:04<00:00, 12.25batch/s,  Epoch: 113 \tTotal Loss: 0.091139\tReconstruction Loss: 0.091139\t lr: 10.00000000]\n",
      "100%|██████████| 59/59 [00:04<00:00, 13.13batch/s,  Epoch: 114 \tTotal Loss: 0.092258\tReconstruction Loss: 0.092258\t lr: 10.00000000]\n",
      "100%|██████████| 59/59 [00:04<00:00, 13.24batch/s,  Epoch: 115 \tTotal Loss: 0.096095\tReconstruction Loss: 0.096095\t lr: 10.00000000]\n",
      "100%|██████████| 59/59 [00:04<00:00, 12.45batch/s,  Epoch: 116 \tTotal Loss: 0.093858\tReconstruction Loss: 0.093858\t lr: 10.00000000]\n",
      "100%|██████████| 59/59 [00:04<00:00, 12.10batch/s,  Epoch: 117 \tTotal Loss: 0.092276\tReconstruction Loss: 0.092276\t lr: 10.00000000]\n",
      "100%|██████████| 59/59 [00:04<00:00, 12.22batch/s,  Epoch: 118 \tTotal Loss: 0.091788\tReconstruction Loss: 0.091788\t lr: 10.00000000]\n",
      "100%|██████████| 59/59 [00:05<00:00, 11.73batch/s,  Epoch: 119 \tTotal Loss: 0.092889\tReconstruction Loss: 0.092889\t lr: 10.00000000]\n",
      "100%|██████████| 59/59 [00:05<00:00, 11.73batch/s,  Epoch: 120 \tTotal Loss: 0.093324\tReconstruction Loss: 0.093324\t lr: 10.00000000]\n",
      "100%|██████████| 59/59 [00:05<00:00, 11.26batch/s,  Epoch: 121 \tTotal Loss: 0.090689\tReconstruction Loss: 0.090689\t lr: 10.00000000]\n",
      "100%|██████████| 59/59 [00:05<00:00, 11.54batch/s,  Epoch: 122 \tTotal Loss: 0.093216\tReconstruction Loss: 0.093216\t lr: 10.00000000]\n",
      "100%|██████████| 59/59 [00:04<00:00, 11.89batch/s,  Epoch: 123 \tTotal Loss: 0.093958\tReconstruction Loss: 0.093958\t lr: 10.00000000]\n",
      "100%|██████████| 59/59 [00:04<00:00, 12.37batch/s,  Epoch: 124 \tTotal Loss: 0.091174\tReconstruction Loss: 0.091174\t lr: 10.00000000]\n",
      "100%|██████████| 59/59 [00:04<00:00, 11.91batch/s,  Epoch: 125 \tTotal Loss: 0.094331\tReconstruction Loss: 0.094331\t lr: 10.00000000]\n",
      "100%|██████████| 59/59 [00:04<00:00, 12.80batch/s,  Epoch: 126 \tTotal Loss: 0.091229\tReconstruction Loss: 0.091229\t lr: 10.00000000]\n",
      "100%|██████████| 59/59 [00:04<00:00, 12.44batch/s,  Epoch: 127 \tTotal Loss: 0.088976\tReconstruction Loss: 0.088976\t lr: 10.00000000]\n",
      "100%|██████████| 59/59 [00:04<00:00, 12.57batch/s,  Epoch: 128 \tTotal Loss: 0.093465\tReconstruction Loss: 0.093465\t lr: 10.00000000]\n",
      "100%|██████████| 59/59 [00:04<00:00, 12.06batch/s,  Epoch: 129 \tTotal Loss: 0.092203\tReconstruction Loss: 0.092203\t lr: 10.00000000]\n",
      "100%|██████████| 59/59 [00:04<00:00, 12.33batch/s,  Epoch: 130 \tTotal Loss: 0.090775\tReconstruction Loss: 0.090775\t lr: 10.00000000]\n",
      "100%|██████████| 59/59 [00:04<00:00, 12.16batch/s,  Epoch: 131 \tTotal Loss: 0.093899\tReconstruction Loss: 0.093899\t lr: 10.00000000]\n",
      "100%|██████████| 59/59 [00:04<00:00, 12.70batch/s,  Epoch: 132 \tTotal Loss: 0.087630\tReconstruction Loss: 0.087630\t lr: 10.00000000]\n",
      "100%|██████████| 59/59 [00:04<00:00, 12.26batch/s,  Epoch: 133 \tTotal Loss: 0.092163\tReconstruction Loss: 0.092163\t lr: 10.00000000]\n",
      "100%|██████████| 59/59 [00:05<00:00, 11.75batch/s,  Epoch: 134 \tTotal Loss: 0.091937\tReconstruction Loss: 0.091937\t lr: 10.00000000]\n",
      "100%|██████████| 59/59 [00:04<00:00, 12.11batch/s,  Epoch: 135 \tTotal Loss: 0.092277\tReconstruction Loss: 0.092277\t lr: 10.00000000]\n",
      "100%|██████████| 59/59 [00:04<00:00, 12.12batch/s,  Epoch: 136 \tTotal Loss: 0.090789\tReconstruction Loss: 0.090789\t lr: 10.00000000]\n",
      "100%|██████████| 59/59 [00:05<00:00, 11.55batch/s,  Epoch: 137 \tTotal Loss: 0.088920\tReconstruction Loss: 0.088920\t lr: 10.00000000]\n",
      "100%|██████████| 59/59 [00:05<00:00, 11.74batch/s,  Epoch: 138 \tTotal Loss: 0.091483\tReconstruction Loss: 0.091483\t lr: 10.00000000]\n",
      "100%|██████████| 59/59 [00:04<00:00, 12.16batch/s,  Epoch: 139 \tTotal Loss: 0.088851\tReconstruction Loss: 0.088851\t lr: 10.00000000]\n",
      "100%|██████████| 59/59 [00:04<00:00, 11.92batch/s,  Epoch: 140 \tTotal Loss: 0.091134\tReconstruction Loss: 0.091134\t lr: 10.00000000]\n",
      "100%|██████████| 59/59 [00:05<00:00, 11.78batch/s,  Epoch: 141 \tTotal Loss: 0.089809\tReconstruction Loss: 0.089809\t lr: 10.00000000]\n",
      "100%|██████████| 59/59 [00:05<00:00, 11.80batch/s,  Epoch: 142 \tTotal Loss: 0.089296\tReconstruction Loss: 0.089296\t lr: 10.00000000]\n",
      "100%|██████████| 59/59 [00:04<00:00, 12.06batch/s,  Epoch: 143 \tTotal Loss: 0.090165\tReconstruction Loss: 0.090165\t lr: 10.00000000]\n",
      "100%|██████████| 59/59 [00:04<00:00, 12.06batch/s,  Epoch: 144 \tTotal Loss: 0.091672\tReconstruction Loss: 0.091672\t lr: 10.00000000]\n",
      "100%|██████████| 59/59 [00:04<00:00, 12.08batch/s,  Epoch: 145 \tTotal Loss: 0.091821\tReconstruction Loss: 0.091821\t lr: 10.00000000]\n",
      "100%|██████████| 59/59 [00:04<00:00, 12.94batch/s,  Epoch: 146 \tTotal Loss: 0.090937\tReconstruction Loss: 0.090937\t lr: 10.00000000]\n",
      "100%|██████████| 59/59 [00:04<00:00, 12.33batch/s,  Epoch: 147 \tTotal Loss: 0.088015\tReconstruction Loss: 0.088015\t lr: 10.00000000]\n",
      "100%|██████████| 59/59 [00:04<00:00, 11.93batch/s,  Epoch: 148 \tTotal Loss: 0.090079\tReconstruction Loss: 0.090079\t lr: 10.00000000]\n",
      "100%|██████████| 59/59 [00:04<00:00, 12.18batch/s,  Epoch: 149 \tTotal Loss: 0.089452\tReconstruction Loss: 0.089452\t lr: 10.00000000]\n",
      "100%|██████████| 59/59 [00:04<00:00, 12.14batch/s,  Epoch: 150 \tTotal Loss: 0.089224\tReconstruction Loss: 0.089224\t lr: 10.00000000]\n",
      "100%|██████████| 59/59 [00:04<00:00, 11.82batch/s,  Epoch: 151 \tTotal Loss: 0.089468\tReconstruction Loss: 0.089468\t lr: 10.00000000]\n",
      "100%|██████████| 59/59 [00:05<00:00, 11.61batch/s,  Epoch: 152 \tTotal Loss: 0.090102\tReconstruction Loss: 0.090102\t lr: 10.00000000]\n",
      "100%|██████████| 59/59 [00:04<00:00, 11.95batch/s,  Epoch: 153 \tTotal Loss: 0.087782\tReconstruction Loss: 0.087782\t lr: 10.00000000]\n",
      "100%|██████████| 59/59 [00:04<00:00, 11.93batch/s,  Epoch: 154 \tTotal Loss: 0.090119\tReconstruction Loss: 0.090119\t lr: 10.00000000]\n",
      "100%|██████████| 59/59 [00:05<00:00, 11.38batch/s,  Epoch: 155 \tTotal Loss: 0.086706\tReconstruction Loss: 0.086706\t lr: 10.00000000]\n",
      "100%|██████████| 59/59 [00:04<00:00, 12.06batch/s,  Epoch: 156 \tTotal Loss: 0.089389\tReconstruction Loss: 0.089389\t lr: 10.00000000]\n",
      "100%|██████████| 59/59 [00:04<00:00, 12.04batch/s,  Epoch: 157 \tTotal Loss: 0.088731\tReconstruction Loss: 0.088731\t lr: 10.00000000]\n",
      "100%|██████████| 59/59 [00:04<00:00, 12.05batch/s,  Epoch: 158 \tTotal Loss: 0.086720\tReconstruction Loss: 0.086720\t lr: 10.00000000]\n",
      "100%|██████████| 59/59 [00:04<00:00, 12.28batch/s,  Epoch: 159 \tTotal Loss: 0.087937\tReconstruction Loss: 0.087937\t lr: 10.00000000]\n",
      "100%|██████████| 59/59 [00:04<00:00, 12.01batch/s,  Epoch: 160 \tTotal Loss: 0.089905\tReconstruction Loss: 0.089905\t lr: 10.00000000]\n",
      "100%|██████████| 59/59 [00:04<00:00, 12.38batch/s,  Epoch: 161 \tTotal Loss: 0.087954\tReconstruction Loss: 0.087954\t lr: 10.00000000]\n",
      "100%|██████████| 59/59 [00:04<00:00, 12.11batch/s,  Epoch: 162 \tTotal Loss: 0.087231\tReconstruction Loss: 0.087231\t lr: 10.00000000]\n",
      "100%|██████████| 59/59 [00:05<00:00, 11.74batch/s,  Epoch: 163 \tTotal Loss: 0.087561\tReconstruction Loss: 0.087561\t lr: 10.00000000]\n",
      "100%|██████████| 59/59 [00:04<00:00, 12.25batch/s,  Epoch: 164 \tTotal Loss: 0.087211\tReconstruction Loss: 0.087211\t lr: 10.00000000]\n",
      "100%|██████████| 59/59 [00:04<00:00, 12.06batch/s,  Epoch: 165 \tTotal Loss: 0.087800\tReconstruction Loss: 0.087800\t lr: 10.00000000]\n",
      "100%|██████████| 59/59 [00:04<00:00, 11.80batch/s,  Epoch: 166 \tTotal Loss: 0.088205\tReconstruction Loss: 0.088205\t lr: 10.00000000]\n",
      "100%|██████████| 59/59 [00:05<00:00, 11.52batch/s,  Epoch: 167 \tTotal Loss: 0.086945\tReconstruction Loss: 0.086945\t lr: 10.00000000]\n",
      "100%|██████████| 59/59 [00:05<00:00, 11.76batch/s,  Epoch: 168 \tTotal Loss: 0.088283\tReconstruction Loss: 0.088283\t lr: 10.00000000]\n",
      "100%|██████████| 59/59 [00:04<00:00, 12.39batch/s,  Epoch: 169 \tTotal Loss: 0.087235\tReconstruction Loss: 0.087235\t lr: 10.00000000]\n",
      "100%|██████████| 59/59 [00:04<00:00, 12.32batch/s,  Epoch: 170 \tTotal Loss: 0.086688\tReconstruction Loss: 0.086688\t lr: 10.00000000]\n",
      "100%|██████████| 59/59 [00:05<00:00, 11.57batch/s,  Epoch: 171 \tTotal Loss: 0.087779\tReconstruction Loss: 0.087779\t lr: 10.00000000]\n",
      "100%|██████████| 59/59 [00:04<00:00, 11.89batch/s,  Epoch: 172 \tTotal Loss: 0.085362\tReconstruction Loss: 0.085362\t lr: 10.00000000]\n",
      "100%|██████████| 59/59 [00:04<00:00, 12.77batch/s,  Epoch: 173 \tTotal Loss: 0.086836\tReconstruction Loss: 0.086836\t lr: 10.00000000]\n",
      "100%|██████████| 59/59 [00:04<00:00, 11.83batch/s,  Epoch: 174 \tTotal Loss: 0.089543\tReconstruction Loss: 0.089543\t lr: 10.00000000]\n",
      "100%|██████████| 59/59 [00:04<00:00, 12.12batch/s,  Epoch: 175 \tTotal Loss: 0.088737\tReconstruction Loss: 0.088737\t lr: 10.00000000]\n",
      "100%|██████████| 59/59 [00:04<00:00, 12.38batch/s,  Epoch: 176 \tTotal Loss: 0.089580\tReconstruction Loss: 0.089580\t lr: 10.00000000]\n",
      "100%|██████████| 59/59 [00:05<00:00, 11.27batch/s,  Epoch: 177 \tTotal Loss: 0.087856\tReconstruction Loss: 0.087856\t lr: 10.00000000]\n",
      "100%|██████████| 59/59 [00:04<00:00, 12.51batch/s,  Epoch: 178 \tTotal Loss: 0.086939\tReconstruction Loss: 0.086939\t lr: 10.00000000]\n",
      "100%|██████████| 59/59 [00:04<00:00, 12.11batch/s,  Epoch: 179 \tTotal Loss: 0.085772\tReconstruction Loss: 0.085772\t lr: 10.00000000]\n",
      "100%|██████████| 59/59 [00:04<00:00, 11.81batch/s,  Epoch: 180 \tTotal Loss: 0.088378\tReconstruction Loss: 0.088378\t lr: 10.00000000]\n",
      "100%|██████████| 59/59 [00:05<00:00, 11.55batch/s,  Epoch: 181 \tTotal Loss: 0.085739\tReconstruction Loss: 0.085739\t lr: 10.00000000]\n",
      "100%|██████████| 59/59 [00:04<00:00, 12.01batch/s,  Epoch: 182 \tTotal Loss: 0.088024\tReconstruction Loss: 0.088024\t lr: 10.00000000]\n",
      "100%|██████████| 59/59 [00:04<00:00, 11.97batch/s,  Epoch: 183 \tTotal Loss: 0.087402\tReconstruction Loss: 0.087402\t lr: 10.00000000]\n",
      "100%|██████████| 59/59 [00:04<00:00, 12.15batch/s,  Epoch: 184 \tTotal Loss: 0.087513\tReconstruction Loss: 0.087513\t lr: 10.00000000]\n",
      "100%|██████████| 59/59 [00:05<00:00, 11.56batch/s,  Epoch: 185 \tTotal Loss: 0.085847\tReconstruction Loss: 0.085847\t lr: 10.00000000]\n",
      "100%|██████████| 59/59 [00:04<00:00, 11.85batch/s,  Epoch: 186 \tTotal Loss: 0.085288\tReconstruction Loss: 0.085288\t lr: 10.00000000]\n",
      "100%|██████████| 59/59 [00:04<00:00, 11.87batch/s,  Epoch: 187 \tTotal Loss: 0.086741\tReconstruction Loss: 0.086741\t lr: 10.00000000]\n",
      "100%|██████████| 59/59 [00:04<00:00, 11.91batch/s,  Epoch: 188 \tTotal Loss: 0.085041\tReconstruction Loss: 0.085041\t lr: 10.00000000]\n",
      "100%|██████████| 59/59 [00:04<00:00, 11.83batch/s,  Epoch: 189 \tTotal Loss: 0.084470\tReconstruction Loss: 0.084470\t lr: 10.00000000]\n",
      "100%|██████████| 59/59 [00:05<00:00, 11.49batch/s,  Epoch: 190 \tTotal Loss: 0.086238\tReconstruction Loss: 0.086238\t lr: 10.00000000]\n",
      "100%|██████████| 59/59 [00:04<00:00, 12.22batch/s,  Epoch: 191 \tTotal Loss: 0.087204\tReconstruction Loss: 0.087204\t lr: 10.00000000]\n",
      "100%|██████████| 59/59 [00:04<00:00, 12.09batch/s,  Epoch: 192 \tTotal Loss: 0.087729\tReconstruction Loss: 0.087729\t lr: 10.00000000]\n",
      "100%|██████████| 59/59 [00:05<00:00, 11.79batch/s,  Epoch: 193 \tTotal Loss: 0.083693\tReconstruction Loss: 0.083693\t lr: 10.00000000]\n",
      "100%|██████████| 59/59 [00:05<00:00, 11.66batch/s,  Epoch: 194 \tTotal Loss: 0.085265\tReconstruction Loss: 0.085265\t lr: 10.00000000]\n",
      "100%|██████████| 59/59 [00:04<00:00, 12.06batch/s,  Epoch: 195 \tTotal Loss: 0.086971\tReconstruction Loss: 0.086971\t lr: 10.00000000]\n",
      "100%|██████████| 59/59 [00:05<00:00, 11.79batch/s,  Epoch: 196 \tTotal Loss: 0.086184\tReconstruction Loss: 0.086184\t lr: 10.00000000]\n",
      "100%|██████████| 59/59 [00:05<00:00, 11.63batch/s,  Epoch: 197 \tTotal Loss: 0.085588\tReconstruction Loss: 0.085588\t lr: 10.00000000]\n",
      "100%|██████████| 59/59 [00:04<00:00, 11.97batch/s,  Epoch: 198 \tTotal Loss: 0.086198\tReconstruction Loss: 0.086198\t lr: 10.00000000]\n",
      "100%|██████████| 59/59 [00:05<00:00, 11.46batch/s,  Epoch: 199 \tTotal Loss: 0.085803\tReconstruction Loss: 0.085803\t lr: 10.00000000]\n",
      "100%|██████████| 59/59 [00:05<00:00, 11.62batch/s,  Epoch: 200 \tTotal Loss: 0.086052\tReconstruction Loss: 0.086052\t lr: 10.00000000]\n"
     ]
    }
   ],
   "source": [
    "for epoch in range(1, 201):\n",
    "    _, loss = train(model, train_loader, optimizer, epoch)\n",
    "    scheduler.step(np.mean(loss))"
   ],
   "metadata": {
    "collapsed": false
   }
  },
  {
   "cell_type": "code",
   "execution_count": 10,
   "outputs": [
    {
     "name": "stderr",
     "output_type": "stream",
     "text": [
      "100%|██████████| 59/59 [00:05<00:00, 11.79batch/s,  Epoch: 201 \tTotal Loss: 0.086140\tReconstruction Loss: 0.086140\t lr: 10.00000000]\n",
      "100%|██████████| 59/59 [00:04<00:00, 12.20batch/s,  Epoch: 202 \tTotal Loss: 0.085086\tReconstruction Loss: 0.085086\t lr: 10.00000000]\n",
      "100%|██████████| 59/59 [00:05<00:00, 11.68batch/s,  Epoch: 203 \tTotal Loss: 0.086337\tReconstruction Loss: 0.086337\t lr: 10.00000000]\n",
      "100%|██████████| 59/59 [00:04<00:00, 11.81batch/s,  Epoch: 204 \tTotal Loss: 0.086221\tReconstruction Loss: 0.086221\t lr: 10.00000000]\n",
      "100%|██████████| 59/59 [00:04<00:00, 11.83batch/s,  Epoch: 205 \tTotal Loss: 0.089665\tReconstruction Loss: 0.089665\t lr: 10.00000000]\n",
      "100%|██████████| 59/59 [00:05<00:00, 11.78batch/s,  Epoch: 206 \tTotal Loss: 0.087865\tReconstruction Loss: 0.087865\t lr: 10.00000000]\n",
      "100%|██████████| 59/59 [00:04<00:00, 12.07batch/s,  Epoch: 207 \tTotal Loss: 0.085402\tReconstruction Loss: 0.085402\t lr: 10.00000000]\n",
      "100%|██████████| 59/59 [00:05<00:00, 11.09batch/s,  Epoch: 208 \tTotal Loss: 0.087625\tReconstruction Loss: 0.087625\t lr: 10.00000000]\n",
      "100%|██████████| 59/59 [00:04<00:00, 12.40batch/s,  Epoch: 209 \tTotal Loss: 0.086288\tReconstruction Loss: 0.086288\t lr: 10.00000000]\n",
      "100%|██████████| 59/59 [00:05<00:00, 10.95batch/s,  Epoch: 210 \tTotal Loss: 0.085402\tReconstruction Loss: 0.085402\t lr: 10.00000000]\n",
      "100%|██████████| 59/59 [00:04<00:00, 13.00batch/s,  Epoch: 211 \tTotal Loss: 0.082767\tReconstruction Loss: 0.082767\t lr: 10.00000000]\n",
      "100%|██████████| 59/59 [00:04<00:00, 12.24batch/s,  Epoch: 212 \tTotal Loss: 0.085692\tReconstruction Loss: 0.085692\t lr: 10.00000000]\n",
      "100%|██████████| 59/59 [00:04<00:00, 12.21batch/s,  Epoch: 213 \tTotal Loss: 0.085221\tReconstruction Loss: 0.085221\t lr: 10.00000000]\n",
      "100%|██████████| 59/59 [00:04<00:00, 12.11batch/s,  Epoch: 214 \tTotal Loss: 0.084911\tReconstruction Loss: 0.084911\t lr: 10.00000000]\n",
      "100%|██████████| 59/59 [00:04<00:00, 12.11batch/s,  Epoch: 215 \tTotal Loss: 0.083948\tReconstruction Loss: 0.083948\t lr: 10.00000000]\n",
      "100%|██████████| 59/59 [00:04<00:00, 12.31batch/s,  Epoch: 216 \tTotal Loss: 0.084979\tReconstruction Loss: 0.084979\t lr: 10.00000000]\n",
      "100%|██████████| 59/59 [00:04<00:00, 12.22batch/s,  Epoch: 217 \tTotal Loss: 0.081638\tReconstruction Loss: 0.081638\t lr: 10.00000000]\n",
      "100%|██████████| 59/59 [00:04<00:00, 12.21batch/s,  Epoch: 218 \tTotal Loss: 0.083438\tReconstruction Loss: 0.083438\t lr: 10.00000000]\n",
      "100%|██████████| 59/59 [00:04<00:00, 12.27batch/s,  Epoch: 219 \tTotal Loss: 0.084444\tReconstruction Loss: 0.084444\t lr: 10.00000000]\n",
      "100%|██████████| 59/59 [00:04<00:00, 12.60batch/s,  Epoch: 220 \tTotal Loss: 0.084953\tReconstruction Loss: 0.084953\t lr: 10.00000000]\n",
      "100%|██████████| 59/59 [00:04<00:00, 12.57batch/s,  Epoch: 221 \tTotal Loss: 0.083576\tReconstruction Loss: 0.083576\t lr: 10.00000000]\n",
      "100%|██████████| 59/59 [00:04<00:00, 12.50batch/s,  Epoch: 222 \tTotal Loss: 0.084874\tReconstruction Loss: 0.084874\t lr: 10.00000000]\n",
      "100%|██████████| 59/59 [00:05<00:00, 11.76batch/s,  Epoch: 223 \tTotal Loss: 0.084285\tReconstruction Loss: 0.084285\t lr: 10.00000000]\n",
      "100%|██████████| 59/59 [00:04<00:00, 12.14batch/s,  Epoch: 224 \tTotal Loss: 0.084567\tReconstruction Loss: 0.084567\t lr: 10.00000000]\n",
      "100%|██████████| 59/59 [00:05<00:00, 11.66batch/s,  Epoch: 225 \tTotal Loss: 0.084358\tReconstruction Loss: 0.084358\t lr: 10.00000000]\n",
      "100%|██████████| 59/59 [00:05<00:00, 11.65batch/s,  Epoch: 226 \tTotal Loss: 0.085147\tReconstruction Loss: 0.085147\t lr: 10.00000000]\n",
      "100%|██████████| 59/59 [00:05<00:00, 11.69batch/s,  Epoch: 227 \tTotal Loss: 0.084519\tReconstruction Loss: 0.084519\t lr: 10.00000000]\n",
      "100%|██████████| 59/59 [00:05<00:00, 11.29batch/s,  Epoch: 228 \tTotal Loss: 0.084231\tReconstruction Loss: 0.084231\t lr: 10.00000000]\n",
      "100%|██████████| 59/59 [00:04<00:00, 12.10batch/s,  Epoch: 229 \tTotal Loss: 0.083822\tReconstruction Loss: 0.083822\t lr: 10.00000000]\n",
      "100%|██████████| 59/59 [00:04<00:00, 11.98batch/s,  Epoch: 230 \tTotal Loss: 0.084931\tReconstruction Loss: 0.084931\t lr: 10.00000000]\n",
      "100%|██████████| 59/59 [00:04<00:00, 11.85batch/s,  Epoch: 231 \tTotal Loss: 0.083754\tReconstruction Loss: 0.083754\t lr: 10.00000000]\n",
      "100%|██████████| 59/59 [00:05<00:00, 11.15batch/s,  Epoch: 232 \tTotal Loss: 0.083907\tReconstruction Loss: 0.083907\t lr: 10.00000000]\n",
      "100%|██████████| 59/59 [00:04<00:00, 12.37batch/s,  Epoch: 233 \tTotal Loss: 0.081824\tReconstruction Loss: 0.081824\t lr: 10.00000000]\n",
      "100%|██████████| 59/59 [00:04<00:00, 11.88batch/s,  Epoch: 234 \tTotal Loss: 0.079369\tReconstruction Loss: 0.079369\t lr: 1.00000000]\n",
      "100%|██████████| 59/59 [00:04<00:00, 12.15batch/s,  Epoch: 235 \tTotal Loss: 0.081325\tReconstruction Loss: 0.081325\t lr: 1.00000000]\n",
      "100%|██████████| 59/59 [00:05<00:00, 11.49batch/s,  Epoch: 236 \tTotal Loss: 0.080952\tReconstruction Loss: 0.080952\t lr: 1.00000000]\n",
      "100%|██████████| 59/59 [00:04<00:00, 12.10batch/s,  Epoch: 237 \tTotal Loss: 0.080517\tReconstruction Loss: 0.080517\t lr: 1.00000000]\n",
      "100%|██████████| 59/59 [00:05<00:00, 11.65batch/s,  Epoch: 238 \tTotal Loss: 0.078355\tReconstruction Loss: 0.078355\t lr: 1.00000000]\n",
      "100%|██████████| 59/59 [00:05<00:00, 11.68batch/s,  Epoch: 239 \tTotal Loss: 0.079346\tReconstruction Loss: 0.079346\t lr: 1.00000000]\n",
      "100%|██████████| 59/59 [00:04<00:00, 12.24batch/s,  Epoch: 240 \tTotal Loss: 0.078757\tReconstruction Loss: 0.078757\t lr: 1.00000000]\n",
      "100%|██████████| 59/59 [00:05<00:00, 11.63batch/s,  Epoch: 241 \tTotal Loss: 0.079524\tReconstruction Loss: 0.079524\t lr: 1.00000000]\n",
      "100%|██████████| 59/59 [00:05<00:00, 11.72batch/s,  Epoch: 242 \tTotal Loss: 0.080306\tReconstruction Loss: 0.080306\t lr: 1.00000000]\n",
      "100%|██████████| 59/59 [00:05<00:00, 11.16batch/s,  Epoch: 243 \tTotal Loss: 0.079722\tReconstruction Loss: 0.079722\t lr: 1.00000000]\n",
      "100%|██████████| 59/59 [00:04<00:00, 12.47batch/s,  Epoch: 244 \tTotal Loss: 0.080980\tReconstruction Loss: 0.080980\t lr: 1.00000000]\n",
      "100%|██████████| 59/59 [00:04<00:00, 11.98batch/s,  Epoch: 245 \tTotal Loss: 0.079577\tReconstruction Loss: 0.079577\t lr: 1.00000000]\n",
      "100%|██████████| 59/59 [00:04<00:00, 12.05batch/s,  Epoch: 246 \tTotal Loss: 0.080215\tReconstruction Loss: 0.080215\t lr: 1.00000000]\n",
      "100%|██████████| 59/59 [00:04<00:00, 13.26batch/s,  Epoch: 247 \tTotal Loss: 0.079244\tReconstruction Loss: 0.079244\t lr: 1.00000000]\n",
      "100%|██████████| 59/59 [00:04<00:00, 13.28batch/s,  Epoch: 248 \tTotal Loss: 0.079640\tReconstruction Loss: 0.079640\t lr: 1.00000000]\n",
      "100%|██████████| 59/59 [00:04<00:00, 11.92batch/s,  Epoch: 249 \tTotal Loss: 0.078833\tReconstruction Loss: 0.078833\t lr: 1.00000000]\n",
      "100%|██████████| 59/59 [00:05<00:00, 11.35batch/s,  Epoch: 250 \tTotal Loss: 0.077684\tReconstruction Loss: 0.077684\t lr: 1.00000000]\n",
      "100%|██████████| 59/59 [00:04<00:00, 11.91batch/s,  Epoch: 251 \tTotal Loss: 0.080444\tReconstruction Loss: 0.080444\t lr: 1.00000000]\n",
      "100%|██████████| 59/59 [00:04<00:00, 11.82batch/s,  Epoch: 252 \tTotal Loss: 0.081734\tReconstruction Loss: 0.081734\t lr: 1.00000000]\n",
      "100%|██████████| 59/59 [00:04<00:00, 12.51batch/s,  Epoch: 253 \tTotal Loss: 0.079839\tReconstruction Loss: 0.079839\t lr: 1.00000000]\n",
      "100%|██████████| 59/59 [00:05<00:00, 11.12batch/s,  Epoch: 254 \tTotal Loss: 0.079632\tReconstruction Loss: 0.079632\t lr: 0.10000000]\n",
      "100%|██████████| 59/59 [00:04<00:00, 12.68batch/s,  Epoch: 255 \tTotal Loss: 0.078884\tReconstruction Loss: 0.078884\t lr: 0.10000000]\n",
      "100%|██████████| 59/59 [00:05<00:00, 11.30batch/s,  Epoch: 256 \tTotal Loss: 0.080703\tReconstruction Loss: 0.080703\t lr: 0.10000000]\n",
      "100%|██████████| 59/59 [00:04<00:00, 12.26batch/s,  Epoch: 257 \tTotal Loss: 0.079009\tReconstruction Loss: 0.079009\t lr: 0.10000000]\n",
      "100%|██████████| 59/59 [00:05<00:00, 11.35batch/s,  Epoch: 258 \tTotal Loss: 0.079840\tReconstruction Loss: 0.079840\t lr: 0.10000000]\n",
      "100%|██████████| 59/59 [00:04<00:00, 12.15batch/s,  Epoch: 259 \tTotal Loss: 0.082277\tReconstruction Loss: 0.082277\t lr: 0.10000000]\n",
      "100%|██████████| 59/59 [00:04<00:00, 11.81batch/s,  Epoch: 260 \tTotal Loss: 0.081742\tReconstruction Loss: 0.081742\t lr: 0.10000000]\n",
      "100%|██████████| 59/59 [00:04<00:00, 12.30batch/s,  Epoch: 261 \tTotal Loss: 0.080684\tReconstruction Loss: 0.080684\t lr: 0.01000000]\n",
      "100%|██████████| 59/59 [00:04<00:00, 12.27batch/s,  Epoch: 262 \tTotal Loss: 0.079343\tReconstruction Loss: 0.079343\t lr: 0.01000000]\n",
      "100%|██████████| 59/59 [00:04<00:00, 11.91batch/s,  Epoch: 263 \tTotal Loss: 0.079684\tReconstruction Loss: 0.079684\t lr: 0.01000000]\n",
      "100%|██████████| 59/59 [00:05<00:00, 11.56batch/s,  Epoch: 264 \tTotal Loss: 0.078089\tReconstruction Loss: 0.078089\t lr: 0.01000000]\n",
      "100%|██████████| 59/59 [00:05<00:00, 11.59batch/s,  Epoch: 265 \tTotal Loss: 0.078501\tReconstruction Loss: 0.078501\t lr: 0.01000000]\n",
      "100%|██████████| 59/59 [00:04<00:00, 11.96batch/s,  Epoch: 266 \tTotal Loss: 0.079471\tReconstruction Loss: 0.079471\t lr: 0.01000000]\n",
      "100%|██████████| 59/59 [00:04<00:00, 11.90batch/s,  Epoch: 267 \tTotal Loss: 0.077993\tReconstruction Loss: 0.077993\t lr: 0.00100000]\n",
      "100%|██████████| 59/59 [00:04<00:00, 11.80batch/s,  Epoch: 268 \tTotal Loss: 0.078788\tReconstruction Loss: 0.078788\t lr: 0.00100000]\n",
      "100%|██████████| 59/59 [00:05<00:00, 11.67batch/s,  Epoch: 269 \tTotal Loss: 0.080991\tReconstruction Loss: 0.080991\t lr: 0.00100000]\n",
      "100%|██████████| 59/59 [00:04<00:00, 12.07batch/s,  Epoch: 270 \tTotal Loss: 0.080208\tReconstruction Loss: 0.080208\t lr: 0.00100000]\n",
      "100%|██████████| 59/59 [00:05<00:00, 11.30batch/s,  Epoch: 271 \tTotal Loss: 0.078784\tReconstruction Loss: 0.078784\t lr: 0.00100000]\n",
      "100%|██████████| 59/59 [00:04<00:00, 12.44batch/s,  Epoch: 272 \tTotal Loss: 0.079018\tReconstruction Loss: 0.079018\t lr: 0.00100000]\n",
      "100%|██████████| 59/59 [00:05<00:00, 11.63batch/s,  Epoch: 273 \tTotal Loss: 0.079903\tReconstruction Loss: 0.079903\t lr: 0.00010000]\n",
      "100%|██████████| 59/59 [00:05<00:00, 11.62batch/s,  Epoch: 274 \tTotal Loss: 0.079884\tReconstruction Loss: 0.079884\t lr: 0.00010000]\n",
      "100%|██████████| 59/59 [00:04<00:00, 11.95batch/s,  Epoch: 275 \tTotal Loss: 0.079972\tReconstruction Loss: 0.079972\t lr: 0.00010000]\n",
      "100%|██████████| 59/59 [00:05<00:00, 11.40batch/s,  Epoch: 276 \tTotal Loss: 0.080657\tReconstruction Loss: 0.080657\t lr: 0.00010000]\n",
      "100%|██████████| 59/59 [00:05<00:00, 11.69batch/s,  Epoch: 277 \tTotal Loss: 0.079724\tReconstruction Loss: 0.079724\t lr: 0.00010000]\n",
      "100%|██████████| 59/59 [00:05<00:00, 11.44batch/s,  Epoch: 278 \tTotal Loss: 0.079567\tReconstruction Loss: 0.079567\t lr: 0.00010000]\n",
      "100%|██████████| 59/59 [00:04<00:00, 12.44batch/s,  Epoch: 279 \tTotal Loss: 0.079700\tReconstruction Loss: 0.079700\t lr: 0.00001000]\n",
      "100%|██████████| 59/59 [00:04<00:00, 12.20batch/s,  Epoch: 280 \tTotal Loss: 0.080945\tReconstruction Loss: 0.080945\t lr: 0.00001000]\n",
      "100%|██████████| 59/59 [00:05<00:00, 11.65batch/s,  Epoch: 281 \tTotal Loss: 0.078194\tReconstruction Loss: 0.078194\t lr: 0.00001000]\n",
      "100%|██████████| 59/59 [00:04<00:00, 12.58batch/s,  Epoch: 282 \tTotal Loss: 0.079924\tReconstruction Loss: 0.079924\t lr: 0.00001000]\n",
      "100%|██████████| 59/59 [00:04<00:00, 12.32batch/s,  Epoch: 283 \tTotal Loss: 0.079554\tReconstruction Loss: 0.079554\t lr: 0.00001000]\n",
      "100%|██████████| 59/59 [00:04<00:00, 11.82batch/s,  Epoch: 284 \tTotal Loss: 0.079489\tReconstruction Loss: 0.079489\t lr: 0.00001000]\n",
      "100%|██████████| 59/59 [00:05<00:00, 11.76batch/s,  Epoch: 285 \tTotal Loss: 0.079858\tReconstruction Loss: 0.079858\t lr: 0.00000100]\n",
      "100%|██████████| 59/59 [00:04<00:00, 12.31batch/s,  Epoch: 286 \tTotal Loss: 0.077832\tReconstruction Loss: 0.077832\t lr: 0.00000100]\n",
      "100%|██████████| 59/59 [00:04<00:00, 12.10batch/s,  Epoch: 287 \tTotal Loss: 0.079629\tReconstruction Loss: 0.079629\t lr: 0.00000100]\n",
      "100%|██████████| 59/59 [00:05<00:00, 11.70batch/s,  Epoch: 288 \tTotal Loss: 0.079792\tReconstruction Loss: 0.079792\t lr: 0.00000100]\n",
      "100%|██████████| 59/59 [00:04<00:00, 11.80batch/s,  Epoch: 289 \tTotal Loss: 0.078142\tReconstruction Loss: 0.078142\t lr: 0.00000100]\n",
      "100%|██████████| 59/59 [00:04<00:00, 12.48batch/s,  Epoch: 290 \tTotal Loss: 0.079255\tReconstruction Loss: 0.079255\t lr: 0.00000100]\n",
      "100%|██████████| 59/59 [00:05<00:00, 11.65batch/s,  Epoch: 291 \tTotal Loss: 0.080347\tReconstruction Loss: 0.080347\t lr: 0.00000010]\n",
      "100%|██████████| 59/59 [00:04<00:00, 12.37batch/s,  Epoch: 292 \tTotal Loss: 0.079271\tReconstruction Loss: 0.079271\t lr: 0.00000010]\n",
      "100%|██████████| 59/59 [00:04<00:00, 11.96batch/s,  Epoch: 293 \tTotal Loss: 0.078211\tReconstruction Loss: 0.078211\t lr: 0.00000010]\n",
      "100%|██████████| 59/59 [00:04<00:00, 12.48batch/s,  Epoch: 294 \tTotal Loss: 0.079937\tReconstruction Loss: 0.079937\t lr: 0.00000010]\n",
      "100%|██████████| 59/59 [00:05<00:00, 11.26batch/s,  Epoch: 295 \tTotal Loss: 0.081586\tReconstruction Loss: 0.081586\t lr: 0.00000010]\n",
      "100%|██████████| 59/59 [00:05<00:00, 11.71batch/s,  Epoch: 296 \tTotal Loss: 0.080041\tReconstruction Loss: 0.080041\t lr: 0.00000010]\n",
      "100%|██████████| 59/59 [00:05<00:00, 11.58batch/s,  Epoch: 297 \tTotal Loss: 0.079419\tReconstruction Loss: 0.079419\t lr: 0.00000001]\n",
      "100%|██████████| 59/59 [00:04<00:00, 12.31batch/s,  Epoch: 298 \tTotal Loss: 0.080656\tReconstruction Loss: 0.080656\t lr: 0.00000001]\n",
      "100%|██████████| 59/59 [00:05<00:00, 11.57batch/s,  Epoch: 299 \tTotal Loss: 0.079518\tReconstruction Loss: 0.079518\t lr: 0.00000001]\n",
      "100%|██████████| 59/59 [00:05<00:00, 11.52batch/s,  Epoch: 300 \tTotal Loss: 0.079921\tReconstruction Loss: 0.079921\t lr: 0.00000001]\n"
     ]
    }
   ],
   "source": [
    "for epoch in range(201, 301):\n",
    "    _, loss = train(model, train_loader, optimizer, epoch)\n",
    "    scheduler.step(np.mean(loss))"
   ],
   "metadata": {
    "collapsed": false
   }
  },
  {
   "cell_type": "code",
   "execution_count": 11,
   "outputs": [
    {
     "data": {
      "text/plain": "<matplotlib.image.AxesImage at 0x1dc55a5e050>"
     },
     "execution_count": 11,
     "metadata": {},
     "output_type": "execute_result"
    },
    {
     "data": {
      "text/plain": "<Figure size 640x480 with 1 Axes>",
      "image/png": "[encoded data removed]"
     },
     "metadata": {},
     "output_type": "display_data"
    }
   ],
   "source": [
    "z = torch.normal(0, 1, size=(1, 64)).cuda()\n",
    "plt.imshow(model.sample(z).cpu().detach().view(28, 28), cmap='Greys')"
   ],
   "metadata": {
    "collapsed": false
   }
  },
  {
   "cell_type": "code",
   "execution_count": 41,
   "outputs": [],
   "source": [
    "img0 = next(iter(train_loader))[0][100]"
   ],
   "metadata": {
    "collapsed": false
   }
  },
  {
   "cell_type": "code",
   "execution_count": 42,
   "outputs": [
    {
     "data": {
      "text/plain": "<matplotlib.image.AxesImage at 0x1dd15d872b0>"
     },
     "execution_count": 42,
     "metadata": {},
     "output_type": "execute_result"
    },
    {
     "data": {
      "text/plain": "<Figure size 640x480 with 1 Axes>",
      "image/png": "[encoded data removed]"
     },
     "metadata": {},
     "output_type": "display_data"
    }
   ],
   "source": [
    "plt.imshow(img0[0], cmap='Greys')"
   ],
   "metadata": {
    "collapsed": false
   }
  },
  {
   "cell_type": "code",
   "execution_count": 43,
   "outputs": [
    {
     "data": {
      "text/plain": "<matplotlib.image.AxesImage at 0x1dd16180400>"
     },
     "execution_count": 43,
     "metadata": {},
     "output_type": "execute_result"
    },
    {
     "data": {
      "text/plain": "<Figure size 640x480 with 1 Axes>",
      "image/png": "[encoded data removed]"
     },
     "metadata": {},
     "output_type": "display_data"
    }
   ],
   "source": [
    "output, mu, log_var = model(img0.view(-1, 28 * 28).cuda())\n",
    "plt.imshow(output.cpu().detach().view(28, 28), cmap='Greys')"
   ],
   "metadata": {
    "collapsed": false
   }
  },
  {
   "cell_type": "code",
   "execution_count": 44,
   "outputs": [
    {
     "data": {
      "text/plain": "<matplotlib.image.AxesImage at 0x1dd16b692a0>"
     },
     "execution_count": 44,
     "metadata": {},
     "output_type": "execute_result"
    },
    {
     "data": {
      "text/plain": "<Figure size 640x480 with 1 Axes>",
      "image/png": "[encoded data removed]"
     },
     "metadata": {},
     "output_type": "display_data"
    }
   ],
   "source": [
    "output, mu, log_var = model(img0.view(-1, 28 * 28).cuda())\n",
    "plt.imshow(model.sample(mu).cpu().detach().view(28, 28), cmap='Greys')"
   ],
   "metadata": {
    "collapsed": false
   }
  },
  {
   "cell_type": "code",
   "execution_count": 45,
   "outputs": [
    {
     "data": {
      "text/plain": "tensor([[-10.5637, -10.1094,  -7.7750, -10.1609, -10.0076, -10.4946,  -9.2917,\n          -9.8507,  -9.6657,  -8.1323,  -8.8957,  -9.7380,  -9.7429,  -9.7118,\n          -9.2514, -10.0264,  -9.2122,  -8.6569,  -8.3118,  -8.8429,  -9.1026,\n          -9.6348,  -9.4555,  -9.9072, -10.2568, -10.7149,  -8.0288, -10.7044,\n          -9.9455,  -9.2772,  -9.2657,  -8.9200,  -7.5717,  -7.4330,  -9.0137,\n          -9.5351,  -8.7984,  -8.9146,  -9.8621, -10.0577,  -9.6304,  -8.4304,\n          -9.1021,  -8.7139, -10.8877,  -8.3546,  -9.3110,  -9.0772,  -9.9627,\n         -10.0111,  -9.7918,  -9.9560,  -9.5776,  -7.6361,  -8.5823,  -8.0218,\n          -8.4124,  -8.0648,  -9.8029,  -9.9599,  -9.8197, -10.5758,  -9.0136,\n          -9.5177]], device='cuda:0', grad_fn=<AddmmBackward0>)"
     },
     "execution_count": 45,
     "metadata": {},
     "output_type": "execute_result"
    }
   ],
   "source": [
    "log_var"
   ],
   "metadata": {
    "collapsed": false
   }
  },
  {
   "cell_type": "code",
   "execution_count": 16,
   "outputs": [
    {
     "data": {
      "text/plain": "tensor([[-1.8884,  0.9862,  2.0818,  1.2970,  0.5249, -7.3176, -0.1697, -3.6089,\n         -7.1460, -1.1976, -2.1610,  2.7611, -2.6682, -6.6079,  0.3251,  0.9082,\n          4.7267,  0.6392, -3.6590, -0.3039, -2.7431,  2.8382, -8.0505,  0.1568,\n         -0.4915, -3.3009,  0.8933, -0.3955, -1.5419,  0.9992, -4.1948,  2.2241,\n          2.0364,  2.7650,  7.3925,  5.6287, -6.6996,  0.9697, -3.2818,  1.6239,\n         -5.5586, -1.3665,  3.5330, 10.1366, -7.8894, -1.8327,  2.7057,  3.0717,\n          5.9085,  8.3451,  3.0054,  2.5626, -2.5202,  2.5721,  3.1154, -5.3000,\n          1.1844, -6.2718,  1.0749, -0.1669,  1.0059,  6.4541, -1.4058, -3.2136]],\n       device='cuda:0', grad_fn=<AddmmBackward0>)"
     },
     "execution_count": 16,
     "metadata": {},
     "output_type": "execute_result"
    }
   ],
   "source": [
    "mu"
   ],
   "metadata": {
    "collapsed": false
   }
  },
  {
   "cell_type": "code",
   "execution_count": 31,
   "outputs": [],
   "source": [
    "mms=MinMaxScaler()\n",
    "mms01=mms.fit_transform(mu.detach().cpu().numpy().T)"
   ],
   "metadata": {
    "collapsed": false
   }
  },
  {
   "cell_type": "code",
   "execution_count": 34,
   "outputs": [
    {
     "data": {
      "text/plain": "<matplotlib.image.AxesImage at 0x1dd12a89b40>"
     },
     "execution_count": 34,
     "metadata": {},
     "output_type": "execute_result"
    },
    {
     "data": {
      "text/plain": "<Figure size 640x480 with 1 Axes>",
      "image/png": "[encoded data removed]"
     },
     "metadata": {},
     "output_type": "display_data"
    }
   ],
   "source": [
    "plt.imshow(mms01.reshape(8,8), cmap='Greys')"
   ],
   "metadata": {
    "collapsed": false
   }
  },
  {
   "cell_type": "code",
   "execution_count": 20,
   "outputs": [],
   "source": [
    "testBatch0 = next(iter(train_loader))[0]"
   ],
   "metadata": {
    "collapsed": false
   }
  },
  {
   "cell_type": "code",
   "execution_count": 21,
   "outputs": [],
   "source": [
    "_, testMu, testLogvar = model(testBatch0.view(-1, 28 * 28).cuda())"
   ],
   "metadata": {
    "collapsed": false
   }
  },
  {
   "cell_type": "code",
   "execution_count": 22,
   "outputs": [
    {
     "data": {
      "text/plain": "tensor([[-0.5128,  1.3165,  5.4113,  ...,  3.1938,  0.7622, 11.3499],\n        [ 5.8709, -8.0070, -1.8068,  ...,  3.3748, -5.8233, -2.8467],\n        [-0.7510,  3.7900, -3.5206,  ..., -9.5367, -2.3499,  4.8116],\n        ...,\n        [-1.9266,  0.3360, -3.7726,  ...,  5.2527,  2.3007,  3.1730],\n        [ 3.0311,  2.0077, -0.3622,  ...,  2.1320, -2.6032,  0.1624],\n        [-6.9123, -3.1775, -3.5171,  ...,  3.0247, -1.1947,  2.1324]],\n       device='cuda:0', grad_fn=<AddmmBackward0>)"
     },
     "execution_count": 22,
     "metadata": {},
     "output_type": "execute_result"
    }
   ],
   "source": [
    "testMu"
   ],
   "metadata": {
    "collapsed": false
   }
  },
  {
   "cell_type": "code",
   "execution_count": 23,
   "outputs": [],
   "source": [
    "from sklearn.mixture import GaussianMixture\n",
    "\n",
    "gm = GaussianMixture(10)"
   ],
   "metadata": {
    "collapsed": false
   }
  },
  {
   "cell_type": "code",
   "execution_count": 24,
   "outputs": [
    {
     "data": {
      "text/plain": "GaussianMixture(n_components=10)",
      "text/html": "<style>#sk-container-id-2 {color: black;background-color: white;}#sk-container-id-2 pre{padding: 0;}#sk-container-id-2 div.sk-toggleable {background-color: white;}#sk-container-id-2 label.sk-toggleable__label {cursor: pointer;display: block;width: 100%;margin-bottom: 0;padding: 0.3em;box-sizing: border-box;text-align: center;}#sk-container-id-2 label.sk-toggleable__label-arrow:before {content: \"▸\";float: left;margin-right: 0.25em;color: #696969;}#sk-container-id-2 label.sk-toggleable__label-arrow:hover:before {color: black;}#sk-container-id-2 div.sk-estimator:hover label.sk-toggleable__label-arrow:before {color: black;}#sk-container-id-2 div.sk-toggleable__content {max-height: 0;max-width: 0;overflow: hidden;text-align: left;background-color: #f0f8ff;}#sk-container-id-2 div.sk-toggleable__content pre {margin: 0.2em;color: black;border-radius: 0.25em;background-color: #f0f8ff;}#sk-container-id-2 input.sk-toggleable__control:checked~div.sk-toggleable__content {max-height: 200px;max-width: 100%;overflow: auto;}#sk-container-id-2 input.sk-toggleable__control:checked~label.sk-toggleable__label-arrow:before {content: \"▾\";}#sk-container-id-2 div.sk-estimator input.sk-toggleable__control:checked~label.sk-toggleable__label {background-color: #d4ebff;}#sk-container-id-2 div.sk-label input.sk-toggleable__control:checked~label.sk-toggleable__label {background-color: #d4ebff;}#sk-container-id-2 input.sk-hidden--visually {border: 0;clip: rect(1px 1px 1px 1px);clip: rect(1px, 1px, 1px, 1px);height: 1px;margin: -1px;overflow: hidden;padding: 0;position: absolute;width: 1px;}#sk-container-id-2 div.sk-estimator {font-family: monospace;background-color: #f0f8ff;border: 1px dotted black;border-radius: 0.25em;box-sizing: border-box;margin-bottom: 0.5em;}#sk-container-id-2 div.sk-estimator:hover {background-color: #d4ebff;}#sk-container-id-2 div.sk-parallel-item::after {content: \"\";width: 100%;border-bottom: 1px solid gray;flex-grow: 1;}#sk-container-id-2 div.sk-label:hover label.sk-toggleable__label {background-color: #d4ebff;}#sk-container-id-2 div.sk-serial::before {content: \"\";position: absolute;border-left: 1px solid gray;box-sizing: border-box;top: 0;bottom: 0;left: 50%;z-index: 0;}#sk-container-id-2 div.sk-serial {display: flex;flex-direction: column;align-items: center;background-color: white;padding-right: 0.2em;padding-left: 0.2em;position: relative;}#sk-container-id-2 div.sk-item {position: relative;z-index: 1;}#sk-container-id-2 div.sk-parallel {display: flex;align-items: stretch;justify-content: center;background-color: white;position: relative;}#sk-container-id-2 div.sk-item::before, #sk-container-id-2 div.sk-parallel-item::before {content: \"\";position: absolute;border-left: 1px solid gray;box-sizing: border-box;top: 0;bottom: 0;left: 50%;z-index: -1;}#sk-container-id-2 div.sk-parallel-item {display: flex;flex-direction: column;z-index: 1;position: relative;background-color: white;}#sk-container-id-2 div.sk-parallel-item:first-child::after {align-self: flex-end;width: 50%;}#sk-container-id-2 div.sk-parallel-item:last-child::after {align-self: flex-start;width: 50%;}#sk-container-id-2 div.sk-parallel-item:only-child::after {width: 0;}#sk-container-id-2 div.sk-dashed-wrapped {border: 1px dashed gray;margin: 0 0.4em 0.5em 0.4em;box-sizing: border-box;padding-bottom: 0.4em;background-color: white;}#sk-container-id-2 div.sk-label label {font-family: monospace;font-weight: bold;display: inline-block;line-height: 1.2em;}#sk-container-id-2 div.sk-label-container {text-align: center;}#sk-container-id-2 div.sk-container {/* jupyter's `normalize.less` sets `[hidden] { display: none; }` but bootstrap.min.css set `[hidden] { display: none !important; }` so we also need the `!important` here to be able to override the default hidden behavior on the sphinx rendered scikit-learn.org. See: https://github.com/scikit-learn/scikit-learn/issues/21755 */display: inline-block !important;position: relative;}#sk-container-id-2 div.sk-text-repr-fallback {display: none;}</style><div id=\"sk-container-id-2\" class=\"sk-top-container\"><div class=\"sk-text-repr-fallback\"><pre>GaussianMixture(n_components=10)</pre><b>In a Jupyter environment, please rerun this cell to show the HTML representation or trust the notebook. <br />On GitHub, the HTML representation is unable to render, please try loading this page with nbviewer.org.</b></div><div class=\"sk-container\" hidden><div class=\"sk-item\"><div class=\"sk-estimator sk-toggleable\"><input class=\"sk-toggleable__control sk-hidden--visually\" id=\"sk-estimator-id-2\" type=\"checkbox\" checked><label for=\"sk-estimator-id-2\" class=\"sk-toggleable__label sk-toggleable__label-arrow\">GaussianMixture</label><div class=\"sk-toggleable__content\"><pre>GaussianMixture(n_components=10)</pre></div></div></div></div></div>"
     },
     "execution_count": 24,
     "metadata": {},
     "output_type": "execute_result"
    }
   ],
   "source": [
    "gm.fit(testMu.detach().cpu())"
   ],
   "metadata": {
    "collapsed": false
   }
  },
  {
   "cell_type": "code",
   "execution_count": 25,
   "outputs": [
    {
     "data": {
      "text/plain": "array([[ 2.09455663e+00, -1.47139077e+00, -1.23500425e+00,\n        -7.28138155e-01,  3.62909069e+00,  3.24443742e+00,\n         3.34237152e+00,  5.11340520e-01, -7.03782764e+00,\n        -3.31453798e+00, -7.29096960e+00,  5.64887209e-01,\n         4.40147489e+00, -5.81845108e+00,  1.09150710e+00,\n        -3.24027120e+00,  6.74270108e+00, -2.05052932e+00,\n         3.31741901e+00,  4.06436206e+00,  5.18497719e-01,\n         4.80043939e-01, -2.25167670e+00, -1.99298499e+00,\n        -1.37351113e+00, -2.44194610e+00, -3.06080601e+00,\n         8.12018612e-01,  1.48617579e+00, -1.93147975e+00,\n         4.83091164e+00,  4.64097398e+00, -1.16134437e-02,\n        -3.20307553e+00,  2.75267384e+00,  1.61145734e+00,\n        -4.94600104e+00, -3.02253473e+00, -1.61490887e-02,\n         5.58910071e+00,  5.30883651e+00, -1.77360713e-01,\n        -6.71743467e+00, -5.74014124e+00,  1.61652159e+00,\n        -5.94784844e+00,  2.27293650e+00, -2.66988408e+00,\n        -3.51815625e-01, -2.18645586e+00,  1.60708577e+00,\n         2.37568053e+00, -2.43219939e+00, -2.10154152e+00,\n         2.97848788e+00,  1.40303135e+00, -1.55842709e+00,\n         6.19607575e-01,  3.17261539e+00,  7.26089607e+00,\n        -1.14369467e+00,  2.17517292e+00,  2.17921009e+00,\n        -9.92747352e-01],\n       [ 4.08768467e+00, -1.51559251e+00, -4.11556534e+00,\n         2.36160035e+00, -1.27065079e+00,  6.54585641e-01,\n        -4.76159895e+00,  6.03155451e-01,  3.95380120e-01,\n         1.40838402e+00,  2.41496952e+00,  1.55797287e+00,\n        -2.84202942e+00,  2.33111626e+00, -1.39554974e+00,\n         6.79484528e-01, -9.69618107e+00, -3.43529443e+00,\n        -2.14533439e+00, -3.16105354e+00,  7.70318087e-01,\n        -4.71234102e-01, -2.04806105e+00,  3.20252313e-01,\n        -1.22441067e+00,  3.84775629e+00, -5.87145696e+00,\n         8.33602801e-01, -1.69537690e+00,  7.61752009e-02,\n        -3.56642493e-02, -1.23095222e+00, -4.16600391e+00,\n        -7.34401142e-01,  4.40170274e-01, -1.12709362e+00,\n        -1.67985291e+00,  2.17809930e+00,  3.02996018e+00,\n        -5.30651653e+00, -4.11784256e+00,  6.28169121e+00,\n        -5.37605586e-01,  2.29351456e+00,  4.67631398e+00,\n         1.14835502e+00, -8.49777376e-01,  3.81040828e+00,\n        -2.81366970e+00, -6.19278484e-01, -1.03700127e+00,\n        -7.17082587e-01,  1.58817364e+00,  3.17864598e-01,\n        -7.17277040e+00,  2.08337783e+00, -2.14778188e+00,\n         2.43032631e+00,  2.09838832e+00, -2.93889239e+00,\n         3.53557870e+00,  4.75187028e-01, -5.69590448e-01,\n        -1.02915325e+00],\n       [ 1.89454633e+00,  1.77609881e+00, -1.13251070e+00,\n         2.00582935e-01, -4.54433920e-01, -6.46201258e+00,\n         1.92331578e+00,  1.25187650e+00, -3.19030195e+00,\n         3.96401890e+00,  2.84673376e+00, -2.99690130e+00,\n        -2.04647852e-01,  4.69376781e+00,  1.47911358e+00,\n         1.73209003e+00,  4.37252068e+00, -1.29541352e-01,\n         4.68087945e+00, -2.81419778e+00, -1.11719326e+00,\n        -1.35123791e+00, -3.44617730e-01,  9.74432520e-01,\n         2.54049925e+00,  2.96606561e+00, -5.28092090e+00,\n         1.57634543e+00, -3.52026534e+00, -7.49760222e-01,\n        -4.60746656e+00, -7.76668327e-02, -6.75482168e+00,\n         1.28395426e+00, -1.07657568e+00, -2.29316751e+00,\n        -1.34840605e-01,  2.50612044e+00,  6.50619210e-01,\n        -6.42489844e+00, -7.37285849e-01, -3.01655151e+00,\n        -3.37046395e-02, -6.32191529e-01,  4.71907436e+00,\n         8.72058408e-01,  2.64682243e+00,  2.86108921e+00,\n         1.56118069e+00,  3.10545212e+00,  8.72131968e-01,\n        -3.10953160e+00, -5.61204163e-01, -2.31162750e+00,\n        -1.92698077e+00, -2.09568391e+00, -5.27499867e-01,\n        -5.09128889e-01, -7.92594342e-01,  6.03388961e+00,\n         4.23722075e+00,  3.62983052e+00, -2.73112589e+00,\n        -5.92543316e-01],\n       [-3.54828995e-01, -4.87190733e-01,  2.19007544e+00,\n         4.29828740e+00, -4.02786729e+00,  4.55971433e-01,\n         2.07267155e+00, -8.01855830e-01,  7.14744885e+00,\n         3.92760355e-01, -3.57113488e-01,  3.32744052e+00,\n         5.25932204e-01, -2.29434285e+00, -1.62465514e+00,\n         1.60638498e+00, -1.45097188e+00,  2.08133911e-02,\n         1.56243409e+00, -5.21536966e+00,  4.41627138e-02,\n        -8.32304057e-02, -2.95927235e+00, -9.06697260e-01,\n        -1.13028645e+00,  1.69334378e+00,  1.76884416e+00,\n         3.04416426e+00,  2.15061433e+00,  3.13960490e+00,\n        -8.03052975e-01,  3.83067022e-01, -2.66880150e-01,\n        -1.29552191e-01, -4.32633763e+00, -4.33433613e-01,\n         4.89429993e+00, -4.86432108e-01,  1.82005771e+00,\n        -3.65607381e+00,  2.14553868e+00,  6.55911224e+00,\n         1.54683106e+00,  7.28799457e-01, -5.78555906e-01,\n        -1.99393524e+00,  1.56632847e-01, -5.97072271e-01,\n         4.69067979e+00, -1.74936793e-02,  9.93494322e-01,\n         1.98744408e+00,  1.39570534e+00, -1.62101222e+00,\n        -3.45569468e+00, -4.92524605e+00, -1.43637504e+00,\n        -1.81028720e+00, -9.38166299e-01,  3.33192552e+00,\n         1.61697359e+00, -2.03302183e+00, -1.76014367e+00,\n         6.23074574e+00],\n       [-1.65450595e+00,  3.29325264e+00, -2.54524862e+00,\n        -2.72540801e+00, -2.00421283e+00, -2.55941983e+00,\n         4.52216694e+00, -4.74101503e+00,  3.32006259e-01,\n        -2.20623635e+00, -1.82190901e+00,  4.90632402e-01,\n        -1.59924817e+00,  4.49253159e-01, -1.85602319e+00,\n         2.21918841e+00,  9.27734987e+00,  2.01950973e+00,\n         4.03882015e+00, -9.63394301e-01, -3.80969496e+00,\n        -8.64018647e-01,  3.08263754e+00,  2.03825681e+00,\n        -1.87283919e+00,  4.04938669e-01,  1.57018920e+00,\n        -2.75654343e+00,  4.03353349e+00, -3.12387962e+00,\n        -2.83251756e+00,  2.47698688e+00,  4.61856077e+00,\n         9.57439589e-01, -1.90103385e+00, -5.00710980e+00,\n        -4.79756993e+00,  2.02741443e+00,  2.94398305e-02,\n         5.92787044e+00,  2.85964571e-01, -7.11665100e+00,\n        -4.56467896e+00, -2.20691163e+00,  2.95604274e+00,\n         1.80700554e+00, -2.83307256e+00, -1.11605424e-01,\n        -1.90843201e+00,  1.13869323e+00, -3.59882790e-01,\n         3.90806356e+00, -4.99106632e-01,  2.75249790e+00,\n         6.37121724e+00,  9.25415843e-01,  2.96828807e+00,\n         6.33814119e-01, -2.48727325e+00,  4.32551011e-02,\n         2.62290323e+00, -1.43956936e+00, -3.05842947e+00,\n         2.16100255e+00],\n       [-2.05310571e+00, -2.96769110e-01,  8.34372461e+00,\n         2.42996171e-01,  3.68550340e+00, -4.54200195e-03,\n         4.00143138e-01,  7.52119519e-01, -1.89591187e+00,\n        -2.92447408e+00, -3.29429555e+00,  4.05873219e+00,\n        -3.26276923e+00, -3.41189962e+00, -3.07973234e+00,\n        -9.59999942e-01,  3.01455794e+00,  2.87018749e+00,\n        -2.11422559e+00,  5.27416399e+00,  7.06118514e-01,\n        -1.28609710e+00,  5.04109326e+00, -4.41662823e+00,\n        -2.03737378e+00,  3.74132335e+00,  3.61492200e+00,\n        -5.01433945e+00,  1.85184009e+00, -2.96106378e+00,\n         3.69459058e+00,  2.92626115e+00, -2.20642201e+00,\n         1.53109327e+00, -2.20465094e+00, -8.98129451e-01,\n         2.35441620e-01, -8.24782565e-01, -1.47108331e+00,\n         9.63559697e+00,  6.73776268e+00, -1.36405454e+00,\n         3.47806748e+00, -4.05808470e+00, -2.90589658e+00,\n         1.63055591e+00,  1.42783955e+00, -1.74658699e+00,\n        -8.33649097e+00, -5.28941096e-01, -5.41990539e+00,\n         2.89103476e+00, -8.68130719e-01, -1.90152197e+00,\n         5.39234231e+00, -3.86860694e+00,  3.20294208e-01,\n        -1.09199147e+00,  1.89135186e+00,  4.25632239e+00,\n        -5.35821776e-01, -4.01543779e+00, -2.83567874e+00,\n        -1.98346807e+00],\n       [ 1.78051208e+00,  1.62338230e+00, -3.42056639e+00,\n        -1.96363038e+00,  3.97797631e-01,  1.22698245e+00,\n        -5.05194241e-01,  2.07501614e+00, -1.36627439e-01,\n         6.69329581e-01, -2.12771513e+00, -7.83287836e+00,\n        -1.31173410e+00, -8.60549907e-01,  2.22778413e+00,\n         2.85562892e+00, -4.92420518e+00, -1.96398838e+00,\n        -2.21537684e+00,  1.88642662e+00,  8.00906629e-02,\n         8.21685549e-01, -8.81515799e-01,  6.69690546e-01,\n        -3.89108334e+00,  2.38790819e+00, -1.84627577e+00,\n         6.97565001e-01,  3.02391722e+00,  1.15121454e+00,\n        -1.93666499e+00,  8.76938915e-01,  2.83014818e+00,\n        -4.63804249e-02,  5.03495017e+00,  1.52375123e+00,\n        -3.57835938e-01, -2.43435910e+00,  4.86665523e+00,\n         2.94161316e+00,  9.70302088e-01, -1.00010561e+00,\n         1.83491044e+00, -1.86969278e+00,  3.94378400e-01,\n        -1.49480602e+00, -2.28611355e+00,  1.07660216e+00,\n        -3.99772814e+00, -3.27857762e+00,  2.47171239e-01,\n         4.33486650e-02,  2.08688435e+00,  1.96299962e+00,\n        -4.99852909e+00, -2.58366840e+00,  4.14353021e+00,\n         2.94046377e-01, -3.05537693e+00, -5.51934871e-01,\n        -3.44341375e+00, -5.48653871e-01,  1.62337590e+00,\n        -4.64506450e+00],\n       [-2.37638052e+00, -1.48110970e+00, -7.45354130e+00,\n        -2.91416682e+00,  6.32100256e-01, -1.34904226e+00,\n        -4.46030853e+00,  2.98936558e+00,  3.58336878e+00,\n         4.85067256e+00,  2.96344864e+00, -1.31188794e+00,\n        -3.06635586e-01, -2.97759767e+00,  4.20964163e+00,\n        -9.69123666e-02, -6.92614984e+00, -1.04830970e+00,\n         4.87516338e+00,  1.80727305e+00,  1.22240725e+00,\n        -4.54849627e-01, -3.75357424e+00,  2.71744375e+00,\n         2.01730329e+00,  2.04007985e+00, -1.24208756e+00,\n        -1.24461164e+00, -1.84083581e+00, -3.76795559e-01,\n        -2.27054733e+00, -5.64268896e-01, -1.69443950e-01,\n         2.65801882e+00, -1.13802492e+00, -2.01345896e+00,\n        -2.36126053e-03,  3.57983443e+00, -1.24276806e+00,\n        -2.66554850e+00, -5.02561770e+00, -5.29133534e+00,\n        -5.08030136e+00,  3.04127198e+00,  4.73535440e+00,\n         2.27853563e+00, -2.93000438e+00,  2.24838192e+00,\n        -1.14293861e+00,  5.11454037e-01,  4.48341292e+00,\n        -1.11169713e+00,  9.92111165e-01, -5.74016625e-02,\n        -2.28668282e+00,  6.96810832e+00, -1.31167374e+00,\n        -3.77726013e+00,  1.05342090e+00, -1.03887329e+01,\n         7.38139629e-01,  3.08922588e+00,  4.34082842e-01,\n        -2.24406043e+00],\n       [-2.30521292e+00, -4.38108160e-01,  1.08205056e+00,\n        -1.88600196e+00, -2.38271237e+00,  1.82223600e+00,\n        -4.55666303e+00,  2.15175473e+00,  1.40549779e+00,\n         2.52657091e+00, -1.11132994e-01,  3.07980323e-01,\n         9.28362691e-01, -4.69144903e-01, -1.19838660e+00,\n        -2.39416246e+00,  3.11500747e-01,  5.17843531e+00,\n         1.04399478e+00,  2.09244870e+00,  1.00123817e+00,\n         1.99289554e-01, -3.42712891e-01,  8.83280385e-01,\n         1.55901778e+00,  7.93235892e-01,  3.58421171e+00,\n        -2.89023925e+00, -4.54937465e+00, -2.96804515e+00,\n        -2.44791197e-01, -4.24528020e+00,  1.97577621e+00,\n         3.04766130e+00,  3.28083821e-02,  4.68259971e+00,\n         4.04754214e+00, -2.51919954e+00, -2.37934123e+00,\n         1.21422606e+00,  1.29506638e+00, -6.26585818e+00,\n         2.80482562e+00,  1.47429647e-01, -7.16981501e+00,\n        -9.59032320e-01,  9.83787635e-01, -3.37324025e+00,\n        -2.13247484e+00,  2.00988169e-01, -2.99650167e-01,\n         1.81529029e+00,  1.27268784e-01,  1.55256638e-01,\n         2.45427191e+00, -1.43546948e+00, -2.34065257e+00,\n        -1.36453496e+00, -1.50194869e+00, -2.39532862e+00,\n        -8.30525211e-01,  1.61523871e+00,  4.77616428e-01,\n        -1.98264925e+00],\n       [-1.53296344e+00,  3.81027593e-01, -1.70430801e+00,\n        -1.85117022e+00, -2.69722817e+00,  1.03836469e+00,\n        -3.34930364e+00, -1.62643182e-01,  2.56291055e+00,\n        -5.11052294e+00,  1.53961879e+00,  7.33665077e+00,\n         2.43819686e+00,  2.92288371e+00,  1.40459980e+00,\n        -1.51802911e+00, -2.23724985e+00, -5.10310262e-01,\n         1.24585549e-01,  2.90431627e+00, -5.20432641e-01,\n         7.44464046e-01, -1.33663100e+00,  7.92913643e-01,\n        -2.79589006e-01, -1.06586167e+00,  5.62517106e+00,\n         2.50595732e+00, -1.67201522e+00,  3.90082624e+00,\n         5.39824625e+00, -5.25725405e+00,  1.79662974e+00,\n        -2.70591936e+00,  7.10879671e-01, -2.02351562e+00,\n        -4.11468200e+00, -4.84558235e+00,  1.23275210e+00,\n        -3.38143457e+00, -2.72584204e+00,  5.35454602e+00,\n        -2.75777319e+00, -2.55323006e+00, -1.47718588e+00,\n        -4.99829444e+00, -4.25126254e+00, -4.42809002e+00,\n         5.77380214e+00, -3.29897155e+00, -8.68015426e-01,\n         2.41649856e+00,  9.40359738e-02, -7.65700806e-01,\n        -3.70376542e+00,  9.36062029e-01, -3.67718385e-01,\n         2.54794148e+00, -1.50883075e+00, -1.82553670e+00,\n         4.64114819e+00, -1.85461755e+00, -5.84867830e-01,\n         2.08797273e-01]])"
     },
     "execution_count": 25,
     "metadata": {},
     "output_type": "execute_result"
    }
   ],
   "source": [
    "gm.means_"
   ],
   "metadata": {
    "collapsed": false
   }
  },
  {
   "cell_type": "code",
   "execution_count": 28,
   "outputs": [
    {
     "data": {
      "text/plain": "array([[ 22.74618572,  -9.93144553, -14.89002921, ...,   3.81566241,\n         -2.91658724,  -0.3809777 ],\n       [ -9.93144553,  10.67328019,   3.21255551, ...,   1.9031549 ,\n         -0.21373915,  -1.40233493],\n       [-14.89002921,   3.21255551,  37.94407034, ..., -10.51175702,\n         -4.76790207,   1.71498224],\n       ...,\n       [  3.81566241,   1.9031549 , -10.51175702, ...,  10.94361122,\n          0.65014497,  -2.60406716],\n       [ -2.91658724,  -0.21373915,  -4.76790207, ...,   0.65014497,\n          9.40825212,   0.6906487 ],\n       [ -0.3809777 ,  -1.40233493,   1.71498224, ...,  -2.60406716,\n          0.6906487 ,   6.7382372 ]])"
     },
     "execution_count": 28,
     "metadata": {},
     "output_type": "execute_result"
    }
   ],
   "source": [
    "gm.covariances_[0]"
   ],
   "metadata": {
    "collapsed": false
   }
  },
  {
   "cell_type": "code",
   "execution_count": 86,
   "outputs": [
    {
     "data": {
      "text/plain": "<matplotlib.image.AxesImage at 0x198a16b1240>"
     },
     "execution_count": 86,
     "metadata": {},
     "output_type": "execute_result"
    },
    {
     "data": {
      "text/plain": "<Figure size 640x480 with 1 Axes>",
      "image/png": "[encoded data removed]"
     },
     "metadata": {},
     "output_type": "display_data"
    }
   ],
   "source": [
    "gmMeanOutput = model.sample(\n",
    "    torch.tensor(np.random.multivariate_normal(gm.means_[0], gm.covariances_[0]), dtype=torch.float32).cuda())\n",
    "plt.imshow(gmMeanOutput.cpu().detach().view(28, 28), cmap='Greys')"
   ],
   "metadata": {
    "collapsed": false
   }
  },
  {
   "cell_type": "code",
   "execution_count": 159,
   "outputs": [
    {
     "data": {
      "text/plain": "<matplotlib.image.AxesImage at 0x198a88e97b0>"
     },
     "execution_count": 159,
     "metadata": {},
     "output_type": "execute_result"
    },
    {
     "data": {
      "text/plain": "<Figure size 640x480 with 1 Axes>",
      "image/png": "[encoded data removed]"
     },
     "metadata": {},
     "output_type": "display_data"
    }
   ],
   "source": [
    "gmMeanOutput = model.sample(\n",
    "    torch.tensor(np.random.multivariate_normal(gm.means_[8], gm.covariances_[8]), dtype=torch.float32).cuda())\n",
    "plt.imshow(gmMeanOutput.cpu().detach().view(28, 28), cmap='Greys')"
   ],
   "metadata": {
    "collapsed": false
   }
  },
  {
   "cell_type": "code",
   "execution_count": 139,
   "outputs": [
    {
     "data": {
      "text/plain": "<matplotlib.image.AxesImage at 0x198a5b91360>"
     },
     "execution_count": 139,
     "metadata": {},
     "output_type": "execute_result"
    },
    {
     "data": {
      "text/plain": "<Figure size 640x480 with 1 Axes>",
      "image/png": "[encoded data removed]"
     },
     "metadata": {},
     "output_type": "display_data"
    }
   ],
   "source": [
    "gmMeanOutput = model.sample(torch.tensor(gm.means_[8], dtype=torch.float32).cuda())\n",
    "plt.imshow(gmMeanOutput.cpu().detach().view(28, 28), cmap='Greys')"
   ],
   "metadata": {
    "collapsed": false
   }
  },
  {
   "cell_type": "markdown",
   "source": [
    "## KLD and L1"
   ],
   "metadata": {
    "collapsed": false
   }
  },
  {
   "cell_type": "code",
   "execution_count": 6,
   "outputs": [],
   "source": [
    "model = LinearVAE(encoder1, decoder1, 128, 64).cuda()\n",
    "optimizer = optim.Adadelta(model.parameters(), lr=1e1)\n",
    "scheduler = ReduceLROnPlateau(optimizer, factor=0.1, patience=5, verbose=False, threshold=1e-3)"
   ],
   "metadata": {
    "collapsed": false
   }
  },
  {
   "cell_type": "code",
   "execution_count": 7,
   "outputs": [],
   "source": [
    "def train(model, train_loader, optimizer, epoch):\n",
    "    model.train()\n",
    "    allLoss = []\n",
    "    allReconLoss = []\n",
    "    with tqdm(train_loader, unit='batch') as tEpoch:\n",
    "        for data, _ in tEpoch:\n",
    "            data = data.to('cuda').view(-1, 28 * 28)\n",
    "            optimizer.zero_grad()\n",
    "            output, mu, log_var = model(data)\n",
    "            reconLoss = L1Loss(output, data)\n",
    "            loss = reconLoss + KLD(mu, log_var)\n",
    "            loss.backward()\n",
    "            optimizer.step()\n",
    "            allLoss.append(loss.item())\n",
    "            allReconLoss.append(reconLoss.item())\n",
    "            tEpoch.set_postfix_str(' Epoch: {} \\tTotal Loss: {:.6f}\\tReconstruction Loss: {:.6f}\\t lr: {:.8f}'.format(\n",
    "                epoch, loss.item(), reconLoss.item(), optimizer.param_groups[0]['lr']))\n",
    "    return allLoss, allReconLoss"
   ],
   "metadata": {
    "collapsed": false
   }
  },
  {
   "cell_type": "code",
   "execution_count": 8,
   "outputs": [
    {
     "name": "stderr",
     "output_type": "stream",
     "text": [
      "100%|██████████| 59/59 [00:05<00:00, 10.26batch/s,  Epoch: 1 \tTotal Loss: 0.125007\tReconstruction Loss: 0.124923\t lr: 10.00000000]\n",
      "100%|██████████| 59/59 [00:04<00:00, 13.39batch/s,  Epoch: 2 \tTotal Loss: 0.124726\tReconstruction Loss: 0.124698\t lr: 10.00000000]\n",
      "100%|██████████| 59/59 [00:04<00:00, 12.73batch/s,  Epoch: 3 \tTotal Loss: 0.123664\tReconstruction Loss: 0.123648\t lr: 10.00000000]\n",
      "100%|██████████| 59/59 [00:04<00:00, 11.85batch/s,  Epoch: 4 \tTotal Loss: 0.125097\tReconstruction Loss: 0.125085\t lr: 10.00000000]\n",
      "100%|██████████| 59/59 [00:04<00:00, 11.93batch/s,  Epoch: 5 \tTotal Loss: 0.126635\tReconstruction Loss: 0.126627\t lr: 10.00000000]\n",
      "100%|██████████| 59/59 [00:04<00:00, 12.65batch/s,  Epoch: 6 \tTotal Loss: 0.122535\tReconstruction Loss: 0.122528\t lr: 10.00000000]\n",
      "100%|██████████| 59/59 [00:04<00:00, 12.25batch/s,  Epoch: 7 \tTotal Loss: 0.124301\tReconstruction Loss: 0.124294\t lr: 10.00000000]\n",
      "100%|██████████| 59/59 [00:05<00:00, 11.76batch/s,  Epoch: 8 \tTotal Loss: 0.121130\tReconstruction Loss: 0.121123\t lr: 10.00000000]\n",
      "100%|██████████| 59/59 [00:04<00:00, 11.83batch/s,  Epoch: 9 \tTotal Loss: 0.126345\tReconstruction Loss: 0.126340\t lr: 10.00000000]\n",
      "100%|██████████| 59/59 [00:04<00:00, 11.86batch/s,  Epoch: 10 \tTotal Loss: 0.125296\tReconstruction Loss: 0.125291\t lr: 10.00000000]\n",
      "100%|██████████| 59/59 [00:05<00:00, 11.79batch/s,  Epoch: 11 \tTotal Loss: 0.123763\tReconstruction Loss: 0.123759\t lr: 10.00000000]\n",
      "100%|██████████| 59/59 [00:04<00:00, 11.99batch/s,  Epoch: 12 \tTotal Loss: 0.126695\tReconstruction Loss: 0.126691\t lr: 10.00000000]\n",
      "100%|██████████| 59/59 [00:04<00:00, 11.95batch/s,  Epoch: 13 \tTotal Loss: 0.125178\tReconstruction Loss: 0.125174\t lr: 1.00000000]\n",
      "100%|██████████| 59/59 [00:04<00:00, 12.00batch/s,  Epoch: 14 \tTotal Loss: 0.123904\tReconstruction Loss: 0.123900\t lr: 1.00000000]\n",
      "100%|██████████| 59/59 [00:04<00:00, 11.83batch/s,  Epoch: 15 \tTotal Loss: 0.122576\tReconstruction Loss: 0.122573\t lr: 1.00000000]\n",
      "100%|██████████| 59/59 [00:05<00:00, 11.73batch/s,  Epoch: 16 \tTotal Loss: 0.124999\tReconstruction Loss: 0.124995\t lr: 1.00000000]\n",
      "100%|██████████| 59/59 [00:04<00:00, 12.08batch/s,  Epoch: 17 \tTotal Loss: 0.125575\tReconstruction Loss: 0.125572\t lr: 1.00000000]\n",
      "100%|██████████| 59/59 [00:04<00:00, 12.09batch/s,  Epoch: 18 \tTotal Loss: 0.124864\tReconstruction Loss: 0.124860\t lr: 1.00000000]\n",
      "100%|██████████| 59/59 [00:04<00:00, 12.36batch/s,  Epoch: 19 \tTotal Loss: 0.121898\tReconstruction Loss: 0.121894\t lr: 0.10000000]\n",
      "100%|██████████| 59/59 [00:04<00:00, 12.05batch/s,  Epoch: 20 \tTotal Loss: 0.124820\tReconstruction Loss: 0.124816\t lr: 0.10000000]\n",
      "100%|██████████| 59/59 [00:05<00:00, 11.72batch/s,  Epoch: 21 \tTotal Loss: 0.124334\tReconstruction Loss: 0.124330\t lr: 0.10000000]\n",
      "100%|██████████| 59/59 [00:04<00:00, 12.45batch/s,  Epoch: 22 \tTotal Loss: 0.125647\tReconstruction Loss: 0.125644\t lr: 0.10000000]\n",
      "100%|██████████| 59/59 [00:04<00:00, 11.85batch/s,  Epoch: 23 \tTotal Loss: 0.129064\tReconstruction Loss: 0.129060\t lr: 0.10000000]\n",
      "100%|██████████| 59/59 [00:04<00:00, 12.49batch/s,  Epoch: 24 \tTotal Loss: 0.126276\tReconstruction Loss: 0.126272\t lr: 0.10000000]\n",
      "100%|██████████| 59/59 [00:04<00:00, 12.25batch/s,  Epoch: 25 \tTotal Loss: 0.123446\tReconstruction Loss: 0.123443\t lr: 0.01000000]\n",
      "100%|██████████| 59/59 [00:04<00:00, 12.47batch/s,  Epoch: 26 \tTotal Loss: 0.123600\tReconstruction Loss: 0.123597\t lr: 0.01000000]\n",
      "100%|██████████| 59/59 [00:05<00:00, 11.26batch/s,  Epoch: 27 \tTotal Loss: 0.126667\tReconstruction Loss: 0.126664\t lr: 0.01000000]\n",
      "100%|██████████| 59/59 [00:04<00:00, 12.53batch/s,  Epoch: 28 \tTotal Loss: 0.124960\tReconstruction Loss: 0.124957\t lr: 0.01000000]\n",
      "100%|██████████| 59/59 [00:04<00:00, 11.92batch/s,  Epoch: 29 \tTotal Loss: 0.124347\tReconstruction Loss: 0.124344\t lr: 0.01000000]\n",
      "100%|██████████| 59/59 [00:04<00:00, 12.47batch/s,  Epoch: 30 \tTotal Loss: 0.124742\tReconstruction Loss: 0.124738\t lr: 0.01000000]\n",
      "100%|██████████| 59/59 [00:04<00:00, 12.21batch/s,  Epoch: 31 \tTotal Loss: 0.124955\tReconstruction Loss: 0.124952\t lr: 0.00100000]\n",
      "100%|██████████| 59/59 [00:04<00:00, 12.11batch/s,  Epoch: 32 \tTotal Loss: 0.127610\tReconstruction Loss: 0.127606\t lr: 0.00100000]\n",
      "100%|██████████| 59/59 [00:05<00:00, 11.65batch/s,  Epoch: 33 \tTotal Loss: 0.124111\tReconstruction Loss: 0.124107\t lr: 0.00100000]\n",
      "100%|██████████| 59/59 [00:04<00:00, 12.67batch/s,  Epoch: 34 \tTotal Loss: 0.122378\tReconstruction Loss: 0.122375\t lr: 0.00100000]\n",
      " 81%|████████▏ | 48/59 [00:03<00:00, 13.48batch/s,  Epoch: 35 \tTotal Loss: 0.125190\tReconstruction Loss: 0.125186\t lr: 0.00100000]\n"
     ]
    },
    {
     "ename": "KeyboardInterrupt",
     "evalue": "",
     "output_type": "error",
     "traceback": [
      "\u001B[1;31m---------------------------------------------------------------------------\u001B[0m",
      "\u001B[1;31mKeyboardInterrupt\u001B[0m                         Traceback (most recent call last)",
      "Cell \u001B[1;32mIn [8], line 2\u001B[0m\n\u001B[0;32m      1\u001B[0m \u001B[38;5;28;01mfor\u001B[39;00m epoch \u001B[38;5;129;01min\u001B[39;00m \u001B[38;5;28mrange\u001B[39m(\u001B[38;5;241m1\u001B[39m, \u001B[38;5;241m201\u001B[39m):\n\u001B[1;32m----> 2\u001B[0m     _, loss \u001B[38;5;241m=\u001B[39m \u001B[43mtrain\u001B[49m\u001B[43m(\u001B[49m\u001B[43mmodel\u001B[49m\u001B[43m,\u001B[49m\u001B[43m \u001B[49m\u001B[43mtrain_loader\u001B[49m\u001B[43m,\u001B[49m\u001B[43m \u001B[49m\u001B[43moptimizer\u001B[49m\u001B[43m,\u001B[49m\u001B[43m \u001B[49m\u001B[43mepoch\u001B[49m\u001B[43m)\u001B[49m\n\u001B[0;32m      3\u001B[0m     scheduler\u001B[38;5;241m.\u001B[39mstep(np\u001B[38;5;241m.\u001B[39mmean(loss))\n",
      "Cell \u001B[1;32mIn [7], line 6\u001B[0m, in \u001B[0;36mtrain\u001B[1;34m(model, train_loader, optimizer, epoch)\u001B[0m\n\u001B[0;32m      4\u001B[0m allReconLoss \u001B[38;5;241m=\u001B[39m []\n\u001B[0;32m      5\u001B[0m \u001B[38;5;28;01mwith\u001B[39;00m tqdm(train_loader, unit\u001B[38;5;241m=\u001B[39m\u001B[38;5;124m'\u001B[39m\u001B[38;5;124mbatch\u001B[39m\u001B[38;5;124m'\u001B[39m) \u001B[38;5;28;01mas\u001B[39;00m tEpoch:\n\u001B[1;32m----> 6\u001B[0m     \u001B[38;5;28;01mfor\u001B[39;00m data, _ \u001B[38;5;129;01min\u001B[39;00m tEpoch:\n\u001B[0;32m      7\u001B[0m         data \u001B[38;5;241m=\u001B[39m data\u001B[38;5;241m.\u001B[39mto(\u001B[38;5;124m'\u001B[39m\u001B[38;5;124mcuda\u001B[39m\u001B[38;5;124m'\u001B[39m)\u001B[38;5;241m.\u001B[39mview(\u001B[38;5;241m-\u001B[39m\u001B[38;5;241m1\u001B[39m, \u001B[38;5;241m28\u001B[39m \u001B[38;5;241m*\u001B[39m \u001B[38;5;241m28\u001B[39m)\n\u001B[0;32m      8\u001B[0m         optimizer\u001B[38;5;241m.\u001B[39mzero_grad()\n",
      "File \u001B[1;32mC:\\Python310\\lib\\site-packages\\tqdm\\std.py:1195\u001B[0m, in \u001B[0;36mtqdm.__iter__\u001B[1;34m(self)\u001B[0m\n\u001B[0;32m   1192\u001B[0m time \u001B[38;5;241m=\u001B[39m \u001B[38;5;28mself\u001B[39m\u001B[38;5;241m.\u001B[39m_time\n\u001B[0;32m   1194\u001B[0m \u001B[38;5;28;01mtry\u001B[39;00m:\n\u001B[1;32m-> 1195\u001B[0m     \u001B[38;5;28;01mfor\u001B[39;00m obj \u001B[38;5;129;01min\u001B[39;00m iterable:\n\u001B[0;32m   1196\u001B[0m         \u001B[38;5;28;01myield\u001B[39;00m obj\n\u001B[0;32m   1197\u001B[0m         \u001B[38;5;66;03m# Update and possibly print the progressbar.\u001B[39;00m\n\u001B[0;32m   1198\u001B[0m         \u001B[38;5;66;03m# Note: does not call self.update(1) for speed optimisation.\u001B[39;00m\n",
      "File \u001B[1;32mC:\\Python310\\lib\\site-packages\\torch\\utils\\data\\dataloader.py:681\u001B[0m, in \u001B[0;36m_BaseDataLoaderIter.__next__\u001B[1;34m(self)\u001B[0m\n\u001B[0;32m    678\u001B[0m \u001B[38;5;28;01mif\u001B[39;00m \u001B[38;5;28mself\u001B[39m\u001B[38;5;241m.\u001B[39m_sampler_iter \u001B[38;5;129;01mis\u001B[39;00m \u001B[38;5;28;01mNone\u001B[39;00m:\n\u001B[0;32m    679\u001B[0m     \u001B[38;5;66;03m# TODO(https://github.com/pytorch/pytorch/issues/76750)\u001B[39;00m\n\u001B[0;32m    680\u001B[0m     \u001B[38;5;28mself\u001B[39m\u001B[38;5;241m.\u001B[39m_reset()  \u001B[38;5;66;03m# type: ignore[call-arg]\u001B[39;00m\n\u001B[1;32m--> 681\u001B[0m data \u001B[38;5;241m=\u001B[39m \u001B[38;5;28;43mself\u001B[39;49m\u001B[38;5;241;43m.\u001B[39;49m\u001B[43m_next_data\u001B[49m\u001B[43m(\u001B[49m\u001B[43m)\u001B[49m\n\u001B[0;32m    682\u001B[0m \u001B[38;5;28mself\u001B[39m\u001B[38;5;241m.\u001B[39m_num_yielded \u001B[38;5;241m+\u001B[39m\u001B[38;5;241m=\u001B[39m \u001B[38;5;241m1\u001B[39m\n\u001B[0;32m    683\u001B[0m \u001B[38;5;28;01mif\u001B[39;00m \u001B[38;5;28mself\u001B[39m\u001B[38;5;241m.\u001B[39m_dataset_kind \u001B[38;5;241m==\u001B[39m _DatasetKind\u001B[38;5;241m.\u001B[39mIterable \u001B[38;5;129;01mand\u001B[39;00m \\\n\u001B[0;32m    684\u001B[0m         \u001B[38;5;28mself\u001B[39m\u001B[38;5;241m.\u001B[39m_IterableDataset_len_called \u001B[38;5;129;01mis\u001B[39;00m \u001B[38;5;129;01mnot\u001B[39;00m \u001B[38;5;28;01mNone\u001B[39;00m \u001B[38;5;129;01mand\u001B[39;00m \\\n\u001B[0;32m    685\u001B[0m         \u001B[38;5;28mself\u001B[39m\u001B[38;5;241m.\u001B[39m_num_yielded \u001B[38;5;241m>\u001B[39m \u001B[38;5;28mself\u001B[39m\u001B[38;5;241m.\u001B[39m_IterableDataset_len_called:\n",
      "File \u001B[1;32mC:\\Python310\\lib\\site-packages\\torch\\utils\\data\\dataloader.py:721\u001B[0m, in \u001B[0;36m_SingleProcessDataLoaderIter._next_data\u001B[1;34m(self)\u001B[0m\n\u001B[0;32m    719\u001B[0m \u001B[38;5;28;01mdef\u001B[39;00m \u001B[38;5;21m_next_data\u001B[39m(\u001B[38;5;28mself\u001B[39m):\n\u001B[0;32m    720\u001B[0m     index \u001B[38;5;241m=\u001B[39m \u001B[38;5;28mself\u001B[39m\u001B[38;5;241m.\u001B[39m_next_index()  \u001B[38;5;66;03m# may raise StopIteration\u001B[39;00m\n\u001B[1;32m--> 721\u001B[0m     data \u001B[38;5;241m=\u001B[39m \u001B[38;5;28;43mself\u001B[39;49m\u001B[38;5;241;43m.\u001B[39;49m\u001B[43m_dataset_fetcher\u001B[49m\u001B[38;5;241;43m.\u001B[39;49m\u001B[43mfetch\u001B[49m\u001B[43m(\u001B[49m\u001B[43mindex\u001B[49m\u001B[43m)\u001B[49m  \u001B[38;5;66;03m# may raise StopIteration\u001B[39;00m\n\u001B[0;32m    722\u001B[0m     \u001B[38;5;28;01mif\u001B[39;00m \u001B[38;5;28mself\u001B[39m\u001B[38;5;241m.\u001B[39m_pin_memory:\n\u001B[0;32m    723\u001B[0m         data \u001B[38;5;241m=\u001B[39m _utils\u001B[38;5;241m.\u001B[39mpin_memory\u001B[38;5;241m.\u001B[39mpin_memory(data, \u001B[38;5;28mself\u001B[39m\u001B[38;5;241m.\u001B[39m_pin_memory_device)\n",
      "File \u001B[1;32mC:\\Python310\\lib\\site-packages\\torch\\utils\\data\\_utils\\fetch.py:49\u001B[0m, in \u001B[0;36m_MapDatasetFetcher.fetch\u001B[1;34m(self, possibly_batched_index)\u001B[0m\n\u001B[0;32m     47\u001B[0m \u001B[38;5;28;01mdef\u001B[39;00m \u001B[38;5;21mfetch\u001B[39m(\u001B[38;5;28mself\u001B[39m, possibly_batched_index):\n\u001B[0;32m     48\u001B[0m     \u001B[38;5;28;01mif\u001B[39;00m \u001B[38;5;28mself\u001B[39m\u001B[38;5;241m.\u001B[39mauto_collation:\n\u001B[1;32m---> 49\u001B[0m         data \u001B[38;5;241m=\u001B[39m [\u001B[38;5;28mself\u001B[39m\u001B[38;5;241m.\u001B[39mdataset[idx] \u001B[38;5;28;01mfor\u001B[39;00m idx \u001B[38;5;129;01min\u001B[39;00m possibly_batched_index]\n\u001B[0;32m     50\u001B[0m     \u001B[38;5;28;01melse\u001B[39;00m:\n\u001B[0;32m     51\u001B[0m         data \u001B[38;5;241m=\u001B[39m \u001B[38;5;28mself\u001B[39m\u001B[38;5;241m.\u001B[39mdataset[possibly_batched_index]\n",
      "File \u001B[1;32mC:\\Python310\\lib\\site-packages\\torch\\utils\\data\\_utils\\fetch.py:49\u001B[0m, in \u001B[0;36m<listcomp>\u001B[1;34m(.0)\u001B[0m\n\u001B[0;32m     47\u001B[0m \u001B[38;5;28;01mdef\u001B[39;00m \u001B[38;5;21mfetch\u001B[39m(\u001B[38;5;28mself\u001B[39m, possibly_batched_index):\n\u001B[0;32m     48\u001B[0m     \u001B[38;5;28;01mif\u001B[39;00m \u001B[38;5;28mself\u001B[39m\u001B[38;5;241m.\u001B[39mauto_collation:\n\u001B[1;32m---> 49\u001B[0m         data \u001B[38;5;241m=\u001B[39m [\u001B[38;5;28;43mself\u001B[39;49m\u001B[38;5;241;43m.\u001B[39;49m\u001B[43mdataset\u001B[49m\u001B[43m[\u001B[49m\u001B[43midx\u001B[49m\u001B[43m]\u001B[49m \u001B[38;5;28;01mfor\u001B[39;00m idx \u001B[38;5;129;01min\u001B[39;00m possibly_batched_index]\n\u001B[0;32m     50\u001B[0m     \u001B[38;5;28;01melse\u001B[39;00m:\n\u001B[0;32m     51\u001B[0m         data \u001B[38;5;241m=\u001B[39m \u001B[38;5;28mself\u001B[39m\u001B[38;5;241m.\u001B[39mdataset[possibly_batched_index]\n",
      "File \u001B[1;32mC:\\Python310\\lib\\site-packages\\torchvision\\datasets\\mnist.py:145\u001B[0m, in \u001B[0;36mMNIST.__getitem__\u001B[1;34m(self, index)\u001B[0m\n\u001B[0;32m    142\u001B[0m img \u001B[38;5;241m=\u001B[39m Image\u001B[38;5;241m.\u001B[39mfromarray(img\u001B[38;5;241m.\u001B[39mnumpy(), mode\u001B[38;5;241m=\u001B[39m\u001B[38;5;124m\"\u001B[39m\u001B[38;5;124mL\u001B[39m\u001B[38;5;124m\"\u001B[39m)\n\u001B[0;32m    144\u001B[0m \u001B[38;5;28;01mif\u001B[39;00m \u001B[38;5;28mself\u001B[39m\u001B[38;5;241m.\u001B[39mtransform \u001B[38;5;129;01mis\u001B[39;00m \u001B[38;5;129;01mnot\u001B[39;00m \u001B[38;5;28;01mNone\u001B[39;00m:\n\u001B[1;32m--> 145\u001B[0m     img \u001B[38;5;241m=\u001B[39m \u001B[38;5;28;43mself\u001B[39;49m\u001B[38;5;241;43m.\u001B[39;49m\u001B[43mtransform\u001B[49m\u001B[43m(\u001B[49m\u001B[43mimg\u001B[49m\u001B[43m)\u001B[49m\n\u001B[0;32m    147\u001B[0m \u001B[38;5;28;01mif\u001B[39;00m \u001B[38;5;28mself\u001B[39m\u001B[38;5;241m.\u001B[39mtarget_transform \u001B[38;5;129;01mis\u001B[39;00m \u001B[38;5;129;01mnot\u001B[39;00m \u001B[38;5;28;01mNone\u001B[39;00m:\n\u001B[0;32m    148\u001B[0m     target \u001B[38;5;241m=\u001B[39m \u001B[38;5;28mself\u001B[39m\u001B[38;5;241m.\u001B[39mtarget_transform(target)\n",
      "File \u001B[1;32mC:\\Python310\\lib\\site-packages\\torchvision\\transforms\\transforms.py:94\u001B[0m, in \u001B[0;36mCompose.__call__\u001B[1;34m(self, img)\u001B[0m\n\u001B[0;32m     92\u001B[0m \u001B[38;5;28;01mdef\u001B[39;00m \u001B[38;5;21m__call__\u001B[39m(\u001B[38;5;28mself\u001B[39m, img):\n\u001B[0;32m     93\u001B[0m     \u001B[38;5;28;01mfor\u001B[39;00m t \u001B[38;5;129;01min\u001B[39;00m \u001B[38;5;28mself\u001B[39m\u001B[38;5;241m.\u001B[39mtransforms:\n\u001B[1;32m---> 94\u001B[0m         img \u001B[38;5;241m=\u001B[39m \u001B[43mt\u001B[49m\u001B[43m(\u001B[49m\u001B[43mimg\u001B[49m\u001B[43m)\u001B[49m\n\u001B[0;32m     95\u001B[0m     \u001B[38;5;28;01mreturn\u001B[39;00m img\n",
      "File \u001B[1;32mC:\\Python310\\lib\\site-packages\\torchvision\\transforms\\transforms.py:134\u001B[0m, in \u001B[0;36mToTensor.__call__\u001B[1;34m(self, pic)\u001B[0m\n\u001B[0;32m    126\u001B[0m \u001B[38;5;28;01mdef\u001B[39;00m \u001B[38;5;21m__call__\u001B[39m(\u001B[38;5;28mself\u001B[39m, pic):\n\u001B[0;32m    127\u001B[0m     \u001B[38;5;124;03m\"\"\"\u001B[39;00m\n\u001B[0;32m    128\u001B[0m \u001B[38;5;124;03m    Args:\u001B[39;00m\n\u001B[0;32m    129\u001B[0m \u001B[38;5;124;03m        pic (PIL Image or numpy.ndarray): Image to be converted to tensor.\u001B[39;00m\n\u001B[1;32m   (...)\u001B[0m\n\u001B[0;32m    132\u001B[0m \u001B[38;5;124;03m        Tensor: Converted image.\u001B[39;00m\n\u001B[0;32m    133\u001B[0m \u001B[38;5;124;03m    \"\"\"\u001B[39;00m\n\u001B[1;32m--> 134\u001B[0m     \u001B[38;5;28;01mreturn\u001B[39;00m \u001B[43mF\u001B[49m\u001B[38;5;241;43m.\u001B[39;49m\u001B[43mto_tensor\u001B[49m\u001B[43m(\u001B[49m\u001B[43mpic\u001B[49m\u001B[43m)\u001B[49m\n",
      "File \u001B[1;32mC:\\Python310\\lib\\site-packages\\torchvision\\transforms\\functional.py:168\u001B[0m, in \u001B[0;36mto_tensor\u001B[1;34m(pic)\u001B[0m\n\u001B[0;32m    166\u001B[0m \u001B[38;5;28;01mif\u001B[39;00m pic\u001B[38;5;241m.\u001B[39mmode \u001B[38;5;241m==\u001B[39m \u001B[38;5;124m\"\u001B[39m\u001B[38;5;124m1\u001B[39m\u001B[38;5;124m\"\u001B[39m:\n\u001B[0;32m    167\u001B[0m     img \u001B[38;5;241m=\u001B[39m \u001B[38;5;241m255\u001B[39m \u001B[38;5;241m*\u001B[39m img\n\u001B[1;32m--> 168\u001B[0m img \u001B[38;5;241m=\u001B[39m \u001B[43mimg\u001B[49m\u001B[38;5;241;43m.\u001B[39;49m\u001B[43mview\u001B[49m\u001B[43m(\u001B[49m\u001B[43mpic\u001B[49m\u001B[38;5;241;43m.\u001B[39;49m\u001B[43msize\u001B[49m\u001B[43m[\u001B[49m\u001B[38;5;241;43m1\u001B[39;49m\u001B[43m]\u001B[49m\u001B[43m,\u001B[49m\u001B[43m \u001B[49m\u001B[43mpic\u001B[49m\u001B[38;5;241;43m.\u001B[39;49m\u001B[43msize\u001B[49m\u001B[43m[\u001B[49m\u001B[38;5;241;43m0\u001B[39;49m\u001B[43m]\u001B[49m\u001B[43m,\u001B[49m\u001B[43m \u001B[49m\u001B[38;5;28;43mlen\u001B[39;49m\u001B[43m(\u001B[49m\u001B[43mpic\u001B[49m\u001B[38;5;241;43m.\u001B[39;49m\u001B[43mgetbands\u001B[49m\u001B[43m(\u001B[49m\u001B[43m)\u001B[49m\u001B[43m)\u001B[49m\u001B[43m)\u001B[49m\n\u001B[0;32m    169\u001B[0m \u001B[38;5;66;03m# put it from HWC to CHW format\u001B[39;00m\n\u001B[0;32m    170\u001B[0m img \u001B[38;5;241m=\u001B[39m img\u001B[38;5;241m.\u001B[39mpermute((\u001B[38;5;241m2\u001B[39m, \u001B[38;5;241m0\u001B[39m, \u001B[38;5;241m1\u001B[39m))\u001B[38;5;241m.\u001B[39mcontiguous()\n",
      "\u001B[1;31mKeyboardInterrupt\u001B[0m: "
     ]
    }
   ],
   "source": [
    "for epoch in range(1, 201):\n",
    "    _, loss = train(model, train_loader, optimizer, epoch)\n",
    "    scheduler.step(np.mean(loss))"
   ],
   "metadata": {
    "collapsed": false
   }
  },
  {
   "cell_type": "code",
   "execution_count": 9,
   "outputs": [
    {
     "data": {
      "text/plain": "<matplotlib.image.AxesImage at 0x249702dc6a0>"
     },
     "execution_count": 9,
     "metadata": {},
     "output_type": "execute_result"
    },
    {
     "data": {
      "text/plain": "<Figure size 640x480 with 1 Axes>",
      "image/png": "[encoded data removed]"
     },
     "metadata": {},
     "output_type": "display_data"
    }
   ],
   "source": [
    "z = torch.normal(0, 1, size=(1, 64)).cuda()\n",
    "plt.imshow(model.sample(z).cpu().detach().view(28, 28), cmap='Greys')"
   ],
   "metadata": {
    "collapsed": false
   }
  },
  {
   "cell_type": "code",
   "execution_count": 10,
   "outputs": [],
   "source": [
    "img0 = next(iter(train_loader))[0][0]"
   ],
   "metadata": {
    "collapsed": false
   }
  },
  {
   "cell_type": "code",
   "execution_count": 11,
   "outputs": [
    {
     "data": {
      "text/plain": "<matplotlib.image.AxesImage at 0x249734c4100>"
     },
     "execution_count": 11,
     "metadata": {},
     "output_type": "execute_result"
    },
    {
     "data": {
      "text/plain": "<Figure size 640x480 with 1 Axes>",
      "image/png": "[encoded data removed]"
     },
     "metadata": {},
     "output_type": "display_data"
    }
   ],
   "source": [
    "plt.imshow(img0[0], cmap='Greys')"
   ],
   "metadata": {
    "collapsed": false
   }
  },
  {
   "cell_type": "code",
   "execution_count": 12,
   "outputs": [
    {
     "data": {
      "text/plain": "<matplotlib.image.AxesImage at 0x2497352ceb0>"
     },
     "execution_count": 12,
     "metadata": {},
     "output_type": "execute_result"
    },
    {
     "data": {
      "text/plain": "<Figure size 640x480 with 1 Axes>",
      "image/png": "[encoded data removed]"
     },
     "metadata": {},
     "output_type": "display_data"
    }
   ],
   "source": [
    "output, _, _ = model(img0.view(-1, 28 * 28).cuda())\n",
    "plt.imshow(output.cpu().detach().view(28, 28), cmap='Greys')"
   ],
   "metadata": {
    "collapsed": false
   }
  },
  {
   "cell_type": "code",
   "execution_count": null,
   "outputs": [],
   "source": [],
   "metadata": {
    "collapsed": false
   }
  }
 ],
 "metadata": {
  "kernelspec": {
   "display_name": "Python 3",
   "language": "python",
   "name": "python3"
  },
  "language_info": {
   "codemirror_mode": {
    "name": "ipython",
    "version": 2
   },
   "file_extension": ".py",
   "mimetype": "text/x-python",
   "name": "python",
   "nbconvert_exporter": "python",
   "pygments_lexer": "ipython2",
   "version": "2.7.6"
  }
 },
 "nbformat": 4,
 "nbformat_minor": 0
}
