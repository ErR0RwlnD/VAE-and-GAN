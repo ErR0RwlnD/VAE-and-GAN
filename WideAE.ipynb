{
 "cells": [
  {
   "cell_type": "code",
   "execution_count": 1,
   "metadata": {
    "collapsed": true
   },
   "outputs": [],
   "source": [
    "import matplotlib.pyplot as plt\n",
    "import numpy as np\n",
    "import torch\n",
    "from torch import nn\n",
    "from torch import optim\n",
    "from torch.optim.lr_scheduler import ReduceLROnPlateau\n",
    "from torchvision import datasets, transforms\n",
    "from tqdm import tqdm\n",
    "\n",
    "from src.VAE import WideAE"
   ]
  },
  {
   "cell_type": "code",
   "execution_count": 2,
   "outputs": [],
   "source": [
    "def KLD(mu: torch.Tensor, log_var: torch.Tensor):\n",
    "    return -0.5 * torch.mean(1 + log_var - mu.pow(2) - log_var.exp())\n",
    "\n",
    "\n",
    "def BCE(recon: torch.Tensor, X: torch.Tensor):\n",
    "    return nn.functional.binary_cross_entropy(recon, X, reduction='mean')\n",
    "\n",
    "\n",
    "def L1Loss(recon: torch.Tensor, X: torch.Tensor):\n",
    "    return nn.functional.l1_loss(recon, X, reduction='mean')\n",
    "\n",
    "\n",
    "def L2Loss(recon: torch.Tensor, X: torch.Tensor):\n",
    "    return nn.functional.mse_loss(recon, X, reduction='mean')"
   ],
   "metadata": {
    "collapsed": false
   }
  },
  {
   "cell_type": "code",
   "execution_count": 3,
   "outputs": [],
   "source": [
    "transform = transforms.Compose([\n",
    "    transforms.ToTensor()\n",
    "])\n",
    "dataset1 = datasets.MNIST('../data', train=True, download=True,\n",
    "                          transform=transform)\n",
    "dataset2 = datasets.MNIST('../data', train=False,\n",
    "                          transform=transform)\n",
    "train_loader = torch.utils.data.DataLoader(dataset1, batch_size=1024, shuffle=True)\n",
    "test_loader = torch.utils.data.DataLoader(dataset2, batch_size=10000)"
   ],
   "metadata": {
    "collapsed": false
   }
  },
  {
   "cell_type": "markdown",
   "source": [
    "## WideAE"
   ],
   "metadata": {
    "collapsed": false
   }
  },
  {
   "cell_type": "code",
   "execution_count": 6,
   "outputs": [],
   "source": [
    "encoderWide = nn.Sequential(nn.Linear(28 * 28, 256),\n",
    "                            nn.ReLU(),\n",
    "                            nn.Linear(256, 128),\n",
    "                            nn.ReLU())\n",
    "decoderWide = nn.Sequential(nn.Linear(128, 128),\n",
    "                            nn.ReLU(),\n",
    "                            nn.Linear(128, 256),\n",
    "                            nn.ReLU(),\n",
    "                            nn.Linear(256, 28 * 28),\n",
    "                            nn.Sigmoid())\n",
    "\n",
    "model = WideAE(encoderWide, decoderWide, 128, 16, 128).cuda()\n",
    "optimizer = optim.Adam(model.parameters(), lr=1e1)\n",
    "scheduler = ReduceLROnPlateau(optimizer, factor=0.1, patience=5, verbose=False, threshold=1e-3)"
   ],
   "metadata": {
    "collapsed": false
   }
  },
  {
   "cell_type": "code",
   "execution_count": 7,
   "outputs": [],
   "source": [
    "def train(model, train_loader, optimizer, epoch):\n",
    "    model.train()\n",
    "    allLoss = []\n",
    "    with tqdm(train_loader, unit='batch') as tEpoch:\n",
    "        for data, _ in tEpoch:\n",
    "            data = data.to('cuda').view(-1, 28 * 28)\n",
    "            optimizer.zero_grad()\n",
    "            output = model(data)\n",
    "            loss = BCE(output, data)\n",
    "            loss.backward()\n",
    "            optimizer.step()\n",
    "            allLoss.append(loss.item())\n",
    "            tEpoch.set_postfix_str(' Epoch: {} \\tLoss: {:.6f}\\t lr: {:.8f}'.format(\n",
    "                epoch, loss.item(), optimizer.param_groups[0]['lr']))\n",
    "    return allLoss\n",
    "\n",
    "\n",
    "def test(model, train_loader, epoch):\n",
    "    model.eval()\n",
    "    allLoss = []\n",
    "    with tqdm(train_loader, unit='batch') as tEpoch:\n",
    "        for data, _ in tEpoch:\n",
    "            data = data.to('cuda').view(-1, 28 * 28)\n",
    "            output = model(data)\n",
    "            loss = BCE(output, data)\n",
    "            allLoss.append(loss.item())\n",
    "            tEpoch.set_postfix_str(' Epoch: {} \\tTest loss: {:.6f}'.format(\n",
    "                epoch, loss.item()))\n",
    "    return allLoss"
   ],
   "metadata": {
    "collapsed": false
   }
  },
  {
   "cell_type": "code",
   "execution_count": 8,
   "outputs": [
    {
     "name": "stderr",
     "output_type": "stream",
     "text": [
      "100%|██████████| 59/59 [00:05<00:00, 11.21batch/s,  Epoch: 1 \tLoss: 0.267375\t lr: 10.00000000]\n",
      "100%|██████████| 1/1 [00:00<00:00,  1.24batch/s,  Epoch: 1 \tTest loss: 0.266929]\n",
      "100%|██████████| 59/59 [00:05<00:00, 11.45batch/s,  Epoch: 2 \tLoss: 0.251162\t lr: 10.00000000]\n",
      "100%|██████████| 1/1 [00:00<00:00,  1.38batch/s,  Epoch: 2 \tTest loss: 0.251768]\n",
      "100%|██████████| 59/59 [00:05<00:00, 11.29batch/s,  Epoch: 3 \tLoss: 0.243340\t lr: 10.00000000]\n",
      "100%|██████████| 1/1 [00:00<00:00,  1.33batch/s,  Epoch: 3 \tTest loss: 0.241807]\n",
      "100%|██████████| 59/59 [00:05<00:00, 11.68batch/s,  Epoch: 4 \tLoss: 0.243821\t lr: 10.00000000]\n",
      "100%|██████████| 1/1 [00:00<00:00,  1.43batch/s,  Epoch: 4 \tTest loss: 0.240453]\n",
      "100%|██████████| 59/59 [00:04<00:00, 12.53batch/s,  Epoch: 5 \tLoss: 0.240211\t lr: 10.00000000]\n",
      "100%|██████████| 1/1 [00:00<00:00,  1.35batch/s,  Epoch: 5 \tTest loss: 0.245781]\n",
      "100%|██████████| 59/59 [00:04<00:00, 12.59batch/s,  Epoch: 6 \tLoss: 0.242517\t lr: 10.00000000]\n",
      "100%|██████████| 1/1 [00:00<00:00,  1.11batch/s,  Epoch: 6 \tTest loss: 0.239856]\n",
      "100%|██████████| 59/59 [00:04<00:00, 13.22batch/s,  Epoch: 7 \tLoss: 0.233270\t lr: 10.00000000]\n",
      "100%|██████████| 1/1 [00:00<00:00,  1.34batch/s,  Epoch: 7 \tTest loss: 0.240416]\n",
      "100%|██████████| 59/59 [00:04<00:00, 13.03batch/s,  Epoch: 8 \tLoss: 0.230743\t lr: 10.00000000]\n",
      "100%|██████████| 1/1 [00:01<00:00,  1.03s/batch,  Epoch: 8 \tTest loss: 0.234151]\n",
      "100%|██████████| 59/59 [00:04<00:00, 13.11batch/s,  Epoch: 9 \tLoss: 0.225556\t lr: 10.00000000]\n",
      "100%|██████████| 1/1 [00:00<00:00,  1.18batch/s,  Epoch: 9 \tTest loss: 0.228942]\n",
      "100%|██████████| 59/59 [00:04<00:00, 12.58batch/s,  Epoch: 10 \tLoss: 0.234692\t lr: 10.00000000]\n",
      "100%|██████████| 1/1 [00:00<00:00,  1.16batch/s,  Epoch: 10 \tTest loss: 0.223031]\n",
      "100%|██████████| 59/59 [00:04<00:00, 12.39batch/s,  Epoch: 11 \tLoss: 0.217059\t lr: 10.00000000]\n",
      "100%|██████████| 1/1 [00:01<00:00,  1.02s/batch,  Epoch: 11 \tTest loss: 0.220661]\n",
      "100%|██████████| 59/59 [00:04<00:00, 11.97batch/s,  Epoch: 12 \tLoss: 0.219741\t lr: 10.00000000]\n",
      "100%|██████████| 1/1 [00:00<00:00,  1.18batch/s,  Epoch: 12 \tTest loss: 0.213545]\n",
      "100%|██████████| 59/59 [00:04<00:00, 12.43batch/s,  Epoch: 13 \tLoss: 0.210890\t lr: 10.00000000]\n",
      "100%|██████████| 1/1 [00:00<00:00,  1.05batch/s,  Epoch: 13 \tTest loss: 0.212400]\n",
      "100%|██████████| 59/59 [00:04<00:00, 12.70batch/s,  Epoch: 14 \tLoss: 0.208521\t lr: 10.00000000]\n",
      "100%|██████████| 1/1 [00:00<00:00,  1.43batch/s,  Epoch: 14 \tTest loss: 0.212112]\n",
      "100%|██████████| 59/59 [00:04<00:00, 12.02batch/s,  Epoch: 15 \tLoss: 0.202943\t lr: 10.00000000]\n",
      "100%|██████████| 1/1 [00:00<00:00,  1.41batch/s,  Epoch: 15 \tTest loss: 0.209517]\n",
      "100%|██████████| 59/59 [00:05<00:00, 11.73batch/s,  Epoch: 16 \tLoss: 0.212059\t lr: 10.00000000]\n",
      "100%|██████████| 1/1 [00:00<00:00,  1.34batch/s,  Epoch: 16 \tTest loss: 0.203180]\n",
      "100%|██████████| 59/59 [00:05<00:00, 11.37batch/s,  Epoch: 17 \tLoss: 0.206494\t lr: 10.00000000]\n",
      "100%|██████████| 1/1 [00:00<00:00,  1.34batch/s,  Epoch: 17 \tTest loss: 0.201526]\n",
      "100%|██████████| 59/59 [00:04<00:00, 12.00batch/s,  Epoch: 18 \tLoss: 0.199758\t lr: 10.00000000]\n",
      "100%|██████████| 1/1 [00:00<00:00,  1.29batch/s,  Epoch: 18 \tTest loss: 0.195695]\n",
      "100%|██████████| 59/59 [00:04<00:00, 12.38batch/s,  Epoch: 19 \tLoss: 0.195943\t lr: 10.00000000]\n",
      "100%|██████████| 1/1 [00:00<00:00,  1.28batch/s,  Epoch: 19 \tTest loss: 0.194211]\n",
      "100%|██████████| 59/59 [00:05<00:00, 11.41batch/s,  Epoch: 20 \tLoss: 0.199512\t lr: 10.00000000]\n",
      "100%|██████████| 1/1 [00:00<00:00,  1.01batch/s,  Epoch: 20 \tTest loss: 0.192183]\n",
      "100%|██████████| 59/59 [00:04<00:00, 11.93batch/s,  Epoch: 21 \tLoss: 0.191425\t lr: 10.00000000]\n",
      "100%|██████████| 1/1 [00:00<00:00,  1.09batch/s,  Epoch: 21 \tTest loss: 0.191713]\n",
      "100%|██████████| 59/59 [00:04<00:00, 12.22batch/s,  Epoch: 22 \tLoss: 0.178911\t lr: 10.00000000]\n",
      "100%|██████████| 1/1 [00:00<00:00,  1.04batch/s,  Epoch: 22 \tTest loss: 0.184742]\n",
      "100%|██████████| 59/59 [00:05<00:00, 11.72batch/s,  Epoch: 23 \tLoss: 0.186849\t lr: 10.00000000]\n",
      "100%|██████████| 1/1 [00:00<00:00,  1.26batch/s,  Epoch: 23 \tTest loss: 0.191073]\n",
      "100%|██████████| 59/59 [00:05<00:00, 11.74batch/s,  Epoch: 24 \tLoss: 0.179589\t lr: 10.00000000]\n",
      "100%|██████████| 1/1 [00:00<00:00,  1.25batch/s,  Epoch: 24 \tTest loss: 0.186362]\n",
      "100%|██████████| 59/59 [00:04<00:00, 11.81batch/s,  Epoch: 25 \tLoss: 0.182925\t lr: 10.00000000]\n",
      "100%|██████████| 1/1 [00:00<00:00,  1.25batch/s,  Epoch: 25 \tTest loss: 0.184806]\n",
      "100%|██████████| 59/59 [00:05<00:00, 11.54batch/s,  Epoch: 26 \tLoss: 0.181076\t lr: 10.00000000]\n",
      "100%|██████████| 1/1 [00:01<00:00,  1.02s/batch,  Epoch: 26 \tTest loss: 0.180464]\n",
      "100%|██████████| 59/59 [00:04<00:00, 12.24batch/s,  Epoch: 27 \tLoss: 0.186372\t lr: 10.00000000]\n",
      "100%|██████████| 1/1 [00:00<00:00,  1.29batch/s,  Epoch: 27 \tTest loss: 0.181945]\n",
      "100%|██████████| 59/59 [00:05<00:00, 11.69batch/s,  Epoch: 28 \tLoss: 0.180345\t lr: 10.00000000]\n",
      "100%|██████████| 1/1 [00:00<00:00,  1.08batch/s,  Epoch: 28 \tTest loss: 0.181412]\n",
      "100%|██████████| 59/59 [00:04<00:00, 12.08batch/s,  Epoch: 29 \tLoss: 0.180537\t lr: 10.00000000]\n",
      "100%|██████████| 1/1 [00:00<00:00,  1.33batch/s,  Epoch: 29 \tTest loss: 0.179624]\n",
      "100%|██████████| 59/59 [00:04<00:00, 12.20batch/s,  Epoch: 30 \tLoss: 0.173406\t lr: 10.00000000]\n",
      "100%|██████████| 1/1 [00:00<00:00,  1.22batch/s,  Epoch: 30 \tTest loss: 0.180453]\n",
      "100%|██████████| 59/59 [00:04<00:00, 13.04batch/s,  Epoch: 31 \tLoss: 0.171634\t lr: 10.00000000]\n",
      "100%|██████████| 1/1 [00:01<00:00,  1.13s/batch,  Epoch: 31 \tTest loss: 0.175762]\n",
      "100%|██████████| 59/59 [00:04<00:00, 11.91batch/s,  Epoch: 32 \tLoss: 0.174082\t lr: 10.00000000]\n",
      "100%|██████████| 1/1 [00:01<00:00,  1.01s/batch,  Epoch: 32 \tTest loss: 0.174081]\n",
      "100%|██████████| 59/59 [00:04<00:00, 12.34batch/s,  Epoch: 33 \tLoss: 0.176499\t lr: 10.00000000]\n",
      "100%|██████████| 1/1 [00:00<00:00,  1.13batch/s,  Epoch: 33 \tTest loss: 0.175920]\n",
      "100%|██████████| 59/59 [00:04<00:00, 11.99batch/s,  Epoch: 34 \tLoss: 0.171974\t lr: 10.00000000]\n",
      "100%|██████████| 1/1 [00:00<00:00,  1.43batch/s,  Epoch: 34 \tTest loss: 0.175218]\n",
      "100%|██████████| 59/59 [00:04<00:00, 11.88batch/s,  Epoch: 35 \tLoss: 0.175517\t lr: 10.00000000]\n",
      "100%|██████████| 1/1 [00:00<00:00,  1.35batch/s,  Epoch: 35 \tTest loss: 0.169664]\n",
      "100%|██████████| 59/59 [00:04<00:00, 12.52batch/s,  Epoch: 36 \tLoss: 0.170666\t lr: 10.00000000]\n",
      "100%|██████████| 1/1 [00:00<00:00,  1.29batch/s,  Epoch: 36 \tTest loss: 0.171198]\n",
      "100%|██████████| 59/59 [00:05<00:00, 11.42batch/s,  Epoch: 37 \tLoss: 0.171471\t lr: 10.00000000]\n",
      "100%|██████████| 1/1 [00:00<00:00,  1.01batch/s,  Epoch: 37 \tTest loss: 0.175099]\n",
      "100%|██████████| 59/59 [00:04<00:00, 12.08batch/s,  Epoch: 38 \tLoss: 0.165015\t lr: 10.00000000]\n",
      "100%|██████████| 1/1 [00:00<00:00,  1.15batch/s,  Epoch: 38 \tTest loss: 0.174007]\n",
      "100%|██████████| 59/59 [00:04<00:00, 12.45batch/s,  Epoch: 39 \tLoss: 0.177867\t lr: 10.00000000]\n",
      "100%|██████████| 1/1 [00:00<00:00,  1.12batch/s,  Epoch: 39 \tTest loss: 0.174893]\n",
      "100%|██████████| 59/59 [00:05<00:00, 11.73batch/s,  Epoch: 40 \tLoss: 0.170707\t lr: 10.00000000]\n",
      "100%|██████████| 1/1 [00:00<00:00,  1.37batch/s,  Epoch: 40 \tTest loss: 0.171892]\n",
      "100%|██████████| 59/59 [00:05<00:00, 11.52batch/s,  Epoch: 41 \tLoss: 0.169630\t lr: 10.00000000]\n",
      "100%|██████████| 1/1 [00:00<00:00,  1.34batch/s,  Epoch: 41 \tTest loss: 0.163614]\n",
      "100%|██████████| 59/59 [00:04<00:00, 12.44batch/s,  Epoch: 42 \tLoss: 0.167290\t lr: 10.00000000]\n",
      "100%|██████████| 1/1 [00:00<00:00,  1.37batch/s,  Epoch: 42 \tTest loss: 0.168277]\n",
      "100%|██████████| 59/59 [00:04<00:00, 12.20batch/s,  Epoch: 43 \tLoss: 0.165421\t lr: 10.00000000]\n",
      "100%|██████████| 1/1 [00:00<00:00,  1.36batch/s,  Epoch: 43 \tTest loss: 0.165002]\n",
      "100%|██████████| 59/59 [00:04<00:00, 11.91batch/s,  Epoch: 44 \tLoss: 0.174066\t lr: 10.00000000]\n",
      "100%|██████████| 1/1 [00:00<00:00,  1.31batch/s,  Epoch: 44 \tTest loss: 0.169594]\n",
      "100%|██████████| 59/59 [00:04<00:00, 11.95batch/s,  Epoch: 45 \tLoss: 0.170212\t lr: 10.00000000]\n",
      "100%|██████████| 1/1 [00:00<00:00,  1.05batch/s,  Epoch: 45 \tTest loss: 0.165690]\n",
      "100%|██████████| 59/59 [00:04<00:00, 12.18batch/s,  Epoch: 46 \tLoss: 0.179465\t lr: 10.00000000]\n",
      "100%|██████████| 1/1 [00:00<00:00,  1.07batch/s,  Epoch: 46 \tTest loss: 0.171574]\n",
      "100%|██████████| 59/59 [00:04<00:00, 12.40batch/s,  Epoch: 47 \tLoss: 0.173761\t lr: 10.00000000]\n",
      "100%|██████████| 1/1 [00:00<00:00,  1.08batch/s,  Epoch: 47 \tTest loss: 0.169847]\n",
      "100%|██████████| 59/59 [00:04<00:00, 11.94batch/s,  Epoch: 48 \tLoss: 0.162507\t lr: 1.00000000]\n",
      "100%|██████████| 1/1 [00:00<00:00,  1.37batch/s,  Epoch: 48 \tTest loss: 0.161801]\n",
      "100%|██████████| 59/59 [00:04<00:00, 12.84batch/s,  Epoch: 49 \tLoss: 0.159871\t lr: 1.00000000]\n",
      "100%|██████████| 1/1 [00:00<00:00,  1.39batch/s,  Epoch: 49 \tTest loss: 0.160284]\n",
      "100%|██████████| 59/59 [00:04<00:00, 12.73batch/s,  Epoch: 50 \tLoss: 0.161137\t lr: 1.00000000]\n",
      "100%|██████████| 1/1 [00:00<00:00,  1.29batch/s,  Epoch: 50 \tTest loss: 0.158788]\n",
      "100%|██████████| 59/59 [00:04<00:00, 12.22batch/s,  Epoch: 51 \tLoss: 0.160429\t lr: 1.00000000]\n",
      "100%|██████████| 1/1 [00:00<00:00,  1.31batch/s,  Epoch: 51 \tTest loss: 0.158527]\n",
      "100%|██████████| 59/59 [00:05<00:00, 11.59batch/s,  Epoch: 52 \tLoss: 0.157005\t lr: 1.00000000]\n",
      "100%|██████████| 1/1 [00:00<00:00,  1.27batch/s,  Epoch: 52 \tTest loss: 0.162815]\n",
      "100%|██████████| 59/59 [00:04<00:00, 12.48batch/s,  Epoch: 53 \tLoss: 0.165573\t lr: 1.00000000]\n",
      "100%|██████████| 1/1 [00:00<00:00,  1.04batch/s,  Epoch: 53 \tTest loss: 0.162542]\n",
      "100%|██████████| 59/59 [00:05<00:00, 11.76batch/s,  Epoch: 54 \tLoss: 0.158682\t lr: 1.00000000]\n",
      "100%|██████████| 1/1 [00:00<00:00,  1.37batch/s,  Epoch: 54 \tTest loss: 0.160006]\n",
      "100%|██████████| 59/59 [00:04<00:00, 12.09batch/s,  Epoch: 55 \tLoss: 0.162646\t lr: 1.00000000]\n",
      "100%|██████████| 1/1 [00:00<00:00,  1.45batch/s,  Epoch: 55 \tTest loss: 0.159331]\n",
      "100%|██████████| 59/59 [00:04<00:00, 12.26batch/s,  Epoch: 56 \tLoss: 0.161102\t lr: 1.00000000]\n",
      "100%|██████████| 1/1 [00:00<00:00,  1.28batch/s,  Epoch: 56 \tTest loss: 0.158097]\n",
      "100%|██████████| 59/59 [00:04<00:00, 12.79batch/s,  Epoch: 57 \tLoss: 0.157826\t lr: 1.00000000]\n",
      "100%|██████████| 1/1 [00:01<00:00,  1.02s/batch,  Epoch: 57 \tTest loss: 0.160599]\n",
      "100%|██████████| 59/59 [00:04<00:00, 12.43batch/s,  Epoch: 58 \tLoss: 0.157963\t lr: 1.00000000]\n",
      "100%|██████████| 1/1 [00:00<00:00,  1.06batch/s,  Epoch: 58 \tTest loss: 0.162184]\n",
      "100%|██████████| 59/59 [00:05<00:00, 11.68batch/s,  Epoch: 59 \tLoss: 0.159605\t lr: 1.00000000]\n",
      "100%|██████████| 1/1 [00:00<00:00,  1.28batch/s,  Epoch: 59 \tTest loss: 0.161764]\n",
      "100%|██████████| 59/59 [00:05<00:00, 11.66batch/s,  Epoch: 60 \tLoss: 0.161813\t lr: 1.00000000]\n",
      "100%|██████████| 1/1 [00:00<00:00,  1.20batch/s,  Epoch: 60 \tTest loss: 0.157806]\n",
      "100%|██████████| 59/59 [00:04<00:00, 12.98batch/s,  Epoch: 61 \tLoss: 0.159721\t lr: 1.00000000]\n",
      "100%|██████████| 1/1 [00:00<00:00,  1.38batch/s,  Epoch: 61 \tTest loss: 0.159790]\n",
      "100%|██████████| 59/59 [00:05<00:00, 11.58batch/s,  Epoch: 62 \tLoss: 0.158099\t lr: 1.00000000]\n",
      "100%|██████████| 1/1 [00:00<00:00,  1.42batch/s,  Epoch: 62 \tTest loss: 0.162033]\n",
      "100%|██████████| 59/59 [00:04<00:00, 12.19batch/s,  Epoch: 63 \tLoss: 0.162911\t lr: 1.00000000]\n",
      "100%|██████████| 1/1 [00:00<00:00,  1.32batch/s,  Epoch: 63 \tTest loss: 0.159774]\n",
      "100%|██████████| 59/59 [00:05<00:00, 11.72batch/s,  Epoch: 64 \tLoss: 0.159514\t lr: 1.00000000]\n",
      "100%|██████████| 1/1 [00:00<00:00,  1.43batch/s,  Epoch: 64 \tTest loss: 0.159837]\n",
      "100%|██████████| 59/59 [00:04<00:00, 13.09batch/s,  Epoch: 65 \tLoss: 0.162189\t lr: 1.00000000]\n",
      "100%|██████████| 1/1 [00:00<00:00,  1.31batch/s,  Epoch: 65 \tTest loss: 0.156745]\n",
      "100%|██████████| 59/59 [00:05<00:00, 11.50batch/s,  Epoch: 66 \tLoss: 0.160305\t lr: 1.00000000]\n",
      "100%|██████████| 1/1 [00:00<00:00,  1.29batch/s,  Epoch: 66 \tTest loss: 0.158866]\n",
      "100%|██████████| 59/59 [00:05<00:00, 11.67batch/s,  Epoch: 67 \tLoss: 0.165184\t lr: 1.00000000]\n",
      "100%|██████████| 1/1 [00:00<00:00,  1.27batch/s,  Epoch: 67 \tTest loss: 0.155815]\n",
      "100%|██████████| 59/59 [00:04<00:00, 11.87batch/s,  Epoch: 68 \tLoss: 0.158603\t lr: 1.00000000]\n",
      "100%|██████████| 1/1 [00:00<00:00,  1.33batch/s,  Epoch: 68 \tTest loss: 0.160624]\n",
      "100%|██████████| 59/59 [00:04<00:00, 11.91batch/s,  Epoch: 69 \tLoss: 0.158164\t lr: 1.00000000]\n",
      "100%|██████████| 1/1 [00:00<00:00,  1.40batch/s,  Epoch: 69 \tTest loss: 0.157630]\n",
      "100%|██████████| 59/59 [00:05<00:00, 11.54batch/s,  Epoch: 70 \tLoss: 0.156555\t lr: 1.00000000]\n",
      "100%|██████████| 1/1 [00:00<00:00,  1.38batch/s,  Epoch: 70 \tTest loss: 0.156298]\n",
      "100%|██████████| 59/59 [00:04<00:00, 12.02batch/s,  Epoch: 71 \tLoss: 0.151635\t lr: 1.00000000]\n",
      "100%|██████████| 1/1 [00:00<00:00,  1.39batch/s,  Epoch: 71 \tTest loss: 0.160273]\n",
      "100%|██████████| 59/59 [00:04<00:00, 12.32batch/s,  Epoch: 72 \tLoss: 0.157886\t lr: 1.00000000]\n",
      "100%|██████████| 1/1 [00:00<00:00,  1.42batch/s,  Epoch: 72 \tTest loss: 0.159490]\n",
      "100%|██████████| 59/59 [00:04<00:00, 12.04batch/s,  Epoch: 73 \tLoss: 0.160634\t lr: 1.00000000]\n",
      "100%|██████████| 1/1 [00:00<00:00,  1.33batch/s,  Epoch: 73 \tTest loss: 0.159273]\n",
      "100%|██████████| 59/59 [00:04<00:00, 11.84batch/s,  Epoch: 74 \tLoss: 0.156689\t lr: 0.10000000]\n",
      "100%|██████████| 1/1 [00:00<00:00,  1.31batch/s,  Epoch: 74 \tTest loss: 0.161099]\n",
      "100%|██████████| 59/59 [00:04<00:00, 11.91batch/s,  Epoch: 75 \tLoss: 0.156492\t lr: 0.10000000]\n",
      "100%|██████████| 1/1 [00:00<00:00,  1.32batch/s,  Epoch: 75 \tTest loss: 0.154353]\n",
      "100%|██████████| 59/59 [00:04<00:00, 11.94batch/s,  Epoch: 76 \tLoss: 0.154769\t lr: 0.10000000]\n",
      "100%|██████████| 1/1 [00:00<00:00,  1.40batch/s,  Epoch: 76 \tTest loss: 0.157535]\n",
      "100%|██████████| 59/59 [00:05<00:00, 11.69batch/s,  Epoch: 77 \tLoss: 0.157366\t lr: 0.10000000]\n",
      "100%|██████████| 1/1 [00:00<00:00,  1.34batch/s,  Epoch: 77 \tTest loss: 0.158785]\n",
      " 39%|███▉      | 23/59 [00:02<00:03, 11.11batch/s,  Epoch: 78 \tLoss: 0.157627\t lr: 0.10000000]\n"
     ]
    },
    {
     "ename": "KeyboardInterrupt",
     "evalue": "",
     "output_type": "error",
     "traceback": [
      "\u001B[1;31m---------------------------------------------------------------------------\u001B[0m",
      "\u001B[1;31mKeyboardInterrupt\u001B[0m                         Traceback (most recent call last)",
      "Cell \u001B[1;32mIn [8], line 2\u001B[0m\n\u001B[0;32m      1\u001B[0m \u001B[38;5;28;01mfor\u001B[39;00m epoch \u001B[38;5;129;01min\u001B[39;00m \u001B[38;5;28mrange\u001B[39m(\u001B[38;5;241m1\u001B[39m, \u001B[38;5;241m201\u001B[39m):\n\u001B[1;32m----> 2\u001B[0m     _ \u001B[38;5;241m=\u001B[39m \u001B[43mtrain\u001B[49m\u001B[43m(\u001B[49m\u001B[43mmodel\u001B[49m\u001B[43m,\u001B[49m\u001B[43m \u001B[49m\u001B[43mtrain_loader\u001B[49m\u001B[43m,\u001B[49m\u001B[43m \u001B[49m\u001B[43moptimizer\u001B[49m\u001B[43m,\u001B[49m\u001B[43m \u001B[49m\u001B[43mepoch\u001B[49m\u001B[43m)\u001B[49m\n\u001B[0;32m      3\u001B[0m     loss \u001B[38;5;241m=\u001B[39m test(model, test_loader, epoch)\n\u001B[0;32m      4\u001B[0m     scheduler\u001B[38;5;241m.\u001B[39mstep(np\u001B[38;5;241m.\u001B[39mmean(loss))\n",
      "Cell \u001B[1;32mIn [7], line 5\u001B[0m, in \u001B[0;36mtrain\u001B[1;34m(model, train_loader, optimizer, epoch)\u001B[0m\n\u001B[0;32m      3\u001B[0m allLoss \u001B[38;5;241m=\u001B[39m []\n\u001B[0;32m      4\u001B[0m \u001B[38;5;28;01mwith\u001B[39;00m tqdm(train_loader, unit\u001B[38;5;241m=\u001B[39m\u001B[38;5;124m'\u001B[39m\u001B[38;5;124mbatch\u001B[39m\u001B[38;5;124m'\u001B[39m) \u001B[38;5;28;01mas\u001B[39;00m tEpoch:\n\u001B[1;32m----> 5\u001B[0m     \u001B[38;5;28;01mfor\u001B[39;00m data, _ \u001B[38;5;129;01min\u001B[39;00m tEpoch:\n\u001B[0;32m      6\u001B[0m         data \u001B[38;5;241m=\u001B[39m data\u001B[38;5;241m.\u001B[39mto(\u001B[38;5;124m'\u001B[39m\u001B[38;5;124mcuda\u001B[39m\u001B[38;5;124m'\u001B[39m)\u001B[38;5;241m.\u001B[39mview(\u001B[38;5;241m-\u001B[39m\u001B[38;5;241m1\u001B[39m, \u001B[38;5;241m28\u001B[39m \u001B[38;5;241m*\u001B[39m \u001B[38;5;241m28\u001B[39m)\n\u001B[0;32m      7\u001B[0m         optimizer\u001B[38;5;241m.\u001B[39mzero_grad()\n",
      "File \u001B[1;32mC:\\Python310\\lib\\site-packages\\tqdm\\std.py:1195\u001B[0m, in \u001B[0;36mtqdm.__iter__\u001B[1;34m(self)\u001B[0m\n\u001B[0;32m   1192\u001B[0m time \u001B[38;5;241m=\u001B[39m \u001B[38;5;28mself\u001B[39m\u001B[38;5;241m.\u001B[39m_time\n\u001B[0;32m   1194\u001B[0m \u001B[38;5;28;01mtry\u001B[39;00m:\n\u001B[1;32m-> 1195\u001B[0m     \u001B[38;5;28;01mfor\u001B[39;00m obj \u001B[38;5;129;01min\u001B[39;00m iterable:\n\u001B[0;32m   1196\u001B[0m         \u001B[38;5;28;01myield\u001B[39;00m obj\n\u001B[0;32m   1197\u001B[0m         \u001B[38;5;66;03m# Update and possibly print the progressbar.\u001B[39;00m\n\u001B[0;32m   1198\u001B[0m         \u001B[38;5;66;03m# Note: does not call self.update(1) for speed optimisation.\u001B[39;00m\n",
      "File \u001B[1;32mC:\\Python310\\lib\\site-packages\\torch\\utils\\data\\dataloader.py:681\u001B[0m, in \u001B[0;36m_BaseDataLoaderIter.__next__\u001B[1;34m(self)\u001B[0m\n\u001B[0;32m    678\u001B[0m \u001B[38;5;28;01mif\u001B[39;00m \u001B[38;5;28mself\u001B[39m\u001B[38;5;241m.\u001B[39m_sampler_iter \u001B[38;5;129;01mis\u001B[39;00m \u001B[38;5;28;01mNone\u001B[39;00m:\n\u001B[0;32m    679\u001B[0m     \u001B[38;5;66;03m# TODO(https://github.com/pytorch/pytorch/issues/76750)\u001B[39;00m\n\u001B[0;32m    680\u001B[0m     \u001B[38;5;28mself\u001B[39m\u001B[38;5;241m.\u001B[39m_reset()  \u001B[38;5;66;03m# type: ignore[call-arg]\u001B[39;00m\n\u001B[1;32m--> 681\u001B[0m data \u001B[38;5;241m=\u001B[39m \u001B[38;5;28;43mself\u001B[39;49m\u001B[38;5;241;43m.\u001B[39;49m\u001B[43m_next_data\u001B[49m\u001B[43m(\u001B[49m\u001B[43m)\u001B[49m\n\u001B[0;32m    682\u001B[0m \u001B[38;5;28mself\u001B[39m\u001B[38;5;241m.\u001B[39m_num_yielded \u001B[38;5;241m+\u001B[39m\u001B[38;5;241m=\u001B[39m \u001B[38;5;241m1\u001B[39m\n\u001B[0;32m    683\u001B[0m \u001B[38;5;28;01mif\u001B[39;00m \u001B[38;5;28mself\u001B[39m\u001B[38;5;241m.\u001B[39m_dataset_kind \u001B[38;5;241m==\u001B[39m _DatasetKind\u001B[38;5;241m.\u001B[39mIterable \u001B[38;5;129;01mand\u001B[39;00m \\\n\u001B[0;32m    684\u001B[0m         \u001B[38;5;28mself\u001B[39m\u001B[38;5;241m.\u001B[39m_IterableDataset_len_called \u001B[38;5;129;01mis\u001B[39;00m \u001B[38;5;129;01mnot\u001B[39;00m \u001B[38;5;28;01mNone\u001B[39;00m \u001B[38;5;129;01mand\u001B[39;00m \\\n\u001B[0;32m    685\u001B[0m         \u001B[38;5;28mself\u001B[39m\u001B[38;5;241m.\u001B[39m_num_yielded \u001B[38;5;241m>\u001B[39m \u001B[38;5;28mself\u001B[39m\u001B[38;5;241m.\u001B[39m_IterableDataset_len_called:\n",
      "File \u001B[1;32mC:\\Python310\\lib\\site-packages\\torch\\utils\\data\\dataloader.py:721\u001B[0m, in \u001B[0;36m_SingleProcessDataLoaderIter._next_data\u001B[1;34m(self)\u001B[0m\n\u001B[0;32m    719\u001B[0m \u001B[38;5;28;01mdef\u001B[39;00m \u001B[38;5;21m_next_data\u001B[39m(\u001B[38;5;28mself\u001B[39m):\n\u001B[0;32m    720\u001B[0m     index \u001B[38;5;241m=\u001B[39m \u001B[38;5;28mself\u001B[39m\u001B[38;5;241m.\u001B[39m_next_index()  \u001B[38;5;66;03m# may raise StopIteration\u001B[39;00m\n\u001B[1;32m--> 721\u001B[0m     data \u001B[38;5;241m=\u001B[39m \u001B[38;5;28;43mself\u001B[39;49m\u001B[38;5;241;43m.\u001B[39;49m\u001B[43m_dataset_fetcher\u001B[49m\u001B[38;5;241;43m.\u001B[39;49m\u001B[43mfetch\u001B[49m\u001B[43m(\u001B[49m\u001B[43mindex\u001B[49m\u001B[43m)\u001B[49m  \u001B[38;5;66;03m# may raise StopIteration\u001B[39;00m\n\u001B[0;32m    722\u001B[0m     \u001B[38;5;28;01mif\u001B[39;00m \u001B[38;5;28mself\u001B[39m\u001B[38;5;241m.\u001B[39m_pin_memory:\n\u001B[0;32m    723\u001B[0m         data \u001B[38;5;241m=\u001B[39m _utils\u001B[38;5;241m.\u001B[39mpin_memory\u001B[38;5;241m.\u001B[39mpin_memory(data, \u001B[38;5;28mself\u001B[39m\u001B[38;5;241m.\u001B[39m_pin_memory_device)\n",
      "File \u001B[1;32mC:\\Python310\\lib\\site-packages\\torch\\utils\\data\\_utils\\fetch.py:49\u001B[0m, in \u001B[0;36m_MapDatasetFetcher.fetch\u001B[1;34m(self, possibly_batched_index)\u001B[0m\n\u001B[0;32m     47\u001B[0m \u001B[38;5;28;01mdef\u001B[39;00m \u001B[38;5;21mfetch\u001B[39m(\u001B[38;5;28mself\u001B[39m, possibly_batched_index):\n\u001B[0;32m     48\u001B[0m     \u001B[38;5;28;01mif\u001B[39;00m \u001B[38;5;28mself\u001B[39m\u001B[38;5;241m.\u001B[39mauto_collation:\n\u001B[1;32m---> 49\u001B[0m         data \u001B[38;5;241m=\u001B[39m [\u001B[38;5;28mself\u001B[39m\u001B[38;5;241m.\u001B[39mdataset[idx] \u001B[38;5;28;01mfor\u001B[39;00m idx \u001B[38;5;129;01min\u001B[39;00m possibly_batched_index]\n\u001B[0;32m     50\u001B[0m     \u001B[38;5;28;01melse\u001B[39;00m:\n\u001B[0;32m     51\u001B[0m         data \u001B[38;5;241m=\u001B[39m \u001B[38;5;28mself\u001B[39m\u001B[38;5;241m.\u001B[39mdataset[possibly_batched_index]\n",
      "File \u001B[1;32mC:\\Python310\\lib\\site-packages\\torch\\utils\\data\\_utils\\fetch.py:49\u001B[0m, in \u001B[0;36m<listcomp>\u001B[1;34m(.0)\u001B[0m\n\u001B[0;32m     47\u001B[0m \u001B[38;5;28;01mdef\u001B[39;00m \u001B[38;5;21mfetch\u001B[39m(\u001B[38;5;28mself\u001B[39m, possibly_batched_index):\n\u001B[0;32m     48\u001B[0m     \u001B[38;5;28;01mif\u001B[39;00m \u001B[38;5;28mself\u001B[39m\u001B[38;5;241m.\u001B[39mauto_collation:\n\u001B[1;32m---> 49\u001B[0m         data \u001B[38;5;241m=\u001B[39m [\u001B[38;5;28;43mself\u001B[39;49m\u001B[38;5;241;43m.\u001B[39;49m\u001B[43mdataset\u001B[49m\u001B[43m[\u001B[49m\u001B[43midx\u001B[49m\u001B[43m]\u001B[49m \u001B[38;5;28;01mfor\u001B[39;00m idx \u001B[38;5;129;01min\u001B[39;00m possibly_batched_index]\n\u001B[0;32m     50\u001B[0m     \u001B[38;5;28;01melse\u001B[39;00m:\n\u001B[0;32m     51\u001B[0m         data \u001B[38;5;241m=\u001B[39m \u001B[38;5;28mself\u001B[39m\u001B[38;5;241m.\u001B[39mdataset[possibly_batched_index]\n",
      "File \u001B[1;32mC:\\Python310\\lib\\site-packages\\torchvision\\datasets\\mnist.py:145\u001B[0m, in \u001B[0;36mMNIST.__getitem__\u001B[1;34m(self, index)\u001B[0m\n\u001B[0;32m    142\u001B[0m img \u001B[38;5;241m=\u001B[39m Image\u001B[38;5;241m.\u001B[39mfromarray(img\u001B[38;5;241m.\u001B[39mnumpy(), mode\u001B[38;5;241m=\u001B[39m\u001B[38;5;124m\"\u001B[39m\u001B[38;5;124mL\u001B[39m\u001B[38;5;124m\"\u001B[39m)\n\u001B[0;32m    144\u001B[0m \u001B[38;5;28;01mif\u001B[39;00m \u001B[38;5;28mself\u001B[39m\u001B[38;5;241m.\u001B[39mtransform \u001B[38;5;129;01mis\u001B[39;00m \u001B[38;5;129;01mnot\u001B[39;00m \u001B[38;5;28;01mNone\u001B[39;00m:\n\u001B[1;32m--> 145\u001B[0m     img \u001B[38;5;241m=\u001B[39m \u001B[38;5;28;43mself\u001B[39;49m\u001B[38;5;241;43m.\u001B[39;49m\u001B[43mtransform\u001B[49m\u001B[43m(\u001B[49m\u001B[43mimg\u001B[49m\u001B[43m)\u001B[49m\n\u001B[0;32m    147\u001B[0m \u001B[38;5;28;01mif\u001B[39;00m \u001B[38;5;28mself\u001B[39m\u001B[38;5;241m.\u001B[39mtarget_transform \u001B[38;5;129;01mis\u001B[39;00m \u001B[38;5;129;01mnot\u001B[39;00m \u001B[38;5;28;01mNone\u001B[39;00m:\n\u001B[0;32m    148\u001B[0m     target \u001B[38;5;241m=\u001B[39m \u001B[38;5;28mself\u001B[39m\u001B[38;5;241m.\u001B[39mtarget_transform(target)\n",
      "File \u001B[1;32mC:\\Python310\\lib\\site-packages\\torchvision\\transforms\\transforms.py:94\u001B[0m, in \u001B[0;36mCompose.__call__\u001B[1;34m(self, img)\u001B[0m\n\u001B[0;32m     92\u001B[0m \u001B[38;5;28;01mdef\u001B[39;00m \u001B[38;5;21m__call__\u001B[39m(\u001B[38;5;28mself\u001B[39m, img):\n\u001B[0;32m     93\u001B[0m     \u001B[38;5;28;01mfor\u001B[39;00m t \u001B[38;5;129;01min\u001B[39;00m \u001B[38;5;28mself\u001B[39m\u001B[38;5;241m.\u001B[39mtransforms:\n\u001B[1;32m---> 94\u001B[0m         img \u001B[38;5;241m=\u001B[39m \u001B[43mt\u001B[49m\u001B[43m(\u001B[49m\u001B[43mimg\u001B[49m\u001B[43m)\u001B[49m\n\u001B[0;32m     95\u001B[0m     \u001B[38;5;28;01mreturn\u001B[39;00m img\n",
      "File \u001B[1;32mC:\\Python310\\lib\\site-packages\\torchvision\\transforms\\transforms.py:134\u001B[0m, in \u001B[0;36mToTensor.__call__\u001B[1;34m(self, pic)\u001B[0m\n\u001B[0;32m    126\u001B[0m \u001B[38;5;28;01mdef\u001B[39;00m \u001B[38;5;21m__call__\u001B[39m(\u001B[38;5;28mself\u001B[39m, pic):\n\u001B[0;32m    127\u001B[0m     \u001B[38;5;124;03m\"\"\"\u001B[39;00m\n\u001B[0;32m    128\u001B[0m \u001B[38;5;124;03m    Args:\u001B[39;00m\n\u001B[0;32m    129\u001B[0m \u001B[38;5;124;03m        pic (PIL Image or numpy.ndarray): Image to be converted to tensor.\u001B[39;00m\n\u001B[1;32m   (...)\u001B[0m\n\u001B[0;32m    132\u001B[0m \u001B[38;5;124;03m        Tensor: Converted image.\u001B[39;00m\n\u001B[0;32m    133\u001B[0m \u001B[38;5;124;03m    \"\"\"\u001B[39;00m\n\u001B[1;32m--> 134\u001B[0m     \u001B[38;5;28;01mreturn\u001B[39;00m \u001B[43mF\u001B[49m\u001B[38;5;241;43m.\u001B[39;49m\u001B[43mto_tensor\u001B[49m\u001B[43m(\u001B[49m\u001B[43mpic\u001B[49m\u001B[43m)\u001B[49m\n",
      "File \u001B[1;32mC:\\Python310\\lib\\site-packages\\torchvision\\transforms\\functional.py:168\u001B[0m, in \u001B[0;36mto_tensor\u001B[1;34m(pic)\u001B[0m\n\u001B[0;32m    166\u001B[0m \u001B[38;5;28;01mif\u001B[39;00m pic\u001B[38;5;241m.\u001B[39mmode \u001B[38;5;241m==\u001B[39m \u001B[38;5;124m\"\u001B[39m\u001B[38;5;124m1\u001B[39m\u001B[38;5;124m\"\u001B[39m:\n\u001B[0;32m    167\u001B[0m     img \u001B[38;5;241m=\u001B[39m \u001B[38;5;241m255\u001B[39m \u001B[38;5;241m*\u001B[39m img\n\u001B[1;32m--> 168\u001B[0m img \u001B[38;5;241m=\u001B[39m \u001B[43mimg\u001B[49m\u001B[38;5;241;43m.\u001B[39;49m\u001B[43mview\u001B[49m\u001B[43m(\u001B[49m\u001B[43mpic\u001B[49m\u001B[38;5;241;43m.\u001B[39;49m\u001B[43msize\u001B[49m\u001B[43m[\u001B[49m\u001B[38;5;241;43m1\u001B[39;49m\u001B[43m]\u001B[49m\u001B[43m,\u001B[49m\u001B[43m \u001B[49m\u001B[43mpic\u001B[49m\u001B[38;5;241;43m.\u001B[39;49m\u001B[43msize\u001B[49m\u001B[43m[\u001B[49m\u001B[38;5;241;43m0\u001B[39;49m\u001B[43m]\u001B[49m\u001B[43m,\u001B[49m\u001B[43m \u001B[49m\u001B[38;5;28;43mlen\u001B[39;49m\u001B[43m(\u001B[49m\u001B[43mpic\u001B[49m\u001B[38;5;241;43m.\u001B[39;49m\u001B[43mgetbands\u001B[49m\u001B[43m(\u001B[49m\u001B[43m)\u001B[49m\u001B[43m)\u001B[49m\u001B[43m)\u001B[49m\n\u001B[0;32m    169\u001B[0m \u001B[38;5;66;03m# put it from HWC to CHW format\u001B[39;00m\n\u001B[0;32m    170\u001B[0m img \u001B[38;5;241m=\u001B[39m img\u001B[38;5;241m.\u001B[39mpermute((\u001B[38;5;241m2\u001B[39m, \u001B[38;5;241m0\u001B[39m, \u001B[38;5;241m1\u001B[39m))\u001B[38;5;241m.\u001B[39mcontiguous()\n",
      "\u001B[1;31mKeyboardInterrupt\u001B[0m: "
     ]
    }
   ],
   "source": [
    "for epoch in range(1, 201):\n",
    "    _ = train(model, train_loader, optimizer, epoch)\n",
    "    loss = test(model, test_loader, epoch)\n",
    "    scheduler.step(np.mean(loss))"
   ],
   "metadata": {
    "collapsed": false
   }
  },
  {
   "cell_type": "code",
   "execution_count": 113,
   "outputs": [
    {
     "data": {
      "text/plain": "<matplotlib.image.AxesImage at 0x1ba8fc78820>"
     },
     "execution_count": 113,
     "metadata": {},
     "output_type": "execute_result"
    },
    {
     "data": {
      "text/plain": "<Figure size 640x480 with 1 Axes>",
      "image/png": "[encoded data removed]"
     },
     "metadata": {},
     "output_type": "display_data"
    }
   ],
   "source": [
    "img0 = next(iter(test_loader))[0][98]\n",
    "plt.imshow(img0[0], cmap='Greys')"
   ],
   "metadata": {
    "collapsed": false
   }
  },
  {
   "cell_type": "code",
   "execution_count": 122,
   "outputs": [
    {
     "data": {
      "text/plain": "<matplotlib.image.AxesImage at 0x1ba82457e80>"
     },
     "execution_count": 122,
     "metadata": {},
     "output_type": "execute_result"
    },
    {
     "data": {
      "text/plain": "<Figure size 640x480 with 1 Axes>",
      "image/png": "[encoded data removed]"
     },
     "metadata": {},
     "output_type": "display_data"
    }
   ],
   "source": [
    "output = model(img0.view(-1, 28 * 28).cuda())\n",
    "plt.imshow(output.cpu().detach().view(28, 28), cmap='Greys')"
   ],
   "metadata": {
    "collapsed": false
   }
  },
  {
   "cell_type": "code",
   "execution_count": 112,
   "outputs": [
    {
     "data": {
      "text/plain": "<matplotlib.image.AxesImage at 0x1ba8f9db8b0>"
     },
     "execution_count": 112,
     "metadata": {},
     "output_type": "execute_result"
    },
    {
     "data": {
      "text/plain": "<Figure size 640x480 with 1 Axes>",
      "image/png": "[encoded data removed]"
     },
     "metadata": {},
     "output_type": "display_data"
    }
   ],
   "source": [
    "output = model.sample(3)\n",
    "plt.imshow(output.cpu().detach().view(28, 28), cmap='Greys')"
   ],
   "metadata": {
    "collapsed": false
   }
  },
  {
   "cell_type": "code",
   "execution_count": 123,
   "outputs": [],
   "source": [
    "torch.save(model.state_dict(),'WideAE_small_linear_78epoch')"
   ],
   "metadata": {
    "collapsed": false
   }
  }
 ],
 "metadata": {
  "kernelspec": {
   "display_name": "Python 3",
   "language": "python",
   "name": "python3"
  },
  "language_info": {
   "codemirror_mode": {
    "name": "ipython",
    "version": 2
   },
   "file_extension": ".py",
   "mimetype": "text/x-python",
   "name": "python",
   "nbconvert_exporter": "python",
   "pygments_lexer": "ipython2",
   "version": "2.7.6"
  }
 },
 "nbformat": 4,
 "nbformat_minor": 0
}
