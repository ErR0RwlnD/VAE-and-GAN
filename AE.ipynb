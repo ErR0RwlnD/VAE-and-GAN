{
 "cells": [
  {
   "cell_type": "code",
   "execution_count": 1,
   "metadata": {
    "collapsed": true
   },
   "outputs": [],
   "source": [
    "import matplotlib.pyplot as plt\n",
    "import numpy as np\n",
    "import torch\n",
    "from torch import nn\n",
    "from torch import optim\n",
    "from torch.optim.lr_scheduler import ReduceLROnPlateau\n",
    "from torchvision import datasets, transforms\n",
    "from tqdm import tqdm\n",
    "\n",
    "from src.VAE import LinearVAE, MultiLinearVAE"
   ]
  },
  {
   "cell_type": "code",
   "execution_count": 2,
   "outputs": [],
   "source": [
    "encoder1 = nn.Sequential(nn.Linear(28 * 28, 256),\n",
    "                         nn.ReLU(),\n",
    "                         nn.Linear(256, 128),\n",
    "                         nn.ReLU())\n",
    "decoder1 = nn.Sequential(nn.Linear(64, 128),\n",
    "                         nn.ReLU(),\n",
    "                         nn.Linear(128, 256),\n",
    "                         nn.ReLU(),\n",
    "                         nn.Linear(256, 28 * 28),\n",
    "                         nn.Sigmoid())\n",
    "vae = LinearVAE(encoder1, decoder1, 128, 64)"
   ],
   "metadata": {
    "collapsed": false
   }
  },
  {
   "cell_type": "code",
   "execution_count": 2,
   "outputs": [],
   "source": [
    "def KLD(mu: torch.Tensor, log_var: torch.Tensor):\n",
    "    return -0.5 * torch.mean(1 + log_var - mu.pow(2) - log_var.exp())\n",
    "\n",
    "\n",
    "def BCE(recon: torch.Tensor, X: torch.Tensor):\n",
    "    return nn.functional.binary_cross_entropy(recon, X, reduction='mean')\n",
    "\n",
    "\n",
    "def L1Loss(recon: torch.Tensor, X: torch.Tensor):\n",
    "    return nn.functional.l1_loss(recon, X, reduction='mean')\n",
    "\n",
    "\n",
    "def L2Loss(recon: torch.Tensor, X: torch.Tensor):\n",
    "    return nn.functional.mse_loss(recon, X, reduction='mean')"
   ],
   "metadata": {
    "collapsed": false
   }
  },
  {
   "cell_type": "code",
   "execution_count": 7,
   "outputs": [],
   "source": [
    "transform = transforms.Compose([\n",
    "    transforms.ToTensor()\n",
    "])\n",
    "dataset1 = datasets.MNIST('../data', train=True, download=True,\n",
    "                          transform=transform)\n",
    "dataset2 = datasets.MNIST('../data', train=False,\n",
    "                          transform=transform)\n",
    "train_loader = torch.utils.data.DataLoader(dataset1, batch_size=1024, shuffle=True)\n",
    "test_loader = torch.utils.data.DataLoader(dataset2, batch_size=10000)"
   ],
   "metadata": {
    "collapsed": false
   }
  },
  {
   "cell_type": "markdown",
   "source": [
    "## Only BCE"
   ],
   "metadata": {
    "collapsed": false
   }
  },
  {
   "cell_type": "code",
   "execution_count": 63,
   "outputs": [],
   "source": [
    "model = vae.to('cuda')\n",
    "optimizer = optim.Adadelta(model.parameters(), lr=1e1)\n",
    "scheduler = ReduceLROnPlateau(optimizer, factor=0.1, patience=5, verbose=False, threshold=1e-3)"
   ],
   "metadata": {
    "collapsed": false
   }
  },
  {
   "cell_type": "code",
   "execution_count": 64,
   "outputs": [],
   "source": [
    "def train(model, train_loader, optimizer, epoch):\n",
    "    model.train()\n",
    "    allLoss = []\n",
    "    with tqdm(train_loader, unit='batch') as tEpoch:\n",
    "        for data, _ in tEpoch:\n",
    "            data = data.to('cuda').view(-1, 28 * 28)\n",
    "            optimizer.zero_grad()\n",
    "            output, mu, log_var = model(data)\n",
    "            loss = BCE(output, data)\n",
    "            loss.backward()\n",
    "            optimizer.step()\n",
    "            allLoss.append(loss.item())\n",
    "            tEpoch.set_postfix_str(' Epoch: {} \\tLoss: {:.6f}\\t lr: {:.8f}'.format(\n",
    "                epoch, loss.item(), optimizer.param_groups[0]['lr']))\n",
    "    return allLoss\n",
    "\n",
    "\n",
    "def test(model, train_loader, epoch):\n",
    "    model.eval()\n",
    "    allLoss = []\n",
    "    with tqdm(train_loader, unit='batch') as tEpoch:\n",
    "        for data, _ in tEpoch:\n",
    "            data = data.to('cuda').view(-1, 28 * 28)\n",
    "            output, mu, log_var = model(data)\n",
    "            loss = BCE(output, data)\n",
    "            allLoss.append(loss.item())\n",
    "            tEpoch.set_postfix_str(' Epoch: {} \\tTest loss: {:.6f}'.format(\n",
    "                epoch, loss.item()))\n",
    "    return allLoss"
   ],
   "metadata": {
    "collapsed": false
   }
  },
  {
   "cell_type": "code",
   "execution_count": 65,
   "outputs": [
    {
     "name": "stderr",
     "output_type": "stream",
     "text": [
      "100%|██████████| 59/59 [00:04<00:00, 12.30batch/s,  Epoch: 1 \tLoss: 0.088283\t lr: 10.00000000]\n",
      "100%|██████████| 1/1 [00:00<00:00,  1.27batch/s,  Epoch: 1 \tTest loss: 0.088947]\n",
      "100%|██████████| 59/59 [00:04<00:00, 12.33batch/s,  Epoch: 2 \tLoss: 0.086939\t lr: 10.00000000]\n",
      "100%|██████████| 1/1 [00:00<00:00,  1.45batch/s,  Epoch: 2 \tTest loss: 0.089104]\n",
      "100%|██████████| 59/59 [00:04<00:00, 11.95batch/s,  Epoch: 3 \tLoss: 0.090036\t lr: 10.00000000]\n",
      "100%|██████████| 1/1 [00:00<00:00,  1.42batch/s,  Epoch: 3 \tTest loss: 0.090522]\n",
      "100%|██████████| 59/59 [00:04<00:00, 12.30batch/s,  Epoch: 4 \tLoss: 0.089323\t lr: 10.00000000]\n",
      "100%|██████████| 1/1 [00:00<00:00,  1.42batch/s,  Epoch: 4 \tTest loss: 0.089655]\n",
      "100%|██████████| 59/59 [00:04<00:00, 12.38batch/s,  Epoch: 5 \tLoss: 0.087189\t lr: 10.00000000]\n",
      "100%|██████████| 1/1 [00:00<00:00,  1.39batch/s,  Epoch: 5 \tTest loss: 0.088065]\n",
      "100%|██████████| 59/59 [00:04<00:00, 12.41batch/s,  Epoch: 6 \tLoss: 0.086680\t lr: 10.00000000]\n",
      "100%|██████████| 1/1 [00:00<00:00,  1.16batch/s,  Epoch: 6 \tTest loss: 0.088041]\n",
      "100%|██████████| 59/59 [00:04<00:00, 12.34batch/s,  Epoch: 7 \tLoss: 0.088648\t lr: 10.00000000]\n",
      "100%|██████████| 1/1 [00:00<00:00,  1.39batch/s,  Epoch: 7 \tTest loss: 0.088826]\n",
      "100%|██████████| 59/59 [00:04<00:00, 12.27batch/s,  Epoch: 8 \tLoss: 0.087874\t lr: 10.00000000]\n",
      "100%|██████████| 1/1 [00:00<00:00,  1.42batch/s,  Epoch: 8 \tTest loss: 0.088303]\n",
      "100%|██████████| 59/59 [00:04<00:00, 12.30batch/s,  Epoch: 9 \tLoss: 0.086962\t lr: 10.00000000]\n",
      "100%|██████████| 1/1 [00:00<00:00,  1.32batch/s,  Epoch: 9 \tTest loss: 0.089865]\n",
      "100%|██████████| 59/59 [00:04<00:00, 11.86batch/s,  Epoch: 10 \tLoss: 0.086582\t lr: 10.00000000]\n",
      "100%|██████████| 1/1 [00:00<00:00,  1.39batch/s,  Epoch: 10 \tTest loss: 0.087403]\n",
      "100%|██████████| 59/59 [00:04<00:00, 13.31batch/s,  Epoch: 11 \tLoss: 0.087895\t lr: 10.00000000]\n",
      "100%|██████████| 1/1 [00:00<00:00,  1.40batch/s,  Epoch: 11 \tTest loss: 0.088714]\n",
      "100%|██████████| 59/59 [00:04<00:00, 12.94batch/s,  Epoch: 12 \tLoss: 0.087854\t lr: 10.00000000]\n",
      "100%|██████████| 1/1 [00:00<00:00,  1.41batch/s,  Epoch: 12 \tTest loss: 0.088217]\n",
      "100%|██████████| 59/59 [00:04<00:00, 12.46batch/s,  Epoch: 13 \tLoss: 0.087289\t lr: 10.00000000]\n",
      "100%|██████████| 1/1 [00:00<00:00,  1.43batch/s,  Epoch: 13 \tTest loss: 0.087929]\n",
      "100%|██████████| 59/59 [00:04<00:00, 12.82batch/s,  Epoch: 14 \tLoss: 0.087626\t lr: 10.00000000]\n",
      "100%|██████████| 1/1 [00:00<00:00,  1.35batch/s,  Epoch: 14 \tTest loss: 0.088953]\n",
      "100%|██████████| 59/59 [00:04<00:00, 13.41batch/s,  Epoch: 15 \tLoss: 0.085474\t lr: 10.00000000]\n",
      "100%|██████████| 1/1 [00:00<00:00,  1.36batch/s,  Epoch: 15 \tTest loss: 0.088257]\n",
      "100%|██████████| 59/59 [00:04<00:00, 13.32batch/s,  Epoch: 16 \tLoss: 0.086714\t lr: 10.00000000]\n",
      "100%|██████████| 1/1 [00:01<00:00,  1.02s/batch,  Epoch: 16 \tTest loss: 0.087382]\n",
      "100%|██████████| 59/59 [00:04<00:00, 12.43batch/s,  Epoch: 17 \tLoss: 0.080844\t lr: 1.00000000]\n",
      "100%|██████████| 1/1 [00:00<00:00,  1.33batch/s,  Epoch: 17 \tTest loss: 0.082796]\n",
      "100%|██████████| 59/59 [00:04<00:00, 12.61batch/s,  Epoch: 18 \tLoss: 0.082702\t lr: 1.00000000]\n",
      "100%|██████████| 1/1 [00:00<00:00,  1.39batch/s,  Epoch: 18 \tTest loss: 0.082699]\n",
      "100%|██████████| 59/59 [00:05<00:00, 11.44batch/s,  Epoch: 19 \tLoss: 0.082519\t lr: 1.00000000]\n",
      "100%|██████████| 1/1 [00:00<00:00,  1.15batch/s,  Epoch: 19 \tTest loss: 0.082639]\n",
      "100%|██████████| 59/59 [00:04<00:00, 12.08batch/s,  Epoch: 20 \tLoss: 0.081795\t lr: 1.00000000]\n",
      "100%|██████████| 1/1 [00:00<00:00,  1.37batch/s,  Epoch: 20 \tTest loss: 0.082596]\n",
      "100%|██████████| 59/59 [00:04<00:00, 12.31batch/s,  Epoch: 21 \tLoss: 0.083244\t lr: 1.00000000]\n",
      "100%|██████████| 1/1 [00:00<00:00,  1.39batch/s,  Epoch: 21 \tTest loss: 0.082561]\n",
      "100%|██████████| 59/59 [00:04<00:00, 12.51batch/s,  Epoch: 22 \tLoss: 0.080254\t lr: 1.00000000]\n",
      "100%|██████████| 1/1 [00:00<00:00,  1.38batch/s,  Epoch: 22 \tTest loss: 0.082528]\n",
      "100%|██████████| 59/59 [00:04<00:00, 11.95batch/s,  Epoch: 23 \tLoss: 0.081977\t lr: 1.00000000]\n",
      "100%|██████████| 1/1 [00:00<00:00,  1.37batch/s,  Epoch: 23 \tTest loss: 0.082501]\n",
      "100%|██████████| 59/59 [00:04<00:00, 12.09batch/s,  Epoch: 24 \tLoss: 0.080471\t lr: 1.00000000]\n",
      "100%|██████████| 1/1 [00:01<00:00,  1.03s/batch,  Epoch: 24 \tTest loss: 0.082476]\n",
      "100%|██████████| 59/59 [00:04<00:00, 12.73batch/s,  Epoch: 25 \tLoss: 0.081279\t lr: 1.00000000]\n",
      "100%|██████████| 1/1 [00:01<00:00,  1.16s/batch,  Epoch: 25 \tTest loss: 0.082450]\n",
      "100%|██████████| 59/59 [00:04<00:00, 12.76batch/s,  Epoch: 26 \tLoss: 0.082176\t lr: 1.00000000]\n",
      "100%|██████████| 1/1 [00:00<00:00,  1.31batch/s,  Epoch: 26 \tTest loss: 0.082427]\n",
      "100%|██████████| 59/59 [00:04<00:00, 12.82batch/s,  Epoch: 27 \tLoss: 0.082712\t lr: 1.00000000]\n",
      "100%|██████████| 1/1 [00:00<00:00,  1.01batch/s,  Epoch: 27 \tTest loss: 0.082406]\n",
      "100%|██████████| 59/59 [00:04<00:00, 12.70batch/s,  Epoch: 28 \tLoss: 0.079540\t lr: 1.00000000]\n",
      "100%|██████████| 1/1 [00:00<00:00,  1.06batch/s,  Epoch: 28 \tTest loss: 0.082384]\n",
      "100%|██████████| 59/59 [00:04<00:00, 12.12batch/s,  Epoch: 29 \tLoss: 0.082371\t lr: 1.00000000]\n",
      "100%|██████████| 1/1 [00:00<00:00,  1.08batch/s,  Epoch: 29 \tTest loss: 0.082364]\n",
      "100%|██████████| 59/59 [00:04<00:00, 12.60batch/s,  Epoch: 30 \tLoss: 0.079963\t lr: 1.00000000]\n",
      "100%|██████████| 1/1 [00:00<00:00,  1.10batch/s,  Epoch: 30 \tTest loss: 0.082345]\n",
      "100%|██████████| 59/59 [00:04<00:00, 12.37batch/s,  Epoch: 31 \tLoss: 0.080673\t lr: 1.00000000]\n",
      "100%|██████████| 1/1 [00:01<00:00,  1.02s/batch,  Epoch: 31 \tTest loss: 0.082325]\n",
      "100%|██████████| 59/59 [00:04<00:00, 12.73batch/s,  Epoch: 32 \tLoss: 0.082246\t lr: 1.00000000]\n",
      "100%|██████████| 1/1 [00:01<00:00,  1.16s/batch,  Epoch: 32 \tTest loss: 0.082309]\n",
      "100%|██████████| 59/59 [00:04<00:00, 12.81batch/s,  Epoch: 33 \tLoss: 0.079857\t lr: 1.00000000]\n",
      "100%|██████████| 1/1 [00:00<00:00,  1.02batch/s,  Epoch: 33 \tTest loss: 0.082291]\n",
      "100%|██████████| 59/59 [00:04<00:00, 12.71batch/s,  Epoch: 34 \tLoss: 0.080406\t lr: 1.00000000]\n",
      "100%|██████████| 1/1 [00:00<00:00,  1.06batch/s,  Epoch: 34 \tTest loss: 0.082272]\n",
      "100%|██████████| 59/59 [00:04<00:00, 12.41batch/s,  Epoch: 35 \tLoss: 0.081742\t lr: 1.00000000]\n",
      "100%|██████████| 1/1 [00:01<00:00,  1.04s/batch,  Epoch: 35 \tTest loss: 0.082256]\n",
      "100%|██████████| 59/59 [00:04<00:00, 12.50batch/s,  Epoch: 36 \tLoss: 0.080714\t lr: 1.00000000]\n",
      "100%|██████████| 1/1 [00:00<00:00,  1.15batch/s,  Epoch: 36 \tTest loss: 0.082238]\n",
      "100%|██████████| 59/59 [00:04<00:00, 12.01batch/s,  Epoch: 37 \tLoss: 0.083199\t lr: 1.00000000]\n",
      "100%|██████████| 1/1 [00:00<00:00,  1.37batch/s,  Epoch: 37 \tTest loss: 0.082223]\n",
      "100%|██████████| 59/59 [00:05<00:00, 11.48batch/s,  Epoch: 38 \tLoss: 0.080204\t lr: 1.00000000]\n",
      "100%|██████████| 1/1 [00:00<00:00,  1.41batch/s,  Epoch: 38 \tTest loss: 0.082206]\n",
      "100%|██████████| 59/59 [00:05<00:00, 11.71batch/s,  Epoch: 39 \tLoss: 0.081924\t lr: 1.00000000]\n",
      "100%|██████████| 1/1 [00:00<00:00,  1.18batch/s,  Epoch: 39 \tTest loss: 0.082190]\n",
      "100%|██████████| 59/59 [00:04<00:00, 12.12batch/s,  Epoch: 40 \tLoss: 0.082007\t lr: 1.00000000]\n",
      "100%|██████████| 1/1 [00:00<00:00,  1.40batch/s,  Epoch: 40 \tTest loss: 0.082175]\n",
      "100%|██████████| 59/59 [00:04<00:00, 12.28batch/s,  Epoch: 41 \tLoss: 0.083053\t lr: 1.00000000]\n",
      "100%|██████████| 1/1 [00:00<00:00,  1.38batch/s,  Epoch: 41 \tTest loss: 0.082161]\n",
      "100%|██████████| 59/59 [00:05<00:00, 11.12batch/s,  Epoch: 42 \tLoss: 0.081296\t lr: 1.00000000]\n",
      "100%|██████████| 1/1 [00:00<00:00,  1.39batch/s,  Epoch: 42 \tTest loss: 0.082143]\n",
      "100%|██████████| 59/59 [00:04<00:00, 12.27batch/s,  Epoch: 43 \tLoss: 0.081194\t lr: 1.00000000]\n",
      "100%|██████████| 1/1 [00:01<00:00,  1.02s/batch,  Epoch: 43 \tTest loss: 0.082131]\n",
      "100%|██████████| 59/59 [00:04<00:00, 12.81batch/s,  Epoch: 44 \tLoss: 0.081144\t lr: 1.00000000]\n",
      "100%|██████████| 1/1 [00:00<00:00,  1.44batch/s,  Epoch: 44 \tTest loss: 0.082115]\n",
      "100%|██████████| 59/59 [00:04<00:00, 12.59batch/s,  Epoch: 45 \tLoss: 0.082863\t lr: 1.00000000]\n",
      "100%|██████████| 1/1 [00:00<00:00,  1.18batch/s,  Epoch: 45 \tTest loss: 0.082103]\n",
      "100%|██████████| 59/59 [00:04<00:00, 12.08batch/s,  Epoch: 46 \tLoss: 0.081150\t lr: 1.00000000]\n",
      "100%|██████████| 1/1 [00:00<00:00,  1.32batch/s,  Epoch: 46 \tTest loss: 0.082087]\n",
      "100%|██████████| 59/59 [00:04<00:00, 13.06batch/s,  Epoch: 47 \tLoss: 0.081202\t lr: 1.00000000]\n",
      "100%|██████████| 1/1 [00:00<00:00,  1.42batch/s,  Epoch: 47 \tTest loss: 0.082075]\n",
      "100%|██████████| 59/59 [00:05<00:00, 11.55batch/s,  Epoch: 48 \tLoss: 0.079776\t lr: 1.00000000]\n",
      "100%|██████████| 1/1 [00:00<00:00,  1.12batch/s,  Epoch: 48 \tTest loss: 0.082061]\n",
      "100%|██████████| 59/59 [00:04<00:00, 12.19batch/s,  Epoch: 49 \tLoss: 0.081901\t lr: 1.00000000]\n",
      "100%|██████████| 1/1 [00:00<00:00,  1.10batch/s,  Epoch: 49 \tTest loss: 0.082047]\n",
      "100%|██████████| 59/59 [00:04<00:00, 13.03batch/s,  Epoch: 50 \tLoss: 0.080995\t lr: 1.00000000]\n",
      "100%|██████████| 1/1 [00:00<00:00,  1.46batch/s,  Epoch: 50 \tTest loss: 0.082035]\n",
      "100%|██████████| 59/59 [00:04<00:00, 12.82batch/s,  Epoch: 51 \tLoss: 0.081157\t lr: 1.00000000]\n",
      "100%|██████████| 1/1 [00:00<00:00,  1.16batch/s,  Epoch: 51 \tTest loss: 0.082018]\n",
      "100%|██████████| 59/59 [00:04<00:00, 12.13batch/s,  Epoch: 52 \tLoss: 0.079759\t lr: 1.00000000]\n",
      "100%|██████████| 1/1 [00:00<00:00,  1.37batch/s,  Epoch: 52 \tTest loss: 0.082008]\n",
      "100%|██████████| 59/59 [00:04<00:00, 11.97batch/s,  Epoch: 53 \tLoss: 0.082142\t lr: 1.00000000]\n",
      "100%|██████████| 1/1 [00:00<00:00,  1.39batch/s,  Epoch: 53 \tTest loss: 0.081995]\n",
      "100%|██████████| 59/59 [00:04<00:00, 12.12batch/s,  Epoch: 54 \tLoss: 0.080334\t lr: 1.00000000]\n",
      "100%|██████████| 1/1 [00:00<00:00,  1.41batch/s,  Epoch: 54 \tTest loss: 0.081984]\n",
      "100%|██████████| 59/59 [00:04<00:00, 12.07batch/s,  Epoch: 55 \tLoss: 0.080874\t lr: 1.00000000]\n",
      "100%|██████████| 1/1 [00:01<00:00,  1.08s/batch,  Epoch: 55 \tTest loss: 0.081967]\n",
      "100%|██████████| 59/59 [00:04<00:00, 12.58batch/s,  Epoch: 56 \tLoss: 0.083307\t lr: 0.10000000]\n",
      "100%|██████████| 1/1 [00:00<00:00,  1.25batch/s,  Epoch: 56 \tTest loss: 0.081964]\n",
      "100%|██████████| 59/59 [00:04<00:00, 12.84batch/s,  Epoch: 57 \tLoss: 0.081211\t lr: 0.10000000]\n",
      "100%|██████████| 1/1 [00:00<00:00,  1.11batch/s,  Epoch: 57 \tTest loss: 0.081962]\n",
      "100%|██████████| 59/59 [00:04<00:00, 12.73batch/s,  Epoch: 58 \tLoss: 0.082588\t lr: 0.10000000]\n",
      "100%|██████████| 1/1 [00:00<00:00,  1.11batch/s,  Epoch: 58 \tTest loss: 0.081961]\n",
      "100%|██████████| 59/59 [00:05<00:00, 11.12batch/s,  Epoch: 59 \tLoss: 0.080607\t lr: 0.10000000]\n",
      "100%|██████████| 1/1 [00:00<00:00,  1.38batch/s,  Epoch: 59 \tTest loss: 0.081959]\n",
      "100%|██████████| 59/59 [00:04<00:00, 12.38batch/s,  Epoch: 60 \tLoss: 0.083777\t lr: 0.10000000]\n",
      "100%|██████████| 1/1 [00:00<00:00,  1.41batch/s,  Epoch: 60 \tTest loss: 0.081958]\n",
      "100%|██████████| 59/59 [00:04<00:00, 12.16batch/s,  Epoch: 61 \tLoss: 0.081526\t lr: 0.10000000]\n",
      "100%|██████████| 1/1 [00:00<00:00,  1.40batch/s,  Epoch: 61 \tTest loss: 0.081957]\n",
      "100%|██████████| 59/59 [00:04<00:00, 12.16batch/s,  Epoch: 62 \tLoss: 0.082269\t lr: 0.10000000]\n",
      "100%|██████████| 1/1 [00:00<00:00,  1.31batch/s,  Epoch: 62 \tTest loss: 0.081956]\n",
      "100%|██████████| 59/59 [00:04<00:00, 12.05batch/s,  Epoch: 63 \tLoss: 0.081211\t lr: 0.01000000]\n",
      "100%|██████████| 1/1 [00:00<00:00,  1.41batch/s,  Epoch: 63 \tTest loss: 0.081956]\n",
      "100%|██████████| 59/59 [00:04<00:00, 11.89batch/s,  Epoch: 64 \tLoss: 0.080121\t lr: 0.01000000]\n",
      "100%|██████████| 1/1 [00:00<00:00,  1.05batch/s,  Epoch: 64 \tTest loss: 0.081956]\n",
      "100%|██████████| 59/59 [00:04<00:00, 12.76batch/s,  Epoch: 65 \tLoss: 0.082426\t lr: 0.01000000]\n",
      "100%|██████████| 1/1 [00:01<00:00,  1.16s/batch,  Epoch: 65 \tTest loss: 0.081955]\n",
      "100%|██████████| 59/59 [00:04<00:00, 12.79batch/s,  Epoch: 66 \tLoss: 0.082783\t lr: 0.01000000]\n",
      "100%|██████████| 1/1 [00:00<00:00,  1.01batch/s,  Epoch: 66 \tTest loss: 0.081955]\n",
      "100%|██████████| 59/59 [00:04<00:00, 12.76batch/s,  Epoch: 67 \tLoss: 0.082056\t lr: 0.01000000]\n",
      "100%|██████████| 1/1 [00:00<00:00,  1.03batch/s,  Epoch: 67 \tTest loss: 0.081955]\n",
      "100%|██████████| 59/59 [00:04<00:00, 12.57batch/s,  Epoch: 68 \tLoss: 0.081506\t lr: 0.01000000]\n",
      "100%|██████████| 1/1 [00:01<00:00,  1.09s/batch,  Epoch: 68 \tTest loss: 0.081955]\n",
      "100%|██████████| 59/59 [00:04<00:00, 12.69batch/s,  Epoch: 69 \tLoss: 0.081537\t lr: 0.00100000]\n",
      "100%|██████████| 1/1 [00:00<00:00,  1.06batch/s,  Epoch: 69 \tTest loss: 0.081956]\n",
      "100%|██████████| 59/59 [00:04<00:00, 12.61batch/s,  Epoch: 70 \tLoss: 0.081141\t lr: 0.00100000]\n",
      "100%|██████████| 1/1 [00:00<00:00,  1.09batch/s,  Epoch: 70 \tTest loss: 0.081956]\n",
      "100%|██████████| 59/59 [00:04<00:00, 12.82batch/s,  Epoch: 71 \tLoss: 0.081538\t lr: 0.00100000]\n",
      "100%|██████████| 1/1 [00:00<00:00,  1.01batch/s,  Epoch: 71 \tTest loss: 0.081955]\n",
      "100%|██████████| 59/59 [00:04<00:00, 12.71batch/s,  Epoch: 72 \tLoss: 0.080428\t lr: 0.00100000]\n",
      "100%|██████████| 1/1 [00:01<00:00,  1.15s/batch,  Epoch: 72 \tTest loss: 0.081955]\n",
      "100%|██████████| 59/59 [00:04<00:00, 12.91batch/s,  Epoch: 73 \tLoss: 0.082083\t lr: 0.00100000]\n",
      "100%|██████████| 1/1 [00:00<00:00,  1.39batch/s,  Epoch: 73 \tTest loss: 0.081955]\n",
      "100%|██████████| 59/59 [00:04<00:00, 12.27batch/s,  Epoch: 74 \tLoss: 0.080821\t lr: 0.00100000]\n",
      "100%|██████████| 1/1 [00:00<00:00,  1.28batch/s,  Epoch: 74 \tTest loss: 0.081955]\n",
      "100%|██████████| 59/59 [00:04<00:00, 12.91batch/s,  Epoch: 75 \tLoss: 0.079804\t lr: 0.00010000]\n",
      "100%|██████████| 1/1 [00:00<00:00,  1.11batch/s,  Epoch: 75 \tTest loss: 0.081955]\n",
      "100%|██████████| 59/59 [00:04<00:00, 11.85batch/s,  Epoch: 76 \tLoss: 0.081898\t lr: 0.00010000]\n",
      "100%|██████████| 1/1 [00:01<00:00,  1.05s/batch,  Epoch: 76 \tTest loss: 0.081955]\n",
      "100%|██████████| 59/59 [00:04<00:00, 12.83batch/s,  Epoch: 77 \tLoss: 0.081272\t lr: 0.00010000]\n",
      "100%|██████████| 1/1 [00:00<00:00,  1.01batch/s,  Epoch: 77 \tTest loss: 0.081956]\n",
      "100%|██████████| 59/59 [00:04<00:00, 12.60batch/s,  Epoch: 78 \tLoss: 0.080700\t lr: 0.00010000]\n",
      "100%|██████████| 1/1 [00:00<00:00,  1.10batch/s,  Epoch: 78 \tTest loss: 0.081955]\n",
      "100%|██████████| 59/59 [00:04<00:00, 12.45batch/s,  Epoch: 79 \tLoss: 0.081278\t lr: 0.00010000]\n",
      "100%|██████████| 1/1 [00:01<00:00,  1.05s/batch,  Epoch: 79 \tTest loss: 0.081955]\n",
      "100%|██████████| 59/59 [00:04<00:00, 12.49batch/s,  Epoch: 80 \tLoss: 0.081383\t lr: 0.00010000]\n",
      "100%|██████████| 1/1 [00:00<00:00,  1.30batch/s,  Epoch: 80 \tTest loss: 0.081955]\n",
      "100%|██████████| 59/59 [00:04<00:00, 13.09batch/s,  Epoch: 81 \tLoss: 0.081422\t lr: 0.00001000]\n",
      "100%|██████████| 1/1 [00:00<00:00,  1.40batch/s,  Epoch: 81 \tTest loss: 0.081954]\n",
      "100%|██████████| 59/59 [00:05<00:00, 11.14batch/s,  Epoch: 82 \tLoss: 0.080045\t lr: 0.00001000]\n",
      "100%|██████████| 1/1 [00:00<00:00,  1.44batch/s,  Epoch: 82 \tTest loss: 0.081955]\n",
      "100%|██████████| 59/59 [00:04<00:00, 12.06batch/s,  Epoch: 83 \tLoss: 0.082218\t lr: 0.00001000]\n",
      "100%|██████████| 1/1 [00:00<00:00,  1.03batch/s,  Epoch: 83 \tTest loss: 0.081955]\n",
      "100%|██████████| 59/59 [00:04<00:00, 13.04batch/s,  Epoch: 84 \tLoss: 0.081822\t lr: 0.00001000]\n",
      "100%|██████████| 1/1 [00:00<00:00,  1.15batch/s,  Epoch: 84 \tTest loss: 0.081955]\n",
      "100%|██████████| 59/59 [00:04<00:00, 12.25batch/s,  Epoch: 85 \tLoss: 0.080923\t lr: 0.00001000]\n",
      "100%|██████████| 1/1 [00:00<00:00,  1.36batch/s,  Epoch: 85 \tTest loss: 0.081955]\n",
      "100%|██████████| 59/59 [00:04<00:00, 12.69batch/s,  Epoch: 86 \tLoss: 0.081389\t lr: 0.00001000]\n",
      "100%|██████████| 1/1 [00:00<00:00,  1.39batch/s,  Epoch: 86 \tTest loss: 0.081955]\n",
      "100%|██████████| 59/59 [00:04<00:00, 12.16batch/s,  Epoch: 87 \tLoss: 0.080395\t lr: 0.00000100]\n",
      "100%|██████████| 1/1 [00:00<00:00,  1.47batch/s,  Epoch: 87 \tTest loss: 0.081956]\n",
      " 68%|██████▊   | 40/59 [00:03<00:01, 13.09batch/s,  Epoch: 88 \tLoss: 0.081446\t lr: 0.00000100]\n"
     ]
    },
    {
     "ename": "KeyboardInterrupt",
     "evalue": "",
     "output_type": "error",
     "traceback": [
      "\u001B[1;31m---------------------------------------------------------------------------\u001B[0m",
      "\u001B[1;31mKeyboardInterrupt\u001B[0m                         Traceback (most recent call last)",
      "Cell \u001B[1;32mIn [65], line 2\u001B[0m\n\u001B[0;32m      1\u001B[0m \u001B[38;5;28;01mfor\u001B[39;00m epoch \u001B[38;5;129;01min\u001B[39;00m \u001B[38;5;28mrange\u001B[39m(\u001B[38;5;241m1\u001B[39m, \u001B[38;5;241m201\u001B[39m):\n\u001B[1;32m----> 2\u001B[0m     _ \u001B[38;5;241m=\u001B[39m \u001B[43mtrain\u001B[49m\u001B[43m(\u001B[49m\u001B[43mmodel\u001B[49m\u001B[43m,\u001B[49m\u001B[43m \u001B[49m\u001B[43mtrain_loader\u001B[49m\u001B[43m,\u001B[49m\u001B[43m \u001B[49m\u001B[43moptimizer\u001B[49m\u001B[43m,\u001B[49m\u001B[43m \u001B[49m\u001B[43mepoch\u001B[49m\u001B[43m)\u001B[49m\n\u001B[0;32m      3\u001B[0m     loss \u001B[38;5;241m=\u001B[39m test(model, test_loader, epoch)\n\u001B[0;32m      4\u001B[0m     scheduler\u001B[38;5;241m.\u001B[39mstep(np\u001B[38;5;241m.\u001B[39mmean(loss))\n",
      "Cell \u001B[1;32mIn [64], line 5\u001B[0m, in \u001B[0;36mtrain\u001B[1;34m(model, train_loader, optimizer, epoch)\u001B[0m\n\u001B[0;32m      3\u001B[0m allLoss \u001B[38;5;241m=\u001B[39m []\n\u001B[0;32m      4\u001B[0m \u001B[38;5;28;01mwith\u001B[39;00m tqdm(train_loader, unit\u001B[38;5;241m=\u001B[39m\u001B[38;5;124m'\u001B[39m\u001B[38;5;124mbatch\u001B[39m\u001B[38;5;124m'\u001B[39m) \u001B[38;5;28;01mas\u001B[39;00m tEpoch:\n\u001B[1;32m----> 5\u001B[0m     \u001B[38;5;28;01mfor\u001B[39;00m data, _ \u001B[38;5;129;01min\u001B[39;00m tEpoch:\n\u001B[0;32m      6\u001B[0m         data \u001B[38;5;241m=\u001B[39m data\u001B[38;5;241m.\u001B[39mto(\u001B[38;5;124m'\u001B[39m\u001B[38;5;124mcuda\u001B[39m\u001B[38;5;124m'\u001B[39m)\u001B[38;5;241m.\u001B[39mview(\u001B[38;5;241m-\u001B[39m\u001B[38;5;241m1\u001B[39m, \u001B[38;5;241m28\u001B[39m \u001B[38;5;241m*\u001B[39m \u001B[38;5;241m28\u001B[39m)\n\u001B[0;32m      7\u001B[0m         optimizer\u001B[38;5;241m.\u001B[39mzero_grad()\n",
      "File \u001B[1;32mC:\\Python310\\lib\\site-packages\\tqdm\\std.py:1195\u001B[0m, in \u001B[0;36mtqdm.__iter__\u001B[1;34m(self)\u001B[0m\n\u001B[0;32m   1192\u001B[0m time \u001B[38;5;241m=\u001B[39m \u001B[38;5;28mself\u001B[39m\u001B[38;5;241m.\u001B[39m_time\n\u001B[0;32m   1194\u001B[0m \u001B[38;5;28;01mtry\u001B[39;00m:\n\u001B[1;32m-> 1195\u001B[0m     \u001B[38;5;28;01mfor\u001B[39;00m obj \u001B[38;5;129;01min\u001B[39;00m iterable:\n\u001B[0;32m   1196\u001B[0m         \u001B[38;5;28;01myield\u001B[39;00m obj\n\u001B[0;32m   1197\u001B[0m         \u001B[38;5;66;03m# Update and possibly print the progressbar.\u001B[39;00m\n\u001B[0;32m   1198\u001B[0m         \u001B[38;5;66;03m# Note: does not call self.update(1) for speed optimisation.\u001B[39;00m\n",
      "File \u001B[1;32mC:\\Python310\\lib\\site-packages\\torch\\utils\\data\\dataloader.py:681\u001B[0m, in \u001B[0;36m_BaseDataLoaderIter.__next__\u001B[1;34m(self)\u001B[0m\n\u001B[0;32m    678\u001B[0m \u001B[38;5;28;01mif\u001B[39;00m \u001B[38;5;28mself\u001B[39m\u001B[38;5;241m.\u001B[39m_sampler_iter \u001B[38;5;129;01mis\u001B[39;00m \u001B[38;5;28;01mNone\u001B[39;00m:\n\u001B[0;32m    679\u001B[0m     \u001B[38;5;66;03m# TODO(https://github.com/pytorch/pytorch/issues/76750)\u001B[39;00m\n\u001B[0;32m    680\u001B[0m     \u001B[38;5;28mself\u001B[39m\u001B[38;5;241m.\u001B[39m_reset()  \u001B[38;5;66;03m# type: ignore[call-arg]\u001B[39;00m\n\u001B[1;32m--> 681\u001B[0m data \u001B[38;5;241m=\u001B[39m \u001B[38;5;28;43mself\u001B[39;49m\u001B[38;5;241;43m.\u001B[39;49m\u001B[43m_next_data\u001B[49m\u001B[43m(\u001B[49m\u001B[43m)\u001B[49m\n\u001B[0;32m    682\u001B[0m \u001B[38;5;28mself\u001B[39m\u001B[38;5;241m.\u001B[39m_num_yielded \u001B[38;5;241m+\u001B[39m\u001B[38;5;241m=\u001B[39m \u001B[38;5;241m1\u001B[39m\n\u001B[0;32m    683\u001B[0m \u001B[38;5;28;01mif\u001B[39;00m \u001B[38;5;28mself\u001B[39m\u001B[38;5;241m.\u001B[39m_dataset_kind \u001B[38;5;241m==\u001B[39m _DatasetKind\u001B[38;5;241m.\u001B[39mIterable \u001B[38;5;129;01mand\u001B[39;00m \\\n\u001B[0;32m    684\u001B[0m         \u001B[38;5;28mself\u001B[39m\u001B[38;5;241m.\u001B[39m_IterableDataset_len_called \u001B[38;5;129;01mis\u001B[39;00m \u001B[38;5;129;01mnot\u001B[39;00m \u001B[38;5;28;01mNone\u001B[39;00m \u001B[38;5;129;01mand\u001B[39;00m \\\n\u001B[0;32m    685\u001B[0m         \u001B[38;5;28mself\u001B[39m\u001B[38;5;241m.\u001B[39m_num_yielded \u001B[38;5;241m>\u001B[39m \u001B[38;5;28mself\u001B[39m\u001B[38;5;241m.\u001B[39m_IterableDataset_len_called:\n",
      "File \u001B[1;32mC:\\Python310\\lib\\site-packages\\torch\\utils\\data\\dataloader.py:721\u001B[0m, in \u001B[0;36m_SingleProcessDataLoaderIter._next_data\u001B[1;34m(self)\u001B[0m\n\u001B[0;32m    719\u001B[0m \u001B[38;5;28;01mdef\u001B[39;00m \u001B[38;5;21m_next_data\u001B[39m(\u001B[38;5;28mself\u001B[39m):\n\u001B[0;32m    720\u001B[0m     index \u001B[38;5;241m=\u001B[39m \u001B[38;5;28mself\u001B[39m\u001B[38;5;241m.\u001B[39m_next_index()  \u001B[38;5;66;03m# may raise StopIteration\u001B[39;00m\n\u001B[1;32m--> 721\u001B[0m     data \u001B[38;5;241m=\u001B[39m \u001B[38;5;28;43mself\u001B[39;49m\u001B[38;5;241;43m.\u001B[39;49m\u001B[43m_dataset_fetcher\u001B[49m\u001B[38;5;241;43m.\u001B[39;49m\u001B[43mfetch\u001B[49m\u001B[43m(\u001B[49m\u001B[43mindex\u001B[49m\u001B[43m)\u001B[49m  \u001B[38;5;66;03m# may raise StopIteration\u001B[39;00m\n\u001B[0;32m    722\u001B[0m     \u001B[38;5;28;01mif\u001B[39;00m \u001B[38;5;28mself\u001B[39m\u001B[38;5;241m.\u001B[39m_pin_memory:\n\u001B[0;32m    723\u001B[0m         data \u001B[38;5;241m=\u001B[39m _utils\u001B[38;5;241m.\u001B[39mpin_memory\u001B[38;5;241m.\u001B[39mpin_memory(data, \u001B[38;5;28mself\u001B[39m\u001B[38;5;241m.\u001B[39m_pin_memory_device)\n",
      "File \u001B[1;32mC:\\Python310\\lib\\site-packages\\torch\\utils\\data\\_utils\\fetch.py:49\u001B[0m, in \u001B[0;36m_MapDatasetFetcher.fetch\u001B[1;34m(self, possibly_batched_index)\u001B[0m\n\u001B[0;32m     47\u001B[0m \u001B[38;5;28;01mdef\u001B[39;00m \u001B[38;5;21mfetch\u001B[39m(\u001B[38;5;28mself\u001B[39m, possibly_batched_index):\n\u001B[0;32m     48\u001B[0m     \u001B[38;5;28;01mif\u001B[39;00m \u001B[38;5;28mself\u001B[39m\u001B[38;5;241m.\u001B[39mauto_collation:\n\u001B[1;32m---> 49\u001B[0m         data \u001B[38;5;241m=\u001B[39m [\u001B[38;5;28mself\u001B[39m\u001B[38;5;241m.\u001B[39mdataset[idx] \u001B[38;5;28;01mfor\u001B[39;00m idx \u001B[38;5;129;01min\u001B[39;00m possibly_batched_index]\n\u001B[0;32m     50\u001B[0m     \u001B[38;5;28;01melse\u001B[39;00m:\n\u001B[0;32m     51\u001B[0m         data \u001B[38;5;241m=\u001B[39m \u001B[38;5;28mself\u001B[39m\u001B[38;5;241m.\u001B[39mdataset[possibly_batched_index]\n",
      "File \u001B[1;32mC:\\Python310\\lib\\site-packages\\torch\\utils\\data\\_utils\\fetch.py:49\u001B[0m, in \u001B[0;36m<listcomp>\u001B[1;34m(.0)\u001B[0m\n\u001B[0;32m     47\u001B[0m \u001B[38;5;28;01mdef\u001B[39;00m \u001B[38;5;21mfetch\u001B[39m(\u001B[38;5;28mself\u001B[39m, possibly_batched_index):\n\u001B[0;32m     48\u001B[0m     \u001B[38;5;28;01mif\u001B[39;00m \u001B[38;5;28mself\u001B[39m\u001B[38;5;241m.\u001B[39mauto_collation:\n\u001B[1;32m---> 49\u001B[0m         data \u001B[38;5;241m=\u001B[39m [\u001B[38;5;28;43mself\u001B[39;49m\u001B[38;5;241;43m.\u001B[39;49m\u001B[43mdataset\u001B[49m\u001B[43m[\u001B[49m\u001B[43midx\u001B[49m\u001B[43m]\u001B[49m \u001B[38;5;28;01mfor\u001B[39;00m idx \u001B[38;5;129;01min\u001B[39;00m possibly_batched_index]\n\u001B[0;32m     50\u001B[0m     \u001B[38;5;28;01melse\u001B[39;00m:\n\u001B[0;32m     51\u001B[0m         data \u001B[38;5;241m=\u001B[39m \u001B[38;5;28mself\u001B[39m\u001B[38;5;241m.\u001B[39mdataset[possibly_batched_index]\n",
      "File \u001B[1;32mC:\\Python310\\lib\\site-packages\\torchvision\\datasets\\mnist.py:145\u001B[0m, in \u001B[0;36mMNIST.__getitem__\u001B[1;34m(self, index)\u001B[0m\n\u001B[0;32m    142\u001B[0m img \u001B[38;5;241m=\u001B[39m Image\u001B[38;5;241m.\u001B[39mfromarray(img\u001B[38;5;241m.\u001B[39mnumpy(), mode\u001B[38;5;241m=\u001B[39m\u001B[38;5;124m\"\u001B[39m\u001B[38;5;124mL\u001B[39m\u001B[38;5;124m\"\u001B[39m)\n\u001B[0;32m    144\u001B[0m \u001B[38;5;28;01mif\u001B[39;00m \u001B[38;5;28mself\u001B[39m\u001B[38;5;241m.\u001B[39mtransform \u001B[38;5;129;01mis\u001B[39;00m \u001B[38;5;129;01mnot\u001B[39;00m \u001B[38;5;28;01mNone\u001B[39;00m:\n\u001B[1;32m--> 145\u001B[0m     img \u001B[38;5;241m=\u001B[39m \u001B[38;5;28;43mself\u001B[39;49m\u001B[38;5;241;43m.\u001B[39;49m\u001B[43mtransform\u001B[49m\u001B[43m(\u001B[49m\u001B[43mimg\u001B[49m\u001B[43m)\u001B[49m\n\u001B[0;32m    147\u001B[0m \u001B[38;5;28;01mif\u001B[39;00m \u001B[38;5;28mself\u001B[39m\u001B[38;5;241m.\u001B[39mtarget_transform \u001B[38;5;129;01mis\u001B[39;00m \u001B[38;5;129;01mnot\u001B[39;00m \u001B[38;5;28;01mNone\u001B[39;00m:\n\u001B[0;32m    148\u001B[0m     target \u001B[38;5;241m=\u001B[39m \u001B[38;5;28mself\u001B[39m\u001B[38;5;241m.\u001B[39mtarget_transform(target)\n",
      "File \u001B[1;32mC:\\Python310\\lib\\site-packages\\torchvision\\transforms\\transforms.py:94\u001B[0m, in \u001B[0;36mCompose.__call__\u001B[1;34m(self, img)\u001B[0m\n\u001B[0;32m     92\u001B[0m \u001B[38;5;28;01mdef\u001B[39;00m \u001B[38;5;21m__call__\u001B[39m(\u001B[38;5;28mself\u001B[39m, img):\n\u001B[0;32m     93\u001B[0m     \u001B[38;5;28;01mfor\u001B[39;00m t \u001B[38;5;129;01min\u001B[39;00m \u001B[38;5;28mself\u001B[39m\u001B[38;5;241m.\u001B[39mtransforms:\n\u001B[1;32m---> 94\u001B[0m         img \u001B[38;5;241m=\u001B[39m \u001B[43mt\u001B[49m\u001B[43m(\u001B[49m\u001B[43mimg\u001B[49m\u001B[43m)\u001B[49m\n\u001B[0;32m     95\u001B[0m     \u001B[38;5;28;01mreturn\u001B[39;00m img\n",
      "File \u001B[1;32mC:\\Python310\\lib\\site-packages\\torchvision\\transforms\\transforms.py:134\u001B[0m, in \u001B[0;36mToTensor.__call__\u001B[1;34m(self, pic)\u001B[0m\n\u001B[0;32m    126\u001B[0m \u001B[38;5;28;01mdef\u001B[39;00m \u001B[38;5;21m__call__\u001B[39m(\u001B[38;5;28mself\u001B[39m, pic):\n\u001B[0;32m    127\u001B[0m     \u001B[38;5;124;03m\"\"\"\u001B[39;00m\n\u001B[0;32m    128\u001B[0m \u001B[38;5;124;03m    Args:\u001B[39;00m\n\u001B[0;32m    129\u001B[0m \u001B[38;5;124;03m        pic (PIL Image or numpy.ndarray): Image to be converted to tensor.\u001B[39;00m\n\u001B[1;32m   (...)\u001B[0m\n\u001B[0;32m    132\u001B[0m \u001B[38;5;124;03m        Tensor: Converted image.\u001B[39;00m\n\u001B[0;32m    133\u001B[0m \u001B[38;5;124;03m    \"\"\"\u001B[39;00m\n\u001B[1;32m--> 134\u001B[0m     \u001B[38;5;28;01mreturn\u001B[39;00m \u001B[43mF\u001B[49m\u001B[38;5;241;43m.\u001B[39;49m\u001B[43mto_tensor\u001B[49m\u001B[43m(\u001B[49m\u001B[43mpic\u001B[49m\u001B[43m)\u001B[49m\n",
      "File \u001B[1;32mC:\\Python310\\lib\\site-packages\\torchvision\\transforms\\functional.py:168\u001B[0m, in \u001B[0;36mto_tensor\u001B[1;34m(pic)\u001B[0m\n\u001B[0;32m    166\u001B[0m \u001B[38;5;28;01mif\u001B[39;00m pic\u001B[38;5;241m.\u001B[39mmode \u001B[38;5;241m==\u001B[39m \u001B[38;5;124m\"\u001B[39m\u001B[38;5;124m1\u001B[39m\u001B[38;5;124m\"\u001B[39m:\n\u001B[0;32m    167\u001B[0m     img \u001B[38;5;241m=\u001B[39m \u001B[38;5;241m255\u001B[39m \u001B[38;5;241m*\u001B[39m img\n\u001B[1;32m--> 168\u001B[0m img \u001B[38;5;241m=\u001B[39m \u001B[43mimg\u001B[49m\u001B[38;5;241;43m.\u001B[39;49m\u001B[43mview\u001B[49m\u001B[43m(\u001B[49m\u001B[43mpic\u001B[49m\u001B[38;5;241;43m.\u001B[39;49m\u001B[43msize\u001B[49m\u001B[43m[\u001B[49m\u001B[38;5;241;43m1\u001B[39;49m\u001B[43m]\u001B[49m\u001B[43m,\u001B[49m\u001B[43m \u001B[49m\u001B[43mpic\u001B[49m\u001B[38;5;241;43m.\u001B[39;49m\u001B[43msize\u001B[49m\u001B[43m[\u001B[49m\u001B[38;5;241;43m0\u001B[39;49m\u001B[43m]\u001B[49m\u001B[43m,\u001B[49m\u001B[43m \u001B[49m\u001B[38;5;28;43mlen\u001B[39;49m\u001B[43m(\u001B[49m\u001B[43mpic\u001B[49m\u001B[38;5;241;43m.\u001B[39;49m\u001B[43mgetbands\u001B[49m\u001B[43m(\u001B[49m\u001B[43m)\u001B[49m\u001B[43m)\u001B[49m\u001B[43m)\u001B[49m\n\u001B[0;32m    169\u001B[0m \u001B[38;5;66;03m# put it from HWC to CHW format\u001B[39;00m\n\u001B[0;32m    170\u001B[0m img \u001B[38;5;241m=\u001B[39m img\u001B[38;5;241m.\u001B[39mpermute((\u001B[38;5;241m2\u001B[39m, \u001B[38;5;241m0\u001B[39m, \u001B[38;5;241m1\u001B[39m))\u001B[38;5;241m.\u001B[39mcontiguous()\n",
      "\u001B[1;31mKeyboardInterrupt\u001B[0m: "
     ]
    }
   ],
   "source": [
    "for epoch in range(1, 201):\n",
    "    _ = train(model, train_loader, optimizer, epoch)\n",
    "    loss = test(model, test_loader, epoch)\n",
    "    scheduler.step(np.mean(loss))"
   ],
   "metadata": {
    "collapsed": false
   }
  },
  {
   "cell_type": "code",
   "execution_count": 75,
   "outputs": [
    {
     "data": {
      "text/plain": "<matplotlib.image.AxesImage at 0x25979544a00>"
     },
     "execution_count": 75,
     "metadata": {},
     "output_type": "execute_result"
    },
    {
     "data": {
      "text/plain": "<Figure size 640x480 with 1 Axes>",
      "image/png": "[encoded data removed]"
     },
     "metadata": {},
     "output_type": "display_data"
    }
   ],
   "source": [
    "z = torch.normal(0, 1, size=(1, 64)).cuda()\n",
    "plt.imshow(model.sample(z).cpu().detach().view(28, 28), cmap='Greys')"
   ],
   "metadata": {
    "collapsed": false
   }
  },
  {
   "cell_type": "code",
   "execution_count": 79,
   "outputs": [],
   "source": [
    "img0 = next(iter(test_loader))[0][0]"
   ],
   "metadata": {
    "collapsed": false
   }
  },
  {
   "cell_type": "code",
   "execution_count": 80,
   "outputs": [
    {
     "data": {
      "text/plain": "<matplotlib.image.AxesImage at 0x2597d910d90>"
     },
     "execution_count": 80,
     "metadata": {},
     "output_type": "execute_result"
    },
    {
     "data": {
      "text/plain": "<Figure size 640x480 with 1 Axes>",
      "image/png": "[encoded data removed]"
     },
     "metadata": {},
     "output_type": "display_data"
    }
   ],
   "source": [
    "plt.imshow(img0[0], cmap='Greys')"
   ],
   "metadata": {
    "collapsed": false
   }
  },
  {
   "cell_type": "code",
   "execution_count": 81,
   "outputs": [
    {
     "data": {
      "text/plain": "<matplotlib.image.AxesImage at 0x2597d91cc40>"
     },
     "execution_count": 81,
     "metadata": {},
     "output_type": "execute_result"
    },
    {
     "data": {
      "text/plain": "<Figure size 640x480 with 1 Axes>",
      "image/png": "[encoded data removed]"
     },
     "metadata": {},
     "output_type": "display_data"
    }
   ],
   "source": [
    "output, _, _ = model(img0.view(-1, 28 * 28).cuda())\n",
    "plt.imshow(output.cpu().detach().view(28, 28), cmap='Greys')"
   ],
   "metadata": {
    "collapsed": false
   }
  },
  {
   "cell_type": "markdown",
   "source": [
    "## Cast label into same latent space"
   ],
   "metadata": {
    "collapsed": false
   }
  },
  {
   "cell_type": "code",
   "execution_count": 41,
   "outputs": [],
   "source": [
    "encoder2 = nn.Sequential(nn.Linear(28 * 28 + 10, 256),\n",
    "                         nn.ReLU(),\n",
    "                         nn.Linear(256, 128),\n",
    "                         nn.ReLU())\n",
    "decoder2 = nn.ModuleList([nn.Sequential(nn.Linear(64, 128),\n",
    "                                        nn.ReLU(),\n",
    "                                        nn.Linear(128, 256),\n",
    "                                        nn.ReLU(),\n",
    "                                        nn.Linear(256, 28 * 28),\n",
    "                                        nn.Sigmoid()),\n",
    "                          nn.Sequential(nn.Linear(64, 32),\n",
    "                                        nn.ReLU(),\n",
    "                                        nn.Linear(32, 10))])\n",
    "model = MultiLinearVAE(encoder2, decoder2, 128, 64).cuda()\n",
    "optimizer = optim.Adadelta(model.parameters(), lr=1e1)\n",
    "scheduler = ReduceLROnPlateau(optimizer, factor=0.1, patience=5, verbose=False, threshold=1e-3)"
   ],
   "metadata": {
    "collapsed": false
   }
  },
  {
   "cell_type": "code",
   "execution_count": 42,
   "outputs": [],
   "source": [
    "def train(model, train_loader, optimizer, epoch):\n",
    "    model.train()\n",
    "    allLoss = []\n",
    "    with tqdm(train_loader, unit='batch') as tEpoch:\n",
    "        for data, label in tEpoch:\n",
    "            data = data.view(-1, 28 * 28)\n",
    "            label = nn.functional.one_hot(label).to(torch.float32)\n",
    "            optimizer.zero_grad()\n",
    "            output, mu, log_var = model(torch.cat((data, label), -1).cuda())\n",
    "            reconLoss = BCE(output[0], data.cuda())\n",
    "            loss = reconLoss + nn.functional.cross_entropy(output[1], label.cuda())\n",
    "            # loss = reconLoss\n",
    "            loss.backward()\n",
    "            optimizer.step()\n",
    "            allLoss.append(reconLoss.item())\n",
    "            tEpoch.set_postfix_str(' Epoch: {} \\tLoss: {:.6f}\\tRecon Loss :{:.6f} \\t lr: {:.8f}'.format(\n",
    "                epoch, loss.item(), reconLoss, optimizer.param_groups[0]['lr']))\n",
    "    return allLoss\n",
    "\n",
    "\n",
    "def test(model, train_loader, epoch):\n",
    "    model.eval()\n",
    "    allLoss = []\n",
    "    with tqdm(train_loader, unit='batch') as tEpoch:\n",
    "        for data, label in tEpoch:\n",
    "            data = data.view(-1, 28 * 28)\n",
    "            label = nn.functional.one_hot(label).to(torch.float32)\n",
    "            output, mu, log_var = model(torch.cat((data, label), -1).cuda())\n",
    "            reconLoss = BCE(output[0], data.cuda())\n",
    "            loss = reconLoss + nn.functional.cross_entropy(output[1], label.cuda())\n",
    "            allLoss.append(reconLoss.item())\n",
    "            tEpoch.set_postfix_str(' Epoch: {} \\tTest Loss: {:.6f}\\tRecon Loss :{:.6f}'.format(\n",
    "                epoch, loss.item(), reconLoss))\n",
    "    return allLoss"
   ],
   "metadata": {
    "collapsed": false
   }
  },
  {
   "cell_type": "code",
   "execution_count": 43,
   "outputs": [
    {
     "name": "stderr",
     "output_type": "stream",
     "text": [
      "100%|██████████| 59/59 [00:05<00:00, 10.55batch/s,  Epoch: 1 \tLoss: 1.962807\tRecon Loss :0.265644 \t lr: 10.00000000]\n",
      "100%|██████████| 1/1 [00:00<00:00,  1.24batch/s,  Epoch: 1 \tTest Loss: 2.198196\tRecon Loss :0.263481]\n",
      "100%|██████████| 59/59 [00:05<00:00, 10.91batch/s,  Epoch: 2 \tLoss: 0.716382\tRecon Loss :0.233738 \t lr: 10.00000000]\n",
      "100%|██████████| 1/1 [00:00<00:00,  1.33batch/s,  Epoch: 2 \tTest Loss: 0.568297\tRecon Loss :0.230566]\n",
      "100%|██████████| 59/59 [00:05<00:00, 10.87batch/s,  Epoch: 3 \tLoss: 7.445303\tRecon Loss :0.401504 \t lr: 10.00000000]\n",
      "100%|██████████| 1/1 [00:00<00:00,  1.35batch/s,  Epoch: 3 \tTest Loss: 4.055715\tRecon Loss :0.327621]\n",
      "100%|██████████| 59/59 [00:05<00:00, 10.78batch/s,  Epoch: 4 \tLoss: 0.255796\tRecon Loss :0.217345 \t lr: 10.00000000]\n",
      "100%|██████████| 1/1 [00:00<00:00,  1.12batch/s,  Epoch: 4 \tTest Loss: 0.276643\tRecon Loss :0.217331]\n",
      "100%|██████████| 59/59 [00:05<00:00, 10.61batch/s,  Epoch: 5 \tLoss: 0.571446\tRecon Loss :0.246227 \t lr: 10.00000000] \n",
      "100%|██████████| 1/1 [00:00<00:00,  1.37batch/s,  Epoch: 5 \tTest Loss: 0.465509\tRecon Loss :0.236753]\n",
      "100%|██████████| 59/59 [00:05<00:00, 10.71batch/s,  Epoch: 6 \tLoss: 0.487204\tRecon Loss :0.223777 \t lr: 10.00000000]\n",
      "100%|██████████| 1/1 [00:00<00:00,  1.38batch/s,  Epoch: 6 \tTest Loss: 0.261667\tRecon Loss :0.221463]\n",
      "100%|██████████| 59/59 [00:05<00:00, 11.42batch/s,  Epoch: 7 \tLoss: 0.215595\tRecon Loss :0.214944 \t lr: 10.00000000]\n",
      "100%|██████████| 1/1 [00:00<00:00,  1.37batch/s,  Epoch: 7 \tTest Loss: 0.221532\tRecon Loss :0.217136]\n",
      "100%|██████████| 59/59 [00:05<00:00, 10.87batch/s,  Epoch: 8 \tLoss: 0.227119\tRecon Loss :0.214583 \t lr: 10.00000000]\n",
      "100%|██████████| 1/1 [00:00<00:00,  1.30batch/s,  Epoch: 8 \tTest Loss: 0.217811\tRecon Loss :0.209947]\n",
      "100%|██████████| 59/59 [00:05<00:00, 11.79batch/s,  Epoch: 9 \tLoss: 0.225818\tRecon Loss :0.222566 \t lr: 10.00000000]\n",
      "100%|██████████| 1/1 [00:00<00:00,  1.32batch/s,  Epoch: 9 \tTest Loss: 0.213120\tRecon Loss :0.208182]\n",
      "100%|██████████| 59/59 [00:05<00:00, 11.75batch/s,  Epoch: 10 \tLoss: 0.233949\tRecon Loss :0.211837 \t lr: 10.00000000] \n",
      "100%|██████████| 1/1 [00:00<00:00,  1.41batch/s,  Epoch: 10 \tTest Loss: 0.237062\tRecon Loss :0.214521]\n",
      "100%|██████████| 59/59 [00:05<00:00, 11.10batch/s,  Epoch: 11 \tLoss: 0.214600\tRecon Loss :0.213499 \t lr: 10.00000000]\n",
      "100%|██████████| 1/1 [00:00<00:00,  1.06batch/s,  Epoch: 11 \tTest Loss: 0.207972\tRecon Loss :0.202546]\n",
      "100%|██████████| 59/59 [00:05<00:00, 11.40batch/s,  Epoch: 12 \tLoss: 0.220323\tRecon Loss :0.209815 \t lr: 10.00000000] \n",
      "100%|██████████| 1/1 [00:00<00:00,  1.15batch/s,  Epoch: 12 \tTest Loss: 0.216153\tRecon Loss :0.203736]\n",
      "100%|██████████| 59/59 [00:05<00:00, 11.40batch/s,  Epoch: 13 \tLoss: 2.111614\tRecon Loss :0.498550 \t lr: 10.00000000]  \n",
      "100%|██████████| 1/1 [00:00<00:00,  1.13batch/s,  Epoch: 13 \tTest Loss: 1.899306\tRecon Loss :0.415959]\n",
      "100%|██████████| 59/59 [00:05<00:00, 11.43batch/s,  Epoch: 14 \tLoss: 0.228977\tRecon Loss :0.213586 \t lr: 10.00000000]\n",
      "100%|██████████| 1/1 [00:01<00:00,  1.04s/batch,  Epoch: 14 \tTest Loss: 0.236186\tRecon Loss :0.216496]\n",
      "100%|██████████| 59/59 [00:04<00:00, 12.02batch/s,  Epoch: 15 \tLoss: 3.010690\tRecon Loss :0.746224 \t lr: 10.00000000] \n",
      "100%|██████████| 1/1 [00:00<00:00,  1.16batch/s,  Epoch: 15 \tTest Loss: 3.340316\tRecon Loss :0.376775]\n",
      "100%|██████████| 59/59 [00:05<00:00, 10.73batch/s,  Epoch: 16 \tLoss: 1.392284\tRecon Loss :0.242167 \t lr: 10.00000000]\n",
      "100%|██████████| 1/1 [00:00<00:00,  1.28batch/s,  Epoch: 16 \tTest Loss: 1.376334\tRecon Loss :0.240339]\n",
      "100%|██████████| 59/59 [00:05<00:00, 11.53batch/s,  Epoch: 17 \tLoss: 0.220572\tRecon Loss :0.206191 \t lr: 10.00000000]\n",
      "100%|██████████| 1/1 [00:01<00:00,  1.01s/batch,  Epoch: 17 \tTest Loss: 0.219245\tRecon Loss :0.208103]\n",
      "100%|██████████| 59/59 [00:05<00:00, 11.77batch/s,  Epoch: 18 \tLoss: 0.197893\tRecon Loss :0.195343 \t lr: 1.00000000]\n",
      "100%|██████████| 1/1 [00:00<00:00,  1.13batch/s,  Epoch: 18 \tTest Loss: 0.204068\tRecon Loss :0.200317]\n",
      "100%|██████████| 59/59 [00:05<00:00, 11.56batch/s,  Epoch: 19 \tLoss: 0.205302\tRecon Loss :0.201508 \t lr: 1.00000000]\n",
      "100%|██████████| 1/1 [00:00<00:00,  1.38batch/s,  Epoch: 19 \tTest Loss: 0.198875\tRecon Loss :0.196956]\n",
      "100%|██████████| 59/59 [00:05<00:00, 10.87batch/s,  Epoch: 20 \tLoss: 0.198763\tRecon Loss :0.198600 \t lr: 1.00000000]\n",
      "100%|██████████| 1/1 [00:00<00:00,  1.35batch/s,  Epoch: 20 \tTest Loss: 0.195840\tRecon Loss :0.194248]\n",
      "100%|██████████| 59/59 [00:05<00:00, 10.63batch/s,  Epoch: 21 \tLoss: 0.195144\tRecon Loss :0.195079 \t lr: 1.00000000]\n",
      "100%|██████████| 1/1 [00:00<00:00,  1.35batch/s,  Epoch: 21 \tTest Loss: 0.193400\tRecon Loss :0.191812]\n",
      "100%|██████████| 59/59 [00:05<00:00, 11.19batch/s,  Epoch: 22 \tLoss: 0.189053\tRecon Loss :0.189020 \t lr: 1.00000000]\n",
      "100%|██████████| 1/1 [00:00<00:00,  1.40batch/s,  Epoch: 22 \tTest Loss: 0.191468\tRecon Loss :0.189654]\n",
      "100%|██████████| 59/59 [00:05<00:00, 11.24batch/s,  Epoch: 23 \tLoss: 0.187777\tRecon Loss :0.187174 \t lr: 1.00000000]\n",
      "100%|██████████| 1/1 [00:00<00:00,  1.36batch/s,  Epoch: 23 \tTest Loss: 0.189757\tRecon Loss :0.187638]\n",
      "100%|██████████| 59/59 [00:05<00:00, 10.81batch/s,  Epoch: 24 \tLoss: 0.188658\tRecon Loss :0.188587 \t lr: 1.00000000]\n",
      "100%|██████████| 1/1 [00:00<00:00,  1.39batch/s,  Epoch: 24 \tTest Loss: 0.187906\tRecon Loss :0.185470]\n",
      "100%|██████████| 59/59 [00:05<00:00, 11.37batch/s,  Epoch: 25 \tLoss: 0.183878\tRecon Loss :0.183817 \t lr: 1.00000000]\n",
      "100%|██████████| 1/1 [00:01<00:00,  1.03s/batch,  Epoch: 25 \tTest Loss: 0.185940\tRecon Loss :0.183456]\n",
      "100%|██████████| 59/59 [00:05<00:00, 11.32batch/s,  Epoch: 26 \tLoss: 0.185726\tRecon Loss :0.185641 \t lr: 1.00000000]\n",
      "100%|██████████| 1/1 [00:00<00:00,  1.14batch/s,  Epoch: 26 \tTest Loss: 0.184668\tRecon Loss :0.181501]\n",
      "100%|██████████| 59/59 [00:05<00:00, 11.32batch/s,  Epoch: 27 \tLoss: 0.182010\tRecon Loss :0.181898 \t lr: 1.00000000]\n",
      "100%|██████████| 1/1 [00:00<00:00,  1.38batch/s,  Epoch: 27 \tTest Loss: 0.182264\tRecon Loss :0.179565]\n",
      "100%|██████████| 59/59 [00:05<00:00, 11.57batch/s,  Epoch: 28 \tLoss: 0.179690\tRecon Loss :0.179550 \t lr: 1.00000000]\n",
      "100%|██████████| 1/1 [00:00<00:00,  1.38batch/s,  Epoch: 28 \tTest Loss: 0.180603\tRecon Loss :0.177495]\n",
      "100%|██████████| 59/59 [00:05<00:00, 11.21batch/s,  Epoch: 29 \tLoss: 0.176302\tRecon Loss :0.176283 \t lr: 1.00000000]\n",
      "100%|██████████| 1/1 [00:00<00:00,  1.13batch/s,  Epoch: 29 \tTest Loss: 0.179136\tRecon Loss :0.175736]\n",
      "100%|██████████| 59/59 [00:05<00:00, 11.26batch/s,  Epoch: 30 \tLoss: 0.175973\tRecon Loss :0.175905 \t lr: 1.00000000]\n",
      "100%|██████████| 1/1 [00:00<00:00,  1.09batch/s,  Epoch: 30 \tTest Loss: 0.177825\tRecon Loss :0.174324]\n",
      "100%|██████████| 59/59 [00:04<00:00, 11.80batch/s,  Epoch: 31 \tLoss: 0.171910\tRecon Loss :0.171754 \t lr: 1.00000000]\n",
      "100%|██████████| 1/1 [00:00<00:00,  1.00batch/s,  Epoch: 31 \tTest Loss: 0.176369\tRecon Loss :0.172658]\n",
      "100%|██████████| 59/59 [00:04<00:00, 11.91batch/s,  Epoch: 32 \tLoss: 0.178226\tRecon Loss :0.173705 \t lr: 1.00000000]\n",
      "100%|██████████| 1/1 [00:01<00:00,  1.03s/batch,  Epoch: 32 \tTest Loss: 0.175574\tRecon Loss :0.171474]\n",
      "100%|██████████| 59/59 [00:04<00:00, 11.88batch/s,  Epoch: 33 \tLoss: 0.169768\tRecon Loss :0.169756 \t lr: 1.00000000]\n",
      "100%|██████████| 1/1 [00:01<00:00,  1.23s/batch,  Epoch: 33 \tTest Loss: 0.173637\tRecon Loss :0.169571]\n",
      "100%|██████████| 59/59 [00:05<00:00, 11.08batch/s,  Epoch: 34 \tLoss: 0.172581\tRecon Loss :0.172568 \t lr: 1.00000000]\n",
      "100%|██████████| 1/1 [00:00<00:00,  1.34batch/s,  Epoch: 34 \tTest Loss: 0.174136\tRecon Loss :0.170178]\n",
      "100%|██████████| 59/59 [00:05<00:00, 11.48batch/s,  Epoch: 35 \tLoss: 0.166912\tRecon Loss :0.166807 \t lr: 1.00000000]\n",
      "100%|██████████| 1/1 [00:00<00:00,  1.34batch/s,  Epoch: 35 \tTest Loss: 0.171347\tRecon Loss :0.167245]\n",
      "100%|██████████| 59/59 [00:05<00:00, 11.25batch/s,  Epoch: 36 \tLoss: 0.168676\tRecon Loss :0.168674 \t lr: 1.00000000]\n",
      "100%|██████████| 1/1 [00:00<00:00,  1.45batch/s,  Epoch: 36 \tTest Loss: 0.171196\tRecon Loss :0.167064]\n",
      "100%|██████████| 59/59 [00:05<00:00, 11.55batch/s,  Epoch: 37 \tLoss: 0.173221\tRecon Loss :0.168218 \t lr: 1.00000000]\n",
      "100%|██████████| 1/1 [00:00<00:00,  1.06batch/s,  Epoch: 37 \tTest Loss: 0.170802\tRecon Loss :0.166548]\n",
      "100%|██████████| 59/59 [00:05<00:00, 11.31batch/s,  Epoch: 38 \tLoss: 0.162067\tRecon Loss :0.162057 \t lr: 1.00000000]\n",
      "100%|██████████| 1/1 [00:00<00:00,  1.32batch/s,  Epoch: 38 \tTest Loss: 0.168530\tRecon Loss :0.164258]\n",
      "100%|██████████| 59/59 [00:05<00:00, 11.16batch/s,  Epoch: 39 \tLoss: 0.166755\tRecon Loss :0.166627 \t lr: 1.00000000]\n",
      "100%|██████████| 1/1 [00:00<00:00,  1.38batch/s,  Epoch: 39 \tTest Loss: 0.167697\tRecon Loss :0.163703]\n",
      "100%|██████████| 59/59 [00:05<00:00, 10.88batch/s,  Epoch: 40 \tLoss: 0.163549\tRecon Loss :0.163333 \t lr: 1.00000000]\n",
      "100%|██████████| 1/1 [00:00<00:00,  1.38batch/s,  Epoch: 40 \tTest Loss: 0.166559\tRecon Loss :0.162306]\n",
      "100%|██████████| 59/59 [00:05<00:00, 10.67batch/s,  Epoch: 41 \tLoss: 0.162271\tRecon Loss :0.162265 \t lr: 1.00000000]\n",
      "100%|██████████| 1/1 [00:00<00:00,  1.34batch/s,  Epoch: 41 \tTest Loss: 0.164954\tRecon Loss :0.160603]\n",
      "100%|██████████| 59/59 [00:05<00:00, 11.27batch/s,  Epoch: 42 \tLoss: 0.161551\tRecon Loss :0.161539 \t lr: 1.00000000]\n",
      "100%|██████████| 1/1 [00:00<00:00,  1.38batch/s,  Epoch: 42 \tTest Loss: 0.166630\tRecon Loss :0.162245]\n",
      "100%|██████████| 59/59 [00:05<00:00, 11.17batch/s,  Epoch: 43 \tLoss: 0.163698\tRecon Loss :0.163696 \t lr: 1.00000000]\n",
      "100%|██████████| 1/1 [00:00<00:00,  1.08batch/s,  Epoch: 43 \tTest Loss: 0.162936\tRecon Loss :0.158859]\n",
      "100%|██████████| 59/59 [00:05<00:00, 11.51batch/s,  Epoch: 44 \tLoss: 0.163528\tRecon Loss :0.163430 \t lr: 1.00000000]\n",
      "100%|██████████| 1/1 [00:00<00:00,  1.12batch/s,  Epoch: 44 \tTest Loss: 0.164302\tRecon Loss :0.159324]\n",
      "100%|██████████| 59/59 [00:05<00:00, 11.25batch/s,  Epoch: 45 \tLoss: 0.156796\tRecon Loss :0.156765 \t lr: 1.00000000]\n",
      "100%|██████████| 1/1 [00:00<00:00,  1.38batch/s,  Epoch: 45 \tTest Loss: 0.161859\tRecon Loss :0.157351]\n",
      "100%|██████████| 59/59 [00:05<00:00, 11.36batch/s,  Epoch: 46 \tLoss: 0.158482\tRecon Loss :0.158358 \t lr: 1.00000000]\n",
      "100%|██████████| 1/1 [00:00<00:00,  1.01batch/s,  Epoch: 46 \tTest Loss: 0.161590\tRecon Loss :0.156736]\n",
      "100%|██████████| 59/59 [00:05<00:00, 11.21batch/s,  Epoch: 47 \tLoss: 0.161008\tRecon Loss :0.160968 \t lr: 1.00000000]\n",
      "100%|██████████| 1/1 [00:00<00:00,  1.37batch/s,  Epoch: 47 \tTest Loss: 0.160866\tRecon Loss :0.156279]\n",
      "100%|██████████| 59/59 [00:05<00:00, 11.00batch/s,  Epoch: 48 \tLoss: 0.157925\tRecon Loss :0.157915 \t lr: 1.00000000]\n",
      "100%|██████████| 1/1 [00:00<00:00,  1.39batch/s,  Epoch: 48 \tTest Loss: 0.162795\tRecon Loss :0.158469]\n",
      "100%|██████████| 59/59 [00:05<00:00, 11.73batch/s,  Epoch: 49 \tLoss: 0.158370\tRecon Loss :0.158225 \t lr: 1.00000000]\n",
      "100%|██████████| 1/1 [00:00<00:00,  1.38batch/s,  Epoch: 49 \tTest Loss: 0.159399\tRecon Loss :0.154753]\n",
      "100%|██████████| 59/59 [00:05<00:00, 11.38batch/s,  Epoch: 50 \tLoss: 0.156362\tRecon Loss :0.156349 \t lr: 1.00000000]\n",
      "100%|██████████| 1/1 [00:00<00:00,  1.39batch/s,  Epoch: 50 \tTest Loss: 0.158437\tRecon Loss :0.154888]\n",
      "100%|██████████| 59/59 [00:05<00:00, 11.42batch/s,  Epoch: 51 \tLoss: 0.155667\tRecon Loss :0.155663 \t lr: 1.00000000]\n",
      "100%|██████████| 1/1 [00:01<00:00,  1.06s/batch,  Epoch: 51 \tTest Loss: 0.158324\tRecon Loss :0.154208]\n",
      "100%|██████████| 59/59 [00:05<00:00, 11.64batch/s,  Epoch: 52 \tLoss: 0.155800\tRecon Loss :0.155800 \t lr: 1.00000000]\n",
      "100%|██████████| 1/1 [00:00<00:00,  1.39batch/s,  Epoch: 52 \tTest Loss: 0.158970\tRecon Loss :0.153557]\n",
      "100%|██████████| 59/59 [00:05<00:00, 11.59batch/s,  Epoch: 53 \tLoss: 0.157136\tRecon Loss :0.156980 \t lr: 1.00000000]\n",
      "100%|██████████| 1/1 [00:00<00:00,  1.39batch/s,  Epoch: 53 \tTest Loss: 0.157443\tRecon Loss :0.153017]\n",
      "100%|██████████| 59/59 [00:05<00:00, 11.56batch/s,  Epoch: 54 \tLoss: 0.154947\tRecon Loss :0.154940 \t lr: 1.00000000]\n",
      "100%|██████████| 1/1 [00:00<00:00,  1.14batch/s,  Epoch: 54 \tTest Loss: 0.155928\tRecon Loss :0.151845]\n",
      "100%|██████████| 59/59 [00:05<00:00, 11.08batch/s,  Epoch: 55 \tLoss: 0.152612\tRecon Loss :0.152474 \t lr: 1.00000000]\n",
      "100%|██████████| 1/1 [00:00<00:00,  1.13batch/s,  Epoch: 55 \tTest Loss: 0.155090\tRecon Loss :0.150844]\n",
      "100%|██████████| 59/59 [00:05<00:00, 11.45batch/s,  Epoch: 56 \tLoss: 0.155808\tRecon Loss :0.155642 \t lr: 1.00000000]\n",
      "100%|██████████| 1/1 [00:00<00:00,  1.38batch/s,  Epoch: 56 \tTest Loss: 0.156350\tRecon Loss :0.152036]\n",
      "100%|██████████| 59/59 [00:05<00:00, 11.04batch/s,  Epoch: 57 \tLoss: 0.155466\tRecon Loss :0.155411 \t lr: 1.00000000]\n",
      "100%|██████████| 1/1 [00:00<00:00,  1.06batch/s,  Epoch: 57 \tTest Loss: 0.154639\tRecon Loss :0.149845]\n",
      "100%|██████████| 59/59 [00:05<00:00, 11.31batch/s,  Epoch: 58 \tLoss: 0.150109\tRecon Loss :0.150090 \t lr: 1.00000000]\n",
      "100%|██████████| 1/1 [00:00<00:00,  1.36batch/s,  Epoch: 58 \tTest Loss: 0.154559\tRecon Loss :0.149422]\n",
      "100%|██████████| 59/59 [00:05<00:00, 10.83batch/s,  Epoch: 59 \tLoss: 0.149071\tRecon Loss :0.149040 \t lr: 1.00000000]\n",
      "100%|██████████| 1/1 [00:00<00:00,  1.01batch/s,  Epoch: 59 \tTest Loss: 0.153498\tRecon Loss :0.148892]\n",
      "100%|██████████| 59/59 [00:05<00:00, 11.52batch/s,  Epoch: 60 \tLoss: 0.148499\tRecon Loss :0.148498 \t lr: 1.00000000]\n",
      "100%|██████████| 1/1 [00:00<00:00,  1.40batch/s,  Epoch: 60 \tTest Loss: 0.152912\tRecon Loss :0.148056]\n",
      "100%|██████████| 59/59 [00:05<00:00, 11.76batch/s,  Epoch: 61 \tLoss: 0.149671\tRecon Loss :0.149563 \t lr: 1.00000000]\n",
      "100%|██████████| 1/1 [00:00<00:00,  1.37batch/s,  Epoch: 61 \tTest Loss: 0.153356\tRecon Loss :0.148889]\n",
      "100%|██████████| 59/59 [00:05<00:00, 11.33batch/s,  Epoch: 62 \tLoss: 0.152562\tRecon Loss :0.152459 \t lr: 1.00000000]\n",
      "100%|██████████| 1/1 [00:00<00:00,  1.07batch/s,  Epoch: 62 \tTest Loss: 0.153915\tRecon Loss :0.148593]\n",
      "100%|██████████| 59/59 [00:05<00:00, 11.12batch/s,  Epoch: 63 \tLoss: 0.151371\tRecon Loss :0.151361 \t lr: 1.00000000]\n",
      "100%|██████████| 1/1 [00:00<00:00,  1.40batch/s,  Epoch: 63 \tTest Loss: 0.152582\tRecon Loss :0.147905]\n",
      "100%|██████████| 59/59 [00:04<00:00, 12.00batch/s,  Epoch: 64 \tLoss: 0.147760\tRecon Loss :0.147735 \t lr: 1.00000000]\n",
      "100%|██████████| 1/1 [00:00<00:00,  1.10batch/s,  Epoch: 64 \tTest Loss: 0.151742\tRecon Loss :0.147107]\n",
      "100%|██████████| 59/59 [00:05<00:00, 11.70batch/s,  Epoch: 65 \tLoss: 0.147281\tRecon Loss :0.147278 \t lr: 1.00000000]\n",
      "100%|██████████| 1/1 [00:00<00:00,  1.40batch/s,  Epoch: 65 \tTest Loss: 0.153321\tRecon Loss :0.148664]\n",
      "100%|██████████| 59/59 [00:05<00:00, 11.04batch/s,  Epoch: 66 \tLoss: 0.148404\tRecon Loss :0.148404 \t lr: 1.00000000]\n",
      "100%|██████████| 1/1 [00:00<00:00,  1.14batch/s,  Epoch: 66 \tTest Loss: 0.151258\tRecon Loss :0.146337]\n",
      "100%|██████████| 59/59 [00:05<00:00, 11.42batch/s,  Epoch: 67 \tLoss: 0.148116\tRecon Loss :0.148110 \t lr: 1.00000000]\n",
      "100%|██████████| 1/1 [00:00<00:00,  1.40batch/s,  Epoch: 67 \tTest Loss: 0.151220\tRecon Loss :0.146585]\n",
      "100%|██████████| 59/59 [00:05<00:00, 11.11batch/s,  Epoch: 68 \tLoss: 0.145646\tRecon Loss :0.145636 \t lr: 1.00000000]\n",
      "100%|██████████| 1/1 [00:00<00:00,  1.01batch/s,  Epoch: 68 \tTest Loss: 0.149996\tRecon Loss :0.144696]\n",
      "100%|██████████| 59/59 [00:04<00:00, 12.04batch/s,  Epoch: 69 \tLoss: 0.143680\tRecon Loss :0.143679 \t lr: 1.00000000]\n",
      "100%|██████████| 1/1 [00:01<00:00,  1.09s/batch,  Epoch: 69 \tTest Loss: 0.149589\tRecon Loss :0.144662]\n",
      "100%|██████████| 59/59 [00:04<00:00, 11.95batch/s,  Epoch: 70 \tLoss: 0.150025\tRecon Loss :0.150021 \t lr: 1.00000000]\n",
      "100%|██████████| 1/1 [00:00<00:00,  1.41batch/s,  Epoch: 70 \tTest Loss: 0.149102\tRecon Loss :0.144587]\n",
      "100%|██████████| 59/59 [00:05<00:00, 11.12batch/s,  Epoch: 71 \tLoss: 0.140980\tRecon Loss :0.140932 \t lr: 1.00000000]\n",
      "100%|██████████| 1/1 [00:00<00:00,  1.36batch/s,  Epoch: 71 \tTest Loss: 0.147863\tRecon Loss :0.143639]\n",
      "100%|██████████| 59/59 [00:05<00:00, 11.50batch/s,  Epoch: 72 \tLoss: 0.145608\tRecon Loss :0.145607 \t lr: 1.00000000]\n",
      "100%|██████████| 1/1 [00:00<00:00,  1.33batch/s,  Epoch: 72 \tTest Loss: 0.148344\tRecon Loss :0.143630]\n",
      "100%|██████████| 59/59 [00:05<00:00, 10.95batch/s,  Epoch: 73 \tLoss: 0.142533\tRecon Loss :0.141855 \t lr: 1.00000000]\n",
      "100%|██████████| 1/1 [00:01<00:00,  1.02s/batch,  Epoch: 73 \tTest Loss: 0.149290\tRecon Loss :0.143857]\n",
      "100%|██████████| 59/59 [00:04<00:00, 11.91batch/s,  Epoch: 74 \tLoss: 0.145399\tRecon Loss :0.145389 \t lr: 1.00000000]\n",
      "100%|██████████| 1/1 [00:01<00:00,  1.03s/batch,  Epoch: 74 \tTest Loss: 0.147116\tRecon Loss :0.143047]\n",
      "100%|██████████| 59/59 [00:04<00:00, 11.94batch/s,  Epoch: 75 \tLoss: 0.144015\tRecon Loss :0.143949 \t lr: 1.00000000]\n",
      "100%|██████████| 1/1 [00:01<00:00,  1.05s/batch,  Epoch: 75 \tTest Loss: 0.147331\tRecon Loss :0.142019]\n",
      "100%|██████████| 59/59 [00:04<00:00, 11.92batch/s,  Epoch: 76 \tLoss: 0.137327\tRecon Loss :0.137327 \t lr: 1.00000000]\n",
      "100%|██████████| 1/1 [00:01<00:00,  1.05s/batch,  Epoch: 76 \tTest Loss: 0.146825\tRecon Loss :0.143074]\n",
      "100%|██████████| 59/59 [00:05<00:00, 11.41batch/s,  Epoch: 77 \tLoss: 0.143855\tRecon Loss :0.143851 \t lr: 1.00000000]\n",
      "100%|██████████| 1/1 [00:00<00:00,  1.38batch/s,  Epoch: 77 \tTest Loss: 0.146370\tRecon Loss :0.141645]\n",
      "100%|██████████| 59/59 [00:05<00:00, 10.87batch/s,  Epoch: 78 \tLoss: 0.141744\tRecon Loss :0.141742 \t lr: 1.00000000]\n",
      "100%|██████████| 1/1 [00:00<00:00,  1.42batch/s,  Epoch: 78 \tTest Loss: 0.146203\tRecon Loss :0.141566]\n",
      "100%|██████████| 59/59 [00:05<00:00, 11.51batch/s,  Epoch: 79 \tLoss: 0.139576\tRecon Loss :0.139495 \t lr: 1.00000000]\n",
      "100%|██████████| 1/1 [00:00<00:00,  1.41batch/s,  Epoch: 79 \tTest Loss: 0.146846\tRecon Loss :0.142199]\n",
      "100%|██████████| 59/59 [00:05<00:00, 11.21batch/s,  Epoch: 80 \tLoss: 0.140060\tRecon Loss :0.139983 \t lr: 1.00000000]\n",
      "100%|██████████| 1/1 [00:00<00:00,  1.37batch/s,  Epoch: 80 \tTest Loss: 0.143697\tRecon Loss :0.140007]\n",
      "100%|██████████| 59/59 [00:05<00:00, 11.10batch/s,  Epoch: 81 \tLoss: 0.139896\tRecon Loss :0.139794 \t lr: 1.00000000]\n",
      "100%|██████████| 1/1 [00:00<00:00,  1.39batch/s,  Epoch: 81 \tTest Loss: 0.144690\tRecon Loss :0.140852]\n",
      "100%|██████████| 59/59 [00:05<00:00, 11.48batch/s,  Epoch: 82 \tLoss: 0.139602\tRecon Loss :0.139599 \t lr: 1.00000000]\n",
      "100%|██████████| 1/1 [00:00<00:00,  1.39batch/s,  Epoch: 82 \tTest Loss: 0.143886\tRecon Loss :0.140572]\n",
      "100%|██████████| 59/59 [00:05<00:00, 10.77batch/s,  Epoch: 83 \tLoss: 0.141812\tRecon Loss :0.141809 \t lr: 1.00000000]\n",
      "100%|██████████| 1/1 [00:00<00:00,  1.37batch/s,  Epoch: 83 \tTest Loss: 0.143460\tRecon Loss :0.139431]\n",
      "100%|██████████| 59/59 [00:05<00:00, 10.99batch/s,  Epoch: 84 \tLoss: 0.143608\tRecon Loss :0.143595 \t lr: 1.00000000]\n",
      "100%|██████████| 1/1 [00:01<00:00,  1.02s/batch,  Epoch: 84 \tTest Loss: 0.143413\tRecon Loss :0.139712]\n",
      "100%|██████████| 59/59 [00:04<00:00, 11.82batch/s,  Epoch: 85 \tLoss: 0.141115\tRecon Loss :0.141103 \t lr: 1.00000000]\n",
      "100%|██████████| 1/1 [00:00<00:00,  1.40batch/s,  Epoch: 85 \tTest Loss: 0.142515\tRecon Loss :0.139275]\n",
      "100%|██████████| 59/59 [00:05<00:00, 11.48batch/s,  Epoch: 86 \tLoss: 0.142633\tRecon Loss :0.142633 \t lr: 1.00000000]\n",
      "100%|██████████| 1/1 [00:00<00:00,  1.05batch/s,  Epoch: 86 \tTest Loss: 0.143261\tRecon Loss :0.139745]\n",
      "100%|██████████| 59/59 [00:05<00:00, 10.91batch/s,  Epoch: 87 \tLoss: 0.144034\tRecon Loss :0.143700 \t lr: 1.00000000]\n",
      "100%|██████████| 1/1 [00:00<00:00,  1.38batch/s,  Epoch: 87 \tTest Loss: 0.144310\tRecon Loss :0.139314]\n",
      "100%|██████████| 59/59 [00:05<00:00, 11.19batch/s,  Epoch: 88 \tLoss: 0.135921\tRecon Loss :0.135915 \t lr: 1.00000000]\n",
      "100%|██████████| 1/1 [00:00<00:00,  1.40batch/s,  Epoch: 88 \tTest Loss: 0.140184\tRecon Loss :0.137086]\n",
      "100%|██████████| 59/59 [00:05<00:00, 11.33batch/s,  Epoch: 89 \tLoss: 0.138515\tRecon Loss :0.138341 \t lr: 1.00000000]\n",
      "100%|██████████| 1/1 [00:01<00:00,  1.05s/batch,  Epoch: 89 \tTest Loss: 0.140308\tRecon Loss :0.137577]\n",
      "100%|██████████| 59/59 [00:05<00:00, 11.65batch/s,  Epoch: 90 \tLoss: 0.139513\tRecon Loss :0.139494 \t lr: 1.00000000]\n",
      "100%|██████████| 1/1 [00:00<00:00,  1.08batch/s,  Epoch: 90 \tTest Loss: 0.140887\tRecon Loss :0.138191]\n",
      "100%|██████████| 59/59 [00:05<00:00, 11.48batch/s,  Epoch: 91 \tLoss: 0.139103\tRecon Loss :0.139101 \t lr: 1.00000000]\n",
      "100%|██████████| 1/1 [00:01<00:00,  1.05s/batch,  Epoch: 91 \tTest Loss: 0.139847\tRecon Loss :0.136816]\n",
      "100%|██████████| 59/59 [00:05<00:00, 11.53batch/s,  Epoch: 92 \tLoss: 0.141368\tRecon Loss :0.141365 \t lr: 1.00000000]\n",
      "100%|██████████| 1/1 [00:00<00:00,  1.41batch/s,  Epoch: 92 \tTest Loss: 0.140186\tRecon Loss :0.137181]\n",
      "100%|██████████| 59/59 [00:05<00:00, 11.27batch/s,  Epoch: 93 \tLoss: 0.142710\tRecon Loss :0.141387 \t lr: 1.00000000]\n",
      "100%|██████████| 1/1 [00:00<00:00,  1.41batch/s,  Epoch: 93 \tTest Loss: 0.143631\tRecon Loss :0.140173]\n",
      "100%|██████████| 59/59 [00:05<00:00, 11.28batch/s,  Epoch: 94 \tLoss: 0.133034\tRecon Loss :0.133014 \t lr: 1.00000000]\n",
      "100%|██████████| 1/1 [00:00<00:00,  1.13batch/s,  Epoch: 94 \tTest Loss: 0.138251\tRecon Loss :0.135647]\n",
      "100%|██████████| 59/59 [00:05<00:00, 11.42batch/s,  Epoch: 95 \tLoss: 0.136236\tRecon Loss :0.136190 \t lr: 1.00000000]\n",
      "100%|██████████| 1/1 [00:00<00:00,  1.36batch/s,  Epoch: 95 \tTest Loss: 0.138123\tRecon Loss :0.135446]\n",
      "100%|██████████| 59/59 [00:05<00:00, 11.32batch/s,  Epoch: 96 \tLoss: 0.139868\tRecon Loss :0.139862 \t lr: 1.00000000]\n",
      "100%|██████████| 1/1 [00:00<00:00,  1.38batch/s,  Epoch: 96 \tTest Loss: 0.139186\tRecon Loss :0.135305]\n",
      "100%|██████████| 59/59 [00:05<00:00, 10.73batch/s,  Epoch: 97 \tLoss: 0.137628\tRecon Loss :0.137067 \t lr: 1.00000000]\n",
      "100%|██████████| 1/1 [00:00<00:00,  1.41batch/s,  Epoch: 97 \tTest Loss: 0.140675\tRecon Loss :0.136907]\n",
      "100%|██████████| 59/59 [00:05<00:00, 10.94batch/s,  Epoch: 98 \tLoss: 0.137880\tRecon Loss :0.137880 \t lr: 1.00000000]\n",
      "100%|██████████| 1/1 [00:00<00:00,  1.37batch/s,  Epoch: 98 \tTest Loss: 0.138604\tRecon Loss :0.135782]\n",
      "100%|██████████| 59/59 [00:05<00:00, 11.14batch/s,  Epoch: 99 \tLoss: 0.137275\tRecon Loss :0.137246 \t lr: 1.00000000]\n",
      "100%|██████████| 1/1 [00:00<00:00,  1.02batch/s,  Epoch: 99 \tTest Loss: 0.138303\tRecon Loss :0.135632]\n",
      "100%|██████████| 59/59 [00:04<00:00, 11.93batch/s,  Epoch: 100 \tLoss: 0.135884\tRecon Loss :0.135883 \t lr: 1.00000000]\n",
      "100%|██████████| 1/1 [00:01<00:00,  1.05s/batch,  Epoch: 100 \tTest Loss: 0.137673\tRecon Loss :0.134879]\n",
      "100%|██████████| 59/59 [00:04<00:00, 11.98batch/s,  Epoch: 101 \tLoss: 0.135645\tRecon Loss :0.135571 \t lr: 1.00000000]\n",
      "100%|██████████| 1/1 [00:01<00:00,  1.06s/batch,  Epoch: 101 \tTest Loss: 0.135214\tRecon Loss :0.133009]\n",
      "100%|██████████| 59/59 [00:04<00:00, 12.07batch/s,  Epoch: 102 \tLoss: 0.133635\tRecon Loss :0.133515 \t lr: 1.00000000]\n",
      "100%|██████████| 1/1 [00:00<00:00,  1.36batch/s,  Epoch: 102 \tTest Loss: 0.135576\tRecon Loss :0.133047]\n",
      "100%|██████████| 59/59 [00:05<00:00, 11.51batch/s,  Epoch: 103 \tLoss: 0.138548\tRecon Loss :0.138543 \t lr: 1.00000000]\n",
      "100%|██████████| 1/1 [00:01<00:00,  1.04s/batch,  Epoch: 103 \tTest Loss: 0.136540\tRecon Loss :0.134004]\n",
      "100%|██████████| 59/59 [00:05<00:00, 11.31batch/s,  Epoch: 104 \tLoss: 0.134217\tRecon Loss :0.134211 \t lr: 1.00000000]\n",
      "100%|██████████| 1/1 [00:00<00:00,  1.40batch/s,  Epoch: 104 \tTest Loss: 0.136729\tRecon Loss :0.134238]\n",
      "100%|██████████| 59/59 [00:05<00:00, 10.84batch/s,  Epoch: 105 \tLoss: 0.132801\tRecon Loss :0.132793 \t lr: 1.00000000]\n",
      "100%|██████████| 1/1 [00:00<00:00,  1.39batch/s,  Epoch: 105 \tTest Loss: 0.133187\tRecon Loss :0.131186]\n",
      "100%|██████████| 59/59 [00:05<00:00, 11.40batch/s,  Epoch: 106 \tLoss: 0.134601\tRecon Loss :0.134593 \t lr: 1.00000000]\n",
      "100%|██████████| 1/1 [00:00<00:00,  1.09batch/s,  Epoch: 106 \tTest Loss: 0.134888\tRecon Loss :0.132785]\n",
      "100%|██████████| 59/59 [00:04<00:00, 11.93batch/s,  Epoch: 107 \tLoss: 0.135237\tRecon Loss :0.135226 \t lr: 1.00000000]\n",
      "100%|██████████| 1/1 [00:01<00:00,  1.04s/batch,  Epoch: 107 \tTest Loss: 0.134357\tRecon Loss :0.131227]\n",
      "100%|██████████| 59/59 [00:04<00:00, 12.02batch/s,  Epoch: 108 \tLoss: 0.135167\tRecon Loss :0.135167 \t lr: 1.00000000]\n",
      "100%|██████████| 1/1 [00:01<00:00,  1.09s/batch,  Epoch: 108 \tTest Loss: 0.135622\tRecon Loss :0.133142]\n",
      "100%|██████████| 59/59 [00:04<00:00, 11.91batch/s,  Epoch: 109 \tLoss: 0.134127\tRecon Loss :0.134117 \t lr: 1.00000000]\n",
      "100%|██████████| 1/1 [00:01<00:00,  1.04s/batch,  Epoch: 109 \tTest Loss: 0.135912\tRecon Loss :0.133730]\n",
      "100%|██████████| 59/59 [00:04<00:00, 12.12batch/s,  Epoch: 110 \tLoss: 0.131749\tRecon Loss :0.131747 \t lr: 1.00000000]\n",
      "100%|██████████| 1/1 [00:00<00:00,  1.42batch/s,  Epoch: 110 \tTest Loss: 0.134257\tRecon Loss :0.132303]\n",
      "100%|██████████| 59/59 [00:05<00:00, 11.71batch/s,  Epoch: 111 \tLoss: 0.132518\tRecon Loss :0.132492 \t lr: 1.00000000]\n",
      "100%|██████████| 1/1 [00:01<00:00,  1.17s/batch,  Epoch: 111 \tTest Loss: 0.134931\tRecon Loss :0.132309]\n",
      "100%|██████████| 59/59 [00:05<00:00, 11.56batch/s,  Epoch: 112 \tLoss: 0.129390\tRecon Loss :0.129378 \t lr: 0.10000000]\n",
      "100%|██████████| 1/1 [00:00<00:00,  1.39batch/s,  Epoch: 112 \tTest Loss: 0.131660\tRecon Loss :0.129149]\n",
      "100%|██████████| 59/59 [00:05<00:00, 11.32batch/s,  Epoch: 113 \tLoss: 0.129345\tRecon Loss :0.129339 \t lr: 0.10000000]\n",
      "100%|██████████| 1/1 [00:00<00:00,  1.39batch/s,  Epoch: 113 \tTest Loss: 0.131511\tRecon Loss :0.129084]\n",
      "100%|██████████| 59/59 [00:05<00:00, 11.08batch/s,  Epoch: 114 \tLoss: 0.128894\tRecon Loss :0.128893 \t lr: 0.10000000]\n",
      "100%|██████████| 1/1 [00:00<00:00,  1.41batch/s,  Epoch: 114 \tTest Loss: 0.131461\tRecon Loss :0.129031]\n",
      "100%|██████████| 59/59 [00:05<00:00, 11.30batch/s,  Epoch: 115 \tLoss: 0.133364\tRecon Loss :0.133299 \t lr: 0.10000000]\n",
      "100%|██████████| 1/1 [00:00<00:00,  1.04batch/s,  Epoch: 115 \tTest Loss: 0.131419\tRecon Loss :0.128982]\n",
      "100%|██████████| 59/59 [00:05<00:00, 11.61batch/s,  Epoch: 116 \tLoss: 0.131443\tRecon Loss :0.131431 \t lr: 0.10000000]\n",
      "100%|██████████| 1/1 [00:00<00:00,  1.41batch/s,  Epoch: 116 \tTest Loss: 0.131347\tRecon Loss :0.128930]\n",
      "100%|██████████| 59/59 [00:05<00:00, 11.61batch/s,  Epoch: 117 \tLoss: 0.130435\tRecon Loss :0.130435 \t lr: 0.10000000]\n",
      "100%|██████████| 1/1 [00:00<00:00,  1.10batch/s,  Epoch: 117 \tTest Loss: 0.131298\tRecon Loss :0.128887]\n",
      "100%|██████████| 59/59 [00:05<00:00, 11.63batch/s,  Epoch: 118 \tLoss: 0.131172\tRecon Loss :0.131171 \t lr: 0.10000000]\n",
      "100%|██████████| 1/1 [00:00<00:00,  1.11batch/s,  Epoch: 118 \tTest Loss: 0.131267\tRecon Loss :0.128855]\n",
      "100%|██████████| 59/59 [00:05<00:00, 11.33batch/s,  Epoch: 119 \tLoss: 0.132461\tRecon Loss :0.132460 \t lr: 0.10000000]\n",
      "100%|██████████| 1/1 [00:00<00:00,  1.39batch/s,  Epoch: 119 \tTest Loss: 0.131232\tRecon Loss :0.128817]\n",
      "100%|██████████| 59/59 [00:05<00:00, 11.35batch/s,  Epoch: 120 \tLoss: 0.128156\tRecon Loss :0.128138 \t lr: 0.10000000]\n",
      "100%|██████████| 1/1 [00:00<00:00,  1.37batch/s,  Epoch: 120 \tTest Loss: 0.131205\tRecon Loss :0.128782]\n",
      "100%|██████████| 59/59 [00:05<00:00, 10.99batch/s,  Epoch: 121 \tLoss: 0.131799\tRecon Loss :0.131786 \t lr: 0.10000000]\n",
      "100%|██████████| 1/1 [00:00<00:00,  1.37batch/s,  Epoch: 121 \tTest Loss: 0.131166\tRecon Loss :0.128745]\n",
      "100%|██████████| 59/59 [00:05<00:00, 11.16batch/s,  Epoch: 122 \tLoss: 0.135189\tRecon Loss :0.135173 \t lr: 0.10000000]\n",
      "100%|██████████| 1/1 [00:00<00:00,  1.11batch/s,  Epoch: 122 \tTest Loss: 0.131135\tRecon Loss :0.128709]\n",
      "100%|██████████| 59/59 [00:05<00:00, 10.58batch/s,  Epoch: 123 \tLoss: 0.127953\tRecon Loss :0.127953 \t lr: 0.10000000]\n",
      "100%|██████████| 1/1 [00:00<00:00,  1.41batch/s,  Epoch: 123 \tTest Loss: 0.131132\tRecon Loss :0.128678]\n",
      "100%|██████████| 59/59 [00:05<00:00, 11.71batch/s,  Epoch: 124 \tLoss: 0.131318\tRecon Loss :0.131316 \t lr: 0.10000000]\n",
      "100%|██████████| 1/1 [00:00<00:00,  1.37batch/s,  Epoch: 124 \tTest Loss: 0.131106\tRecon Loss :0.128642]\n",
      "100%|██████████| 59/59 [00:05<00:00, 11.23batch/s,  Epoch: 125 \tLoss: 0.127844\tRecon Loss :0.127831 \t lr: 0.10000000]\n",
      "100%|██████████| 1/1 [00:00<00:00,  1.24batch/s,  Epoch: 125 \tTest Loss: 0.131062\tRecon Loss :0.128613]\n",
      "100%|██████████| 59/59 [00:05<00:00, 11.32batch/s,  Epoch: 126 \tLoss: 0.129019\tRecon Loss :0.128977 \t lr: 0.10000000]\n",
      "100%|██████████| 1/1 [00:00<00:00,  1.37batch/s,  Epoch: 126 \tTest Loss: 0.131035\tRecon Loss :0.128580]\n",
      "100%|██████████| 59/59 [00:05<00:00, 11.37batch/s,  Epoch: 127 \tLoss: 0.131091\tRecon Loss :0.131083 \t lr: 0.10000000]\n",
      "100%|██████████| 1/1 [00:00<00:00,  1.39batch/s,  Epoch: 127 \tTest Loss: 0.131011\tRecon Loss :0.128552]\n",
      "100%|██████████| 59/59 [00:05<00:00, 11.46batch/s,  Epoch: 128 \tLoss: 0.128446\tRecon Loss :0.128446 \t lr: 0.10000000]\n",
      "100%|██████████| 1/1 [00:00<00:00,  1.10batch/s,  Epoch: 128 \tTest Loss: 0.130980\tRecon Loss :0.128517]\n",
      "100%|██████████| 59/59 [00:05<00:00, 11.64batch/s,  Epoch: 129 \tLoss: 0.126268\tRecon Loss :0.126267 \t lr: 0.10000000]\n",
      "100%|██████████| 1/1 [00:01<00:00,  1.12s/batch,  Epoch: 129 \tTest Loss: 0.130979\tRecon Loss :0.128485]\n",
      "100%|██████████| 59/59 [00:04<00:00, 11.87batch/s,  Epoch: 130 \tLoss: 0.130323\tRecon Loss :0.130314 \t lr: 0.10000000]\n",
      "100%|██████████| 1/1 [00:01<00:00,  1.02s/batch,  Epoch: 130 \tTest Loss: 0.130958\tRecon Loss :0.128460]\n",
      "100%|██████████| 59/59 [00:04<00:00, 11.87batch/s,  Epoch: 131 \tLoss: 0.128122\tRecon Loss :0.128083 \t lr: 0.10000000]\n",
      "100%|██████████| 1/1 [00:01<00:00,  1.02s/batch,  Epoch: 131 \tTest Loss: 0.130910\tRecon Loss :0.128425]\n",
      "100%|██████████| 59/59 [00:04<00:00, 11.97batch/s,  Epoch: 132 \tLoss: 0.129358\tRecon Loss :0.129348 \t lr: 0.10000000]\n",
      "100%|██████████| 1/1 [00:00<00:00,  1.16batch/s,  Epoch: 132 \tTest Loss: 0.130910\tRecon Loss :0.128399]\n",
      "100%|██████████| 59/59 [00:05<00:00, 11.16batch/s,  Epoch: 133 \tLoss: 0.130116\tRecon Loss :0.130042 \t lr: 0.10000000]\n",
      "100%|██████████| 1/1 [00:00<00:00,  1.10batch/s,  Epoch: 133 \tTest Loss: 0.130882\tRecon Loss :0.128366]\n",
      "100%|██████████| 59/59 [00:04<00:00, 12.02batch/s,  Epoch: 134 \tLoss: 0.127110\tRecon Loss :0.127109 \t lr: 0.10000000]\n",
      "100%|██████████| 1/1 [00:00<00:00,  1.13batch/s,  Epoch: 134 \tTest Loss: 0.130849\tRecon Loss :0.128345]\n",
      "100%|██████████| 59/59 [00:05<00:00, 11.59batch/s,  Epoch: 135 \tLoss: 0.132334\tRecon Loss :0.132319 \t lr: 0.10000000]\n",
      "100%|██████████| 1/1 [00:00<00:00,  1.40batch/s,  Epoch: 135 \tTest Loss: 0.130825\tRecon Loss :0.128312]\n",
      "100%|██████████| 59/59 [00:05<00:00, 11.39batch/s,  Epoch: 136 \tLoss: 0.126754\tRecon Loss :0.126754 \t lr: 0.10000000]\n",
      "100%|██████████| 1/1 [00:00<00:00,  1.12batch/s,  Epoch: 136 \tTest Loss: 0.130791\tRecon Loss :0.128280]\n",
      "100%|██████████| 59/59 [00:05<00:00, 11.37batch/s,  Epoch: 137 \tLoss: 0.130702\tRecon Loss :0.130627 \t lr: 0.10000000]\n",
      "100%|██████████| 1/1 [00:00<00:00,  1.35batch/s,  Epoch: 137 \tTest Loss: 0.130787\tRecon Loss :0.128255]\n",
      "100%|██████████| 59/59 [00:05<00:00, 11.14batch/s,  Epoch: 138 \tLoss: 0.126932\tRecon Loss :0.126931 \t lr: 0.10000000]\n",
      "100%|██████████| 1/1 [00:00<00:00,  1.37batch/s,  Epoch: 138 \tTest Loss: 0.130747\tRecon Loss :0.128228]\n",
      "100%|██████████| 59/59 [00:05<00:00, 11.35batch/s,  Epoch: 139 \tLoss: 0.128402\tRecon Loss :0.128401 \t lr: 0.10000000]\n",
      "100%|██████████| 1/1 [00:00<00:00,  1.39batch/s,  Epoch: 139 \tTest Loss: 0.130749\tRecon Loss :0.128192]\n",
      "100%|██████████| 59/59 [00:05<00:00, 11.17batch/s,  Epoch: 140 \tLoss: 0.129306\tRecon Loss :0.129306 \t lr: 0.10000000]\n",
      "100%|██████████| 1/1 [00:00<00:00,  1.09batch/s,  Epoch: 140 \tTest Loss: 0.130740\tRecon Loss :0.128174]\n",
      "100%|██████████| 59/59 [00:05<00:00, 11.52batch/s,  Epoch: 141 \tLoss: 0.130703\tRecon Loss :0.130685 \t lr: 0.10000000]\n",
      "100%|██████████| 1/1 [00:00<00:00,  1.38batch/s,  Epoch: 141 \tTest Loss: 0.130700\tRecon Loss :0.128145]\n",
      "100%|██████████| 59/59 [00:05<00:00, 11.57batch/s,  Epoch: 142 \tLoss: 0.128857\tRecon Loss :0.128857 \t lr: 0.10000000]\n",
      "100%|██████████| 1/1 [00:00<00:00,  1.36batch/s,  Epoch: 142 \tTest Loss: 0.130690\tRecon Loss :0.128120]\n",
      "100%|██████████| 59/59 [00:05<00:00, 11.03batch/s,  Epoch: 143 \tLoss: 0.128163\tRecon Loss :0.128150 \t lr: 0.10000000]\n",
      "100%|██████████| 1/1 [00:00<00:00,  1.13batch/s,  Epoch: 143 \tTest Loss: 0.130645\tRecon Loss :0.128093]\n",
      "100%|██████████| 59/59 [00:05<00:00, 11.52batch/s,  Epoch: 144 \tLoss: 0.130476\tRecon Loss :0.130406 \t lr: 0.10000000]\n",
      "100%|██████████| 1/1 [00:00<00:00,  1.37batch/s,  Epoch: 144 \tTest Loss: 0.130604\tRecon Loss :0.128057]\n",
      "100%|██████████| 59/59 [00:05<00:00, 11.54batch/s,  Epoch: 145 \tLoss: 0.126022\tRecon Loss :0.126016 \t lr: 0.10000000]\n",
      "100%|██████████| 1/1 [00:00<00:00,  1.39batch/s,  Epoch: 145 \tTest Loss: 0.130574\tRecon Loss :0.128028]\n",
      "100%|██████████| 59/59 [00:05<00:00, 11.08batch/s,  Epoch: 146 \tLoss: 0.128990\tRecon Loss :0.128918 \t lr: 0.10000000]\n",
      "100%|██████████| 1/1 [00:00<00:00,  1.10batch/s,  Epoch: 146 \tTest Loss: 0.130574\tRecon Loss :0.128004]\n",
      "100%|██████████| 59/59 [00:05<00:00, 10.94batch/s,  Epoch: 147 \tLoss: 0.130374\tRecon Loss :0.130374 \t lr: 0.10000000]\n",
      "100%|██████████| 1/1 [00:00<00:00,  1.41batch/s,  Epoch: 147 \tTest Loss: 0.130537\tRecon Loss :0.127975]\n",
      "100%|██████████| 59/59 [00:05<00:00, 11.15batch/s,  Epoch: 148 \tLoss: 0.126726\tRecon Loss :0.126726 \t lr: 0.10000000]\n",
      "100%|██████████| 1/1 [00:00<00:00,  1.39batch/s,  Epoch: 148 \tTest Loss: 0.130519\tRecon Loss :0.127950]\n",
      "100%|██████████| 59/59 [00:05<00:00, 11.23batch/s,  Epoch: 149 \tLoss: 0.127966\tRecon Loss :0.127966 \t lr: 0.10000000]\n",
      "100%|██████████| 1/1 [00:00<00:00,  1.38batch/s,  Epoch: 149 \tTest Loss: 0.130500\tRecon Loss :0.127924]\n",
      "100%|██████████| 59/59 [00:05<00:00, 10.89batch/s,  Epoch: 150 \tLoss: 0.127782\tRecon Loss :0.127780 \t lr: 0.10000000]\n",
      "100%|██████████| 1/1 [00:00<00:00,  1.00batch/s,  Epoch: 150 \tTest Loss: 0.130465\tRecon Loss :0.127896]\n",
      "100%|██████████| 59/59 [00:05<00:00, 11.17batch/s,  Epoch: 151 \tLoss: 0.128350\tRecon Loss :0.128348 \t lr: 0.10000000]\n",
      "100%|██████████| 1/1 [00:00<00:00,  1.46batch/s,  Epoch: 151 \tTest Loss: 0.130461\tRecon Loss :0.127875]\n",
      "100%|██████████| 59/59 [00:05<00:00, 11.35batch/s,  Epoch: 152 \tLoss: 0.128051\tRecon Loss :0.128046 \t lr: 0.10000000]\n",
      "100%|██████████| 1/1 [00:00<00:00,  1.28batch/s,  Epoch: 152 \tTest Loss: 0.130411\tRecon Loss :0.127845]\n",
      "100%|██████████| 59/59 [00:05<00:00, 11.31batch/s,  Epoch: 153 \tLoss: 0.128859\tRecon Loss :0.128824 \t lr: 0.10000000]\n",
      "100%|██████████| 1/1 [00:00<00:00,  1.37batch/s,  Epoch: 153 \tTest Loss: 0.130388\tRecon Loss :0.127821]\n",
      "100%|██████████| 59/59 [00:05<00:00, 11.13batch/s,  Epoch: 154 \tLoss: 0.128567\tRecon Loss :0.128559 \t lr: 0.10000000]\n",
      "100%|██████████| 1/1 [00:00<00:00,  1.38batch/s,  Epoch: 154 \tTest Loss: 0.130356\tRecon Loss :0.127793]\n",
      "100%|██████████| 59/59 [00:05<00:00, 10.56batch/s,  Epoch: 155 \tLoss: 0.128870\tRecon Loss :0.128826 \t lr: 0.10000000]\n",
      "100%|██████████| 1/1 [00:00<00:00,  1.39batch/s,  Epoch: 155 \tTest Loss: 0.130330\tRecon Loss :0.127763]\n",
      "100%|██████████| 59/59 [00:05<00:00, 11.34batch/s,  Epoch: 156 \tLoss: 0.130751\tRecon Loss :0.130704 \t lr: 0.10000000]\n",
      "100%|██████████| 1/1 [00:00<00:00,  1.37batch/s,  Epoch: 156 \tTest Loss: 0.130305\tRecon Loss :0.127732]\n",
      "100%|██████████| 59/59 [00:05<00:00, 10.95batch/s,  Epoch: 157 \tLoss: 0.129402\tRecon Loss :0.129400 \t lr: 0.10000000]\n",
      "100%|██████████| 1/1 [00:00<00:00,  1.13batch/s,  Epoch: 157 \tTest Loss: 0.130269\tRecon Loss :0.127702]\n",
      "100%|██████████| 59/59 [00:05<00:00, 11.40batch/s,  Epoch: 158 \tLoss: 0.125094\tRecon Loss :0.125094 \t lr: 0.10000000]\n",
      "100%|██████████| 1/1 [00:00<00:00,  1.37batch/s,  Epoch: 158 \tTest Loss: 0.130275\tRecon Loss :0.127683]\n",
      "100%|██████████| 59/59 [00:05<00:00, 11.28batch/s,  Epoch: 159 \tLoss: 0.131143\tRecon Loss :0.131048 \t lr: 0.10000000]\n",
      "100%|██████████| 1/1 [00:00<00:00,  1.34batch/s,  Epoch: 159 \tTest Loss: 0.130245\tRecon Loss :0.127660]\n",
      "100%|██████████| 59/59 [00:05<00:00, 10.85batch/s,  Epoch: 160 \tLoss: 0.129331\tRecon Loss :0.129331 \t lr: 0.10000000]\n",
      "100%|██████████| 1/1 [00:00<00:00,  1.40batch/s,  Epoch: 160 \tTest Loss: 0.130212\tRecon Loss :0.127634]\n",
      "100%|██████████| 59/59 [00:05<00:00, 10.84batch/s,  Epoch: 161 \tLoss: 0.129613\tRecon Loss :0.129605 \t lr: 0.10000000]\n",
      "100%|██████████| 1/1 [00:00<00:00,  1.41batch/s,  Epoch: 161 \tTest Loss: 0.130181\tRecon Loss :0.127612]\n",
      "100%|██████████| 59/59 [00:05<00:00, 11.19batch/s,  Epoch: 162 \tLoss: 0.126622\tRecon Loss :0.126612 \t lr: 0.10000000]\n",
      "100%|██████████| 1/1 [00:00<00:00,  1.37batch/s,  Epoch: 162 \tTest Loss: 0.130174\tRecon Loss :0.127579]\n",
      "100%|██████████| 59/59 [00:05<00:00, 11.37batch/s,  Epoch: 163 \tLoss: 0.129271\tRecon Loss :0.129271 \t lr: 0.10000000]\n",
      "100%|██████████| 1/1 [00:00<00:00,  1.41batch/s,  Epoch: 163 \tTest Loss: 0.130167\tRecon Loss :0.127563]\n",
      "100%|██████████| 59/59 [00:05<00:00, 11.19batch/s,  Epoch: 164 \tLoss: 0.129499\tRecon Loss :0.129436 \t lr: 0.10000000]\n",
      "100%|██████████| 1/1 [00:00<00:00,  1.13batch/s,  Epoch: 164 \tTest Loss: 0.130098\tRecon Loss :0.127530]\n",
      "100%|██████████| 59/59 [00:05<00:00, 11.54batch/s,  Epoch: 165 \tLoss: 0.133436\tRecon Loss :0.133436 \t lr: 0.10000000]\n",
      "100%|██████████| 1/1 [00:00<00:00,  1.38batch/s,  Epoch: 165 \tTest Loss: 0.130095\tRecon Loss :0.127507]\n",
      "100%|██████████| 59/59 [00:05<00:00, 11.00batch/s,  Epoch: 166 \tLoss: 0.127689\tRecon Loss :0.127688 \t lr: 0.10000000]\n",
      "100%|██████████| 1/1 [00:00<00:00,  1.38batch/s,  Epoch: 166 \tTest Loss: 0.130080\tRecon Loss :0.127474]\n",
      "100%|██████████| 59/59 [00:05<00:00, 11.42batch/s,  Epoch: 167 \tLoss: 0.127361\tRecon Loss :0.127351 \t lr: 0.10000000]\n",
      "100%|██████████| 1/1 [00:00<00:00,  1.09batch/s,  Epoch: 167 \tTest Loss: 0.130049\tRecon Loss :0.127447]\n",
      "100%|██████████| 59/59 [00:05<00:00, 11.24batch/s,  Epoch: 168 \tLoss: 0.124220\tRecon Loss :0.124061 \t lr: 0.10000000]\n",
      "100%|██████████| 1/1 [00:00<00:00,  1.36batch/s,  Epoch: 168 \tTest Loss: 0.130019\tRecon Loss :0.127427]\n",
      "100%|██████████| 59/59 [00:05<00:00, 11.08batch/s,  Epoch: 169 \tLoss: 0.127713\tRecon Loss :0.127711 \t lr: 0.10000000]\n",
      "100%|██████████| 1/1 [00:00<00:00,  1.39batch/s,  Epoch: 169 \tTest Loss: 0.129993\tRecon Loss :0.127397]\n",
      "100%|██████████| 59/59 [00:05<00:00, 11.12batch/s,  Epoch: 170 \tLoss: 0.128461\tRecon Loss :0.128458 \t lr: 0.10000000]\n",
      "100%|██████████| 1/1 [00:00<00:00,  1.19batch/s,  Epoch: 170 \tTest Loss: 0.129971\tRecon Loss :0.127373]\n",
      "100%|██████████| 59/59 [00:04<00:00, 12.00batch/s,  Epoch: 171 \tLoss: 0.130616\tRecon Loss :0.130609 \t lr: 0.10000000]\n",
      "100%|██████████| 1/1 [00:00<00:00,  1.37batch/s,  Epoch: 171 \tTest Loss: 0.129956\tRecon Loss :0.127354]\n",
      "100%|██████████| 59/59 [00:05<00:00, 10.56batch/s,  Epoch: 172 \tLoss: 0.128822\tRecon Loss :0.128806 \t lr: 0.10000000]\n",
      "100%|██████████| 1/1 [00:00<00:00,  1.33batch/s,  Epoch: 172 \tTest Loss: 0.129909\tRecon Loss :0.127325]\n",
      "100%|██████████| 59/59 [00:05<00:00, 10.78batch/s,  Epoch: 173 \tLoss: 0.131854\tRecon Loss :0.131800 \t lr: 0.10000000]\n",
      "100%|██████████| 1/1 [00:00<00:00,  1.31batch/s,  Epoch: 173 \tTest Loss: 0.129878\tRecon Loss :0.127300]\n",
      "100%|██████████| 59/59 [00:05<00:00, 10.98batch/s,  Epoch: 174 \tLoss: 0.126924\tRecon Loss :0.126922 \t lr: 0.10000000]\n",
      "100%|██████████| 1/1 [00:00<00:00,  1.40batch/s,  Epoch: 174 \tTest Loss: 0.129867\tRecon Loss :0.127271]\n",
      "100%|██████████| 59/59 [00:05<00:00, 11.07batch/s,  Epoch: 175 \tLoss: 0.131613\tRecon Loss :0.131591 \t lr: 0.10000000]\n",
      "100%|██████████| 1/1 [00:00<00:00,  1.09batch/s,  Epoch: 175 \tTest Loss: 0.129842\tRecon Loss :0.127247]\n",
      "100%|██████████| 59/59 [00:04<00:00, 11.83batch/s,  Epoch: 176 \tLoss: 0.128000\tRecon Loss :0.127975 \t lr: 0.10000000]\n",
      "100%|██████████| 1/1 [00:01<00:00,  1.00s/batch,  Epoch: 176 \tTest Loss: 0.129834\tRecon Loss :0.127222]\n",
      "100%|██████████| 59/59 [00:05<00:00, 11.78batch/s,  Epoch: 177 \tLoss: 0.129012\tRecon Loss :0.128894 \t lr: 0.10000000]\n",
      "100%|██████████| 1/1 [00:00<00:00,  1.01batch/s,  Epoch: 177 \tTest Loss: 0.129786\tRecon Loss :0.127199]\n",
      "100%|██████████| 59/59 [00:05<00:00, 11.77batch/s,  Epoch: 178 \tLoss: 0.127854\tRecon Loss :0.127830 \t lr: 0.10000000]\n",
      "100%|██████████| 1/1 [00:01<00:00,  1.18s/batch,  Epoch: 178 \tTest Loss: 0.129775\tRecon Loss :0.127173]\n",
      "100%|██████████| 59/59 [00:05<00:00, 11.08batch/s,  Epoch: 179 \tLoss: 0.126937\tRecon Loss :0.126843 \t lr: 0.10000000]\n",
      "100%|██████████| 1/1 [00:00<00:00,  1.39batch/s,  Epoch: 179 \tTest Loss: 0.129750\tRecon Loss :0.127148]\n",
      "100%|██████████| 59/59 [00:05<00:00, 11.75batch/s,  Epoch: 180 \tLoss: 0.123957\tRecon Loss :0.123918 \t lr: 0.10000000]\n",
      "100%|██████████| 1/1 [00:00<00:00,  1.09batch/s,  Epoch: 180 \tTest Loss: 0.129725\tRecon Loss :0.127131]\n",
      "100%|██████████| 59/59 [00:05<00:00, 11.51batch/s,  Epoch: 181 \tLoss: 0.128182\tRecon Loss :0.128114 \t lr: 0.10000000]\n",
      "100%|██████████| 1/1 [00:00<00:00,  1.38batch/s,  Epoch: 181 \tTest Loss: 0.129717\tRecon Loss :0.127108]\n",
      "100%|██████████| 59/59 [00:05<00:00, 11.18batch/s,  Epoch: 182 \tLoss: 0.127713\tRecon Loss :0.127688 \t lr: 0.10000000]\n",
      "100%|██████████| 1/1 [00:00<00:00,  1.38batch/s,  Epoch: 182 \tTest Loss: 0.129663\tRecon Loss :0.127075]\n",
      "100%|██████████| 59/59 [00:05<00:00, 10.96batch/s,  Epoch: 183 \tLoss: 0.131699\tRecon Loss :0.131644 \t lr: 0.10000000]\n",
      "100%|██████████| 1/1 [00:00<00:00,  1.38batch/s,  Epoch: 183 \tTest Loss: 0.129677\tRecon Loss :0.127055]\n",
      "100%|██████████| 59/59 [00:05<00:00, 11.69batch/s,  Epoch: 184 \tLoss: 0.127898\tRecon Loss :0.127896 \t lr: 0.10000000]\n",
      "100%|██████████| 1/1 [00:00<00:00,  1.25batch/s,  Epoch: 184 \tTest Loss: 0.129641\tRecon Loss :0.127030]\n",
      " 17%|█▋        | 10/59 [00:01<00:05,  9.38batch/s,  Epoch: 185 \tLoss: 0.125524\tRecon Loss :0.125524 \t lr: 0.10000000]\n"
     ]
    },
    {
     "ename": "KeyboardInterrupt",
     "evalue": "",
     "output_type": "error",
     "traceback": [
      "\u001B[1;31m---------------------------------------------------------------------------\u001B[0m",
      "\u001B[1;31mKeyboardInterrupt\u001B[0m                         Traceback (most recent call last)",
      "Cell \u001B[1;32mIn [43], line 2\u001B[0m\n\u001B[0;32m      1\u001B[0m \u001B[38;5;28;01mfor\u001B[39;00m epoch \u001B[38;5;129;01min\u001B[39;00m \u001B[38;5;28mrange\u001B[39m(\u001B[38;5;241m1\u001B[39m, \u001B[38;5;241m201\u001B[39m):\n\u001B[1;32m----> 2\u001B[0m     _ \u001B[38;5;241m=\u001B[39m \u001B[43mtrain\u001B[49m\u001B[43m(\u001B[49m\u001B[43mmodel\u001B[49m\u001B[43m,\u001B[49m\u001B[43m \u001B[49m\u001B[43mtrain_loader\u001B[49m\u001B[43m,\u001B[49m\u001B[43m \u001B[49m\u001B[43moptimizer\u001B[49m\u001B[43m,\u001B[49m\u001B[43m \u001B[49m\u001B[43mepoch\u001B[49m\u001B[43m)\u001B[49m\n\u001B[0;32m      3\u001B[0m     loss \u001B[38;5;241m=\u001B[39m test(model, test_loader, epoch)\n\u001B[0;32m      4\u001B[0m     scheduler\u001B[38;5;241m.\u001B[39mstep(np\u001B[38;5;241m.\u001B[39mmean(loss))\n",
      "Cell \u001B[1;32mIn [42], line 15\u001B[0m, in \u001B[0;36mtrain\u001B[1;34m(model, train_loader, optimizer, epoch)\u001B[0m\n\u001B[0;32m     13\u001B[0m         loss\u001B[38;5;241m.\u001B[39mbackward()\n\u001B[0;32m     14\u001B[0m         optimizer\u001B[38;5;241m.\u001B[39mstep()\n\u001B[1;32m---> 15\u001B[0m         allLoss\u001B[38;5;241m.\u001B[39mappend(\u001B[43mreconLoss\u001B[49m\u001B[38;5;241;43m.\u001B[39;49m\u001B[43mitem\u001B[49m\u001B[43m(\u001B[49m\u001B[43m)\u001B[49m)\n\u001B[0;32m     16\u001B[0m         tEpoch\u001B[38;5;241m.\u001B[39mset_postfix_str(\u001B[38;5;124m'\u001B[39m\u001B[38;5;124m Epoch: \u001B[39m\u001B[38;5;132;01m{}\u001B[39;00m\u001B[38;5;124m \u001B[39m\u001B[38;5;130;01m\\t\u001B[39;00m\u001B[38;5;124mLoss: \u001B[39m\u001B[38;5;132;01m{:.6f}\u001B[39;00m\u001B[38;5;130;01m\\t\u001B[39;00m\u001B[38;5;124mRecon Loss :\u001B[39m\u001B[38;5;132;01m{:.6f}\u001B[39;00m\u001B[38;5;124m \u001B[39m\u001B[38;5;130;01m\\t\u001B[39;00m\u001B[38;5;124m lr: \u001B[39m\u001B[38;5;132;01m{:.8f}\u001B[39;00m\u001B[38;5;124m'\u001B[39m\u001B[38;5;241m.\u001B[39mformat(\n\u001B[0;32m     17\u001B[0m             epoch, loss\u001B[38;5;241m.\u001B[39mitem(), reconLoss, optimizer\u001B[38;5;241m.\u001B[39mparam_groups[\u001B[38;5;241m0\u001B[39m][\u001B[38;5;124m'\u001B[39m\u001B[38;5;124mlr\u001B[39m\u001B[38;5;124m'\u001B[39m]))\n\u001B[0;32m     18\u001B[0m \u001B[38;5;28;01mreturn\u001B[39;00m allLoss\n",
      "\u001B[1;31mKeyboardInterrupt\u001B[0m: "
     ]
    }
   ],
   "source": [
    "for epoch in range(1, 201):\n",
    "    _ = train(model, train_loader, optimizer, epoch)\n",
    "    loss = test(model, test_loader, epoch)\n",
    "    scheduler.step(np.mean(loss))"
   ],
   "metadata": {
    "collapsed": false
   }
  },
  {
   "cell_type": "code",
   "execution_count": 48,
   "outputs": [
    {
     "data": {
      "text/plain": "<matplotlib.image.AxesImage at 0x222ecaafb80>"
     },
     "execution_count": 48,
     "metadata": {},
     "output_type": "execute_result"
    },
    {
     "data": {
      "text/plain": "<Figure size 640x480 with 1 Axes>",
      "image/png": "[encoded data removed]"
     },
     "metadata": {},
     "output_type": "display_data"
    }
   ],
   "source": [
    "z = torch.normal(0, 1, size=(1, 64)).cuda()\n",
    "plt.imshow(model.sample(z)[0].cpu().detach().view(28, 28), cmap='Greys')"
   ],
   "metadata": {
    "collapsed": false
   }
  },
  {
   "cell_type": "code",
   "execution_count": 52,
   "outputs": [],
   "source": [
    "img0 = next(iter(test_loader))[0][0]\n",
    "label0 = next(iter(test_loader))[1][0]"
   ],
   "metadata": {
    "collapsed": false
   }
  },
  {
   "cell_type": "code",
   "execution_count": 53,
   "outputs": [
    {
     "data": {
      "text/plain": "<matplotlib.image.AxesImage at 0x2230bb19b40>"
     },
     "execution_count": 53,
     "metadata": {},
     "output_type": "execute_result"
    },
    {
     "data": {
      "text/plain": "<Figure size 640x480 with 1 Axes>",
      "image/png": "[encoded data removed]"
     },
     "metadata": {},
     "output_type": "display_data"
    }
   ],
   "source": [
    "plt.imshow(img0[0], cmap='Greys')"
   ],
   "metadata": {
    "collapsed": false
   }
  },
  {
   "cell_type": "code",
   "execution_count": 61,
   "outputs": [
    {
     "data": {
      "text/plain": "<matplotlib.image.AxesImage at 0x2230bd065c0>"
     },
     "execution_count": 61,
     "metadata": {},
     "output_type": "execute_result"
    },
    {
     "data": {
      "text/plain": "<Figure size 640x480 with 1 Axes>",
      "image/png": "[encoded data removed]"
     },
     "metadata": {},
     "output_type": "display_data"
    }
   ],
   "source": [
    "input1=torch.cat((img0.view(-1, 28 * 28),nn.functional.one_hot(label0,10).unsqueeze(0)),dim=-1)\n",
    "output, _, _ = model(input1.cuda())\n",
    "plt.imshow(output[0].cpu().detach().view(28, 28), cmap='Greys')"
   ],
   "metadata": {
    "collapsed": false
   }
  },
  {
   "cell_type": "code",
   "execution_count": 133,
   "outputs": [
    {
     "data": {
      "text/plain": "<matplotlib.image.AxesImage at 0x22310b32650>"
     },
     "execution_count": 133,
     "metadata": {},
     "output_type": "execute_result"
    },
    {
     "data": {
      "text/plain": "<Figure size 640x480 with 1 Axes>",
      "image/png": "[encoded data removed]"
     },
     "metadata": {},
     "output_type": "display_data"
    }
   ],
   "source": [
    "input0=torch.cat((torch.zeros(size=(1,28*28)),nn.functional.one_hot(label0,10).unsqueeze(0)),dim=-1)\n",
    "output, _, _ = model(input0.cuda())\n",
    "plt.imshow(output[0].cpu().detach().view(28, 28), cmap='Greys')"
   ],
   "metadata": {
    "collapsed": false
   }
  },
  {
   "cell_type": "code",
   "execution_count": 88,
   "outputs": [
    {
     "name": "stdout",
     "output_type": "stream",
     "text": [
      "tensor([[-35.8496, -13.5304, -10.1696,  18.1317, -18.0739,   1.3481, -36.4790,\n",
      "          32.8876,  -7.4857,  10.3978]], device='cuda:0',\n",
      "       grad_fn=<AddmmBackward0>)\n"
     ]
    }
   ],
   "source": [
    "input2=torch.cat((img0.view(-1, 28 * 28),torch.zeros(size=(1,10))),dim=-1)\n",
    "output, _, _ = model(input0.cuda())\n",
    "print(output[1])"
   ],
   "metadata": {
    "collapsed": false
   }
  },
  {
   "cell_type": "code",
   "execution_count": 157,
   "outputs": [
    {
     "data": {
      "text/plain": "<matplotlib.image.AxesImage at 0x2231181dcf0>"
     },
     "execution_count": 157,
     "metadata": {},
     "output_type": "execute_result"
    },
    {
     "data": {
      "text/plain": "<Figure size 640x480 with 1 Axes>",
      "image/png": "[encoded data removed]"
     },
     "metadata": {},
     "output_type": "display_data"
    }
   ],
   "source": [
    "input0=torch.cat((torch.zeros(size=(1,28*28)),nn.functional.one_hot(torch.tensor(9),10).unsqueeze(0)),dim=-1)\n",
    "output, _, _ = model(input0.cuda())\n",
    "plt.imshow(output[0].cpu().detach().view(28, 28), cmap='Greys')"
   ],
   "metadata": {
    "collapsed": false
   }
  },
  {
   "cell_type": "code",
   "execution_count": null,
   "outputs": [],
   "source": [],
   "metadata": {
    "collapsed": false
   }
  }
 ],
 "metadata": {
  "kernelspec": {
   "display_name": "Python 3",
   "language": "python",
   "name": "python3"
  },
  "language_info": {
   "codemirror_mode": {
    "name": "ipython",
    "version": 2
   },
   "file_extension": ".py",
   "mimetype": "text/x-python",
   "name": "python",
   "nbconvert_exporter": "python",
   "pygments_lexer": "ipython2",
   "version": "2.7.6"
  }
 },
 "nbformat": 4,
 "nbformat_minor": 0
}
